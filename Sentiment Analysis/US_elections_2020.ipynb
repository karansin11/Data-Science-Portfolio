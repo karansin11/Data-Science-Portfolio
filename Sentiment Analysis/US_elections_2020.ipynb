{
 "cells": [
  {
   "cell_type": "markdown",
   "metadata": {},
   "source": [
    "### US Election Social Text Analysis"
   ]
  },
  {
   "cell_type": "markdown",
   "metadata": {},
   "source": [
    "The analysis was performed a month in advance of the US 2020 elections"
   ]
  },
  {
   "cell_type": "markdown",
   "metadata": {},
   "source": [
    "#### Outline/Workflow\n",
    "\n",
    "##### 1. Data Collection Steps\n",
    "- Twitter Data Collection (Using AWS Kinesis/EC2/Linux)\n",
    "- Twitter Data Storage (Using AWS S3)\n",
    "- Data Export from AWS to Python (Using AWS Athena) (File Name: uselection.csv)\n",
    "\n",
    "##### 2. Data Cleaning and Inspection\n",
    "##### 3. Exploratory Data Analysis\n",
    "##### 4. Sentiment Analysis\n",
    "- Computing polarity and subjectivity on tweets\n",
    "- Tweets classification based on polarity and subjectivity\n",
    "- EDA on created features of polarity and subjectivity\n",
    "\n",
    "##### 5. Comparative Analysis between Trump and Biden\n",
    "##### 6. Findings\n",
    "##### 7. Challenges/Next Steps"
   ]
  },
  {
   "cell_type": "code",
   "execution_count": 2,
   "metadata": {},
   "outputs": [],
   "source": [
    "#importing necessary libraries\n",
    "import pandas as pd\n",
    "import matplotlib.pyplot as plt\n",
    "%matplotlib inline\n",
    "from datetime import datetime as dt\n",
    "import re"
   ]
  },
  {
   "cell_type": "code",
   "execution_count": 13,
   "metadata": {},
   "outputs": [],
   "source": [
    "#importing raw tweets obtained from webscraping\n",
    "election = pd.read_csv('uselection.csv')"
   ]
  },
  {
   "cell_type": "code",
   "execution_count": 3,
   "metadata": {},
   "outputs": [
    {
     "data": {
      "text/html": [
       "<div>\n",
       "<style scoped>\n",
       "    .dataframe tbody tr th:only-of-type {\n",
       "        vertical-align: middle;\n",
       "    }\n",
       "\n",
       "    .dataframe tbody tr th {\n",
       "        vertical-align: top;\n",
       "    }\n",
       "\n",
       "    .dataframe thead th {\n",
       "        text-align: right;\n",
       "    }\n",
       "</style>\n",
       "<table border=\"1\" class=\"dataframe\">\n",
       "  <thead>\n",
       "    <tr style=\"text-align: right;\">\n",
       "      <th></th>\n",
       "      <th>id</th>\n",
       "      <th>username</th>\n",
       "      <th>tweet</th>\n",
       "      <th>followers_count</th>\n",
       "      <th>location</th>\n",
       "    </tr>\n",
       "  </thead>\n",
       "  <tbody>\n",
       "    <tr>\n",
       "      <td>0</td>\n",
       "      <td>1314003645998956550</td>\n",
       "      <td>Andrew McQuinn</td>\n",
       "      <td>@SenSchumer @MarnieFriedma11 Trump supports ar...</td>\n",
       "      <td>84.0</td>\n",
       "      <td>None</td>\n",
       "    </tr>\n",
       "    <tr>\n",
       "      <td>1</td>\n",
       "      <td>1314003646280077315</td>\n",
       "      <td>- kay -</td>\n",
       "      <td>RT @GlennKesslerWP: Trump’s antibody treatment...</td>\n",
       "      <td>15463.0</td>\n",
       "      <td>Texas</td>\n",
       "    </tr>\n",
       "    <tr>\n",
       "      <td>2</td>\n",
       "      <td>1314003646280065024</td>\n",
       "      <td>🇦🇷🇦🇷Alberto Carlos</td>\n",
       "      <td>RT @RealJamesWoods: Trump would cut taxes by a...</td>\n",
       "      <td>8950.0</td>\n",
       "      <td>CABA</td>\n",
       "    </tr>\n",
       "    <tr>\n",
       "      <td>3</td>\n",
       "      <td>1314003646330404870</td>\n",
       "      <td>sallie sanders</td>\n",
       "      <td>RT @sherdngr: Take it from a cattleman: That d...</td>\n",
       "      <td>318.0</td>\n",
       "      <td>baton rouge, la</td>\n",
       "    </tr>\n",
       "    <tr>\n",
       "      <td>4</td>\n",
       "      <td>1314003646393192449</td>\n",
       "      <td>Gal from🏖Cal⭐️⭐️⭐️</td>\n",
       "      <td>RT @paulsperry_: BREAKING: Joe Biden is the su...</td>\n",
       "      <td>1855.0</td>\n",
       "      <td>California</td>\n",
       "    </tr>\n",
       "  </tbody>\n",
       "</table>\n",
       "</div>"
      ],
      "text/plain": [
       "                    id            username  \\\n",
       "0  1314003645998956550      Andrew McQuinn   \n",
       "1  1314003646280077315             - kay -   \n",
       "2  1314003646280065024  🇦🇷🇦🇷Alberto Carlos   \n",
       "3  1314003646330404870      sallie sanders   \n",
       "4  1314003646393192449  Gal from🏖Cal⭐️⭐️⭐️   \n",
       "\n",
       "                                               tweet  followers_count  \\\n",
       "0  @SenSchumer @MarnieFriedma11 Trump supports ar...             84.0   \n",
       "1  RT @GlennKesslerWP: Trump’s antibody treatment...          15463.0   \n",
       "2  RT @RealJamesWoods: Trump would cut taxes by a...           8950.0   \n",
       "3  RT @sherdngr: Take it from a cattleman: That d...            318.0   \n",
       "4  RT @paulsperry_: BREAKING: Joe Biden is the su...           1855.0   \n",
       "\n",
       "          location  \n",
       "0             None  \n",
       "1            Texas  \n",
       "2            CABA   \n",
       "3  baton rouge, la  \n",
       "4       California  "
      ]
     },
     "execution_count": 3,
     "metadata": {},
     "output_type": "execute_result"
    }
   ],
   "source": [
    "election.head()"
   ]
  },
  {
   "cell_type": "code",
   "execution_count": 58,
   "metadata": {},
   "outputs": [
    {
     "data": {
      "text/plain": [
       "datetime.datetime(2020, 10, 12, 10, 6, 24, 102611)"
      ]
     },
     "execution_count": 58,
     "metadata": {},
     "output_type": "execute_result"
    }
   ],
   "source": [
    "dt.now()"
   ]
  },
  {
   "cell_type": "code",
   "execution_count": 14,
   "metadata": {},
   "outputs": [
    {
     "data": {
      "text/plain": [
       "(1024971, 5)"
      ]
     },
     "execution_count": 14,
     "metadata": {},
     "output_type": "execute_result"
    }
   ],
   "source": [
    "election.shape"
   ]
  },
  {
   "cell_type": "code",
   "execution_count": 15,
   "metadata": {},
   "outputs": [
    {
     "name": "stdout",
     "output_type": "stream",
     "text": [
      "<class 'pandas.core.frame.DataFrame'>\n",
      "RangeIndex: 1024971 entries, 0 to 1024970\n",
      "Data columns (total 5 columns):\n",
      "id                 1024854 non-null object\n",
      "username           1024899 non-null object\n",
      "tweet              1024795 non-null object\n",
      "followers_count    1024795 non-null float64\n",
      "location           1024748 non-null object\n",
      "dtypes: float64(1), object(4)\n",
      "memory usage: 39.1+ MB\n"
     ]
    }
   ],
   "source": [
    "election.info()"
   ]
  },
  {
   "cell_type": "markdown",
   "metadata": {},
   "source": [
    "### 2. Data Cleaning & Inspection"
   ]
  },
  {
   "cell_type": "code",
   "execution_count": 13,
   "metadata": {},
   "outputs": [
    {
     "data": {
      "text/plain": [
       "0     senschumer  marniefriedma   trump supports ar...\n",
       "1    rt  glennkesslerwp  trump s antibody treatment...\n",
       "2    rt  realjameswoods  trump would cut taxes by a...\n",
       "3    rt  sherdngr  take it from a cattleman  that d...\n",
       "4    rt  paulsperry_  breaking  joe biden is the su...\n",
       "Name: tweet, dtype: object"
      ]
     },
     "execution_count": 13,
     "metadata": {},
     "output_type": "execute_result"
    }
   ],
   "source": [
    "#Removing http: from the tweet\n",
    "election['tweet'] = election['tweet'].str.replace(r\"http\\S+\",\"\")\n",
    "election['tweet'].head()"
   ]
  },
  {
   "cell_type": "code",
   "execution_count": 6,
   "metadata": {},
   "outputs": [
    {
     "data": {
      "text/plain": [
       "0    @SenSchumer @MarnieFriedma11 Trump supports ar...\n",
       "1     Trump’s antibody treatment was tested using c...\n",
       "2     Trump would cut taxes by about $1.7T, Biden w...\n",
       "3     Take it from a cattleman: That drug Trump too...\n",
       "4     BREAKING: Joe Biden is the subject of an acti...\n",
       "Name: tweet, dtype: object"
      ]
     },
     "execution_count": 6,
     "metadata": {},
     "output_type": "execute_result"
    }
   ],
   "source": [
    "#Removing regular expression RT\n",
    "#election['tweet'] = election['tweet'].str.replace(r\"RT @\\S+\",\"\")\n",
    "#election['tweet'].head()"
   ]
  },
  {
   "cell_type": "code",
   "execution_count": 17,
   "metadata": {},
   "outputs": [
    {
     "data": {
      "text/plain": [
       "0     SenSchumer  MarnieFriedma   Trump supports ar...\n",
       "1    RT  GlennKesslerWP  Trump s antibody treatment...\n",
       "2    RT  RealJamesWoods  Trump would cut taxes by a...\n",
       "3    RT  sherdngr  Take it from a cattleman  That d...\n",
       "4    RT  paulsperry_  BREAKING  Joe Biden is the su...\n",
       "Name: tweet, dtype: object"
      ]
     },
     "execution_count": 17,
     "metadata": {},
     "output_type": "execute_result"
    }
   ],
   "source": [
    "election['tweet'] = election['tweet'].str.replace(r\"[^a-zA-z]\", \" \")\n",
    "election['tweet'].head()"
   ]
  },
  {
   "cell_type": "code",
   "execution_count": 18,
   "metadata": {},
   "outputs": [
    {
     "data": {
      "text/plain": [
       "0     senschumer  marniefriedma   trump supports ar...\n",
       "1    rt  glennkesslerwp  trump s antibody treatment...\n",
       "2    rt  realjameswoods  trump would cut taxes by a...\n",
       "3    rt  sherdngr  take it from a cattleman  that d...\n",
       "4    rt  paulsperry_  breaking  joe biden is the su...\n",
       "Name: tweet, dtype: object"
      ]
     },
     "execution_count": 18,
     "metadata": {},
     "output_type": "execute_result"
    }
   ],
   "source": [
    "election['tweet'] = election['tweet'].str.lower()\n",
    "election['tweet'].head()"
   ]
  },
  {
   "cell_type": "code",
   "execution_count": 19,
   "metadata": {},
   "outputs": [
    {
     "data": {
      "text/html": [
       "<div>\n",
       "<style scoped>\n",
       "    .dataframe tbody tr th:only-of-type {\n",
       "        vertical-align: middle;\n",
       "    }\n",
       "\n",
       "    .dataframe tbody tr th {\n",
       "        vertical-align: top;\n",
       "    }\n",
       "\n",
       "    .dataframe thead th {\n",
       "        text-align: right;\n",
       "    }\n",
       "</style>\n",
       "<table border=\"1\" class=\"dataframe\">\n",
       "  <thead>\n",
       "    <tr style=\"text-align: right;\">\n",
       "      <th></th>\n",
       "      <th>id</th>\n",
       "      <th>username</th>\n",
       "      <th>tweet</th>\n",
       "      <th>followers_count</th>\n",
       "      <th>location</th>\n",
       "    </tr>\n",
       "  </thead>\n",
       "  <tbody>\n",
       "    <tr>\n",
       "      <td>0</td>\n",
       "      <td>1314003645998956550</td>\n",
       "      <td>Andrew McQuinn</td>\n",
       "      <td>senschumer  marniefriedma   trump supports ar...</td>\n",
       "      <td>84.0</td>\n",
       "      <td>None</td>\n",
       "    </tr>\n",
       "    <tr>\n",
       "      <td>1</td>\n",
       "      <td>1314003646280077315</td>\n",
       "      <td>- kay -</td>\n",
       "      <td>rt  glennkesslerwp  trump s antibody treatment...</td>\n",
       "      <td>15463.0</td>\n",
       "      <td>Texas</td>\n",
       "    </tr>\n",
       "    <tr>\n",
       "      <td>2</td>\n",
       "      <td>1314003646280065024</td>\n",
       "      <td>🇦🇷🇦🇷Alberto Carlos</td>\n",
       "      <td>rt  realjameswoods  trump would cut taxes by a...</td>\n",
       "      <td>8950.0</td>\n",
       "      <td>CABA</td>\n",
       "    </tr>\n",
       "    <tr>\n",
       "      <td>3</td>\n",
       "      <td>1314003646330404870</td>\n",
       "      <td>sallie sanders</td>\n",
       "      <td>rt  sherdngr  take it from a cattleman  that d...</td>\n",
       "      <td>318.0</td>\n",
       "      <td>baton rouge, la</td>\n",
       "    </tr>\n",
       "    <tr>\n",
       "      <td>4</td>\n",
       "      <td>1314003646393192449</td>\n",
       "      <td>Gal from🏖Cal⭐️⭐️⭐️</td>\n",
       "      <td>rt  paulsperry_  breaking  joe biden is the su...</td>\n",
       "      <td>1855.0</td>\n",
       "      <td>California</td>\n",
       "    </tr>\n",
       "  </tbody>\n",
       "</table>\n",
       "</div>"
      ],
      "text/plain": [
       "                    id            username  \\\n",
       "0  1314003645998956550      Andrew McQuinn   \n",
       "1  1314003646280077315             - kay -   \n",
       "2  1314003646280065024  🇦🇷🇦🇷Alberto Carlos   \n",
       "3  1314003646330404870      sallie sanders   \n",
       "4  1314003646393192449  Gal from🏖Cal⭐️⭐️⭐️   \n",
       "\n",
       "                                               tweet  followers_count  \\\n",
       "0   senschumer  marniefriedma   trump supports ar...             84.0   \n",
       "1  rt  glennkesslerwp  trump s antibody treatment...          15463.0   \n",
       "2  rt  realjameswoods  trump would cut taxes by a...           8950.0   \n",
       "3  rt  sherdngr  take it from a cattleman  that d...            318.0   \n",
       "4  rt  paulsperry_  breaking  joe biden is the su...           1855.0   \n",
       "\n",
       "          location  \n",
       "0             None  \n",
       "1            Texas  \n",
       "2            CABA   \n",
       "3  baton rouge, la  \n",
       "4       California  "
      ]
     },
     "execution_count": 19,
     "metadata": {},
     "output_type": "execute_result"
    }
   ],
   "source": [
    "election.head(5)"
   ]
  },
  {
   "cell_type": "code",
   "execution_count": 20,
   "metadata": {},
   "outputs": [],
   "source": [
    "#Removing symbols/images from username column\n",
    "election['username'] = election['username'].str.replace(r\"[^a-zA-z]\", \" \")\n"
   ]
  },
  {
   "cell_type": "code",
   "execution_count": 21,
   "metadata": {},
   "outputs": [
    {
     "data": {
      "text/plain": [
       "753948"
      ]
     },
     "execution_count": 21,
     "metadata": {},
     "output_type": "execute_result"
    }
   ],
   "source": [
    "#Finding duplicate tweets\n",
    "sum(election['tweet'].duplicated())"
   ]
  },
  {
   "cell_type": "code",
   "execution_count": 29,
   "metadata": {},
   "outputs": [
    {
     "data": {
      "text/html": [
       "<div>\n",
       "<style scoped>\n",
       "    .dataframe tbody tr th:only-of-type {\n",
       "        vertical-align: middle;\n",
       "    }\n",
       "\n",
       "    .dataframe tbody tr th {\n",
       "        vertical-align: top;\n",
       "    }\n",
       "\n",
       "    .dataframe thead th {\n",
       "        text-align: right;\n",
       "    }\n",
       "</style>\n",
       "<table border=\"1\" class=\"dataframe\">\n",
       "  <thead>\n",
       "    <tr style=\"text-align: right;\">\n",
       "      <th></th>\n",
       "      <th>id</th>\n",
       "      <th>username</th>\n",
       "      <th>tweet</th>\n",
       "      <th>followers_count</th>\n",
       "      <th>location</th>\n",
       "    </tr>\n",
       "  </thead>\n",
       "  <tbody>\n",
       "    <tr>\n",
       "      <td>21</td>\n",
       "      <td>1314003649711026176</td>\n",
       "      <td>Steven Lemongello</td>\n",
       "      <td>rt  stevenmazie  breaking  trump administratio...</td>\n",
       "      <td>7387.0</td>\n",
       "      <td>Orlando, FL</td>\n",
       "    </tr>\n",
       "    <tr>\n",
       "      <td>29</td>\n",
       "      <td>1314003650105270273</td>\n",
       "      <td>Cathy carlisle</td>\n",
       "      <td>rt  anacabrera  in an unprecedented move  the ...</td>\n",
       "      <td>184.0</td>\n",
       "      <td>None</td>\n",
       "    </tr>\n",
       "    <tr>\n",
       "      <td>45</td>\n",
       "      <td>1314003650625310720</td>\n",
       "      <td>litzy</td>\n",
       "      <td>rt  realheatherd  i know all of you  pro life ...</td>\n",
       "      <td>782.0</td>\n",
       "      <td>None</td>\n",
       "    </tr>\n",
       "    <tr>\n",
       "      <td>52</td>\n",
       "      <td>1314003650918838273</td>\n",
       "      <td>Jesse Chilton</td>\n",
       "      <td>rt  sarahcpr  trump s antibody treatment was t...</td>\n",
       "      <td>74.0</td>\n",
       "      <td>British Columbia, Canada</td>\n",
       "    </tr>\n",
       "    <tr>\n",
       "      <td>70</td>\n",
       "      <td>1314003653628432386</td>\n",
       "      <td>Gwenie</td>\n",
       "      <td>rt  glennkesslerwp  trump s antibody treatment...</td>\n",
       "      <td>4206.0</td>\n",
       "      <td>864511320</td>\n",
       "    </tr>\n",
       "    <tr>\n",
       "      <td>...</td>\n",
       "      <td>...</td>\n",
       "      <td>...</td>\n",
       "      <td>...</td>\n",
       "      <td>...</td>\n",
       "      <td>...</td>\n",
       "    </tr>\n",
       "    <tr>\n",
       "      <td>1024964</td>\n",
       "      <td>1313987234417176579</td>\n",
       "      <td>ThingsFallApart</td>\n",
       "      <td>rt  clairecmc  wait   wait   trump is telling ...</td>\n",
       "      <td>39.0</td>\n",
       "      <td>None</td>\n",
       "    </tr>\n",
       "    <tr>\n",
       "      <td>1024965</td>\n",
       "      <td>1313987234408865795</td>\n",
       "      <td>Big Bandz</td>\n",
       "      <td>rt  perpetualwinger   drdenagrayson these resu...</td>\n",
       "      <td>462.0</td>\n",
       "      <td>None</td>\n",
       "    </tr>\n",
       "    <tr>\n",
       "      <td>1024966</td>\n",
       "      <td>1313987234589224965</td>\n",
       "      <td>Dorothy Miller</td>\n",
       "      <td>rt  paulsperry_  breaking  joe biden is the su...</td>\n",
       "      <td>32.0</td>\n",
       "      <td>None</td>\n",
       "    </tr>\n",
       "    <tr>\n",
       "      <td>1024967</td>\n",
       "      <td>1313987234497015808</td>\n",
       "      <td>Ed Wrather</td>\n",
       "      <td>rt  kelemencari  thank you  media  for turning...</td>\n",
       "      <td>36974.0</td>\n",
       "      <td>Oklahoma</td>\n",
       "    </tr>\n",
       "    <tr>\n",
       "      <td>1024968</td>\n",
       "      <td>1313987234668802048</td>\n",
       "      <td>effortless Beauty</td>\n",
       "      <td>rt  greggjarrett  corrupt comey conveniently c...</td>\n",
       "      <td>300.0</td>\n",
       "      <td>Honolulu, HI</td>\n",
       "    </tr>\n",
       "  </tbody>\n",
       "</table>\n",
       "<p>753948 rows × 5 columns</p>\n",
       "</div>"
      ],
      "text/plain": [
       "                          id               username  \\\n",
       "21       1314003649711026176      Steven Lemongello   \n",
       "29       1314003650105270273         Cathy carlisle   \n",
       "45       1314003650625310720                  litzy   \n",
       "52       1314003650918838273          Jesse Chilton   \n",
       "70       1314003653628432386              Gwenie      \n",
       "...                      ...                    ...   \n",
       "1024964  1313987234417176579        ThingsFallApart   \n",
       "1024965  1313987234408865795              Big Bandz   \n",
       "1024966  1313987234589224965         Dorothy Miller   \n",
       "1024967  1313987234497015808             Ed Wrather   \n",
       "1024968  1313987234668802048    effortless Beauty     \n",
       "\n",
       "                                                     tweet  followers_count  \\\n",
       "21       rt  stevenmazie  breaking  trump administratio...           7387.0   \n",
       "29       rt  anacabrera  in an unprecedented move  the ...            184.0   \n",
       "45       rt  realheatherd  i know all of you  pro life ...            782.0   \n",
       "52       rt  sarahcpr  trump s antibody treatment was t...             74.0   \n",
       "70       rt  glennkesslerwp  trump s antibody treatment...           4206.0   \n",
       "...                                                    ...              ...   \n",
       "1024964  rt  clairecmc  wait   wait   trump is telling ...             39.0   \n",
       "1024965  rt  perpetualwinger   drdenagrayson these resu...            462.0   \n",
       "1024966  rt  paulsperry_  breaking  joe biden is the su...             32.0   \n",
       "1024967  rt  kelemencari  thank you  media  for turning...          36974.0   \n",
       "1024968  rt  greggjarrett  corrupt comey conveniently c...            300.0   \n",
       "\n",
       "                         location  \n",
       "21                    Orlando, FL  \n",
       "29                           None  \n",
       "45                           None  \n",
       "52       British Columbia, Canada  \n",
       "70                      864511320  \n",
       "...                           ...  \n",
       "1024964                      None  \n",
       "1024965                      None  \n",
       "1024966                      None  \n",
       "1024967                  Oklahoma  \n",
       "1024968              Honolulu, HI  \n",
       "\n",
       "[753948 rows x 5 columns]"
      ]
     },
     "execution_count": 29,
     "metadata": {},
     "output_type": "execute_result"
    }
   ],
   "source": [
    "election[election['tweet'].duplicated()]"
   ]
  },
  {
   "cell_type": "code",
   "execution_count": null,
   "metadata": {},
   "outputs": [],
   "source": [
    "#We find a large number of duplicate tweets which are retweets. However for the purpose\n",
    "# of analysis, they have not been dropped. Retweet implies the popularity of the tweet."
   ]
  },
  {
   "cell_type": "code",
   "execution_count": 143,
   "metadata": {},
   "outputs": [],
   "source": [
    "#election.drop_duplicates(subset='tweet',inplace=True)"
   ]
  },
  {
   "cell_type": "code",
   "execution_count": 30,
   "metadata": {},
   "outputs": [
    {
     "data": {
      "text/plain": [
       "(1024971, 5)"
      ]
     },
     "execution_count": 30,
     "metadata": {},
     "output_type": "execute_result"
    }
   ],
   "source": [
    "election.shape"
   ]
  },
  {
   "cell_type": "code",
   "execution_count": null,
   "metadata": {},
   "outputs": [],
   "source": [
    "# Unique tweets = 269,244"
   ]
  },
  {
   "cell_type": "markdown",
   "metadata": {},
   "source": [
    "### 3. EDA"
   ]
  },
  {
   "cell_type": "markdown",
   "metadata": {},
   "source": [
    "#### Extracting the relevant posts for each presidential candidate"
   ]
  },
  {
   "cell_type": "markdown",
   "metadata": {},
   "source": [
    "To find these relevant posts, we would search a certain word in a sentence. For example, does the tweet contain biden or trump or both?"
   ]
  },
  {
   "cell_type": "code",
   "execution_count": 2,
   "metadata": {},
   "outputs": [
    {
     "name": "stdout",
     "output_type": "stream",
     "text": [
      "True\n"
     ]
    }
   ],
   "source": [
    "# Importing Regular expression for word searching\n",
    "import re\n",
    "def word_in_text(word, text):\n",
    "    try:\n",
    "        text = text.lower()\n",
    "        match = re.search(word, text)\n",
    "        if match:\n",
    "            return True\n",
    "        return False\n",
    "    except AttributeError:\n",
    "        return False\n",
    "\n",
    "# Testing out word_in_text to find a certain word in a text\n",
    "print(word_in_text('camping','Hey let us go camping'))"
   ]
  },
  {
   "cell_type": "code",
   "execution_count": 20,
   "metadata": {},
   "outputs": [],
   "source": [
    "election['trump'] = election['tweet'].apply(lambda tweet: word_in_text('trump', tweet))"
   ]
  },
  {
   "cell_type": "code",
   "execution_count": 24,
   "metadata": {},
   "outputs": [
    {
     "data": {
      "text/plain": [
       "661110"
      ]
     },
     "execution_count": 24,
     "metadata": {},
     "output_type": "execute_result"
    }
   ],
   "source": [
    "election['trump'].sum()"
   ]
  },
  {
   "cell_type": "code",
   "execution_count": 22,
   "metadata": {},
   "outputs": [],
   "source": [
    "election['biden'] = election['tweet'].apply(lambda tweet: word_in_text('biden', tweet))"
   ]
  },
  {
   "cell_type": "code",
   "execution_count": 25,
   "metadata": {},
   "outputs": [
    {
     "data": {
      "text/plain": [
       "200708"
      ]
     },
     "execution_count": 25,
     "metadata": {},
     "output_type": "execute_result"
    }
   ],
   "source": [
    "election['biden'].sum()"
   ]
  },
  {
   "cell_type": "code",
   "execution_count": 39,
   "metadata": {},
   "outputs": [
    {
     "data": {
      "text/plain": [
       "False    0.804182\n",
       "True     0.195818\n",
       "Name: biden, dtype: float64"
      ]
     },
     "execution_count": 39,
     "metadata": {},
     "output_type": "execute_result"
    }
   ],
   "source": [
    "election['biden'].value_counts(normalize=True)"
   ]
  },
  {
   "cell_type": "code",
   "execution_count": 40,
   "metadata": {},
   "outputs": [],
   "source": [
    "#Biden is only mentioned in 20% of the tweets while Trump accounts for\n",
    "# 80% of the tweets"
   ]
  },
  {
   "cell_type": "code",
   "execution_count": 41,
   "metadata": {},
   "outputs": [
    {
     "name": "stdout",
     "output_type": "stream",
     "text": [
      "[[661110, 200708]]\n"
     ]
    },
    {
     "data": {
      "text/plain": [
       "<matplotlib.axes._subplots.AxesSubplot at 0x1294eaed0>"
      ]
     },
     "execution_count": 41,
     "metadata": {},
     "output_type": "execute_result"
    },
    {
     "data": {
      "image/png": "[encoded data removed]",
      "text/plain": [
       "<Figure size 432x288 with 1 Axes>"
      ]
     },
     "metadata": {
      "needs_background": "light"
     },
     "output_type": "display_data"
    }
   ],
   "source": [
    "presidential_candidates = ['trump', 'biden']\n",
    "tweets_by_pres_candidates = [[election['trump'].value_counts()[1],election['biden'].value_counts()[1]]]\n",
    "print(tweets_by_pres_candidates)\n",
    "\n",
    "# Plotting the candidate counts\n",
    "candidate_frame = pd.DataFrame(tweets_by_pres_candidates,columns=presidential_candidates)\n",
    "candidate_frame.T.plot(kind='bar',legend=False,title=\"Twitter counts of presidential candidates\")"
   ]
  },
  {
   "cell_type": "markdown",
   "metadata": {},
   "source": [
    "##### Finding top 5 users with highest followers_count"
   ]
  },
  {
   "cell_type": "code",
   "execution_count": 31,
   "metadata": {},
   "outputs": [
    {
     "data": {
      "text/html": [
       "<div>\n",
       "<style scoped>\n",
       "    .dataframe tbody tr th:only-of-type {\n",
       "        vertical-align: middle;\n",
       "    }\n",
       "\n",
       "    .dataframe tbody tr th {\n",
       "        vertical-align: top;\n",
       "    }\n",
       "\n",
       "    .dataframe thead th {\n",
       "        text-align: right;\n",
       "    }\n",
       "</style>\n",
       "<table border=\"1\" class=\"dataframe\">\n",
       "  <thead>\n",
       "    <tr style=\"text-align: right;\">\n",
       "      <th></th>\n",
       "      <th>id</th>\n",
       "      <th>username</th>\n",
       "      <th>tweet</th>\n",
       "      <th>followers_count</th>\n",
       "      <th>location</th>\n",
       "      <th>trump</th>\n",
       "      <th>biden</th>\n",
       "    </tr>\n",
       "  </thead>\n",
       "  <tbody>\n",
       "    <tr>\n",
       "      <td>351923</td>\n",
       "      <td>1314024448756981764</td>\n",
       "      <td>CNN Breaking News</td>\n",
       "      <td>the trump administration has asked the supreme...</td>\n",
       "      <td>58860025.0</td>\n",
       "      <td>Everywhere</td>\n",
       "      <td>True</td>\n",
       "      <td>False</td>\n",
       "    </tr>\n",
       "    <tr>\n",
       "      <td>5335</td>\n",
       "      <td>1314016295092879360</td>\n",
       "      <td>CNN</td>\n",
       "      <td>moderator susan page began the  vpdebate by be...</td>\n",
       "      <td>50000171.0</td>\n",
       "      <td>None</td>\n",
       "      <td>False</td>\n",
       "      <td>False</td>\n",
       "    </tr>\n",
       "    <tr>\n",
       "      <td>104011</td>\n",
       "      <td>1314020497357766658</td>\n",
       "      <td>The New York Times</td>\n",
       "      <td>kamala harris made a misleading claim about th...</td>\n",
       "      <td>47444326.0</td>\n",
       "      <td>New York City</td>\n",
       "      <td>True</td>\n",
       "      <td>False</td>\n",
       "    </tr>\n",
       "    <tr>\n",
       "      <td>149930</td>\n",
       "      <td>1314024084070690816</td>\n",
       "      <td>BBC News  World</td>\n",
       "      <td>rt  bbcnorthamerica  kamala harris says trump ...</td>\n",
       "      <td>29191236.0</td>\n",
       "      <td>London, UK</td>\n",
       "      <td>True</td>\n",
       "      <td>False</td>\n",
       "    </tr>\n",
       "    <tr>\n",
       "      <td>620531</td>\n",
       "      <td>1314005324207194119</td>\n",
       "      <td>The Economist</td>\n",
       "      <td>rt  econus  the vice presidential debate betwe...</td>\n",
       "      <td>25050100.0</td>\n",
       "      <td>London</td>\n",
       "      <td>False</td>\n",
       "      <td>False</td>\n",
       "    </tr>\n",
       "  </tbody>\n",
       "</table>\n",
       "</div>"
      ],
      "text/plain": [
       "                         id            username  \\\n",
       "351923  1314024448756981764   CNN Breaking News   \n",
       "5335    1314016295092879360                 CNN   \n",
       "104011  1314020497357766658  The New York Times   \n",
       "149930  1314024084070690816    BBC News  World    \n",
       "620531  1314005324207194119       The Economist   \n",
       "\n",
       "                                                    tweet  followers_count  \\\n",
       "351923  the trump administration has asked the supreme...       58860025.0   \n",
       "5335    moderator susan page began the  vpdebate by be...       50000171.0   \n",
       "104011  kamala harris made a misleading claim about th...       47444326.0   \n",
       "149930  rt  bbcnorthamerica  kamala harris says trump ...       29191236.0   \n",
       "620531  rt  econus  the vice presidential debate betwe...       25050100.0   \n",
       "\n",
       "             location  trump  biden  \n",
       "351923     Everywhere   True  False  \n",
       "5335             None  False  False  \n",
       "104011  New York City   True  False  \n",
       "149930     London, UK   True  False  \n",
       "620531         London  False  False  "
      ]
     },
     "execution_count": 31,
     "metadata": {},
     "output_type": "execute_result"
    }
   ],
   "source": [
    "top_5 = election.sort_values(by='followers_count',ascending=False).drop_duplicates('username')\n",
    "top_5.head()"
   ]
  },
  {
   "cell_type": "markdown",
   "metadata": {},
   "source": [
    "The top 5 users by following count are CNN Breaking News, CNN, The New York Times, BBC News World and the Economist\n",
    "All report overwhelmingly on Trump compared to Biden"
   ]
  },
  {
   "cell_type": "markdown",
   "metadata": {},
   "source": [
    "##### Bar/Pie Graph of number of tweets by each of the top 5 media channels on trump and Biden"
   ]
  },
  {
   "cell_type": "code",
   "execution_count": 43,
   "metadata": {},
   "outputs": [
    {
     "data": {
      "text/plain": [
       "<matplotlib.axes._subplots.AxesSubplot at 0x1311ee950>"
      ]
     },
     "execution_count": 43,
     "metadata": {},
     "output_type": "execute_result"
    },
    {
     "data": {
      "image/png": "[encoded data removed]",
      "text/plain": [
       "<Figure size 432x288 with 1 Axes>"
      ]
     },
     "metadata": {
      "needs_background": "light"
     },
     "output_type": "display_data"
    }
   ],
   "source": [
    "#Trump Tweets\n",
    "election[(election['trump']==True) &((election['username']=='CNN Breaking News') |(election['username']=='CNN')|(election['username']=='The Economist')\n",
    "| (election['username']=='The New York Times')|(election['username']=='BBC News World'))].groupby('username')['tweet'].count().sort_values(ascending=False).plot(kind='bar',color='r')"
   ]
  },
  {
   "cell_type": "code",
   "execution_count": 44,
   "metadata": {},
   "outputs": [
    {
     "data": {
      "text/plain": [
       "<matplotlib.axes._subplots.AxesSubplot at 0x13115ee90>"
      ]
     },
     "execution_count": 44,
     "metadata": {},
     "output_type": "execute_result"
    },
    {
     "data": {
      "image/png": "[encoded data removed]",
      "text/plain": [
       "<Figure size 432x288 with 1 Axes>"
      ]
     },
     "metadata": {
      "needs_background": "light"
     },
     "output_type": "display_data"
    }
   ],
   "source": [
    "#Trump Tweets\n",
    "election[(election['biden']==True) &((election['username']=='CNN Breaking News') |(election['username']=='CNN')|(election['username']=='The Economist')\n",
    "| (election['username']=='The New York Times')|(election['username']=='BBC News World'))].groupby('username')['tweet'].count().sort_values(ascending=False).plot(kind='bar',color='blue')"
   ]
  },
  {
   "cell_type": "markdown",
   "metadata": {},
   "source": [
    "### 4. Sentiment Analysis"
   ]
  },
  {
   "cell_type": "markdown",
   "metadata": {},
   "source": [
    "#### Python TextBlob Sentiment Analysis"
   ]
  },
  {
   "cell_type": "markdown",
   "metadata": {},
   "source": [
    "Sentiment Analysis refers to the process of taking natural language to identify and extract subjective information. You can enter text, run it through the TextBlob and the program will return if the text is positive, neutral, or negative by analyzing the language used in the text."
   ]
  },
  {
   "cell_type": "markdown",
   "metadata": {},
   "source": [
    "Here, we analyze the polarity, subjectivity and Classification of every tweet.\n",
    "\n",
    "Polarity - a measure of the negativity, the neutralness, or the positivity of the text\n",
    "\n",
    "Subjectivity - a measure of the subjectiveness of the object. The more it is, the more subjective is the information.\n",
    "\n",
    "Classification - either pos or neg indicating if the text is positive or negative To calculate the overall sentiment, we look at the polarity score:"
   ]
  },
  {
   "cell_type": "code",
   "execution_count": null,
   "metadata": {},
   "outputs": [],
   "source": [
    "# Importing TextBlob from textblob to find polarity\n",
    "from textblob import TextBlob\n",
    "\n",
    "def find_polarity(tweet):\n",
    "    try:\n",
    "        textblob_tweet = TextBlob(tweet)\n",
    "        return textblob_tweet.polarity\n",
    "    except:\n",
    "        pass\n",
    "    \n",
    "def find_subjectivity(tweet):\n",
    "    try:\n",
    "        textblob_tweet = TextBlob(tweet)\n",
    "        return textblob_tweet.subjectivity\n",
    "    except:\n",
    "        pass\n",
    "    \n",
    "# Applying textblob to each tweets text\n",
    "election['polarity'] = election['tweet'].apply(lambda tweet:find_polarity(tweet))\n",
    "election['subjectivity'] = election['tweet'].apply(lambda tweet:find_subjectivity(tweet))"
   ]
  },
  {
   "cell_type": "code",
   "execution_count": 148,
   "metadata": {},
   "outputs": [
    {
     "data": {
      "text/html": [
       "<div>\n",
       "<style scoped>\n",
       "    .dataframe tbody tr th:only-of-type {\n",
       "        vertical-align: middle;\n",
       "    }\n",
       "\n",
       "    .dataframe tbody tr th {\n",
       "        vertical-align: top;\n",
       "    }\n",
       "\n",
       "    .dataframe thead th {\n",
       "        text-align: right;\n",
       "    }\n",
       "</style>\n",
       "<table border=\"1\" class=\"dataframe\">\n",
       "  <thead>\n",
       "    <tr style=\"text-align: right;\">\n",
       "      <th></th>\n",
       "      <th>id</th>\n",
       "      <th>username</th>\n",
       "      <th>tweet</th>\n",
       "      <th>followers_count</th>\n",
       "      <th>location</th>\n",
       "      <th>trump</th>\n",
       "      <th>biden</th>\n",
       "      <th>polarity</th>\n",
       "      <th>subjectivity</th>\n",
       "      <th>polaritytext</th>\n",
       "      <th>subjectivitytext</th>\n",
       "    </tr>\n",
       "  </thead>\n",
       "  <tbody>\n",
       "    <tr>\n",
       "      <td>0</td>\n",
       "      <td>1314003645998956550</td>\n",
       "      <td>Andrew McQuinn</td>\n",
       "      <td>senschumer  marniefriedma   trump supports ar...</td>\n",
       "      <td>84.0</td>\n",
       "      <td>None</td>\n",
       "      <td>True</td>\n",
       "      <td>False</td>\n",
       "      <td>-0.083333</td>\n",
       "      <td>0.083333</td>\n",
       "      <td>neutral</td>\n",
       "      <td>meaningful</td>\n",
       "    </tr>\n",
       "    <tr>\n",
       "      <td>1</td>\n",
       "      <td>1314003646280077315</td>\n",
       "      <td>kay</td>\n",
       "      <td>rt  glennkesslerwp  trump s antibody treatment...</td>\n",
       "      <td>15463.0</td>\n",
       "      <td>Texas</td>\n",
       "      <td>True</td>\n",
       "      <td>False</td>\n",
       "      <td>0.375000</td>\n",
       "      <td>0.750000</td>\n",
       "      <td>happy</td>\n",
       "      <td>subjective</td>\n",
       "    </tr>\n",
       "  </tbody>\n",
       "</table>\n",
       "</div>"
      ],
      "text/plain": [
       "                    id        username  \\\n",
       "0  1314003645998956550  Andrew McQuinn   \n",
       "1  1314003646280077315           kay     \n",
       "\n",
       "                                               tweet  followers_count  \\\n",
       "0   senschumer  marniefriedma   trump supports ar...             84.0   \n",
       "1  rt  glennkesslerwp  trump s antibody treatment...          15463.0   \n",
       "\n",
       "  location  trump  biden  polarity  subjectivity polaritytext subjectivitytext  \n",
       "0     None   True  False -0.083333      0.083333      neutral       meaningful  \n",
       "1    Texas   True  False  0.375000      0.750000        happy       subjective  "
      ]
     },
     "execution_count": 148,
     "metadata": {},
     "output_type": "execute_result"
    }
   ],
   "source": [
    "election.head(2)"
   ]
  },
  {
   "cell_type": "code",
   "execution_count": 147,
   "metadata": {},
   "outputs": [
    {
     "data": {
      "text/html": [
       "<div>\n",
       "<style scoped>\n",
       "    .dataframe tbody tr th:only-of-type {\n",
       "        vertical-align: middle;\n",
       "    }\n",
       "\n",
       "    .dataframe tbody tr th {\n",
       "        vertical-align: top;\n",
       "    }\n",
       "\n",
       "    .dataframe thead th {\n",
       "        text-align: right;\n",
       "    }\n",
       "</style>\n",
       "<table border=\"1\" class=\"dataframe\">\n",
       "  <thead>\n",
       "    <tr style=\"text-align: right;\">\n",
       "      <th></th>\n",
       "      <th>id</th>\n",
       "      <th>username</th>\n",
       "      <th>tweet</th>\n",
       "      <th>followers_count</th>\n",
       "      <th>location</th>\n",
       "      <th>trump</th>\n",
       "      <th>biden</th>\n",
       "      <th>polarity</th>\n",
       "      <th>subjectivity</th>\n",
       "      <th>polaritytext</th>\n",
       "      <th>subjectivitytext</th>\n",
       "    </tr>\n",
       "  </thead>\n",
       "  <tbody>\n",
       "    <tr>\n",
       "      <td>2</td>\n",
       "      <td>1314003646280065024</td>\n",
       "      <td>Alberto Carlos</td>\n",
       "      <td>rt  realjameswoods  trump would cut taxes by a...</td>\n",
       "      <td>8950.0</td>\n",
       "      <td>CABA</td>\n",
       "      <td>True</td>\n",
       "      <td>True</td>\n",
       "      <td>0.160000</td>\n",
       "      <td>0.54</td>\n",
       "      <td>neutral</td>\n",
       "      <td>subjective</td>\n",
       "    </tr>\n",
       "    <tr>\n",
       "      <td>16</td>\n",
       "      <td>1314003649358491648</td>\n",
       "      <td>Bilo Segdiyev</td>\n",
       "      <td>yo   joebiden  kamalaharris y all should reser...</td>\n",
       "      <td>33.0</td>\n",
       "      <td>None</td>\n",
       "      <td>True</td>\n",
       "      <td>True</td>\n",
       "      <td>0.200000</td>\n",
       "      <td>0.20</td>\n",
       "      <td>neutral</td>\n",
       "      <td>meaningful</td>\n",
       "    </tr>\n",
       "    <tr>\n",
       "      <td>22</td>\n",
       "      <td>1314003649706766341</td>\n",
       "      <td>Teri C</td>\n",
       "      <td>rt  jim_jordan  the obama biden administration...</td>\n",
       "      <td>2.0</td>\n",
       "      <td>None</td>\n",
       "      <td>True</td>\n",
       "      <td>True</td>\n",
       "      <td>0.000000</td>\n",
       "      <td>0.00</td>\n",
       "      <td>neutral</td>\n",
       "      <td>meaningful</td>\n",
       "    </tr>\n",
       "    <tr>\n",
       "      <td>90</td>\n",
       "      <td>1314003654396043264</td>\n",
       "      <td>carol skarlat att net</td>\n",
       "      <td>rt  trumpwarroom  kamala harris doesn t stand ...</td>\n",
       "      <td>79.0</td>\n",
       "      <td>None</td>\n",
       "      <td>True</td>\n",
       "      <td>True</td>\n",
       "      <td>0.000000</td>\n",
       "      <td>0.00</td>\n",
       "      <td>neutral</td>\n",
       "      <td>meaningful</td>\n",
       "    </tr>\n",
       "    <tr>\n",
       "      <td>124</td>\n",
       "      <td>1314003658015637505</td>\n",
       "      <td>Gary Bird</td>\n",
       "      <td>rt  realdonaldtrump  wow    now do something a...</td>\n",
       "      <td>9443.0</td>\n",
       "      <td>KY</td>\n",
       "      <td>True</td>\n",
       "      <td>True</td>\n",
       "      <td>0.033333</td>\n",
       "      <td>0.40</td>\n",
       "      <td>neutral</td>\n",
       "      <td>meaningful</td>\n",
       "    </tr>\n",
       "  </tbody>\n",
       "</table>\n",
       "</div>"
      ],
      "text/plain": [
       "                      id               username  \\\n",
       "2    1314003646280065024         Alberto Carlos   \n",
       "16   1314003649358491648          Bilo Segdiyev   \n",
       "22   1314003649706766341                 Teri C   \n",
       "90   1314003654396043264  carol skarlat att net   \n",
       "124  1314003658015637505              Gary Bird   \n",
       "\n",
       "                                                 tweet  followers_count  \\\n",
       "2    rt  realjameswoods  trump would cut taxes by a...           8950.0   \n",
       "16   yo   joebiden  kamalaharris y all should reser...             33.0   \n",
       "22   rt  jim_jordan  the obama biden administration...              2.0   \n",
       "90   rt  trumpwarroom  kamala harris doesn t stand ...             79.0   \n",
       "124  rt  realdonaldtrump  wow    now do something a...           9443.0   \n",
       "\n",
       "    location  trump  biden  polarity  subjectivity polaritytext  \\\n",
       "2      CABA    True   True  0.160000          0.54      neutral   \n",
       "16      None   True   True  0.200000          0.20      neutral   \n",
       "22      None   True   True  0.000000          0.00      neutral   \n",
       "90      None   True   True  0.000000          0.00      neutral   \n",
       "124       KY   True   True  0.033333          0.40      neutral   \n",
       "\n",
       "    subjectivitytext  \n",
       "2         subjective  \n",
       "16        meaningful  \n",
       "22        meaningful  \n",
       "90        meaningful  \n",
       "124       meaningful  "
      ]
     },
     "execution_count": 147,
     "metadata": {},
     "output_type": "execute_result"
    }
   ],
   "source": [
    "#Tweets subset which contain both trump and biden in tweets\n",
    "both_candidates = election[(election['trump']==True) & (election['biden']==True)]\n",
    "both_candidates.head()"
   ]
  },
  {
   "cell_type": "markdown",
   "metadata": {},
   "source": [
    "#### Analyzing polarity"
   ]
  },
  {
   "cell_type": "code",
   "execution_count": 150,
   "metadata": {},
   "outputs": [
    {
     "data": {
      "text/html": [
       "<div>\n",
       "<style scoped>\n",
       "    .dataframe tbody tr th:only-of-type {\n",
       "        vertical-align: middle;\n",
       "    }\n",
       "\n",
       "    .dataframe tbody tr th {\n",
       "        vertical-align: top;\n",
       "    }\n",
       "\n",
       "    .dataframe thead th {\n",
       "        text-align: right;\n",
       "    }\n",
       "</style>\n",
       "<table border=\"1\" class=\"dataframe\">\n",
       "  <thead>\n",
       "    <tr style=\"text-align: right;\">\n",
       "      <th></th>\n",
       "      <th>followers_count</th>\n",
       "      <th>polarity</th>\n",
       "      <th>subjectivity</th>\n",
       "    </tr>\n",
       "  </thead>\n",
       "  <tbody>\n",
       "    <tr>\n",
       "      <td>count</td>\n",
       "      <td>7.393200e+04</td>\n",
       "      <td>73932.000000</td>\n",
       "      <td>73932.000000</td>\n",
       "    </tr>\n",
       "    <tr>\n",
       "      <td>mean</td>\n",
       "      <td>5.128217e+03</td>\n",
       "      <td>0.036845</td>\n",
       "      <td>0.308651</td>\n",
       "    </tr>\n",
       "    <tr>\n",
       "      <td>std</td>\n",
       "      <td>8.636597e+04</td>\n",
       "      <td>0.241745</td>\n",
       "      <td>0.318489</td>\n",
       "    </tr>\n",
       "    <tr>\n",
       "      <td>min</td>\n",
       "      <td>0.000000e+00</td>\n",
       "      <td>-1.000000</td>\n",
       "      <td>0.000000</td>\n",
       "    </tr>\n",
       "    <tr>\n",
       "      <td>25%</td>\n",
       "      <td>1.020000e+02</td>\n",
       "      <td>0.000000</td>\n",
       "      <td>0.000000</td>\n",
       "    </tr>\n",
       "    <tr>\n",
       "      <td>50%</td>\n",
       "      <td>5.210000e+02</td>\n",
       "      <td>0.000000</td>\n",
       "      <td>0.270000</td>\n",
       "    </tr>\n",
       "    <tr>\n",
       "      <td>75%</td>\n",
       "      <td>2.424250e+03</td>\n",
       "      <td>0.068182</td>\n",
       "      <td>0.500000</td>\n",
       "    </tr>\n",
       "    <tr>\n",
       "      <td>max</td>\n",
       "      <td>7.745513e+06</td>\n",
       "      <td>1.000000</td>\n",
       "      <td>1.000000</td>\n",
       "    </tr>\n",
       "  </tbody>\n",
       "</table>\n",
       "</div>"
      ],
      "text/plain": [
       "       followers_count      polarity  subjectivity\n",
       "count     7.393200e+04  73932.000000  73932.000000\n",
       "mean      5.128217e+03      0.036845      0.308651\n",
       "std       8.636597e+04      0.241745      0.318489\n",
       "min       0.000000e+00     -1.000000      0.000000\n",
       "25%       1.020000e+02      0.000000      0.000000\n",
       "50%       5.210000e+02      0.000000      0.270000\n",
       "75%       2.424250e+03      0.068182      0.500000\n",
       "max       7.745513e+06      1.000000      1.000000"
      ]
     },
     "execution_count": 150,
     "metadata": {},
     "output_type": "execute_result"
    }
   ],
   "source": [
    "both_candidates.describe()\n",
    "# Tweets which contain both candidates are largely neutral with slightly\n",
    "#positive polarity score (0.03 average)"
   ]
  },
  {
   "cell_type": "code",
   "execution_count": 64,
   "metadata": {},
   "outputs": [
    {
     "data": {
      "text/html": [
       "<div>\n",
       "<style scoped>\n",
       "    .dataframe tbody tr th:only-of-type {\n",
       "        vertical-align: middle;\n",
       "    }\n",
       "\n",
       "    .dataframe tbody tr th {\n",
       "        vertical-align: top;\n",
       "    }\n",
       "\n",
       "    .dataframe thead th {\n",
       "        text-align: right;\n",
       "    }\n",
       "</style>\n",
       "<table border=\"1\" class=\"dataframe\">\n",
       "  <thead>\n",
       "    <tr style=\"text-align: right;\">\n",
       "      <th></th>\n",
       "      <th>id</th>\n",
       "      <th>username</th>\n",
       "      <th>tweet</th>\n",
       "      <th>followers_count</th>\n",
       "      <th>location</th>\n",
       "      <th>trump</th>\n",
       "      <th>biden</th>\n",
       "      <th>polarity</th>\n",
       "      <th>subjectivity</th>\n",
       "    </tr>\n",
       "  </thead>\n",
       "  <tbody>\n",
       "    <tr>\n",
       "      <td>375101</td>\n",
       "      <td>1314026030508716032</td>\n",
       "      <td>smchatter</td>\n",
       "      <td>maddow  joyannreid  nicolledwallace lincoln i...</td>\n",
       "      <td>197.0</td>\n",
       "      <td>None</td>\n",
       "      <td>True</td>\n",
       "      <td>False</td>\n",
       "      <td>-1.0</td>\n",
       "      <td>1.0</td>\n",
       "    </tr>\n",
       "    <tr>\n",
       "      <td>999127</td>\n",
       "      <td>1313997190969294848</td>\n",
       "      <td>Brian</td>\n",
       "      <td>rt  warlikefire  contrary to what they want yo...</td>\n",
       "      <td>131.0</td>\n",
       "      <td>Long Beach, CA</td>\n",
       "      <td>True</td>\n",
       "      <td>True</td>\n",
       "      <td>-1.0</td>\n",
       "      <td>1.0</td>\n",
       "    </tr>\n",
       "    <tr>\n",
       "      <td>115900</td>\n",
       "      <td>1314016736048558080</td>\n",
       "      <td>David Oppenheim</td>\n",
       "      <td>rt  lolgop  when you explain how terrible the ...</td>\n",
       "      <td>110.0</td>\n",
       "      <td>Chicago, IL</td>\n",
       "      <td>True</td>\n",
       "      <td>False</td>\n",
       "      <td>-1.0</td>\n",
       "      <td>1.0</td>\n",
       "    </tr>\n",
       "    <tr>\n",
       "      <td>930090</td>\n",
       "      <td>1313975632271990785</td>\n",
       "      <td>Big Dipshit Rockets Inc</td>\n",
       "      <td>rt  thucydiplease  trump leveraging his typhoi...</td>\n",
       "      <td>257.0</td>\n",
       "      <td>United States</td>\n",
       "      <td>True</td>\n",
       "      <td>False</td>\n",
       "      <td>-1.0</td>\n",
       "      <td>1.0</td>\n",
       "    </tr>\n",
       "    <tr>\n",
       "      <td>599243</td>\n",
       "      <td>1313995568427999232</td>\n",
       "      <td>KatBallo</td>\n",
       "      <td>rt  cernovich  everything is boring since trum...</td>\n",
       "      <td>1483.0</td>\n",
       "      <td>Prospect, CT</td>\n",
       "      <td>True</td>\n",
       "      <td>False</td>\n",
       "      <td>-1.0</td>\n",
       "      <td>1.0</td>\n",
       "    </tr>\n",
       "    <tr>\n",
       "      <td>267062</td>\n",
       "      <td>1313963979736137730</td>\n",
       "      <td>alexdemonet</td>\n",
       "      <td>rt  meidastouch  the trump administration is l...</td>\n",
       "      <td>18.0</td>\n",
       "      <td>None</td>\n",
       "      <td>True</td>\n",
       "      <td>False</td>\n",
       "      <td>-1.0</td>\n",
       "      <td>1.0</td>\n",
       "    </tr>\n",
       "    <tr>\n",
       "      <td>806648</td>\n",
       "      <td>1313958813863735301</td>\n",
       "      <td>Rod Kimble</td>\n",
       "      <td>rt  williamcson  saying  trump is not america ...</td>\n",
       "      <td>919.0</td>\n",
       "      <td>Just chillin in cedar rapids</td>\n",
       "      <td>True</td>\n",
       "      <td>False</td>\n",
       "      <td>-1.0</td>\n",
       "      <td>1.0</td>\n",
       "    </tr>\n",
       "    <tr>\n",
       "      <td>115954</td>\n",
       "      <td>1314016740448317442</td>\n",
       "      <td>Gi</td>\n",
       "      <td>pence  amp  trump are pathetic</td>\n",
       "      <td>4649.0</td>\n",
       "      <td>None</td>\n",
       "      <td>True</td>\n",
       "      <td>False</td>\n",
       "      <td>-1.0</td>\n",
       "      <td>1.0</td>\n",
       "    </tr>\n",
       "    <tr>\n",
       "      <td>970832</td>\n",
       "      <td>1314027544811888640</td>\n",
       "      <td>Marie Head</td>\n",
       "      <td>rt  secupp   joe biden and i are people of fai...</td>\n",
       "      <td>207.0</td>\n",
       "      <td>Georgia, USA</td>\n",
       "      <td>False</td>\n",
       "      <td>True</td>\n",
       "      <td>-1.0</td>\n",
       "      <td>1.0</td>\n",
       "    </tr>\n",
       "    <tr>\n",
       "      <td>1018649</td>\n",
       "      <td>1314012428213071872</td>\n",
       "      <td>Shelia Glenn</td>\n",
       "      <td>rt  calebjhull  mike pence already dropping bo...</td>\n",
       "      <td>35.0</td>\n",
       "      <td>None</td>\n",
       "      <td>True</td>\n",
       "      <td>True</td>\n",
       "      <td>-1.0</td>\n",
       "      <td>1.0</td>\n",
       "    </tr>\n",
       "  </tbody>\n",
       "</table>\n",
       "</div>"
      ],
      "text/plain": [
       "                          id                  username  \\\n",
       "375101   1314026030508716032                 smchatter   \n",
       "999127   1313997190969294848                     Brian   \n",
       "115900   1314016736048558080           David Oppenheim   \n",
       "930090   1313975632271990785  Big Dipshit Rockets Inc    \n",
       "599243   1313995568427999232                KatBallo     \n",
       "267062   1313963979736137730               alexdemonet   \n",
       "806648   1313958813863735301                Rod Kimble   \n",
       "115954   1314016740448317442                       Gi    \n",
       "970832   1314027544811888640                Marie Head   \n",
       "1018649  1314012428213071872              Shelia Glenn   \n",
       "\n",
       "                                                     tweet  followers_count  \\\n",
       "375101    maddow  joyannreid  nicolledwallace lincoln i...            197.0   \n",
       "999127   rt  warlikefire  contrary to what they want yo...            131.0   \n",
       "115900   rt  lolgop  when you explain how terrible the ...            110.0   \n",
       "930090   rt  thucydiplease  trump leveraging his typhoi...            257.0   \n",
       "599243   rt  cernovich  everything is boring since trum...           1483.0   \n",
       "267062   rt  meidastouch  the trump administration is l...             18.0   \n",
       "806648   rt  williamcson  saying  trump is not america ...            919.0   \n",
       "115954                     pence  amp  trump are pathetic            4649.0   \n",
       "970832   rt  secupp   joe biden and i are people of fai...            207.0   \n",
       "1018649  rt  calebjhull  mike pence already dropping bo...             35.0   \n",
       "\n",
       "                             location  trump  biden  polarity  subjectivity  \n",
       "375101                           None   True  False      -1.0           1.0  \n",
       "999127                 Long Beach, CA   True   True      -1.0           1.0  \n",
       "115900                    Chicago, IL   True  False      -1.0           1.0  \n",
       "930090                  United States   True  False      -1.0           1.0  \n",
       "599243                   Prospect, CT   True  False      -1.0           1.0  \n",
       "267062                           None   True  False      -1.0           1.0  \n",
       "806648   Just chillin in cedar rapids   True  False      -1.0           1.0  \n",
       "115954                           None   True  False      -1.0           1.0  \n",
       "970832                   Georgia, USA  False   True      -1.0           1.0  \n",
       "1018649                          None   True   True      -1.0           1.0  "
      ]
     },
     "execution_count": 64,
     "metadata": {},
     "output_type": "execute_result"
    }
   ],
   "source": [
    "election.sort_values('polarity',ascending=True).head(10)"
   ]
  },
  {
   "cell_type": "code",
   "execution_count": null,
   "metadata": {},
   "outputs": [],
   "source": [
    "#Top 10 most negative tweets in terms of polarity (-1)"
   ]
  },
  {
   "cell_type": "code",
   "execution_count": 66,
   "metadata": {},
   "outputs": [
    {
     "data": {
      "text/plain": [
       "9"
      ]
     },
     "execution_count": 66,
     "metadata": {},
     "output_type": "execute_result"
    }
   ],
   "source": [
    "#Trump features in 9 out of 10 most negative tweets\n",
    "election.sort_values('polarity',ascending=True).head(10)['trump'].sum()"
   ]
  },
  {
   "cell_type": "code",
   "execution_count": 67,
   "metadata": {},
   "outputs": [
    {
     "data": {
      "text/plain": [
       "3"
      ]
     },
     "execution_count": 67,
     "metadata": {},
     "output_type": "execute_result"
    }
   ],
   "source": [
    "#Biden features in 3 out of 10 most negative tweets\n",
    "election.sort_values('polarity',ascending=True).head(10)['biden'].sum()"
   ]
  },
  {
   "cell_type": "code",
   "execution_count": 70,
   "metadata": {},
   "outputs": [
    {
     "data": {
      "text/plain": [
       "<matplotlib.axes._subplots.AxesSubplot at 0x129beaa10>"
      ]
     },
     "execution_count": 70,
     "metadata": {},
     "output_type": "execute_result"
    },
    {
     "data": {
      "image/png": "[encoded data removed]",
      "text/plain": [
       "<Figure size 432x288 with 1 Axes>"
      ]
     },
     "metadata": {
      "needs_background": "light"
     },
     "output_type": "display_data"
    }
   ],
   "source": [
    "election[election['trump']==True].polarity.hist()"
   ]
  },
  {
   "cell_type": "code",
   "execution_count": 71,
   "metadata": {},
   "outputs": [
    {
     "data": {
      "text/plain": [
       "<matplotlib.axes._subplots.AxesSubplot at 0x129b6f750>"
      ]
     },
     "execution_count": 71,
     "metadata": {},
     "output_type": "execute_result"
    },
    {
     "data": {
      "image/png": "[encoded data removed]",
      "text/plain": [
       "<Figure size 432x288 with 1 Axes>"
      ]
     },
     "metadata": {
      "needs_background": "light"
     },
     "output_type": "display_data"
    }
   ],
   "source": [
    "election[election['biden']==True].polarity.hist()"
   ]
  },
  {
   "cell_type": "code",
   "execution_count": 72,
   "metadata": {},
   "outputs": [
    {
     "data": {
      "text/plain": [
       "<matplotlib.axes._subplots.AxesSubplot at 0x132cf1d90>"
      ]
     },
     "execution_count": 72,
     "metadata": {},
     "output_type": "execute_result"
    },
    {
     "data": {
      "image/png": "[encoded data removed]",
      "text/plain": [
       "<Figure size 432x288 with 1 Axes>"
      ]
     },
     "metadata": {
      "needs_background": "light"
     },
     "output_type": "display_data"
    }
   ],
   "source": [
    "election[election['trump']==True].subjectivity.hist()"
   ]
  },
  {
   "cell_type": "code",
   "execution_count": 73,
   "metadata": {},
   "outputs": [
    {
     "data": {
      "text/plain": [
       "<matplotlib.axes._subplots.AxesSubplot at 0x132cac110>"
      ]
     },
     "execution_count": 73,
     "metadata": {},
     "output_type": "execute_result"
    },
    {
     "data": {
      "image/png": "[encoded data removed]",
      "text/plain": [
       "<Figure size 432x288 with 1 Axes>"
      ]
     },
     "metadata": {
      "needs_background": "light"
     },
     "output_type": "display_data"
    }
   ],
   "source": [
    "election[election['biden']==True].subjectivity.hist()"
   ]
  },
  {
   "cell_type": "code",
   "execution_count": null,
   "metadata": {},
   "outputs": [],
   "source": [
    "#The histogram shows that the most of the posts come from subjectivity around 0 and polarity 0,\n",
    "#most of them are the news. Which tweets do not have any emotional meaning."
   ]
  },
  {
   "cell_type": "code",
   "execution_count": 74,
   "metadata": {},
   "outputs": [],
   "source": [
    "# Determining if they a comment is satisfied or not satisfied (split by range)\n",
    "election['polaritytext'] =  pd.cut(election.polarity, 3,labels=[\"unhappy\",\"neutral\",\"happy\"])\n",
    "election['subjectivitytext'] =  pd.cut(election.subjectivity, 2,labels=[\"meaningful\",\"subjective\"])"
   ]
  },
  {
   "cell_type": "markdown",
   "metadata": {},
   "source": [
    "### Saving final dataframe for further analysis"
   ]
  },
  {
   "cell_type": "code",
   "execution_count": 105,
   "metadata": {},
   "outputs": [],
   "source": [
    "election.to_csv('election_final.csv')"
   ]
  },
  {
   "cell_type": "markdown",
   "metadata": {},
   "source": [
    "#### Read in final dataset "
   ]
  },
  {
   "cell_type": "code",
   "execution_count": 3,
   "metadata": {},
   "outputs": [
    {
     "name": "stderr",
     "output_type": "stream",
     "text": [
      "/opt/anaconda3/lib/python3.7/site-packages/IPython/core/interactiveshell.py:3058: DtypeWarning: Columns (1) have mixed types. Specify dtype option on import or set low_memory=False.\n",
      "  interactivity=interactivity, compiler=compiler, result=result)\n"
     ]
    }
   ],
   "source": [
    "election = pd.read_csv('election_final.csv')"
   ]
  },
  {
   "cell_type": "code",
   "execution_count": 4,
   "metadata": {},
   "outputs": [
    {
     "data": {
      "text/html": [
       "<div>\n",
       "<style scoped>\n",
       "    .dataframe tbody tr th:only-of-type {\n",
       "        vertical-align: middle;\n",
       "    }\n",
       "\n",
       "    .dataframe tbody tr th {\n",
       "        vertical-align: top;\n",
       "    }\n",
       "\n",
       "    .dataframe thead th {\n",
       "        text-align: right;\n",
       "    }\n",
       "</style>\n",
       "<table border=\"1\" class=\"dataframe\">\n",
       "  <thead>\n",
       "    <tr style=\"text-align: right;\">\n",
       "      <th></th>\n",
       "      <th>Unnamed: 0</th>\n",
       "      <th>id</th>\n",
       "      <th>username</th>\n",
       "      <th>tweet</th>\n",
       "      <th>followers_count</th>\n",
       "      <th>location</th>\n",
       "      <th>trump</th>\n",
       "      <th>biden</th>\n",
       "      <th>polarity</th>\n",
       "      <th>subjectivity</th>\n",
       "      <th>polaritytext</th>\n",
       "      <th>subjectivitytext</th>\n",
       "    </tr>\n",
       "  </thead>\n",
       "  <tbody>\n",
       "    <tr>\n",
       "      <td>0</td>\n",
       "      <td>0</td>\n",
       "      <td>1.314e+18</td>\n",
       "      <td>Andrew McQuinn</td>\n",
       "      <td>senschumer  marniefriedma   trump supports ar...</td>\n",
       "      <td>84.0</td>\n",
       "      <td>None</td>\n",
       "      <td>True</td>\n",
       "      <td>False</td>\n",
       "      <td>-0.083333</td>\n",
       "      <td>0.083333</td>\n",
       "      <td>neutral</td>\n",
       "      <td>meaningful</td>\n",
       "    </tr>\n",
       "    <tr>\n",
       "      <td>1</td>\n",
       "      <td>1</td>\n",
       "      <td>1.314e+18</td>\n",
       "      <td>kay</td>\n",
       "      <td>rt  glennkesslerwp  trump s antibody treatment...</td>\n",
       "      <td>15463.0</td>\n",
       "      <td>Texas</td>\n",
       "      <td>True</td>\n",
       "      <td>False</td>\n",
       "      <td>0.375000</td>\n",
       "      <td>0.750000</td>\n",
       "      <td>happy</td>\n",
       "      <td>subjective</td>\n",
       "    </tr>\n",
       "    <tr>\n",
       "      <td>2</td>\n",
       "      <td>2</td>\n",
       "      <td>1.314e+18</td>\n",
       "      <td>Alberto Carlos</td>\n",
       "      <td>rt  realjameswoods  trump would cut taxes by a...</td>\n",
       "      <td>8950.0</td>\n",
       "      <td>CABA</td>\n",
       "      <td>True</td>\n",
       "      <td>True</td>\n",
       "      <td>0.160000</td>\n",
       "      <td>0.540000</td>\n",
       "      <td>neutral</td>\n",
       "      <td>subjective</td>\n",
       "    </tr>\n",
       "    <tr>\n",
       "      <td>3</td>\n",
       "      <td>3</td>\n",
       "      <td>1.314e+18</td>\n",
       "      <td>sallie sanders</td>\n",
       "      <td>rt  sherdngr  take it from a cattleman  that d...</td>\n",
       "      <td>318.0</td>\n",
       "      <td>baton rouge, la</td>\n",
       "      <td>True</td>\n",
       "      <td>False</td>\n",
       "      <td>0.000000</td>\n",
       "      <td>0.000000</td>\n",
       "      <td>neutral</td>\n",
       "      <td>meaningful</td>\n",
       "    </tr>\n",
       "    <tr>\n",
       "      <td>4</td>\n",
       "      <td>4</td>\n",
       "      <td>1.314e+18</td>\n",
       "      <td>Gal from Cal</td>\n",
       "      <td>rt  paulsperry_  breaking  joe biden is the su...</td>\n",
       "      <td>1855.0</td>\n",
       "      <td>California</td>\n",
       "      <td>False</td>\n",
       "      <td>True</td>\n",
       "      <td>-0.233333</td>\n",
       "      <td>0.494444</td>\n",
       "      <td>neutral</td>\n",
       "      <td>meaningful</td>\n",
       "    </tr>\n",
       "  </tbody>\n",
       "</table>\n",
       "</div>"
      ],
      "text/plain": [
       "   Unnamed: 0         id            username  \\\n",
       "0           0  1.314e+18      Andrew McQuinn   \n",
       "1           1  1.314e+18               kay     \n",
       "2           2  1.314e+18      Alberto Carlos   \n",
       "3           3  1.314e+18      sallie sanders   \n",
       "4           4  1.314e+18  Gal from Cal         \n",
       "\n",
       "                                               tweet  followers_count  \\\n",
       "0   senschumer  marniefriedma   trump supports ar...             84.0   \n",
       "1  rt  glennkesslerwp  trump s antibody treatment...          15463.0   \n",
       "2  rt  realjameswoods  trump would cut taxes by a...           8950.0   \n",
       "3  rt  sherdngr  take it from a cattleman  that d...            318.0   \n",
       "4  rt  paulsperry_  breaking  joe biden is the su...           1855.0   \n",
       "\n",
       "          location  trump  biden  polarity  subjectivity polaritytext  \\\n",
       "0             None   True  False -0.083333      0.083333      neutral   \n",
       "1            Texas   True  False  0.375000      0.750000        happy   \n",
       "2            CABA    True   True  0.160000      0.540000      neutral   \n",
       "3  baton rouge, la   True  False  0.000000      0.000000      neutral   \n",
       "4       California  False   True -0.233333      0.494444      neutral   \n",
       "\n",
       "  subjectivitytext  \n",
       "0       meaningful  \n",
       "1       subjective  \n",
       "2       subjective  \n",
       "3       meaningful  \n",
       "4       meaningful  "
      ]
     },
     "execution_count": 4,
     "metadata": {},
     "output_type": "execute_result"
    }
   ],
   "source": [
    "election.head()"
   ]
  },
  {
   "cell_type": "code",
   "execution_count": 4,
   "metadata": {},
   "outputs": [],
   "source": [
    "# Separating biden and Trump Tweets\n",
    "tweets_biden = election[election['biden']==True]\n",
    "tweets_trump = election[election['trump'] == True]"
   ]
  },
  {
   "cell_type": "code",
   "execution_count": 151,
   "metadata": {},
   "outputs": [
    {
     "data": {
      "text/html": [
       "<div>\n",
       "<style scoped>\n",
       "    .dataframe tbody tr th:only-of-type {\n",
       "        vertical-align: middle;\n",
       "    }\n",
       "\n",
       "    .dataframe tbody tr th {\n",
       "        vertical-align: top;\n",
       "    }\n",
       "\n",
       "    .dataframe thead th {\n",
       "        text-align: right;\n",
       "    }\n",
       "</style>\n",
       "<table border=\"1\" class=\"dataframe\">\n",
       "  <thead>\n",
       "    <tr style=\"text-align: right;\">\n",
       "      <th></th>\n",
       "      <th>followers_count</th>\n",
       "      <th>polarity</th>\n",
       "      <th>subjectivity</th>\n",
       "    </tr>\n",
       "  </thead>\n",
       "  <tbody>\n",
       "    <tr>\n",
       "      <td>count</td>\n",
       "      <td>6.611100e+05</td>\n",
       "      <td>661110.000000</td>\n",
       "      <td>661110.000000</td>\n",
       "    </tr>\n",
       "    <tr>\n",
       "      <td>mean</td>\n",
       "      <td>5.952529e+03</td>\n",
       "      <td>0.054976</td>\n",
       "      <td>0.346460</td>\n",
       "    </tr>\n",
       "    <tr>\n",
       "      <td>std</td>\n",
       "      <td>2.117319e+05</td>\n",
       "      <td>0.270229</td>\n",
       "      <td>0.317652</td>\n",
       "    </tr>\n",
       "    <tr>\n",
       "      <td>min</td>\n",
       "      <td>0.000000e+00</td>\n",
       "      <td>-1.000000</td>\n",
       "      <td>0.000000</td>\n",
       "    </tr>\n",
       "    <tr>\n",
       "      <td>25%</td>\n",
       "      <td>9.700000e+01</td>\n",
       "      <td>0.000000</td>\n",
       "      <td>0.000000</td>\n",
       "    </tr>\n",
       "    <tr>\n",
       "      <td>50%</td>\n",
       "      <td>4.360000e+02</td>\n",
       "      <td>0.000000</td>\n",
       "      <td>0.333333</td>\n",
       "    </tr>\n",
       "    <tr>\n",
       "      <td>75%</td>\n",
       "      <td>1.949000e+03</td>\n",
       "      <td>0.190476</td>\n",
       "      <td>0.550595</td>\n",
       "    </tr>\n",
       "    <tr>\n",
       "      <td>max</td>\n",
       "      <td>5.886002e+07</td>\n",
       "      <td>1.000000</td>\n",
       "      <td>1.000000</td>\n",
       "    </tr>\n",
       "  </tbody>\n",
       "</table>\n",
       "</div>"
      ],
      "text/plain": [
       "       followers_count       polarity   subjectivity\n",
       "count     6.611100e+05  661110.000000  661110.000000\n",
       "mean      5.952529e+03       0.054976       0.346460\n",
       "std       2.117319e+05       0.270229       0.317652\n",
       "min       0.000000e+00      -1.000000       0.000000\n",
       "25%       9.700000e+01       0.000000       0.000000\n",
       "50%       4.360000e+02       0.000000       0.333333\n",
       "75%       1.949000e+03       0.190476       0.550595\n",
       "max       5.886002e+07       1.000000       1.000000"
      ]
     },
     "execution_count": 151,
     "metadata": {},
     "output_type": "execute_result"
    }
   ],
   "source": [
    "tweets_trump.describe()\n",
    "#tweets on trump have a low average polarity of 0.05 \n",
    "#(which means on an average, the overall sentiment is slightly positive)"
   ]
  },
  {
   "cell_type": "code",
   "execution_count": 115,
   "metadata": {},
   "outputs": [
    {
     "data": {
      "text/plain": [
       "(661110, 11)"
      ]
     },
     "execution_count": 115,
     "metadata": {},
     "output_type": "execute_result"
    }
   ],
   "source": [
    "tweets_trump.shape"
   ]
  },
  {
   "cell_type": "code",
   "execution_count": 143,
   "metadata": {},
   "outputs": [
    {
     "data": {
      "text/html": [
       "<div>\n",
       "<style scoped>\n",
       "    .dataframe tbody tr th:only-of-type {\n",
       "        vertical-align: middle;\n",
       "    }\n",
       "\n",
       "    .dataframe tbody tr th {\n",
       "        vertical-align: top;\n",
       "    }\n",
       "\n",
       "    .dataframe thead th {\n",
       "        text-align: right;\n",
       "    }\n",
       "</style>\n",
       "<table border=\"1\" class=\"dataframe\">\n",
       "  <thead>\n",
       "    <tr style=\"text-align: right;\">\n",
       "      <th></th>\n",
       "      <th>id</th>\n",
       "      <th>username</th>\n",
       "      <th>tweet</th>\n",
       "      <th>followers_count</th>\n",
       "      <th>location</th>\n",
       "      <th>trump</th>\n",
       "      <th>biden</th>\n",
       "      <th>polarity</th>\n",
       "      <th>subjectivity</th>\n",
       "      <th>polaritytext</th>\n",
       "      <th>subjectivitytext</th>\n",
       "    </tr>\n",
       "  </thead>\n",
       "  <tbody>\n",
       "    <tr>\n",
       "      <td>816329</td>\n",
       "      <td>1313975212535316480</td>\n",
       "      <td>Judd Legum</td>\n",
       "      <td>of the four people participating in this year ...</td>\n",
       "      <td>442750.0</td>\n",
       "      <td>Washington, DC</td>\n",
       "      <td>True</td>\n",
       "      <td>True</td>\n",
       "      <td>1.0</td>\n",
       "      <td>0.3</td>\n",
       "      <td>happy</td>\n",
       "      <td>meaningful</td>\n",
       "    </tr>\n",
       "    <tr>\n",
       "      <td>418099</td>\n",
       "      <td>1313999476122628097</td>\n",
       "      <td>Steph</td>\n",
       "      <td>rt  jackposobiec  trump is using the powers of...</td>\n",
       "      <td>315968.0</td>\n",
       "      <td>None</td>\n",
       "      <td>True</td>\n",
       "      <td>False</td>\n",
       "      <td>1.0</td>\n",
       "      <td>0.3</td>\n",
       "      <td>happy</td>\n",
       "      <td>meaningful</td>\n",
       "    </tr>\n",
       "    <tr>\n",
       "      <td>642056</td>\n",
       "      <td>1314000802818732034</td>\n",
       "      <td>Daily Kos</td>\n",
       "      <td>trump s batting a perfect zero on his claims o...</td>\n",
       "      <td>292461.0</td>\n",
       "      <td>None</td>\n",
       "      <td>True</td>\n",
       "      <td>False</td>\n",
       "      <td>1.0</td>\n",
       "      <td>1.0</td>\n",
       "      <td>happy</td>\n",
       "      <td>subjective</td>\n",
       "    </tr>\n",
       "    <tr>\n",
       "      <td>180676</td>\n",
       "      <td>1314022930716733443</td>\n",
       "      <td>Mark Lutchman</td>\n",
       "      <td>what trump said about john mccain was awesome</td>\n",
       "      <td>291552.0</td>\n",
       "      <td>Philadelphia, PA</td>\n",
       "      <td>True</td>\n",
       "      <td>False</td>\n",
       "      <td>1.0</td>\n",
       "      <td>1.0</td>\n",
       "      <td>happy</td>\n",
       "      <td>subjective</td>\n",
       "    </tr>\n",
       "    <tr>\n",
       "      <td>824613</td>\n",
       "      <td>1313975274791297026</td>\n",
       "      <td>BRIAN FRASER</td>\n",
       "      <td>rt  jackposobiec  trump is using the powers of...</td>\n",
       "      <td>257416.0</td>\n",
       "      <td>Pacific Northwest BC 🇨🇦🇺🇸</td>\n",
       "      <td>True</td>\n",
       "      <td>False</td>\n",
       "      <td>1.0</td>\n",
       "      <td>0.3</td>\n",
       "      <td>happy</td>\n",
       "      <td>meaningful</td>\n",
       "    </tr>\n",
       "    <tr>\n",
       "      <td>408711</td>\n",
       "      <td>1314009357789528065</td>\n",
       "      <td>Janie Johnson   Champion Of Lemonade Stands</td>\n",
       "      <td>rt  latamfortrump  latam for trump pays tribut...</td>\n",
       "      <td>202594.0</td>\n",
       "      <td>Nevada, USA</td>\n",
       "      <td>True</td>\n",
       "      <td>False</td>\n",
       "      <td>1.0</td>\n",
       "      <td>0.3</td>\n",
       "      <td>happy</td>\n",
       "      <td>meaningful</td>\n",
       "    </tr>\n",
       "    <tr>\n",
       "      <td>938386</td>\n",
       "      <td>1313991850961915904</td>\n",
       "      <td>John  Kiss My Bot</td>\n",
       "      <td>saysmissy trump is the best president ever</td>\n",
       "      <td>199681.0</td>\n",
       "      <td>Where Freedom Rings</td>\n",
       "      <td>True</td>\n",
       "      <td>False</td>\n",
       "      <td>1.0</td>\n",
       "      <td>0.3</td>\n",
       "      <td>happy</td>\n",
       "      <td>meaningful</td>\n",
       "    </tr>\n",
       "    <tr>\n",
       "      <td>923180</td>\n",
       "      <td>1314010801959821313</td>\n",
       "      <td>Karen Attiah</td>\n",
       "      <td>harris s face while pence talks about trump s ...</td>\n",
       "      <td>195281.0</td>\n",
       "      <td>None</td>\n",
       "      <td>True</td>\n",
       "      <td>False</td>\n",
       "      <td>1.0</td>\n",
       "      <td>1.0</td>\n",
       "      <td>happy</td>\n",
       "      <td>subjective</td>\n",
       "    </tr>\n",
       "    <tr>\n",
       "      <td>1024163</td>\n",
       "      <td>1314011191350571009</td>\n",
       "      <td>David Rothkopf</td>\n",
       "      <td>rt  brooks_rosa  pence  trump led greatest mob...</td>\n",
       "      <td>192607.0</td>\n",
       "      <td>Washington, DC &amp; New York City</td>\n",
       "      <td>True</td>\n",
       "      <td>False</td>\n",
       "      <td>1.0</td>\n",
       "      <td>1.0</td>\n",
       "      <td>happy</td>\n",
       "      <td>subjective</td>\n",
       "    </tr>\n",
       "    <tr>\n",
       "      <td>45427</td>\n",
       "      <td>1314021374738923520</td>\n",
       "      <td>Khashoggi s Ghost</td>\n",
       "      <td>rt  djrothkopf  trump will be very proud of pe...</td>\n",
       "      <td>177943.0</td>\n",
       "      <td>Beautiful Northern California</td>\n",
       "      <td>True</td>\n",
       "      <td>False</td>\n",
       "      <td>1.0</td>\n",
       "      <td>1.0</td>\n",
       "      <td>happy</td>\n",
       "      <td>subjective</td>\n",
       "    </tr>\n",
       "  </tbody>\n",
       "</table>\n",
       "</div>"
      ],
      "text/plain": [
       "                          id                                     username  \\\n",
       "816329   1313975212535316480                                   Judd Legum   \n",
       "418099   1313999476122628097                                        Steph   \n",
       "642056   1314000802818732034                                    Daily Kos   \n",
       "180676   1314022930716733443                             Mark Lutchman      \n",
       "824613   1313975274791297026                                 BRIAN FRASER   \n",
       "408711   1314009357789528065  Janie Johnson   Champion Of Lemonade Stands   \n",
       "938386   1313991850961915904                            John  Kiss My Bot   \n",
       "923180   1314010801959821313                                 Karen Attiah   \n",
       "1024163  1314011191350571009                               David Rothkopf   \n",
       "45427    1314021374738923520                            Khashoggi s Ghost   \n",
       "\n",
       "                                                     tweet  followers_count  \\\n",
       "816329   of the four people participating in this year ...         442750.0   \n",
       "418099   rt  jackposobiec  trump is using the powers of...         315968.0   \n",
       "642056   trump s batting a perfect zero on his claims o...         292461.0   \n",
       "180676      what trump said about john mccain was awesome          291552.0   \n",
       "824613   rt  jackposobiec  trump is using the powers of...         257416.0   \n",
       "408711   rt  latamfortrump  latam for trump pays tribut...         202594.0   \n",
       "938386        saysmissy trump is the best president ever           199681.0   \n",
       "923180   harris s face while pence talks about trump s ...         195281.0   \n",
       "1024163  rt  brooks_rosa  pence  trump led greatest mob...         192607.0   \n",
       "45427    rt  djrothkopf  trump will be very proud of pe...         177943.0   \n",
       "\n",
       "                               location  trump  biden  polarity  subjectivity  \\\n",
       "816329                   Washington, DC   True   True       1.0           0.3   \n",
       "418099                             None   True  False       1.0           0.3   \n",
       "642056                             None   True  False       1.0           1.0   \n",
       "180676                 Philadelphia, PA   True  False       1.0           1.0   \n",
       "824613        Pacific Northwest BC 🇨🇦🇺🇸   True  False       1.0           0.3   \n",
       "408711                      Nevada, USA   True  False       1.0           0.3   \n",
       "938386             Where Freedom Rings    True  False       1.0           0.3   \n",
       "923180                             None   True  False       1.0           1.0   \n",
       "1024163  Washington, DC & New York City   True  False       1.0           1.0   \n",
       "45427     Beautiful Northern California   True  False       1.0           1.0   \n",
       "\n",
       "        polaritytext subjectivitytext  \n",
       "816329         happy       meaningful  \n",
       "418099         happy       meaningful  \n",
       "642056         happy       subjective  \n",
       "180676         happy       subjective  \n",
       "824613         happy       meaningful  \n",
       "408711         happy       meaningful  \n",
       "938386         happy       meaningful  \n",
       "923180         happy       subjective  \n",
       "1024163        happy       subjective  \n",
       "45427          happy       subjective  "
      ]
     },
     "execution_count": 143,
     "metadata": {},
     "output_type": "execute_result"
    }
   ],
   "source": [
    "#Analzing top 10 users with maximum follower count and tweeting very \n",
    "#favourably for trump (polarity of 1)\n",
    "tweets_trump[tweets_trump['polarity']==tweets_trump['polarity'].max()].\\\n",
    "sort_values(by='followers_count',ascending=False).head(10)"
   ]
  },
  {
   "cell_type": "code",
   "execution_count": 156,
   "metadata": {},
   "outputs": [
    {
     "data": {
      "text/html": [
       "<div>\n",
       "<style scoped>\n",
       "    .dataframe tbody tr th:only-of-type {\n",
       "        vertical-align: middle;\n",
       "    }\n",
       "\n",
       "    .dataframe tbody tr th {\n",
       "        vertical-align: top;\n",
       "    }\n",
       "\n",
       "    .dataframe thead th {\n",
       "        text-align: right;\n",
       "    }\n",
       "</style>\n",
       "<table border=\"1\" class=\"dataframe\">\n",
       "  <thead>\n",
       "    <tr style=\"text-align: right;\">\n",
       "      <th></th>\n",
       "      <th>id</th>\n",
       "      <th>username</th>\n",
       "      <th>tweet</th>\n",
       "      <th>followers_count</th>\n",
       "      <th>location</th>\n",
       "      <th>trump</th>\n",
       "      <th>biden</th>\n",
       "      <th>polarity</th>\n",
       "      <th>subjectivity</th>\n",
       "      <th>polaritytext</th>\n",
       "      <th>subjectivitytext</th>\n",
       "    </tr>\n",
       "  </thead>\n",
       "  <tbody>\n",
       "    <tr>\n",
       "      <td>507302</td>\n",
       "      <td>1313981181487128576</td>\n",
       "      <td>Daily Caller</td>\n",
       "      <td>rebounding from a terrible mistake   pelosi w...</td>\n",
       "      <td>760808.0</td>\n",
       "      <td>Washington, DC</td>\n",
       "      <td>True</td>\n",
       "      <td>False</td>\n",
       "      <td>-1.0</td>\n",
       "      <td>1.0</td>\n",
       "      <td>unhappy</td>\n",
       "      <td>subjective</td>\n",
       "    </tr>\n",
       "    <tr>\n",
       "      <td>476131</td>\n",
       "      <td>1313989109359153152</td>\n",
       "      <td>Cernovich</td>\n",
       "      <td>everything is boring since trump got the rona</td>\n",
       "      <td>725700.0</td>\n",
       "      <td>Orange County, California</td>\n",
       "      <td>True</td>\n",
       "      <td>False</td>\n",
       "      <td>-1.0</td>\n",
       "      <td>1.0</td>\n",
       "      <td>unhappy</td>\n",
       "      <td>subjective</td>\n",
       "    </tr>\n",
       "    <tr>\n",
       "      <td>931688</td>\n",
       "      <td>1313984474754019330</td>\n",
       "      <td>Sherrod Brown</td>\n",
       "      <td>rt  senatebanking  racial disparities  acceler...</td>\n",
       "      <td>454606.0</td>\n",
       "      <td>Cleveland, OH</td>\n",
       "      <td>True</td>\n",
       "      <td>False</td>\n",
       "      <td>-1.0</td>\n",
       "      <td>1.0</td>\n",
       "      <td>unhappy</td>\n",
       "      <td>subjective</td>\n",
       "    </tr>\n",
       "    <tr>\n",
       "      <td>558409</td>\n",
       "      <td>1313961069124165632</td>\n",
       "      <td>NEWS Denver</td>\n",
       "      <td>republicans see  grim  senate map and edge awa...</td>\n",
       "      <td>448765.0</td>\n",
       "      <td>Denver, Colorado</td>\n",
       "      <td>True</td>\n",
       "      <td>False</td>\n",
       "      <td>-1.0</td>\n",
       "      <td>1.0</td>\n",
       "      <td>unhappy</td>\n",
       "      <td>subjective</td>\n",
       "    </tr>\n",
       "    <tr>\n",
       "      <td>931712</td>\n",
       "      <td>1313984477983580160</td>\n",
       "      <td>Alive News</td>\n",
       "      <td>republicans see  grim  senate map and edge awa...</td>\n",
       "      <td>398513.0</td>\n",
       "      <td>Atlanta</td>\n",
       "      <td>True</td>\n",
       "      <td>False</td>\n",
       "      <td>-1.0</td>\n",
       "      <td>1.0</td>\n",
       "      <td>unhappy</td>\n",
       "      <td>subjective</td>\n",
       "    </tr>\n",
       "    <tr>\n",
       "      <td>368181</td>\n",
       "      <td>1314012902433619969</td>\n",
       "      <td>Mercury News</td>\n",
       "      <td>with the map looking  grim   republicans edge ...</td>\n",
       "      <td>251946.0</td>\n",
       "      <td>Silicon Valley, CA</td>\n",
       "      <td>True</td>\n",
       "      <td>False</td>\n",
       "      <td>-1.0</td>\n",
       "      <td>1.0</td>\n",
       "      <td>unhappy</td>\n",
       "      <td>subjective</td>\n",
       "    </tr>\n",
       "    <tr>\n",
       "      <td>469001</td>\n",
       "      <td>1314015729293897728</td>\n",
       "      <td>Tony Posnanski</td>\n",
       "      <td>pence is doing horribly  he is trying to jab l...</td>\n",
       "      <td>222887.0</td>\n",
       "      <td>None</td>\n",
       "      <td>True</td>\n",
       "      <td>False</td>\n",
       "      <td>-1.0</td>\n",
       "      <td>1.0</td>\n",
       "      <td>unhappy</td>\n",
       "      <td>subjective</td>\n",
       "    </tr>\n",
       "    <tr>\n",
       "      <td>8461</td>\n",
       "      <td>1313963325680648192</td>\n",
       "      <td>WWL TV</td>\n",
       "      <td>republicans see  grim  senate map and edge awa...</td>\n",
       "      <td>204846.0</td>\n",
       "      <td>None</td>\n",
       "      <td>True</td>\n",
       "      <td>False</td>\n",
       "      <td>-1.0</td>\n",
       "      <td>1.0</td>\n",
       "      <td>unhappy</td>\n",
       "      <td>subjective</td>\n",
       "    </tr>\n",
       "    <tr>\n",
       "      <td>251137</td>\n",
       "      <td>1313985497748959233</td>\n",
       "      <td>News   Quotes</td>\n",
       "      <td>trump hit with wave of grim poll results for b...</td>\n",
       "      <td>148234.0</td>\n",
       "      <td>Worldwide</td>\n",
       "      <td>True</td>\n",
       "      <td>False</td>\n",
       "      <td>-1.0</td>\n",
       "      <td>1.0</td>\n",
       "      <td>unhappy</td>\n",
       "      <td>subjective</td>\n",
       "    </tr>\n",
       "    <tr>\n",
       "      <td>705656</td>\n",
       "      <td>1314013497924165636</td>\n",
       "      <td>Emma Vigeland</td>\n",
       "      <td>it is hysterical that trump and pence keep try...</td>\n",
       "      <td>137359.0</td>\n",
       "      <td>New York, NY</td>\n",
       "      <td>True</td>\n",
       "      <td>True</td>\n",
       "      <td>-1.0</td>\n",
       "      <td>1.0</td>\n",
       "      <td>unhappy</td>\n",
       "      <td>subjective</td>\n",
       "    </tr>\n",
       "  </tbody>\n",
       "</table>\n",
       "</div>"
      ],
      "text/plain": [
       "                         id        username  \\\n",
       "507302  1313981181487128576    Daily Caller   \n",
       "476131  1313989109359153152       Cernovich   \n",
       "931688  1313984474754019330   Sherrod Brown   \n",
       "558409  1313961069124165632     NEWS Denver   \n",
       "931712  1313984477983580160      Alive News   \n",
       "368181  1314012902433619969    Mercury News   \n",
       "469001  1314015729293897728  Tony Posnanski   \n",
       "8461    1313963325680648192          WWL TV   \n",
       "251137  1313985497748959233   News   Quotes   \n",
       "705656  1314013497924165636   Emma Vigeland   \n",
       "\n",
       "                                                    tweet  followers_count  \\\n",
       "507302   rebounding from a terrible mistake   pelosi w...         760808.0   \n",
       "476131     everything is boring since trump got the rona          725700.0   \n",
       "931688  rt  senatebanking  racial disparities  acceler...         454606.0   \n",
       "558409  republicans see  grim  senate map and edge awa...         448765.0   \n",
       "931712  republicans see  grim  senate map and edge awa...         398513.0   \n",
       "368181  with the map looking  grim   republicans edge ...         251946.0   \n",
       "469001  pence is doing horribly  he is trying to jab l...         222887.0   \n",
       "8461    republicans see  grim  senate map and edge awa...         204846.0   \n",
       "251137  trump hit with wave of grim poll results for b...         148234.0   \n",
       "705656  it is hysterical that trump and pence keep try...         137359.0   \n",
       "\n",
       "                         location  trump  biden  polarity  subjectivity  \\\n",
       "507302             Washington, DC   True  False      -1.0           1.0   \n",
       "476131  Orange County, California   True  False      -1.0           1.0   \n",
       "931688              Cleveland, OH   True  False      -1.0           1.0   \n",
       "558409           Denver, Colorado   True  False      -1.0           1.0   \n",
       "931712                    Atlanta   True  False      -1.0           1.0   \n",
       "368181         Silicon Valley, CA   True  False      -1.0           1.0   \n",
       "469001                       None   True  False      -1.0           1.0   \n",
       "8461                         None   True  False      -1.0           1.0   \n",
       "251137                  Worldwide   True  False      -1.0           1.0   \n",
       "705656               New York, NY   True   True      -1.0           1.0   \n",
       "\n",
       "       polaritytext subjectivitytext  \n",
       "507302      unhappy       subjective  \n",
       "476131      unhappy       subjective  \n",
       "931688      unhappy       subjective  \n",
       "558409      unhappy       subjective  \n",
       "931712      unhappy       subjective  \n",
       "368181      unhappy       subjective  \n",
       "469001      unhappy       subjective  \n",
       "8461        unhappy       subjective  \n",
       "251137      unhappy       subjective  \n",
       "705656      unhappy       subjective  "
      ]
     },
     "execution_count": 156,
     "metadata": {},
     "output_type": "execute_result"
    }
   ],
   "source": [
    "#Analzing top 10 users with maximum follower count and tweeting very \n",
    "#negatively for trump (polarity of -1)\n",
    "tweets_trump[tweets_trump['polarity']==tweets_trump['polarity'].min()].\\\n",
    "sort_values(by='followers_count',ascending=False).head(10)"
   ]
  },
  {
   "cell_type": "code",
   "execution_count": 120,
   "metadata": {},
   "outputs": [
    {
     "data": {
      "text/plain": [
       "39.057040432000726"
      ]
     },
     "execution_count": 120,
     "metadata": {},
     "output_type": "execute_result"
    }
   ],
   "source": [
    "#Proportion of Positive tweets for Trump\n",
    "sum(tweets_trump['polarity']>0)/len(tweets_trump)*100"
   ]
  },
  {
   "cell_type": "code",
   "execution_count": 121,
   "metadata": {},
   "outputs": [
    {
     "data": {
      "text/plain": [
       "(200708, 11)"
      ]
     },
     "execution_count": 121,
     "metadata": {},
     "output_type": "execute_result"
    }
   ],
   "source": [
    "tweets_biden.shape"
   ]
  },
  {
   "cell_type": "code",
   "execution_count": 152,
   "metadata": {},
   "outputs": [
    {
     "data": {
      "text/html": [
       "<div>\n",
       "<style scoped>\n",
       "    .dataframe tbody tr th:only-of-type {\n",
       "        vertical-align: middle;\n",
       "    }\n",
       "\n",
       "    .dataframe tbody tr th {\n",
       "        vertical-align: top;\n",
       "    }\n",
       "\n",
       "    .dataframe thead th {\n",
       "        text-align: right;\n",
       "    }\n",
       "</style>\n",
       "<table border=\"1\" class=\"dataframe\">\n",
       "  <thead>\n",
       "    <tr style=\"text-align: right;\">\n",
       "      <th></th>\n",
       "      <th>followers_count</th>\n",
       "      <th>polarity</th>\n",
       "      <th>subjectivity</th>\n",
       "    </tr>\n",
       "  </thead>\n",
       "  <tbody>\n",
       "    <tr>\n",
       "      <td>count</td>\n",
       "      <td>2.007080e+05</td>\n",
       "      <td>200708.000000</td>\n",
       "      <td>200708.000000</td>\n",
       "    </tr>\n",
       "    <tr>\n",
       "      <td>mean</td>\n",
       "      <td>5.204412e+03</td>\n",
       "      <td>0.074043</td>\n",
       "      <td>0.364012</td>\n",
       "    </tr>\n",
       "    <tr>\n",
       "      <td>std</td>\n",
       "      <td>1.527508e+05</td>\n",
       "      <td>0.270646</td>\n",
       "      <td>0.338946</td>\n",
       "    </tr>\n",
       "    <tr>\n",
       "      <td>min</td>\n",
       "      <td>0.000000e+00</td>\n",
       "      <td>-1.000000</td>\n",
       "      <td>0.000000</td>\n",
       "    </tr>\n",
       "    <tr>\n",
       "      <td>25%</td>\n",
       "      <td>1.060000e+02</td>\n",
       "      <td>0.000000</td>\n",
       "      <td>0.000000</td>\n",
       "    </tr>\n",
       "    <tr>\n",
       "      <td>50%</td>\n",
       "      <td>4.780000e+02</td>\n",
       "      <td>0.000000</td>\n",
       "      <td>0.400000</td>\n",
       "    </tr>\n",
       "    <tr>\n",
       "      <td>75%</td>\n",
       "      <td>2.157000e+03</td>\n",
       "      <td>0.161905</td>\n",
       "      <td>0.575000</td>\n",
       "    </tr>\n",
       "    <tr>\n",
       "      <td>max</td>\n",
       "      <td>4.999848e+07</td>\n",
       "      <td>1.000000</td>\n",
       "      <td>1.000000</td>\n",
       "    </tr>\n",
       "  </tbody>\n",
       "</table>\n",
       "</div>"
      ],
      "text/plain": [
       "       followers_count       polarity   subjectivity\n",
       "count     2.007080e+05  200708.000000  200708.000000\n",
       "mean      5.204412e+03       0.074043       0.364012\n",
       "std       1.527508e+05       0.270646       0.338946\n",
       "min       0.000000e+00      -1.000000       0.000000\n",
       "25%       1.060000e+02       0.000000       0.000000\n",
       "50%       4.780000e+02       0.000000       0.400000\n",
       "75%       2.157000e+03       0.161905       0.575000\n",
       "max       4.999848e+07       1.000000       1.000000"
      ]
     },
     "execution_count": 152,
     "metadata": {},
     "output_type": "execute_result"
    }
   ],
   "source": [
    "tweets_biden.describe()\n",
    "#Biden has slightly higher scores on polarity on average than trump (0.07)"
   ]
  },
  {
   "cell_type": "code",
   "execution_count": 144,
   "metadata": {},
   "outputs": [
    {
     "data": {
      "text/html": [
       "<div>\n",
       "<style scoped>\n",
       "    .dataframe tbody tr th:only-of-type {\n",
       "        vertical-align: middle;\n",
       "    }\n",
       "\n",
       "    .dataframe tbody tr th {\n",
       "        vertical-align: top;\n",
       "    }\n",
       "\n",
       "    .dataframe thead th {\n",
       "        text-align: right;\n",
       "    }\n",
       "</style>\n",
       "<table border=\"1\" class=\"dataframe\">\n",
       "  <thead>\n",
       "    <tr style=\"text-align: right;\">\n",
       "      <th></th>\n",
       "      <th>id</th>\n",
       "      <th>username</th>\n",
       "      <th>tweet</th>\n",
       "      <th>followers_count</th>\n",
       "      <th>location</th>\n",
       "      <th>trump</th>\n",
       "      <th>biden</th>\n",
       "      <th>polarity</th>\n",
       "      <th>subjectivity</th>\n",
       "      <th>polaritytext</th>\n",
       "      <th>subjectivitytext</th>\n",
       "    </tr>\n",
       "  </thead>\n",
       "  <tbody>\n",
       "    <tr>\n",
       "      <td>816329</td>\n",
       "      <td>1313975212535316480</td>\n",
       "      <td>Judd Legum</td>\n",
       "      <td>of the four people participating in this year ...</td>\n",
       "      <td>442750.0</td>\n",
       "      <td>Washington, DC</td>\n",
       "      <td>True</td>\n",
       "      <td>True</td>\n",
       "      <td>1.0</td>\n",
       "      <td>0.3</td>\n",
       "      <td>happy</td>\n",
       "      <td>meaningful</td>\n",
       "    </tr>\n",
       "    <tr>\n",
       "      <td>704178</td>\n",
       "      <td>1314014278580531200</td>\n",
       "      <td>WeThePeople</td>\n",
       "      <td>rt  kwikwarren  pete is arguably the best surr...</td>\n",
       "      <td>83581.0</td>\n",
       "      <td>None</td>\n",
       "      <td>False</td>\n",
       "      <td>True</td>\n",
       "      <td>1.0</td>\n",
       "      <td>0.3</td>\n",
       "      <td>happy</td>\n",
       "      <td>meaningful</td>\n",
       "    </tr>\n",
       "    <tr>\n",
       "      <td>360017</td>\n",
       "      <td>1314010105847918599</td>\n",
       "      <td>Movement for a People s Party</td>\n",
       "      <td>joe biden is the best person to  save  america...</td>\n",
       "      <td>76061.0</td>\n",
       "      <td>United States</td>\n",
       "      <td>False</td>\n",
       "      <td>True</td>\n",
       "      <td>1.0</td>\n",
       "      <td>0.3</td>\n",
       "      <td>happy</td>\n",
       "      <td>meaningful</td>\n",
       "    </tr>\n",
       "    <tr>\n",
       "      <td>292326</td>\n",
       "      <td>1313990270099296257</td>\n",
       "      <td>Susan Cooper</td>\n",
       "      <td>rt  juddlegum  of the four people participatin...</td>\n",
       "      <td>58747.0</td>\n",
       "      <td>North Carolina</td>\n",
       "      <td>True</td>\n",
       "      <td>True</td>\n",
       "      <td>1.0</td>\n",
       "      <td>0.3</td>\n",
       "      <td>happy</td>\n",
       "      <td>meaningful</td>\n",
       "    </tr>\n",
       "    <tr>\n",
       "      <td>1003341</td>\n",
       "      <td>1313988488040083456</td>\n",
       "      <td>Mitch Gerads</td>\n",
       "      <td>taylorswift     kamalaharris  and cookies  ...</td>\n",
       "      <td>57806.0</td>\n",
       "      <td>Phoenix, AZ</td>\n",
       "      <td>False</td>\n",
       "      <td>True</td>\n",
       "      <td>1.0</td>\n",
       "      <td>0.3</td>\n",
       "      <td>happy</td>\n",
       "      <td>meaningful</td>\n",
       "    </tr>\n",
       "    <tr>\n",
       "      <td>298046</td>\n",
       "      <td>1313985564694245376</td>\n",
       "      <td>Monica Cates</td>\n",
       "      <td>rt  deltanila   the_resistor  realdonaldtrump ...</td>\n",
       "      <td>56984.0</td>\n",
       "      <td>None</td>\n",
       "      <td>True</td>\n",
       "      <td>True</td>\n",
       "      <td>1.0</td>\n",
       "      <td>0.3</td>\n",
       "      <td>happy</td>\n",
       "      <td>meaningful</td>\n",
       "    </tr>\n",
       "    <tr>\n",
       "      <td>811508</td>\n",
       "      <td>1314010638218342401</td>\n",
       "      <td>Laffy</td>\n",
       "      <td>rt  klasfeldreports  asked how a biden adminis...</td>\n",
       "      <td>56451.0</td>\n",
       "      <td>California</td>\n",
       "      <td>True</td>\n",
       "      <td>True</td>\n",
       "      <td>1.0</td>\n",
       "      <td>1.0</td>\n",
       "      <td>happy</td>\n",
       "      <td>subjective</td>\n",
       "    </tr>\n",
       "    <tr>\n",
       "      <td>224036</td>\n",
       "      <td>1314009065685745664</td>\n",
       "      <td>Kenny BooYah</td>\n",
       "      <td>pete is arguably the best surrogate out there ...</td>\n",
       "      <td>47118.0</td>\n",
       "      <td>Texan Living In Florida</td>\n",
       "      <td>False</td>\n",
       "      <td>True</td>\n",
       "      <td>1.0</td>\n",
       "      <td>0.3</td>\n",
       "      <td>happy</td>\n",
       "      <td>meaningful</td>\n",
       "    </tr>\n",
       "    <tr>\n",
       "      <td>14219</td>\n",
       "      <td>1313979704458665984</td>\n",
       "      <td>Dumb Beezie</td>\n",
       "      <td>rt  juddlegum  of the four people participatin...</td>\n",
       "      <td>46890.0</td>\n",
       "      <td>Offline</td>\n",
       "      <td>True</td>\n",
       "      <td>True</td>\n",
       "      <td>1.0</td>\n",
       "      <td>0.3</td>\n",
       "      <td>happy</td>\n",
       "      <td>meaningful</td>\n",
       "    </tr>\n",
       "    <tr>\n",
       "      <td>789217</td>\n",
       "      <td>1313969488367439874</td>\n",
       "      <td>Michael O Grady</td>\n",
       "      <td>rt  mog      biden s  gettysburg address the b...</td>\n",
       "      <td>46756.0</td>\n",
       "      <td>CANADA</td>\n",
       "      <td>False</td>\n",
       "      <td>True</td>\n",
       "      <td>1.0</td>\n",
       "      <td>0.3</td>\n",
       "      <td>happy</td>\n",
       "      <td>meaningful</td>\n",
       "    </tr>\n",
       "  </tbody>\n",
       "</table>\n",
       "</div>"
      ],
      "text/plain": [
       "                          id                       username  \\\n",
       "816329   1313975212535316480                     Judd Legum   \n",
       "704178   1314014278580531200                WeThePeople       \n",
       "360017   1314010105847918599  Movement for a People s Party   \n",
       "292326   1313990270099296257               Susan Cooper       \n",
       "1003341  1313988488040083456                   Mitch Gerads   \n",
       "298046   1313985564694245376                   Monica Cates   \n",
       "811508   1314010638218342401                          Laffy   \n",
       "224036   1314009065685745664                  Kenny BooYah    \n",
       "14219    1313979704458665984                    Dumb Beezie   \n",
       "789217   1313969488367439874                Michael O Grady   \n",
       "\n",
       "                                                     tweet  followers_count  \\\n",
       "816329   of the four people participating in this year ...         442750.0   \n",
       "704178   rt  kwikwarren  pete is arguably the best surr...          83581.0   \n",
       "360017   joe biden is the best person to  save  america...          76061.0   \n",
       "292326   rt  juddlegum  of the four people participatin...          58747.0   \n",
       "1003341     taylorswift     kamalaharris  and cookies  ...          57806.0   \n",
       "298046   rt  deltanila   the_resistor  realdonaldtrump ...          56984.0   \n",
       "811508   rt  klasfeldreports  asked how a biden adminis...          56451.0   \n",
       "224036   pete is arguably the best surrogate out there ...          47118.0   \n",
       "14219    rt  juddlegum  of the four people participatin...          46890.0   \n",
       "789217   rt  mog      biden s  gettysburg address the b...          46756.0   \n",
       "\n",
       "                        location  trump  biden  polarity  subjectivity  \\\n",
       "816329            Washington, DC   True   True       1.0           0.3   \n",
       "704178                      None  False   True       1.0           0.3   \n",
       "360017             United States  False   True       1.0           0.3   \n",
       "292326            North Carolina   True   True       1.0           0.3   \n",
       "1003341              Phoenix, AZ  False   True       1.0           0.3   \n",
       "298046                      None   True   True       1.0           0.3   \n",
       "811508                California   True   True       1.0           1.0   \n",
       "224036   Texan Living In Florida  False   True       1.0           0.3   \n",
       "14219                    Offline   True   True       1.0           0.3   \n",
       "789217                    CANADA  False   True       1.0           0.3   \n",
       "\n",
       "        polaritytext subjectivitytext  \n",
       "816329         happy       meaningful  \n",
       "704178         happy       meaningful  \n",
       "360017         happy       meaningful  \n",
       "292326         happy       meaningful  \n",
       "1003341        happy       meaningful  \n",
       "298046         happy       meaningful  \n",
       "811508         happy       subjective  \n",
       "224036         happy       meaningful  \n",
       "14219          happy       meaningful  \n",
       "789217         happy       meaningful  "
      ]
     },
     "execution_count": 144,
     "metadata": {},
     "output_type": "execute_result"
    }
   ],
   "source": [
    "#Exploring top 10 users with maximum follower count and tweeting very \n",
    "#favourably for biden (polarity of 1)\n",
    "tweets_biden[tweets_biden['polarity']==tweets_biden['polarity'].max()].\\\n",
    "sort_values(by='followers_count',ascending=False).head(10)"
   ]
  },
  {
   "cell_type": "code",
   "execution_count": 123,
   "metadata": {},
   "outputs": [
    {
     "data": {
      "text/plain": [
       "42.05163720429679"
      ]
     },
     "execution_count": 123,
     "metadata": {},
     "output_type": "execute_result"
    }
   ],
   "source": [
    "#Ratio of Positive tweets for Biden\n",
    "sum(tweets_biden['polarity']>0)/len(tweets_biden)*100"
   ]
  },
  {
   "cell_type": "code",
   "execution_count": null,
   "metadata": {},
   "outputs": [],
   "source": [
    "# Thus, the proportion of positive tweets on biden is 42% while that of trump\n",
    "# is 39%"
   ]
  },
  {
   "cell_type": "markdown",
   "metadata": {},
   "source": [
    "#### Comparative Analysis on Polarity"
   ]
  },
  {
   "cell_type": "code",
   "execution_count": 77,
   "metadata": {},
   "outputs": [
    {
     "data": {
      "text/plain": [
       "<matplotlib.axes._subplots.AxesSubplot at 0x132c42090>"
      ]
     },
     "execution_count": 77,
     "metadata": {},
     "output_type": "execute_result"
    },
    {
     "data": {
      "image/png": "[encoded data removed]",
      "text/plain": [
       "<Figure size 432x288 with 1 Axes>"
      ]
     },
     "metadata": {
      "needs_background": "light"
     },
     "output_type": "display_data"
    }
   ],
   "source": [
    "tweets_trump['polaritytext'].value_counts().plot(kind='bar')"
   ]
  },
  {
   "cell_type": "code",
   "execution_count": 96,
   "metadata": {},
   "outputs": [
    {
     "data": {
      "text/plain": [
       "neutral    523161\n",
       "happy       96114\n",
       "unhappy     41835\n",
       "Name: trump, dtype: int64"
      ]
     },
     "execution_count": 96,
     "metadata": {},
     "output_type": "execute_result"
    }
   ],
   "source": [
    "trump_polarity_abs = tweets_trump['polaritytext'].value_counts().rename('trump')\n",
    "trump_polarity_abs "
   ]
  },
  {
   "cell_type": "code",
   "execution_count": 97,
   "metadata": {},
   "outputs": [
    {
     "data": {
      "text/plain": [
       "neutral    0.791337\n",
       "happy      0.145383\n",
       "unhappy    0.063280\n",
       "Name: trump, dtype: float64"
      ]
     },
     "execution_count": 97,
     "metadata": {},
     "output_type": "execute_result"
    }
   ],
   "source": [
    "trump_polarity_nor = tweets_trump['polaritytext'].value_counts(normalize=True).rename('trump')\n",
    "trump_polarity_nor"
   ]
  },
  {
   "cell_type": "code",
   "execution_count": null,
   "metadata": {},
   "outputs": [],
   "source": [
    "#Interestingly the vast majority of tweets on trump are classified as neutral\n",
    "# Also, tweets classified as happy is 14% , more than the unhappy ones"
   ]
  },
  {
   "cell_type": "code",
   "execution_count": 79,
   "metadata": {},
   "outputs": [
    {
     "data": {
      "text/plain": [
       "<matplotlib.axes._subplots.AxesSubplot at 0x132c07850>"
      ]
     },
     "execution_count": 79,
     "metadata": {},
     "output_type": "execute_result"
    },
    {
     "data": {
      "image/png": "[encoded data removed]",
      "text/plain": [
       "<Figure size 432x288 with 1 Axes>"
      ]
     },
     "metadata": {
      "needs_background": "light"
     },
     "output_type": "display_data"
    }
   ],
   "source": [
    "tweets_biden['polaritytext'].value_counts().plot(kind='bar')"
   ]
  },
  {
   "cell_type": "code",
   "execution_count": 99,
   "metadata": {},
   "outputs": [
    {
     "data": {
      "text/plain": [
       "neutral    159656\n",
       "happy       32099\n",
       "unhappy      8953\n",
       "Name: biden, dtype: int64"
      ]
     },
     "execution_count": 99,
     "metadata": {},
     "output_type": "execute_result"
    }
   ],
   "source": [
    "biden_polarity_abs = tweets_biden['polaritytext'].value_counts().rename('biden')\n",
    "biden_polarity_abs "
   ]
  },
  {
   "cell_type": "code",
   "execution_count": 98,
   "metadata": {},
   "outputs": [
    {
     "data": {
      "text/plain": [
       "neutral    0.795464\n",
       "happy      0.159929\n",
       "unhappy    0.044607\n",
       "Name: biden, dtype: float64"
      ]
     },
     "execution_count": 98,
     "metadata": {},
     "output_type": "execute_result"
    }
   ],
   "source": [
    "biden_polarity_nor = tweets_biden['polaritytext'].value_counts(normalize=True).rename('biden')\n",
    "biden_polarity_nor"
   ]
  },
  {
   "cell_type": "code",
   "execution_count": null,
   "metadata": {},
   "outputs": [],
   "source": [
    "# For biden, the number of unhappy tweets is only about 5% of the total tweets\n",
    "# The number of happy tweets as a proportion of total biden tweets is 16%,\n",
    "#only marginally higher than that of trump"
   ]
  },
  {
   "cell_type": "code",
   "execution_count": 113,
   "metadata": {},
   "outputs": [
    {
     "data": {
      "text/html": [
       "<div>\n",
       "<style scoped>\n",
       "    .dataframe tbody tr th:only-of-type {\n",
       "        vertical-align: middle;\n",
       "    }\n",
       "\n",
       "    .dataframe tbody tr th {\n",
       "        vertical-align: top;\n",
       "    }\n",
       "\n",
       "    .dataframe thead th {\n",
       "        text-align: right;\n",
       "    }\n",
       "</style>\n",
       "<table border=\"1\" class=\"dataframe\">\n",
       "  <thead>\n",
       "    <tr style=\"text-align: right;\">\n",
       "      <th></th>\n",
       "      <th>trump</th>\n",
       "      <th>biden</th>\n",
       "      <th>trump</th>\n",
       "      <th>biden</th>\n",
       "    </tr>\n",
       "  </thead>\n",
       "  <tbody>\n",
       "    <tr>\n",
       "      <td>neutral</td>\n",
       "      <td>523161</td>\n",
       "      <td>159656</td>\n",
       "      <td>0.791337</td>\n",
       "      <td>0.795464</td>\n",
       "    </tr>\n",
       "    <tr>\n",
       "      <td>happy</td>\n",
       "      <td>96114</td>\n",
       "      <td>32099</td>\n",
       "      <td>0.145383</td>\n",
       "      <td>0.159929</td>\n",
       "    </tr>\n",
       "    <tr>\n",
       "      <td>unhappy</td>\n",
       "      <td>41835</td>\n",
       "      <td>8953</td>\n",
       "      <td>0.063280</td>\n",
       "      <td>0.044607</td>\n",
       "    </tr>\n",
       "  </tbody>\n",
       "</table>\n",
       "</div>"
      ],
      "text/plain": [
       "          trump   biden     trump     biden\n",
       "neutral  523161  159656  0.791337  0.795464\n",
       "happy     96114   32099  0.145383  0.159929\n",
       "unhappy   41835    8953  0.063280  0.044607"
      ]
     },
     "execution_count": 113,
     "metadata": {},
     "output_type": "execute_result"
    }
   ],
   "source": [
    "Comparative_polarity_df = pd.concat([trump_polarity_abs,biden_polarity_abs,\n",
    "          trump_polarity_nor, biden_polarity_nor],axis=1)\n",
    "Comparative_polarity_df "
   ]
  },
  {
   "cell_type": "code",
   "execution_count": null,
   "metadata": {},
   "outputs": [],
   "source": [
    "# We infer that the ratio of happy tweets on biden slightly outnumber\n",
    "# those on trump. However, going by sheer numbers, the number of happy tweets on \n",
    "#trump far outweigh those on biden. "
   ]
  },
  {
   "cell_type": "markdown",
   "metadata": {},
   "source": [
    "Polarity by Location"
   ]
  },
  {
   "cell_type": "code",
   "execution_count": 11,
   "metadata": {},
   "outputs": [
    {
     "data": {
      "text/html": [
       "<div>\n",
       "<style scoped>\n",
       "    .dataframe tbody tr th:only-of-type {\n",
       "        vertical-align: middle;\n",
       "    }\n",
       "\n",
       "    .dataframe tbody tr th {\n",
       "        vertical-align: top;\n",
       "    }\n",
       "\n",
       "    .dataframe thead th {\n",
       "        text-align: right;\n",
       "    }\n",
       "</style>\n",
       "<table border=\"1\" class=\"dataframe\">\n",
       "  <thead>\n",
       "    <tr style=\"text-align: right;\">\n",
       "      <th></th>\n",
       "      <th>polarity</th>\n",
       "    </tr>\n",
       "    <tr>\n",
       "      <th>location</th>\n",
       "      <th></th>\n",
       "    </tr>\n",
       "  </thead>\n",
       "  <tbody>\n",
       "    <tr>\n",
       "      <td>the demon realm</td>\n",
       "      <td>-1.0</td>\n",
       "    </tr>\n",
       "    <tr>\n",
       "      <td>Volcano</td>\n",
       "      <td>-1.0</td>\n",
       "    </tr>\n",
       "    <tr>\n",
       "      <td>Dallas, TX - Southeast Asia</td>\n",
       "      <td>-1.0</td>\n",
       "    </tr>\n",
       "    <tr>\n",
       "      <td>Somewhere deepconditioning💆🏾</td>\n",
       "      <td>-1.0</td>\n",
       "    </tr>\n",
       "    <tr>\n",
       "      <td>East Aleppo</td>\n",
       "      <td>-1.0</td>\n",
       "    </tr>\n",
       "    <tr>\n",
       "      <td>...</td>\n",
       "      <td>...</td>\n",
       "    </tr>\n",
       "    <tr>\n",
       "      <td>REALITY, EARTH</td>\n",
       "      <td>1.0</td>\n",
       "    </tr>\n",
       "    <tr>\n",
       "      <td>😺😸😹😻😼😽🙀😿😾</td>\n",
       "      <td>1.0</td>\n",
       "    </tr>\n",
       "    <tr>\n",
       "      <td>San Monique</td>\n",
       "      <td>1.0</td>\n",
       "    </tr>\n",
       "    <tr>\n",
       "      <td>Just west of Fargo</td>\n",
       "      <td>1.0</td>\n",
       "    </tr>\n",
       "    <tr>\n",
       "      <td>Lagos Nigeria 🇳🇬</td>\n",
       "      <td>1.0</td>\n",
       "    </tr>\n",
       "  </tbody>\n",
       "</table>\n",
       "<p>69733 rows × 1 columns</p>\n",
       "</div>"
      ],
      "text/plain": [
       "                              polarity\n",
       "location                              \n",
       "the demon realm                   -1.0\n",
       "Volcano                           -1.0\n",
       "Dallas, TX - Southeast Asia       -1.0\n",
       "Somewhere deepconditioning💆🏾      -1.0\n",
       "East Aleppo                       -1.0\n",
       "...                                ...\n",
       "REALITY, EARTH                     1.0\n",
       "😺😸😹😻😼😽🙀😿😾                          1.0\n",
       "San Monique                        1.0\n",
       "Just west of Fargo                 1.0\n",
       "Lagos Nigeria 🇳🇬                   1.0\n",
       "\n",
       "[69733 rows x 1 columns]"
      ]
     },
     "execution_count": 11,
     "metadata": {},
     "output_type": "execute_result"
    }
   ],
   "source": [
    "pol_loc = tweets_trump.groupby(['location'])['polarity'].mean().sort_values()\n",
    "pd.DataFrame(pol_loc)"
   ]
  },
  {
   "cell_type": "code",
   "execution_count": null,
   "metadata": {},
   "outputs": [],
   "source": [
    "# It is difficult to interpret polarity by location as the location column has \n",
    "# lot of randon inputs"
   ]
  },
  {
   "cell_type": "markdown",
   "metadata": {},
   "source": [
    "### Comparative Analysis on Subjectivity"
   ]
  },
  {
   "cell_type": "code",
   "execution_count": 106,
   "metadata": {},
   "outputs": [
    {
     "data": {
      "text/plain": [
       "meaningful    462893\n",
       "subjective    198217\n",
       "Name: trump, dtype: int64"
      ]
     },
     "execution_count": 106,
     "metadata": {},
     "output_type": "execute_result"
    }
   ],
   "source": [
    "trump_subjectivity_abs = tweets_trump['subjectivitytext'].value_counts().rename('trump')\n",
    "trump_subjectivity_abs "
   ]
  },
  {
   "cell_type": "code",
   "execution_count": 107,
   "metadata": {},
   "outputs": [
    {
     "data": {
      "text/plain": [
       "meaningful    0.700175\n",
       "subjective    0.299825\n",
       "Name: trump, dtype: float64"
      ]
     },
     "execution_count": 107,
     "metadata": {},
     "output_type": "execute_result"
    }
   ],
   "source": [
    "trump_subjectivity_nor = tweets_trump['subjectivitytext'].value_counts(normalize=True).rename('trump')\n",
    "trump_subjectivity_nor"
   ]
  },
  {
   "cell_type": "code",
   "execution_count": null,
   "metadata": {},
   "outputs": [],
   "source": [
    "# The ratio of subjective tweets is around 30%. "
   ]
  },
  {
   "cell_type": "code",
   "execution_count": 108,
   "metadata": {},
   "outputs": [
    {
     "data": {
      "text/plain": [
       "meaningful    142477\n",
       "subjective     58231\n",
       "Name: biden, dtype: int64"
      ]
     },
     "execution_count": 108,
     "metadata": {},
     "output_type": "execute_result"
    }
   ],
   "source": [
    "biden_subjectivty_abs = tweets_biden['subjectivitytext'].value_counts().rename('biden')\n",
    "biden_subjectivty_abs"
   ]
  },
  {
   "cell_type": "code",
   "execution_count": 109,
   "metadata": {},
   "outputs": [
    {
     "data": {
      "text/plain": [
       "meaningful    0.709872\n",
       "subjective    0.290128\n",
       "Name: biden, dtype: float64"
      ]
     },
     "execution_count": 109,
     "metadata": {},
     "output_type": "execute_result"
    }
   ],
   "source": [
    "biden_subjectivity_nor = tweets_biden['subjectivitytext'].value_counts(normalize=True).rename('biden')\n",
    "biden_subjectivity_nor"
   ]
  },
  {
   "cell_type": "code",
   "execution_count": null,
   "metadata": {},
   "outputs": [],
   "source": [
    "#The proportion of subjective tweets on biden is approx 30%"
   ]
  },
  {
   "cell_type": "code",
   "execution_count": null,
   "metadata": {},
   "outputs": [],
   "source": [
    "#We do not find much difference in the subjectivity values between the \n",
    "# 2 candidates"
   ]
  },
  {
   "cell_type": "markdown",
   "metadata": {},
   "source": [
    "### Findings"
   ]
  },
  {
   "cell_type": "markdown",
   "metadata": {},
   "source": [
    "- The Number of tweets on trump greatly outnumber those on Biden with a ratio of 4:1\n",
    "- About 75% of the total 1 million plus tweets are retweets and the unique tweets account for only 25%\n",
    "- The top 5 users by following count are media outlets such as CNN Breaking News, CNN, The New York Times, BBC News World and the Economist (in that order).All report overwhelmingly on Trump compared to Biden \n",
    "- Proportion of positive tweets on trump is 39% while those on Biden are 42%\n",
    "- However, the number of tweets on Trump is significantly greater over a given timeframe. That is due to the fact that he is the current president and receives lot of media attention.\n",
    "- The majority of tweets on both candidates fall in the 'Neutral' category"
   ]
  },
  {
   "cell_type": "markdown",
   "metadata": {},
   "source": [
    "#### Conclusion\n",
    "- By conducting an exhaustive exploratory analysis, it is inferred that the overall sentiment on Biden is slightly more positive compared to Trump as of October 7th 2020.\n",
    "- Tweet Analysis is an interesting exercise in determining the sentiment on a topic."
   ]
  },
  {
   "cell_type": "markdown",
   "metadata": {},
   "source": [
    "### Challenges / Next Steps"
   ]
  },
  {
   "cell_type": "markdown",
   "metadata": {},
   "source": [
    "- The tweet data was collected for a short period over a single day period. While the benefit of using AWS Kinesis for webscraping is that is it extremely fast and stores all the tweets on the cloud, the drawback is the cost of using the AWS services.Instead, collecting tweets\n",
    "over a duration of time would reflect a better picture\n",
    "\n",
    "- The mention of trump along with another person of interest might distort the polarity. In such cases, it is difficult to decifer, whether a positive/negative comment is for trump or the person of interest.\n",
    "- Fake news is a major issue and could distort the results\n",
    "\n",
    "Next Steps\n",
    "\n",
    "- Tweets would be collected over an extended period to determine more accurate sentiment\n",
    "- Sentiment Analysis across time"
   ]
  },
  {
   "cell_type": "markdown",
   "metadata": {},
   "source": [
    "### End"
   ]
  },
  {
   "cell_type": "code",
   "execution_count": null,
   "metadata": {},
   "outputs": [],
   "source": []
  }
 ],
 "metadata": {
  "kernelspec": {
   "display_name": "Python 3",
   "language": "python",
   "name": "python3"
  },
  "language_info": {
   "codemirror_mode": {
    "name": "ipython",
    "version": 3
   },
   "file_extension": ".py",
   "mimetype": "text/x-python",
   "name": "python",
   "nbconvert_exporter": "python",
   "pygments_lexer": "ipython3",
   "version": "3.7.4"
  }
 },
 "nbformat": 4,
 "nbformat_minor": 2
}
