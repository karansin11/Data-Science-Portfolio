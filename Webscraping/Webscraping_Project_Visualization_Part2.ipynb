{
 "cells": [
  {
   "cell_type": "code",
   "execution_count": 1,
   "metadata": {},
   "outputs": [
    {
     "data": {
      "text/html": [
       "        <script type=\"text/javascript\">\n",
       "        window.PlotlyConfig = {MathJaxConfig: 'local'};\n",
       "        if (window.MathJax) {MathJax.Hub.Config({SVG: {font: \"STIX-Web\"}});}\n",
       "        if (typeof require !== 'undefined') {\n",
       "        require.undef(\"plotly\");\n",
       "        requirejs.config({\n",
       "            paths: {\n",
       "                'plotly': ['https://cdn.plot.ly/plotly-latest.min']\n",
       "            }\n",
       "        });\n",
       "        require(['plotly'], function(Plotly) {\n",
       "            window._Plotly = Plotly;\n",
       "        });\n",
       "        }\n",
       "        </script>\n",
       "        "
      ]
     },
     "metadata": {},
     "output_type": "display_data"
    }
   ],
   "source": [
    "import pandas as pd\n",
    "import numpy as np\n",
    "import seaborn as sns\n",
    "import matplotlib.pyplot as plt\n",
    "%matplotlib inline\n",
    "import plotly.offline as py\n",
    "import plotly.graph_objs as go \n",
    "\n",
    "py.init_notebook_mode(connected=True)\n"
   ]
  },
  {
   "cell_type": "code",
   "execution_count": 2,
   "metadata": {},
   "outputs": [],
   "source": [
    "condos_final = pd.read_csv('final_condos.csv')"
   ]
  },
  {
   "cell_type": "code",
   "execution_count": 3,
   "metadata": {},
   "outputs": [
    {
     "data": {
      "text/html": [
       "<div>\n",
       "<style scoped>\n",
       "    .dataframe tbody tr th:only-of-type {\n",
       "        vertical-align: middle;\n",
       "    }\n",
       "\n",
       "    .dataframe tbody tr th {\n",
       "        vertical-align: top;\n",
       "    }\n",
       "\n",
       "    .dataframe thead th {\n",
       "        text-align: right;\n",
       "    }\n",
       "</style>\n",
       "<table border=\"1\" class=\"dataframe\">\n",
       "  <thead>\n",
       "    <tr style=\"text-align: right;\">\n",
       "      <th></th>\n",
       "      <th>Unnamed: 0</th>\n",
       "      <th>Prices</th>\n",
       "      <th>Location</th>\n",
       "      <th>Date_listed</th>\n",
       "      <th>Bedrooms</th>\n",
       "      <th>Bathrooms</th>\n",
       "      <th>Maint_Fees</th>\n",
       "      <th>Size</th>\n",
       "      <th>Parking</th>\n",
       "      <th>Avg_Size</th>\n",
       "      <th>Street Address</th>\n",
       "    </tr>\n",
       "  </thead>\n",
       "  <tbody>\n",
       "    <tr>\n",
       "      <td>0</td>\n",
       "      <td>0</td>\n",
       "      <td>648000</td>\n",
       "      <td>20 - 375 Cook Rd</td>\n",
       "      <td>20 minutes</td>\n",
       "      <td>6.0</td>\n",
       "      <td>6.0</td>\n",
       "      <td>322.0</td>\n",
       "      <td>1,400-1,599 sqft</td>\n",
       "      <td>2.0</td>\n",
       "      <td>1499.5</td>\n",
       "      <td>375 Cook Rd</td>\n",
       "    </tr>\n",
       "    <tr>\n",
       "      <td>1</td>\n",
       "      <td>1</td>\n",
       "      <td>799900</td>\n",
       "      <td>608 - 284 Bloor St W</td>\n",
       "      <td>3 hours</td>\n",
       "      <td>2.0</td>\n",
       "      <td>2.0</td>\n",
       "      <td>790.0</td>\n",
       "      <td>700-799 sqft</td>\n",
       "      <td>0.0</td>\n",
       "      <td>749.5</td>\n",
       "      <td>284 Bloor St W</td>\n",
       "    </tr>\n",
       "    <tr>\n",
       "      <td>2</td>\n",
       "      <td>2</td>\n",
       "      <td>460000</td>\n",
       "      <td>308 - 120 Dundalk Dr</td>\n",
       "      <td>4 hours</td>\n",
       "      <td>3.0</td>\n",
       "      <td>3.0</td>\n",
       "      <td>874.0</td>\n",
       "      <td>1,200-1,399 sqft</td>\n",
       "      <td>1.0</td>\n",
       "      <td>1299.5</td>\n",
       "      <td>120 Dundalk Dr</td>\n",
       "    </tr>\n",
       "    <tr>\n",
       "      <td>3</td>\n",
       "      <td>3</td>\n",
       "      <td>549000</td>\n",
       "      <td>435 - 1091 Kingston Rd</td>\n",
       "      <td>4 hours</td>\n",
       "      <td>1.0</td>\n",
       "      <td>1.0</td>\n",
       "      <td>568.0</td>\n",
       "      <td>700-799 sqft</td>\n",
       "      <td>1.0</td>\n",
       "      <td>749.5</td>\n",
       "      <td>1091 Kingston Rd</td>\n",
       "    </tr>\n",
       "    <tr>\n",
       "      <td>4</td>\n",
       "      <td>4</td>\n",
       "      <td>549000</td>\n",
       "      <td>515 - 105 George St</td>\n",
       "      <td>5 hours</td>\n",
       "      <td>1.0</td>\n",
       "      <td>1.0</td>\n",
       "      <td>402.0</td>\n",
       "      <td>500-599 sqft</td>\n",
       "      <td>0.0</td>\n",
       "      <td>549.5</td>\n",
       "      <td>105 George St</td>\n",
       "    </tr>\n",
       "  </tbody>\n",
       "</table>\n",
       "</div>"
      ],
      "text/plain": [
       "   Unnamed: 0  Prices                Location Date_listed  Bedrooms  \\\n",
       "0           0  648000        20 - 375 Cook Rd  20 minutes       6.0   \n",
       "1           1  799900    608 - 284 Bloor St W     3 hours       2.0   \n",
       "2           2  460000    308 - 120 Dundalk Dr     4 hours       3.0   \n",
       "3           3  549000  435 - 1091 Kingston Rd     4 hours       1.0   \n",
       "4           4  549000     515 - 105 George St     5 hours       1.0   \n",
       "\n",
       "   Bathrooms  Maint_Fees              Size  Parking  Avg_Size  \\\n",
       "0        6.0       322.0  1,400-1,599 sqft      2.0    1499.5   \n",
       "1        2.0       790.0      700-799 sqft      0.0     749.5   \n",
       "2        3.0       874.0  1,200-1,399 sqft      1.0    1299.5   \n",
       "3        1.0       568.0      700-799 sqft      1.0     749.5   \n",
       "4        1.0       402.0      500-599 sqft      0.0     549.5   \n",
       "\n",
       "      Street Address  \n",
       "0        375 Cook Rd  \n",
       "1     284 Bloor St W  \n",
       "2     120 Dundalk Dr  \n",
       "3   1091 Kingston Rd  \n",
       "4      105 George St  "
      ]
     },
     "execution_count": 3,
     "metadata": {},
     "output_type": "execute_result"
    }
   ],
   "source": [
    "condos_final.head(5)"
   ]
  },
  {
   "cell_type": "code",
   "execution_count": 4,
   "metadata": {},
   "outputs": [],
   "source": [
    "condos_final.drop(columns='Unnamed: 0',inplace=True)"
   ]
  },
  {
   "cell_type": "code",
   "execution_count": 6,
   "metadata": {},
   "outputs": [],
   "source": [
    "condos_final.rename(columns={\"Avg_Size\":'Condo_Size','Size':'Size_range'},inplace= True)"
   ]
  },
  {
   "cell_type": "code",
   "execution_count": 67,
   "metadata": {},
   "outputs": [
    {
     "data": {
      "text/html": [
       "<div>\n",
       "<style scoped>\n",
       "    .dataframe tbody tr th:only-of-type {\n",
       "        vertical-align: middle;\n",
       "    }\n",
       "\n",
       "    .dataframe tbody tr th {\n",
       "        vertical-align: top;\n",
       "    }\n",
       "\n",
       "    .dataframe thead th {\n",
       "        text-align: right;\n",
       "    }\n",
       "</style>\n",
       "<table border=\"1\" class=\"dataframe\">\n",
       "  <thead>\n",
       "    <tr style=\"text-align: right;\">\n",
       "      <th></th>\n",
       "      <th>Prices</th>\n",
       "      <th>Location</th>\n",
       "      <th>Date_listed</th>\n",
       "      <th>Bedrooms</th>\n",
       "      <th>Bathrooms</th>\n",
       "      <th>Maint_Fees</th>\n",
       "      <th>Size_range</th>\n",
       "      <th>Parking</th>\n",
       "      <th>Condo_Size</th>\n",
       "      <th>Street Address</th>\n",
       "    </tr>\n",
       "  </thead>\n",
       "  <tbody>\n",
       "    <tr>\n",
       "      <td>0</td>\n",
       "      <td>648000</td>\n",
       "      <td>20 - 375 Cook Rd</td>\n",
       "      <td>20 minutes</td>\n",
       "      <td>6.0</td>\n",
       "      <td>6.0</td>\n",
       "      <td>322.0</td>\n",
       "      <td>1,400-1,599 sqft</td>\n",
       "      <td>2.0</td>\n",
       "      <td>1499.5</td>\n",
       "      <td>375 Cook Rd</td>\n",
       "    </tr>\n",
       "    <tr>\n",
       "      <td>1</td>\n",
       "      <td>799900</td>\n",
       "      <td>608 - 284 Bloor St W</td>\n",
       "      <td>3 hours</td>\n",
       "      <td>2.0</td>\n",
       "      <td>2.0</td>\n",
       "      <td>790.0</td>\n",
       "      <td>700-799 sqft</td>\n",
       "      <td>0.0</td>\n",
       "      <td>749.5</td>\n",
       "      <td>284 Bloor St W</td>\n",
       "    </tr>\n",
       "    <tr>\n",
       "      <td>2</td>\n",
       "      <td>460000</td>\n",
       "      <td>308 - 120 Dundalk Dr</td>\n",
       "      <td>4 hours</td>\n",
       "      <td>3.0</td>\n",
       "      <td>3.0</td>\n",
       "      <td>874.0</td>\n",
       "      <td>1,200-1,399 sqft</td>\n",
       "      <td>1.0</td>\n",
       "      <td>1299.5</td>\n",
       "      <td>120 Dundalk Dr</td>\n",
       "    </tr>\n",
       "    <tr>\n",
       "      <td>3</td>\n",
       "      <td>549000</td>\n",
       "      <td>435 - 1091 Kingston Rd</td>\n",
       "      <td>4 hours</td>\n",
       "      <td>1.0</td>\n",
       "      <td>1.0</td>\n",
       "      <td>568.0</td>\n",
       "      <td>700-799 sqft</td>\n",
       "      <td>1.0</td>\n",
       "      <td>749.5</td>\n",
       "      <td>1091 Kingston Rd</td>\n",
       "    </tr>\n",
       "    <tr>\n",
       "      <td>4</td>\n",
       "      <td>549000</td>\n",
       "      <td>515 - 105 George St</td>\n",
       "      <td>5 hours</td>\n",
       "      <td>1.0</td>\n",
       "      <td>1.0</td>\n",
       "      <td>402.0</td>\n",
       "      <td>500-599 sqft</td>\n",
       "      <td>0.0</td>\n",
       "      <td>549.5</td>\n",
       "      <td>105 George St</td>\n",
       "    </tr>\n",
       "  </tbody>\n",
       "</table>\n",
       "</div>"
      ],
      "text/plain": [
       "   Prices                Location Date_listed  Bedrooms  Bathrooms  \\\n",
       "0  648000        20 - 375 Cook Rd  20 minutes       6.0        6.0   \n",
       "1  799900    608 - 284 Bloor St W     3 hours       2.0        2.0   \n",
       "2  460000    308 - 120 Dundalk Dr     4 hours       3.0        3.0   \n",
       "3  549000  435 - 1091 Kingston Rd     4 hours       1.0        1.0   \n",
       "4  549000     515 - 105 George St     5 hours       1.0        1.0   \n",
       "\n",
       "   Maint_Fees        Size_range  Parking  Condo_Size     Street Address  \n",
       "0       322.0  1,400-1,599 sqft      2.0      1499.5        375 Cook Rd  \n",
       "1       790.0      700-799 sqft      0.0       749.5     284 Bloor St W  \n",
       "2       874.0  1,200-1,399 sqft      1.0      1299.5     120 Dundalk Dr  \n",
       "3       568.0      700-799 sqft      1.0       749.5   1091 Kingston Rd  \n",
       "4       402.0      500-599 sqft      0.0       549.5      105 George St  "
      ]
     },
     "execution_count": 67,
     "metadata": {},
     "output_type": "execute_result"
    }
   ],
   "source": [
    "condos_final.head()"
   ]
  },
  {
   "cell_type": "code",
   "execution_count": 24,
   "metadata": {},
   "outputs": [
    {
     "name": "stdout",
     "output_type": "stream",
     "text": [
      "<class 'pandas.core.frame.DataFrame'>\n",
      "RangeIndex: 2031 entries, 0 to 2030\n",
      "Data columns (total 10 columns):\n",
      "Prices            2031 non-null int64\n",
      "Location          2031 non-null object\n",
      "Date_listed       2031 non-null object\n",
      "Bedrooms          1971 non-null float64\n",
      "Bathrooms         1971 non-null float64\n",
      "Maint_Fees        2031 non-null float64\n",
      "Size_range        2031 non-null object\n",
      "Parking           2031 non-null float64\n",
      "Condo_Size        2031 non-null float64\n",
      "Street Address    2031 non-null object\n",
      "dtypes: float64(5), int64(1), object(4)\n",
      "memory usage: 158.8+ KB\n"
     ]
    }
   ],
   "source": [
    "condos_final.info()"
   ]
  },
  {
   "cell_type": "code",
   "execution_count": 8,
   "metadata": {},
   "outputs": [
    {
     "data": {
      "text/html": [
       "<div>\n",
       "<style scoped>\n",
       "    .dataframe tbody tr th:only-of-type {\n",
       "        vertical-align: middle;\n",
       "    }\n",
       "\n",
       "    .dataframe tbody tr th {\n",
       "        vertical-align: top;\n",
       "    }\n",
       "\n",
       "    .dataframe thead th {\n",
       "        text-align: right;\n",
       "    }\n",
       "</style>\n",
       "<table border=\"1\" class=\"dataframe\">\n",
       "  <thead>\n",
       "    <tr style=\"text-align: right;\">\n",
       "      <th></th>\n",
       "      <th>Prices</th>\n",
       "      <th>Bedrooms</th>\n",
       "      <th>Bathrooms</th>\n",
       "      <th>Maint_Fees</th>\n",
       "      <th>Parking</th>\n",
       "      <th>Condo_Size</th>\n",
       "    </tr>\n",
       "  </thead>\n",
       "  <tbody>\n",
       "    <tr>\n",
       "      <td>count</td>\n",
       "      <td>2031.00</td>\n",
       "      <td>1971.00</td>\n",
       "      <td>1971.00</td>\n",
       "      <td>2031.00</td>\n",
       "      <td>2031.00</td>\n",
       "      <td>2031.00</td>\n",
       "    </tr>\n",
       "    <tr>\n",
       "      <td>mean</td>\n",
       "      <td>828853.63</td>\n",
       "      <td>1.73</td>\n",
       "      <td>1.73</td>\n",
       "      <td>647.47</td>\n",
       "      <td>0.91</td>\n",
       "      <td>923.11</td>\n",
       "    </tr>\n",
       "    <tr>\n",
       "      <td>std</td>\n",
       "      <td>680716.13</td>\n",
       "      <td>0.77</td>\n",
       "      <td>0.77</td>\n",
       "      <td>454.22</td>\n",
       "      <td>0.62</td>\n",
       "      <td>506.94</td>\n",
       "    </tr>\n",
       "    <tr>\n",
       "      <td>min</td>\n",
       "      <td>249000.00</td>\n",
       "      <td>1.00</td>\n",
       "      <td>1.00</td>\n",
       "      <td>1.00</td>\n",
       "      <td>0.00</td>\n",
       "      <td>249.50</td>\n",
       "    </tr>\n",
       "    <tr>\n",
       "      <td>25%</td>\n",
       "      <td>569000.00</td>\n",
       "      <td>1.00</td>\n",
       "      <td>1.00</td>\n",
       "      <td>432.00</td>\n",
       "      <td>1.00</td>\n",
       "      <td>649.50</td>\n",
       "    </tr>\n",
       "    <tr>\n",
       "      <td>50%</td>\n",
       "      <td>679900.00</td>\n",
       "      <td>2.00</td>\n",
       "      <td>2.00</td>\n",
       "      <td>568.00</td>\n",
       "      <td>1.00</td>\n",
       "      <td>749.50</td>\n",
       "    </tr>\n",
       "    <tr>\n",
       "      <td>75%</td>\n",
       "      <td>849900.00</td>\n",
       "      <td>2.00</td>\n",
       "      <td>2.00</td>\n",
       "      <td>712.50</td>\n",
       "      <td>1.00</td>\n",
       "      <td>1099.50</td>\n",
       "    </tr>\n",
       "    <tr>\n",
       "      <td>max</td>\n",
       "      <td>14998000.00</td>\n",
       "      <td>6.00</td>\n",
       "      <td>6.00</td>\n",
       "      <td>7150.00</td>\n",
       "      <td>5.00</td>\n",
       "      <td>5050.00</td>\n",
       "    </tr>\n",
       "  </tbody>\n",
       "</table>\n",
       "</div>"
      ],
      "text/plain": [
       "            Prices  Bedrooms  Bathrooms  Maint_Fees  Parking  Condo_Size\n",
       "count      2031.00   1971.00    1971.00     2031.00  2031.00     2031.00\n",
       "mean     828853.63      1.73       1.73      647.47     0.91      923.11\n",
       "std      680716.13      0.77       0.77      454.22     0.62      506.94\n",
       "min      249000.00      1.00       1.00        1.00     0.00      249.50\n",
       "25%      569000.00      1.00       1.00      432.00     1.00      649.50\n",
       "50%      679900.00      2.00       2.00      568.00     1.00      749.50\n",
       "75%      849900.00      2.00       2.00      712.50     1.00     1099.50\n",
       "max    14998000.00      6.00       6.00     7150.00     5.00     5050.00"
      ]
     },
     "execution_count": 8,
     "metadata": {},
     "output_type": "execute_result"
    }
   ],
   "source": [
    "round(condos_final.describe(),2)"
   ]
  },
  {
   "cell_type": "code",
   "execution_count": null,
   "metadata": {},
   "outputs": [],
   "source": [
    "# Implies Average price per sq ft = $ 897 / sqft"
   ]
  },
  {
   "cell_type": "code",
   "execution_count": 29,
   "metadata": {},
   "outputs": [
    {
     "name": "stdout",
     "output_type": "stream",
     "text": [
      "<class 'pandas.core.frame.DataFrame'>\n",
      "RangeIndex: 2031 entries, 0 to 2030\n",
      "Data columns (total 10 columns):\n",
      "Prices            2031 non-null int64\n",
      "Location          2031 non-null object\n",
      "Date_listed       2031 non-null object\n",
      "Bedrooms          2031 non-null float64\n",
      "Bathrooms         2031 non-null float64\n",
      "Maint_Fees        2031 non-null float64\n",
      "Size_range        2031 non-null object\n",
      "Parking           2031 non-null float64\n",
      "Condo_Size        2031 non-null float64\n",
      "Street Address    2031 non-null object\n",
      "dtypes: float64(5), int64(1), object(4)\n",
      "memory usage: 158.8+ KB\n"
     ]
    }
   ],
   "source": [
    "#Replacing the missing values by mean values for bedroom and bathroom that is 1.73 or 2\n",
    "condos_final['Bedrooms'] = condos_final['Bedrooms'].fillna(2)\n",
    "condos_final['Bathrooms'] = condos_final['Bedrooms'].fillna(2)\n",
    "condos_final.info()"
   ]
  },
  {
   "cell_type": "code",
   "execution_count": 30,
   "metadata": {},
   "outputs": [
    {
     "data": {
      "text/plain": [
       "2.0    906\n",
       "1.0    856\n",
       "3.0    229\n",
       "4.0     32\n",
       "5.0      5\n",
       "6.0      3\n",
       "Name: Bedrooms, dtype: int64"
      ]
     },
     "execution_count": 30,
     "metadata": {},
     "output_type": "execute_result"
    }
   ],
   "source": [
    "condos_final['Bedrooms'].value_counts()"
   ]
  },
  {
   "cell_type": "markdown",
   "metadata": {},
   "source": [
    "## Interesting Visualizations"
   ]
  },
  {
   "cell_type": "code",
   "execution_count": 56,
   "metadata": {},
   "outputs": [],
   "source": [
    "condos_subset = condos_final[(condos_final['Bedrooms']==1) | (condos_final['Bedrooms']==2) | (condos_final['Bedrooms']==3)]  "
   ]
  },
  {
   "cell_type": "code",
   "execution_count": 68,
   "metadata": {},
   "outputs": [
    {
     "data": {
      "text/plain": [
       "<matplotlib.axes._subplots.AxesSubplot at 0x1a2806b750>"
      ]
     },
     "execution_count": 68,
     "metadata": {},
     "output_type": "execute_result"
    },
    {
     "data": {
      "image/png": "[encoded data removed]",
      "text/plain": [
       "<Figure size 432x288 with 1 Axes>"
      ]
     },
     "metadata": {
      "needs_background": "light"
     },
     "output_type": "display_data"
    }
   ],
   "source": [
    "#1. Distributions\n",
    "sns.boxplot(x=condos_subset['Bedrooms'], y= condos_subset['Prices'])"
   ]
  },
  {
   "cell_type": "markdown",
   "metadata": {},
   "source": [
    "## Analysis by Bedroom"
   ]
  },
  {
   "cell_type": "code",
   "execution_count": 59,
   "metadata": {},
   "outputs": [
    {
     "data": {
      "text/plain": [
       "Bedrooms\n",
       "1.0     630353.0\n",
       "2.0     914117.0\n",
       "3.0    1139037.0\n",
       "Name: Prices, dtype: float64"
      ]
     },
     "execution_count": 59,
     "metadata": {},
     "output_type": "execute_result"
    }
   ],
   "source": [
    "#2. Average Price by Bedroom\n",
    "price_by_bed = round(condos_subset.groupby(['Bedrooms'])['Prices'].mean(),0)\n",
    "price_by_bed"
   ]
  },
  {
   "cell_type": "code",
   "execution_count": 151,
   "metadata": {},
   "outputs": [
    {
     "data": {
      "application/vnd.plotly.v1+json": {
       "config": {
        "linkText": "Export to plot.ly",
        "plotlyServerURL": "https://plot.ly",
        "showLink": false
       },
       "data": [
        {
         "type": "bar",
         "x": [
          1,
          2,
          3
         ],
         "y": [
          630353,
          914117,
          1139037
         ]
        }
       ],
       "layout": {
        "template": {
         "data": {
          "bar": [
           {
            "error_x": {
             "color": "#2a3f5f"
            },
            "error_y": {
             "color": "#2a3f5f"
            },
            "marker": {
             "line": {
              "color": "#E5ECF6",
              "width": 0.5
             }
            },
            "type": "bar"
           }
          ],
          "barpolar": [
           {
            "marker": {
             "line": {
              "color": "#E5ECF6",
              "width": 0.5
             }
            },
            "type": "barpolar"
           }
          ],
          "carpet": [
           {
            "aaxis": {
             "endlinecolor": "#2a3f5f",
             "gridcolor": "white",
             "linecolor": "white",
             "minorgridcolor": "white",
             "startlinecolor": "#2a3f5f"
            },
            "baxis": {
             "endlinecolor": "#2a3f5f",
             "gridcolor": "white",
             "linecolor": "white",
             "minorgridcolor": "white",
             "startlinecolor": "#2a3f5f"
            },
            "type": "carpet"
           }
          ],
          "choropleth": [
           {
            "colorbar": {
             "outlinewidth": 0,
             "ticks": ""
            },
            "type": "choropleth"
           }
          ],
          "contour": [
           {
            "colorbar": {
             "outlinewidth": 0,
             "ticks": ""
            },
            "colorscale": [
             [
              0,
              "#0d0887"
             ],
             [
              0.1111111111111111,
              "#46039f"
             ],
             [
              0.2222222222222222,
              "#7201a8"
             ],
             [
              0.3333333333333333,
              "#9c179e"
             ],
             [
              0.4444444444444444,
              "#bd3786"
             ],
             [
              0.5555555555555556,
              "#d8576b"
             ],
             [
              0.6666666666666666,
              "#ed7953"
             ],
             [
              0.7777777777777778,
              "#fb9f3a"
             ],
             [
              0.8888888888888888,
              "#fdca26"
             ],
             [
              1,
              "#f0f921"
             ]
            ],
            "type": "contour"
           }
          ],
          "contourcarpet": [
           {
            "colorbar": {
             "outlinewidth": 0,
             "ticks": ""
            },
            "type": "contourcarpet"
           }
          ],
          "heatmap": [
           {
            "colorbar": {
             "outlinewidth": 0,
             "ticks": ""
            },
            "colorscale": [
             [
              0,
              "#0d0887"
             ],
             [
              0.1111111111111111,
              "#46039f"
             ],
             [
              0.2222222222222222,
              "#7201a8"
             ],
             [
              0.3333333333333333,
              "#9c179e"
             ],
             [
              0.4444444444444444,
              "#bd3786"
             ],
             [
              0.5555555555555556,
              "#d8576b"
             ],
             [
              0.6666666666666666,
              "#ed7953"
             ],
             [
              0.7777777777777778,
              "#fb9f3a"
             ],
             [
              0.8888888888888888,
              "#fdca26"
             ],
             [
              1,
              "#f0f921"
             ]
            ],
            "type": "heatmap"
           }
          ],
          "heatmapgl": [
           {
            "colorbar": {
             "outlinewidth": 0,
             "ticks": ""
            },
            "colorscale": [
             [
              0,
              "#0d0887"
             ],
             [
              0.1111111111111111,
              "#46039f"
             ],
             [
              0.2222222222222222,
              "#7201a8"
             ],
             [
              0.3333333333333333,
              "#9c179e"
             ],
             [
              0.4444444444444444,
              "#bd3786"
             ],
             [
              0.5555555555555556,
              "#d8576b"
             ],
             [
              0.6666666666666666,
              "#ed7953"
             ],
             [
              0.7777777777777778,
              "#fb9f3a"
             ],
             [
              0.8888888888888888,
              "#fdca26"
             ],
             [
              1,
              "#f0f921"
             ]
            ],
            "type": "heatmapgl"
           }
          ],
          "histogram": [
           {
            "marker": {
             "colorbar": {
              "outlinewidth": 0,
              "ticks": ""
             }
            },
            "type": "histogram"
           }
          ],
          "histogram2d": [
           {
            "colorbar": {
             "outlinewidth": 0,
             "ticks": ""
            },
            "colorscale": [
             [
              0,
              "#0d0887"
             ],
             [
              0.1111111111111111,
              "#46039f"
             ],
             [
              0.2222222222222222,
              "#7201a8"
             ],
             [
              0.3333333333333333,
              "#9c179e"
             ],
             [
              0.4444444444444444,
              "#bd3786"
             ],
             [
              0.5555555555555556,
              "#d8576b"
             ],
             [
              0.6666666666666666,
              "#ed7953"
             ],
             [
              0.7777777777777778,
              "#fb9f3a"
             ],
             [
              0.8888888888888888,
              "#fdca26"
             ],
             [
              1,
              "#f0f921"
             ]
            ],
            "type": "histogram2d"
           }
          ],
          "histogram2dcontour": [
           {
            "colorbar": {
             "outlinewidth": 0,
             "ticks": ""
            },
            "colorscale": [
             [
              0,
              "#0d0887"
             ],
             [
              0.1111111111111111,
              "#46039f"
             ],
             [
              0.2222222222222222,
              "#7201a8"
             ],
             [
              0.3333333333333333,
              "#9c179e"
             ],
             [
              0.4444444444444444,
              "#bd3786"
             ],
             [
              0.5555555555555556,
              "#d8576b"
             ],
             [
              0.6666666666666666,
              "#ed7953"
             ],
             [
              0.7777777777777778,
              "#fb9f3a"
             ],
             [
              0.8888888888888888,
              "#fdca26"
             ],
             [
              1,
              "#f0f921"
             ]
            ],
            "type": "histogram2dcontour"
           }
          ],
          "mesh3d": [
           {
            "colorbar": {
             "outlinewidth": 0,
             "ticks": ""
            },
            "type": "mesh3d"
           }
          ],
          "parcoords": [
           {
            "line": {
             "colorbar": {
              "outlinewidth": 0,
              "ticks": ""
             }
            },
            "type": "parcoords"
           }
          ],
          "pie": [
           {
            "automargin": true,
            "type": "pie"
           }
          ],
          "scatter": [
           {
            "marker": {
             "colorbar": {
              "outlinewidth": 0,
              "ticks": ""
             }
            },
            "type": "scatter"
           }
          ],
          "scatter3d": [
           {
            "line": {
             "colorbar": {
              "outlinewidth": 0,
              "ticks": ""
             }
            },
            "marker": {
             "colorbar": {
              "outlinewidth": 0,
              "ticks": ""
             }
            },
            "type": "scatter3d"
           }
          ],
          "scattercarpet": [
           {
            "marker": {
             "colorbar": {
              "outlinewidth": 0,
              "ticks": ""
             }
            },
            "type": "scattercarpet"
           }
          ],
          "scattergeo": [
           {
            "marker": {
             "colorbar": {
              "outlinewidth": 0,
              "ticks": ""
             }
            },
            "type": "scattergeo"
           }
          ],
          "scattergl": [
           {
            "marker": {
             "colorbar": {
              "outlinewidth": 0,
              "ticks": ""
             }
            },
            "type": "scattergl"
           }
          ],
          "scattermapbox": [
           {
            "marker": {
             "colorbar": {
              "outlinewidth": 0,
              "ticks": ""
             }
            },
            "type": "scattermapbox"
           }
          ],
          "scatterpolar": [
           {
            "marker": {
             "colorbar": {
              "outlinewidth": 0,
              "ticks": ""
             }
            },
            "type": "scatterpolar"
           }
          ],
          "scatterpolargl": [
           {
            "marker": {
             "colorbar": {
              "outlinewidth": 0,
              "ticks": ""
             }
            },
            "type": "scatterpolargl"
           }
          ],
          "scatterternary": [
           {
            "marker": {
             "colorbar": {
              "outlinewidth": 0,
              "ticks": ""
             }
            },
            "type": "scatterternary"
           }
          ],
          "surface": [
           {
            "colorbar": {
             "outlinewidth": 0,
             "ticks": ""
            },
            "colorscale": [
             [
              0,
              "#0d0887"
             ],
             [
              0.1111111111111111,
              "#46039f"
             ],
             [
              0.2222222222222222,
              "#7201a8"
             ],
             [
              0.3333333333333333,
              "#9c179e"
             ],
             [
              0.4444444444444444,
              "#bd3786"
             ],
             [
              0.5555555555555556,
              "#d8576b"
             ],
             [
              0.6666666666666666,
              "#ed7953"
             ],
             [
              0.7777777777777778,
              "#fb9f3a"
             ],
             [
              0.8888888888888888,
              "#fdca26"
             ],
             [
              1,
              "#f0f921"
             ]
            ],
            "type": "surface"
           }
          ],
          "table": [
           {
            "cells": {
             "fill": {
              "color": "#EBF0F8"
             },
             "line": {
              "color": "white"
             }
            },
            "header": {
             "fill": {
              "color": "#C8D4E3"
             },
             "line": {
              "color": "white"
             }
            },
            "type": "table"
           }
          ]
         },
         "layout": {
          "annotationdefaults": {
           "arrowcolor": "#2a3f5f",
           "arrowhead": 0,
           "arrowwidth": 1
          },
          "coloraxis": {
           "colorbar": {
            "outlinewidth": 0,
            "ticks": ""
           }
          },
          "colorscale": {
           "diverging": [
            [
             0,
             "#8e0152"
            ],
            [
             0.1,
             "#c51b7d"
            ],
            [
             0.2,
             "#de77ae"
            ],
            [
             0.3,
             "#f1b6da"
            ],
            [
             0.4,
             "#fde0ef"
            ],
            [
             0.5,
             "#f7f7f7"
            ],
            [
             0.6,
             "#e6f5d0"
            ],
            [
             0.7,
             "#b8e186"
            ],
            [
             0.8,
             "#7fbc41"
            ],
            [
             0.9,
             "#4d9221"
            ],
            [
             1,
             "#276419"
            ]
           ],
           "sequential": [
            [
             0,
             "#0d0887"
            ],
            [
             0.1111111111111111,
             "#46039f"
            ],
            [
             0.2222222222222222,
             "#7201a8"
            ],
            [
             0.3333333333333333,
             "#9c179e"
            ],
            [
             0.4444444444444444,
             "#bd3786"
            ],
            [
             0.5555555555555556,
             "#d8576b"
            ],
            [
             0.6666666666666666,
             "#ed7953"
            ],
            [
             0.7777777777777778,
             "#fb9f3a"
            ],
            [
             0.8888888888888888,
             "#fdca26"
            ],
            [
             1,
             "#f0f921"
            ]
           ],
           "sequentialminus": [
            [
             0,
             "#0d0887"
            ],
            [
             0.1111111111111111,
             "#46039f"
            ],
            [
             0.2222222222222222,
             "#7201a8"
            ],
            [
             0.3333333333333333,
             "#9c179e"
            ],
            [
             0.4444444444444444,
             "#bd3786"
            ],
            [
             0.5555555555555556,
             "#d8576b"
            ],
            [
             0.6666666666666666,
             "#ed7953"
            ],
            [
             0.7777777777777778,
             "#fb9f3a"
            ],
            [
             0.8888888888888888,
             "#fdca26"
            ],
            [
             1,
             "#f0f921"
            ]
           ]
          },
          "colorway": [
           "#636efa",
           "#EF553B",
           "#00cc96",
           "#ab63fa",
           "#FFA15A",
           "#19d3f3",
           "#FF6692",
           "#B6E880",
           "#FF97FF",
           "#FECB52"
          ],
          "font": {
           "color": "#2a3f5f"
          },
          "geo": {
           "bgcolor": "white",
           "lakecolor": "white",
           "landcolor": "#E5ECF6",
           "showlakes": true,
           "showland": true,
           "subunitcolor": "white"
          },
          "hoverlabel": {
           "align": "left"
          },
          "hovermode": "closest",
          "mapbox": {
           "style": "light"
          },
          "paper_bgcolor": "white",
          "plot_bgcolor": "#E5ECF6",
          "polar": {
           "angularaxis": {
            "gridcolor": "white",
            "linecolor": "white",
            "ticks": ""
           },
           "bgcolor": "#E5ECF6",
           "radialaxis": {
            "gridcolor": "white",
            "linecolor": "white",
            "ticks": ""
           }
          },
          "scene": {
           "xaxis": {
            "backgroundcolor": "#E5ECF6",
            "gridcolor": "white",
            "gridwidth": 2,
            "linecolor": "white",
            "showbackground": true,
            "ticks": "",
            "zerolinecolor": "white"
           },
           "yaxis": {
            "backgroundcolor": "#E5ECF6",
            "gridcolor": "white",
            "gridwidth": 2,
            "linecolor": "white",
            "showbackground": true,
            "ticks": "",
            "zerolinecolor": "white"
           },
           "zaxis": {
            "backgroundcolor": "#E5ECF6",
            "gridcolor": "white",
            "gridwidth": 2,
            "linecolor": "white",
            "showbackground": true,
            "ticks": "",
            "zerolinecolor": "white"
           }
          },
          "shapedefaults": {
           "line": {
            "color": "#2a3f5f"
           }
          },
          "ternary": {
           "aaxis": {
            "gridcolor": "white",
            "linecolor": "white",
            "ticks": ""
           },
           "baxis": {
            "gridcolor": "white",
            "linecolor": "white",
            "ticks": ""
           },
           "bgcolor": "#E5ECF6",
           "caxis": {
            "gridcolor": "white",
            "linecolor": "white",
            "ticks": ""
           }
          },
          "title": {
           "x": 0.05
          },
          "xaxis": {
           "automargin": true,
           "gridcolor": "white",
           "linecolor": "white",
           "ticks": "",
           "title": {
            "standoff": 15
           },
           "zerolinecolor": "white",
           "zerolinewidth": 2
          },
          "yaxis": {
           "automargin": true,
           "gridcolor": "white",
           "linecolor": "white",
           "ticks": "",
           "title": {
            "standoff": 15
           },
           "zerolinecolor": "white",
           "zerolinewidth": 2
          }
         }
        },
        "title": {
         "text": "Average Condo Price"
        },
        "xaxis": {
         "title": {
          "text": "No. of Beds"
         }
        },
        "yaxis": {
         "title": {
          "text": "Value in $M"
         }
        }
       }
      },
      "text/html": [
       "<div>\n",
       "        \n",
       "        \n",
       "            <div id=\"098dd3aa-496a-483e-bbdf-e5cd23a5f332\" class=\"plotly-graph-div\" style=\"height:525px; width:100%;\"></div>\n",
       "            <script type=\"text/javascript\">\n",
       "                require([\"plotly\"], function(Plotly) {\n",
       "                    window.PLOTLYENV=window.PLOTLYENV || {};\n",
       "                    \n",
       "                if (document.getElementById(\"098dd3aa-496a-483e-bbdf-e5cd23a5f332\")) {\n",
       "                    Plotly.newPlot(\n",
       "                        '098dd3aa-496a-483e-bbdf-e5cd23a5f332',\n",
       "                        [{\"type\": \"bar\", \"x\": [1.0, 2.0, 3.0], \"y\": [630353.0, 914117.0, 1139037.0]}],\n",
       "                        {\"template\": {\"data\": {\"bar\": [{\"error_x\": {\"color\": \"#2a3f5f\"}, \"error_y\": {\"color\": \"#2a3f5f\"}, \"marker\": {\"line\": {\"color\": \"#E5ECF6\", \"width\": 0.5}}, \"type\": \"bar\"}], \"barpolar\": [{\"marker\": {\"line\": {\"color\": \"#E5ECF6\", \"width\": 0.5}}, \"type\": \"barpolar\"}], \"carpet\": [{\"aaxis\": {\"endlinecolor\": \"#2a3f5f\", \"gridcolor\": \"white\", \"linecolor\": \"white\", \"minorgridcolor\": \"white\", \"startlinecolor\": \"#2a3f5f\"}, \"baxis\": {\"endlinecolor\": \"#2a3f5f\", \"gridcolor\": \"white\", \"linecolor\": \"white\", \"minorgridcolor\": \"white\", \"startlinecolor\": \"#2a3f5f\"}, \"type\": \"carpet\"}], \"choropleth\": [{\"colorbar\": {\"outlinewidth\": 0, \"ticks\": \"\"}, \"type\": \"choropleth\"}], \"contour\": [{\"colorbar\": {\"outlinewidth\": 0, \"ticks\": \"\"}, \"colorscale\": [[0.0, \"#0d0887\"], [0.1111111111111111, \"#46039f\"], [0.2222222222222222, \"#7201a8\"], [0.3333333333333333, \"#9c179e\"], [0.4444444444444444, \"#bd3786\"], [0.5555555555555556, \"#d8576b\"], [0.6666666666666666, \"#ed7953\"], [0.7777777777777778, \"#fb9f3a\"], [0.8888888888888888, \"#fdca26\"], [1.0, \"#f0f921\"]], \"type\": \"contour\"}], \"contourcarpet\": [{\"colorbar\": {\"outlinewidth\": 0, \"ticks\": \"\"}, \"type\": \"contourcarpet\"}], \"heatmap\": [{\"colorbar\": {\"outlinewidth\": 0, \"ticks\": \"\"}, \"colorscale\": [[0.0, \"#0d0887\"], [0.1111111111111111, \"#46039f\"], [0.2222222222222222, \"#7201a8\"], [0.3333333333333333, \"#9c179e\"], [0.4444444444444444, \"#bd3786\"], [0.5555555555555556, \"#d8576b\"], [0.6666666666666666, \"#ed7953\"], [0.7777777777777778, \"#fb9f3a\"], [0.8888888888888888, \"#fdca26\"], [1.0, \"#f0f921\"]], \"type\": \"heatmap\"}], \"heatmapgl\": [{\"colorbar\": {\"outlinewidth\": 0, \"ticks\": \"\"}, \"colorscale\": [[0.0, \"#0d0887\"], [0.1111111111111111, \"#46039f\"], [0.2222222222222222, \"#7201a8\"], [0.3333333333333333, \"#9c179e\"], [0.4444444444444444, \"#bd3786\"], [0.5555555555555556, \"#d8576b\"], [0.6666666666666666, \"#ed7953\"], [0.7777777777777778, \"#fb9f3a\"], [0.8888888888888888, \"#fdca26\"], [1.0, \"#f0f921\"]], \"type\": \"heatmapgl\"}], \"histogram\": [{\"marker\": {\"colorbar\": {\"outlinewidth\": 0, \"ticks\": \"\"}}, \"type\": \"histogram\"}], \"histogram2d\": [{\"colorbar\": {\"outlinewidth\": 0, \"ticks\": \"\"}, \"colorscale\": [[0.0, \"#0d0887\"], [0.1111111111111111, \"#46039f\"], [0.2222222222222222, \"#7201a8\"], [0.3333333333333333, \"#9c179e\"], [0.4444444444444444, \"#bd3786\"], [0.5555555555555556, \"#d8576b\"], [0.6666666666666666, \"#ed7953\"], [0.7777777777777778, \"#fb9f3a\"], [0.8888888888888888, \"#fdca26\"], [1.0, \"#f0f921\"]], \"type\": \"histogram2d\"}], \"histogram2dcontour\": [{\"colorbar\": {\"outlinewidth\": 0, \"ticks\": \"\"}, \"colorscale\": [[0.0, \"#0d0887\"], [0.1111111111111111, \"#46039f\"], [0.2222222222222222, \"#7201a8\"], [0.3333333333333333, \"#9c179e\"], [0.4444444444444444, \"#bd3786\"], [0.5555555555555556, \"#d8576b\"], [0.6666666666666666, \"#ed7953\"], [0.7777777777777778, \"#fb9f3a\"], [0.8888888888888888, \"#fdca26\"], [1.0, \"#f0f921\"]], \"type\": \"histogram2dcontour\"}], \"mesh3d\": [{\"colorbar\": {\"outlinewidth\": 0, \"ticks\": \"\"}, \"type\": \"mesh3d\"}], \"parcoords\": [{\"line\": {\"colorbar\": {\"outlinewidth\": 0, \"ticks\": \"\"}}, \"type\": \"parcoords\"}], \"pie\": [{\"automargin\": true, \"type\": \"pie\"}], \"scatter\": [{\"marker\": {\"colorbar\": {\"outlinewidth\": 0, \"ticks\": \"\"}}, \"type\": \"scatter\"}], \"scatter3d\": [{\"line\": {\"colorbar\": {\"outlinewidth\": 0, \"ticks\": \"\"}}, \"marker\": {\"colorbar\": {\"outlinewidth\": 0, \"ticks\": \"\"}}, \"type\": \"scatter3d\"}], \"scattercarpet\": [{\"marker\": {\"colorbar\": {\"outlinewidth\": 0, \"ticks\": \"\"}}, \"type\": \"scattercarpet\"}], \"scattergeo\": [{\"marker\": {\"colorbar\": {\"outlinewidth\": 0, \"ticks\": \"\"}}, \"type\": \"scattergeo\"}], \"scattergl\": [{\"marker\": {\"colorbar\": {\"outlinewidth\": 0, \"ticks\": \"\"}}, \"type\": \"scattergl\"}], \"scattermapbox\": [{\"marker\": {\"colorbar\": {\"outlinewidth\": 0, \"ticks\": \"\"}}, \"type\": \"scattermapbox\"}], \"scatterpolar\": [{\"marker\": {\"colorbar\": {\"outlinewidth\": 0, \"ticks\": \"\"}}, \"type\": \"scatterpolar\"}], \"scatterpolargl\": [{\"marker\": {\"colorbar\": {\"outlinewidth\": 0, \"ticks\": \"\"}}, \"type\": \"scatterpolargl\"}], \"scatterternary\": [{\"marker\": {\"colorbar\": {\"outlinewidth\": 0, \"ticks\": \"\"}}, \"type\": \"scatterternary\"}], \"surface\": [{\"colorbar\": {\"outlinewidth\": 0, \"ticks\": \"\"}, \"colorscale\": [[0.0, \"#0d0887\"], [0.1111111111111111, \"#46039f\"], [0.2222222222222222, \"#7201a8\"], [0.3333333333333333, \"#9c179e\"], [0.4444444444444444, \"#bd3786\"], [0.5555555555555556, \"#d8576b\"], [0.6666666666666666, \"#ed7953\"], [0.7777777777777778, \"#fb9f3a\"], [0.8888888888888888, \"#fdca26\"], [1.0, \"#f0f921\"]], \"type\": \"surface\"}], \"table\": [{\"cells\": {\"fill\": {\"color\": \"#EBF0F8\"}, \"line\": {\"color\": \"white\"}}, \"header\": {\"fill\": {\"color\": \"#C8D4E3\"}, \"line\": {\"color\": \"white\"}}, \"type\": \"table\"}]}, \"layout\": {\"annotationdefaults\": {\"arrowcolor\": \"#2a3f5f\", \"arrowhead\": 0, \"arrowwidth\": 1}, \"coloraxis\": {\"colorbar\": {\"outlinewidth\": 0, \"ticks\": \"\"}}, \"colorscale\": {\"diverging\": [[0, \"#8e0152\"], [0.1, \"#c51b7d\"], [0.2, \"#de77ae\"], [0.3, \"#f1b6da\"], [0.4, \"#fde0ef\"], [0.5, \"#f7f7f7\"], [0.6, \"#e6f5d0\"], [0.7, \"#b8e186\"], [0.8, \"#7fbc41\"], [0.9, \"#4d9221\"], [1, \"#276419\"]], \"sequential\": [[0.0, \"#0d0887\"], [0.1111111111111111, \"#46039f\"], [0.2222222222222222, \"#7201a8\"], [0.3333333333333333, \"#9c179e\"], [0.4444444444444444, \"#bd3786\"], [0.5555555555555556, \"#d8576b\"], [0.6666666666666666, \"#ed7953\"], [0.7777777777777778, \"#fb9f3a\"], [0.8888888888888888, \"#fdca26\"], [1.0, \"#f0f921\"]], \"sequentialminus\": [[0.0, \"#0d0887\"], [0.1111111111111111, \"#46039f\"], [0.2222222222222222, \"#7201a8\"], [0.3333333333333333, \"#9c179e\"], [0.4444444444444444, \"#bd3786\"], [0.5555555555555556, \"#d8576b\"], [0.6666666666666666, \"#ed7953\"], [0.7777777777777778, \"#fb9f3a\"], [0.8888888888888888, \"#fdca26\"], [1.0, \"#f0f921\"]]}, \"colorway\": [\"#636efa\", \"#EF553B\", \"#00cc96\", \"#ab63fa\", \"#FFA15A\", \"#19d3f3\", \"#FF6692\", \"#B6E880\", \"#FF97FF\", \"#FECB52\"], \"font\": {\"color\": \"#2a3f5f\"}, \"geo\": {\"bgcolor\": \"white\", \"lakecolor\": \"white\", \"landcolor\": \"#E5ECF6\", \"showlakes\": true, \"showland\": true, \"subunitcolor\": \"white\"}, \"hoverlabel\": {\"align\": \"left\"}, \"hovermode\": \"closest\", \"mapbox\": {\"style\": \"light\"}, \"paper_bgcolor\": \"white\", \"plot_bgcolor\": \"#E5ECF6\", \"polar\": {\"angularaxis\": {\"gridcolor\": \"white\", \"linecolor\": \"white\", \"ticks\": \"\"}, \"bgcolor\": \"#E5ECF6\", \"radialaxis\": {\"gridcolor\": \"white\", \"linecolor\": \"white\", \"ticks\": \"\"}}, \"scene\": {\"xaxis\": {\"backgroundcolor\": \"#E5ECF6\", \"gridcolor\": \"white\", \"gridwidth\": 2, \"linecolor\": \"white\", \"showbackground\": true, \"ticks\": \"\", \"zerolinecolor\": \"white\"}, \"yaxis\": {\"backgroundcolor\": \"#E5ECF6\", \"gridcolor\": \"white\", \"gridwidth\": 2, \"linecolor\": \"white\", \"showbackground\": true, \"ticks\": \"\", \"zerolinecolor\": \"white\"}, \"zaxis\": {\"backgroundcolor\": \"#E5ECF6\", \"gridcolor\": \"white\", \"gridwidth\": 2, \"linecolor\": \"white\", \"showbackground\": true, \"ticks\": \"\", \"zerolinecolor\": \"white\"}}, \"shapedefaults\": {\"line\": {\"color\": \"#2a3f5f\"}}, \"ternary\": {\"aaxis\": {\"gridcolor\": \"white\", \"linecolor\": \"white\", \"ticks\": \"\"}, \"baxis\": {\"gridcolor\": \"white\", \"linecolor\": \"white\", \"ticks\": \"\"}, \"bgcolor\": \"#E5ECF6\", \"caxis\": {\"gridcolor\": \"white\", \"linecolor\": \"white\", \"ticks\": \"\"}}, \"title\": {\"x\": 0.05}, \"xaxis\": {\"automargin\": true, \"gridcolor\": \"white\", \"linecolor\": \"white\", \"ticks\": \"\", \"title\": {\"standoff\": 15}, \"zerolinecolor\": \"white\", \"zerolinewidth\": 2}, \"yaxis\": {\"automargin\": true, \"gridcolor\": \"white\", \"linecolor\": \"white\", \"ticks\": \"\", \"title\": {\"standoff\": 15}, \"zerolinecolor\": \"white\", \"zerolinewidth\": 2}}}, \"title\": {\"text\": \"Average Condo Price\"}, \"xaxis\": {\"title\": {\"text\": \"No. of Beds\"}}, \"yaxis\": {\"title\": {\"text\": \"Value in $M\"}}},\n",
       "                        {\"responsive\": true}\n",
       "                    ).then(function(){\n",
       "                            \n",
       "var gd = document.getElementById('098dd3aa-496a-483e-bbdf-e5cd23a5f332');\n",
       "var x = new MutationObserver(function (mutations, observer) {{\n",
       "        var display = window.getComputedStyle(gd).display;\n",
       "        if (!display || display === 'none') {{\n",
       "            console.log([gd, 'removed!']);\n",
       "            Plotly.purge(gd);\n",
       "            observer.disconnect();\n",
       "        }}\n",
       "}});\n",
       "\n",
       "// Listen for the removal of the full notebook cells\n",
       "var notebookContainer = gd.closest('#notebook-container');\n",
       "if (notebookContainer) {{\n",
       "    x.observe(notebookContainer, {childList: true});\n",
       "}}\n",
       "\n",
       "// Listen for the clearing of the current output cell\n",
       "var outputEl = gd.closest('.output');\n",
       "if (outputEl) {{\n",
       "    x.observe(outputEl, {childList: true});\n",
       "}}\n",
       "\n",
       "                        })\n",
       "                };\n",
       "                });\n",
       "            </script>\n",
       "        </div>"
      ]
     },
     "metadata": {},
     "output_type": "display_data"
    }
   ],
   "source": [
    "data = go.Bar(\n",
    "    x=price_by_bed.index,\n",
    "    y=price_by_bed.values,\n",
    "    \n",
    ") \n",
    "\n",
    "layout = go.Layout(title='Average Condo Price',\n",
    "    xaxis_title=\"No. of Beds\",\n",
    "    yaxis_title=\"Value in $M\"\n",
    "                  )\n",
    "\n",
    "\n",
    "fig = go.Figure(data=data, layout=layout)\n",
    "\n",
    "py.iplot(fig)"
   ]
  },
  {
   "cell_type": "code",
   "execution_count": 154,
   "metadata": {},
   "outputs": [],
   "source": [
    "maint_by_bed = condos_subset.groupby('Bedrooms')['Maint_Fees'].mean()"
   ]
  },
  {
   "cell_type": "code",
   "execution_count": 149,
   "metadata": {},
   "outputs": [
    {
     "data": {
      "application/vnd.plotly.v1+json": {
       "config": {
        "linkText": "Export to plot.ly",
        "plotlyServerURL": "https://plot.ly",
        "showLink": false
       },
       "data": [
        {
         "type": "bar",
         "x": [
          1,
          2,
          3
         ],
         "y": [
          479.09853971962616,
          754.5925055187635,
          812.938165938865
         ]
        }
       ],
       "layout": {
        "template": {
         "data": {
          "bar": [
           {
            "error_x": {
             "color": "#2a3f5f"
            },
            "error_y": {
             "color": "#2a3f5f"
            },
            "marker": {
             "line": {
              "color": "#E5ECF6",
              "width": 0.5
             }
            },
            "type": "bar"
           }
          ],
          "barpolar": [
           {
            "marker": {
             "line": {
              "color": "#E5ECF6",
              "width": 0.5
             }
            },
            "type": "barpolar"
           }
          ],
          "carpet": [
           {
            "aaxis": {
             "endlinecolor": "#2a3f5f",
             "gridcolor": "white",
             "linecolor": "white",
             "minorgridcolor": "white",
             "startlinecolor": "#2a3f5f"
            },
            "baxis": {
             "endlinecolor": "#2a3f5f",
             "gridcolor": "white",
             "linecolor": "white",
             "minorgridcolor": "white",
             "startlinecolor": "#2a3f5f"
            },
            "type": "carpet"
           }
          ],
          "choropleth": [
           {
            "colorbar": {
             "outlinewidth": 0,
             "ticks": ""
            },
            "type": "choropleth"
           }
          ],
          "contour": [
           {
            "colorbar": {
             "outlinewidth": 0,
             "ticks": ""
            },
            "colorscale": [
             [
              0,
              "#0d0887"
             ],
             [
              0.1111111111111111,
              "#46039f"
             ],
             [
              0.2222222222222222,
              "#7201a8"
             ],
             [
              0.3333333333333333,
              "#9c179e"
             ],
             [
              0.4444444444444444,
              "#bd3786"
             ],
             [
              0.5555555555555556,
              "#d8576b"
             ],
             [
              0.6666666666666666,
              "#ed7953"
             ],
             [
              0.7777777777777778,
              "#fb9f3a"
             ],
             [
              0.8888888888888888,
              "#fdca26"
             ],
             [
              1,
              "#f0f921"
             ]
            ],
            "type": "contour"
           }
          ],
          "contourcarpet": [
           {
            "colorbar": {
             "outlinewidth": 0,
             "ticks": ""
            },
            "type": "contourcarpet"
           }
          ],
          "heatmap": [
           {
            "colorbar": {
             "outlinewidth": 0,
             "ticks": ""
            },
            "colorscale": [
             [
              0,
              "#0d0887"
             ],
             [
              0.1111111111111111,
              "#46039f"
             ],
             [
              0.2222222222222222,
              "#7201a8"
             ],
             [
              0.3333333333333333,
              "#9c179e"
             ],
             [
              0.4444444444444444,
              "#bd3786"
             ],
             [
              0.5555555555555556,
              "#d8576b"
             ],
             [
              0.6666666666666666,
              "#ed7953"
             ],
             [
              0.7777777777777778,
              "#fb9f3a"
             ],
             [
              0.8888888888888888,
              "#fdca26"
             ],
             [
              1,
              "#f0f921"
             ]
            ],
            "type": "heatmap"
           }
          ],
          "heatmapgl": [
           {
            "colorbar": {
             "outlinewidth": 0,
             "ticks": ""
            },
            "colorscale": [
             [
              0,
              "#0d0887"
             ],
             [
              0.1111111111111111,
              "#46039f"
             ],
             [
              0.2222222222222222,
              "#7201a8"
             ],
             [
              0.3333333333333333,
              "#9c179e"
             ],
             [
              0.4444444444444444,
              "#bd3786"
             ],
             [
              0.5555555555555556,
              "#d8576b"
             ],
             [
              0.6666666666666666,
              "#ed7953"
             ],
             [
              0.7777777777777778,
              "#fb9f3a"
             ],
             [
              0.8888888888888888,
              "#fdca26"
             ],
             [
              1,
              "#f0f921"
             ]
            ],
            "type": "heatmapgl"
           }
          ],
          "histogram": [
           {
            "marker": {
             "colorbar": {
              "outlinewidth": 0,
              "ticks": ""
             }
            },
            "type": "histogram"
           }
          ],
          "histogram2d": [
           {
            "colorbar": {
             "outlinewidth": 0,
             "ticks": ""
            },
            "colorscale": [
             [
              0,
              "#0d0887"
             ],
             [
              0.1111111111111111,
              "#46039f"
             ],
             [
              0.2222222222222222,
              "#7201a8"
             ],
             [
              0.3333333333333333,
              "#9c179e"
             ],
             [
              0.4444444444444444,
              "#bd3786"
             ],
             [
              0.5555555555555556,
              "#d8576b"
             ],
             [
              0.6666666666666666,
              "#ed7953"
             ],
             [
              0.7777777777777778,
              "#fb9f3a"
             ],
             [
              0.8888888888888888,
              "#fdca26"
             ],
             [
              1,
              "#f0f921"
             ]
            ],
            "type": "histogram2d"
           }
          ],
          "histogram2dcontour": [
           {
            "colorbar": {
             "outlinewidth": 0,
             "ticks": ""
            },
            "colorscale": [
             [
              0,
              "#0d0887"
             ],
             [
              0.1111111111111111,
              "#46039f"
             ],
             [
              0.2222222222222222,
              "#7201a8"
             ],
             [
              0.3333333333333333,
              "#9c179e"
             ],
             [
              0.4444444444444444,
              "#bd3786"
             ],
             [
              0.5555555555555556,
              "#d8576b"
             ],
             [
              0.6666666666666666,
              "#ed7953"
             ],
             [
              0.7777777777777778,
              "#fb9f3a"
             ],
             [
              0.8888888888888888,
              "#fdca26"
             ],
             [
              1,
              "#f0f921"
             ]
            ],
            "type": "histogram2dcontour"
           }
          ],
          "mesh3d": [
           {
            "colorbar": {
             "outlinewidth": 0,
             "ticks": ""
            },
            "type": "mesh3d"
           }
          ],
          "parcoords": [
           {
            "line": {
             "colorbar": {
              "outlinewidth": 0,
              "ticks": ""
             }
            },
            "type": "parcoords"
           }
          ],
          "pie": [
           {
            "automargin": true,
            "type": "pie"
           }
          ],
          "scatter": [
           {
            "marker": {
             "colorbar": {
              "outlinewidth": 0,
              "ticks": ""
             }
            },
            "type": "scatter"
           }
          ],
          "scatter3d": [
           {
            "line": {
             "colorbar": {
              "outlinewidth": 0,
              "ticks": ""
             }
            },
            "marker": {
             "colorbar": {
              "outlinewidth": 0,
              "ticks": ""
             }
            },
            "type": "scatter3d"
           }
          ],
          "scattercarpet": [
           {
            "marker": {
             "colorbar": {
              "outlinewidth": 0,
              "ticks": ""
             }
            },
            "type": "scattercarpet"
           }
          ],
          "scattergeo": [
           {
            "marker": {
             "colorbar": {
              "outlinewidth": 0,
              "ticks": ""
             }
            },
            "type": "scattergeo"
           }
          ],
          "scattergl": [
           {
            "marker": {
             "colorbar": {
              "outlinewidth": 0,
              "ticks": ""
             }
            },
            "type": "scattergl"
           }
          ],
          "scattermapbox": [
           {
            "marker": {
             "colorbar": {
              "outlinewidth": 0,
              "ticks": ""
             }
            },
            "type": "scattermapbox"
           }
          ],
          "scatterpolar": [
           {
            "marker": {
             "colorbar": {
              "outlinewidth": 0,
              "ticks": ""
             }
            },
            "type": "scatterpolar"
           }
          ],
          "scatterpolargl": [
           {
            "marker": {
             "colorbar": {
              "outlinewidth": 0,
              "ticks": ""
             }
            },
            "type": "scatterpolargl"
           }
          ],
          "scatterternary": [
           {
            "marker": {
             "colorbar": {
              "outlinewidth": 0,
              "ticks": ""
             }
            },
            "type": "scatterternary"
           }
          ],
          "surface": [
           {
            "colorbar": {
             "outlinewidth": 0,
             "ticks": ""
            },
            "colorscale": [
             [
              0,
              "#0d0887"
             ],
             [
              0.1111111111111111,
              "#46039f"
             ],
             [
              0.2222222222222222,
              "#7201a8"
             ],
             [
              0.3333333333333333,
              "#9c179e"
             ],
             [
              0.4444444444444444,
              "#bd3786"
             ],
             [
              0.5555555555555556,
              "#d8576b"
             ],
             [
              0.6666666666666666,
              "#ed7953"
             ],
             [
              0.7777777777777778,
              "#fb9f3a"
             ],
             [
              0.8888888888888888,
              "#fdca26"
             ],
             [
              1,
              "#f0f921"
             ]
            ],
            "type": "surface"
           }
          ],
          "table": [
           {
            "cells": {
             "fill": {
              "color": "#EBF0F8"
             },
             "line": {
              "color": "white"
             }
            },
            "header": {
             "fill": {
              "color": "#C8D4E3"
             },
             "line": {
              "color": "white"
             }
            },
            "type": "table"
           }
          ]
         },
         "layout": {
          "annotationdefaults": {
           "arrowcolor": "#2a3f5f",
           "arrowhead": 0,
           "arrowwidth": 1
          },
          "coloraxis": {
           "colorbar": {
            "outlinewidth": 0,
            "ticks": ""
           }
          },
          "colorscale": {
           "diverging": [
            [
             0,
             "#8e0152"
            ],
            [
             0.1,
             "#c51b7d"
            ],
            [
             0.2,
             "#de77ae"
            ],
            [
             0.3,
             "#f1b6da"
            ],
            [
             0.4,
             "#fde0ef"
            ],
            [
             0.5,
             "#f7f7f7"
            ],
            [
             0.6,
             "#e6f5d0"
            ],
            [
             0.7,
             "#b8e186"
            ],
            [
             0.8,
             "#7fbc41"
            ],
            [
             0.9,
             "#4d9221"
            ],
            [
             1,
             "#276419"
            ]
           ],
           "sequential": [
            [
             0,
             "#0d0887"
            ],
            [
             0.1111111111111111,
             "#46039f"
            ],
            [
             0.2222222222222222,
             "#7201a8"
            ],
            [
             0.3333333333333333,
             "#9c179e"
            ],
            [
             0.4444444444444444,
             "#bd3786"
            ],
            [
             0.5555555555555556,
             "#d8576b"
            ],
            [
             0.6666666666666666,
             "#ed7953"
            ],
            [
             0.7777777777777778,
             "#fb9f3a"
            ],
            [
             0.8888888888888888,
             "#fdca26"
            ],
            [
             1,
             "#f0f921"
            ]
           ],
           "sequentialminus": [
            [
             0,
             "#0d0887"
            ],
            [
             0.1111111111111111,
             "#46039f"
            ],
            [
             0.2222222222222222,
             "#7201a8"
            ],
            [
             0.3333333333333333,
             "#9c179e"
            ],
            [
             0.4444444444444444,
             "#bd3786"
            ],
            [
             0.5555555555555556,
             "#d8576b"
            ],
            [
             0.6666666666666666,
             "#ed7953"
            ],
            [
             0.7777777777777778,
             "#fb9f3a"
            ],
            [
             0.8888888888888888,
             "#fdca26"
            ],
            [
             1,
             "#f0f921"
            ]
           ]
          },
          "colorway": [
           "#636efa",
           "#EF553B",
           "#00cc96",
           "#ab63fa",
           "#FFA15A",
           "#19d3f3",
           "#FF6692",
           "#B6E880",
           "#FF97FF",
           "#FECB52"
          ],
          "font": {
           "color": "#2a3f5f"
          },
          "geo": {
           "bgcolor": "white",
           "lakecolor": "white",
           "landcolor": "#E5ECF6",
           "showlakes": true,
           "showland": true,
           "subunitcolor": "white"
          },
          "hoverlabel": {
           "align": "left"
          },
          "hovermode": "closest",
          "mapbox": {
           "style": "light"
          },
          "paper_bgcolor": "white",
          "plot_bgcolor": "#E5ECF6",
          "polar": {
           "angularaxis": {
            "gridcolor": "white",
            "linecolor": "white",
            "ticks": ""
           },
           "bgcolor": "#E5ECF6",
           "radialaxis": {
            "gridcolor": "white",
            "linecolor": "white",
            "ticks": ""
           }
          },
          "scene": {
           "xaxis": {
            "backgroundcolor": "#E5ECF6",
            "gridcolor": "white",
            "gridwidth": 2,
            "linecolor": "white",
            "showbackground": true,
            "ticks": "",
            "zerolinecolor": "white"
           },
           "yaxis": {
            "backgroundcolor": "#E5ECF6",
            "gridcolor": "white",
            "gridwidth": 2,
            "linecolor": "white",
            "showbackground": true,
            "ticks": "",
            "zerolinecolor": "white"
           },
           "zaxis": {
            "backgroundcolor": "#E5ECF6",
            "gridcolor": "white",
            "gridwidth": 2,
            "linecolor": "white",
            "showbackground": true,
            "ticks": "",
            "zerolinecolor": "white"
           }
          },
          "shapedefaults": {
           "line": {
            "color": "#2a3f5f"
           }
          },
          "ternary": {
           "aaxis": {
            "gridcolor": "white",
            "linecolor": "white",
            "ticks": ""
           },
           "baxis": {
            "gridcolor": "white",
            "linecolor": "white",
            "ticks": ""
           },
           "bgcolor": "#E5ECF6",
           "caxis": {
            "gridcolor": "white",
            "linecolor": "white",
            "ticks": ""
           }
          },
          "title": {
           "x": 0.05
          },
          "xaxis": {
           "automargin": true,
           "gridcolor": "white",
           "linecolor": "white",
           "ticks": "",
           "title": {
            "standoff": 15
           },
           "zerolinecolor": "white",
           "zerolinewidth": 2
          },
          "yaxis": {
           "automargin": true,
           "gridcolor": "white",
           "linecolor": "white",
           "ticks": "",
           "title": {
            "standoff": 15
           },
           "zerolinecolor": "white",
           "zerolinewidth": 2
          }
         }
        },
        "title": {
         "text": "Average Monthly Maintenance Fees"
        },
        "xaxis": {
         "title": {
          "text": "No. of Beds"
         }
        },
        "yaxis": {
         "title": {
          "text": "Value in $"
         }
        }
       }
      },
      "text/html": [
       "<div>\n",
       "        \n",
       "        \n",
       "            <div id=\"80641d63-6ae7-43cd-b1af-0185961e00a2\" class=\"plotly-graph-div\" style=\"height:525px; width:100%;\"></div>\n",
       "            <script type=\"text/javascript\">\n",
       "                require([\"plotly\"], function(Plotly) {\n",
       "                    window.PLOTLYENV=window.PLOTLYENV || {};\n",
       "                    \n",
       "                if (document.getElementById(\"80641d63-6ae7-43cd-b1af-0185961e00a2\")) {\n",
       "                    Plotly.newPlot(\n",
       "                        '80641d63-6ae7-43cd-b1af-0185961e00a2',\n",
       "                        [{\"type\": \"bar\", \"x\": [1.0, 2.0, 3.0], \"y\": [479.09853971962616, 754.5925055187635, 812.938165938865]}],\n",
       "                        {\"template\": {\"data\": {\"bar\": [{\"error_x\": {\"color\": \"#2a3f5f\"}, \"error_y\": {\"color\": \"#2a3f5f\"}, \"marker\": {\"line\": {\"color\": \"#E5ECF6\", \"width\": 0.5}}, \"type\": \"bar\"}], \"barpolar\": [{\"marker\": {\"line\": {\"color\": \"#E5ECF6\", \"width\": 0.5}}, \"type\": \"barpolar\"}], \"carpet\": [{\"aaxis\": {\"endlinecolor\": \"#2a3f5f\", \"gridcolor\": \"white\", \"linecolor\": \"white\", \"minorgridcolor\": \"white\", \"startlinecolor\": \"#2a3f5f\"}, \"baxis\": {\"endlinecolor\": \"#2a3f5f\", \"gridcolor\": \"white\", \"linecolor\": \"white\", \"minorgridcolor\": \"white\", \"startlinecolor\": \"#2a3f5f\"}, \"type\": \"carpet\"}], \"choropleth\": [{\"colorbar\": {\"outlinewidth\": 0, \"ticks\": \"\"}, \"type\": \"choropleth\"}], \"contour\": [{\"colorbar\": {\"outlinewidth\": 0, \"ticks\": \"\"}, \"colorscale\": [[0.0, \"#0d0887\"], [0.1111111111111111, \"#46039f\"], [0.2222222222222222, \"#7201a8\"], [0.3333333333333333, \"#9c179e\"], [0.4444444444444444, \"#bd3786\"], [0.5555555555555556, \"#d8576b\"], [0.6666666666666666, \"#ed7953\"], [0.7777777777777778, \"#fb9f3a\"], [0.8888888888888888, \"#fdca26\"], [1.0, \"#f0f921\"]], \"type\": \"contour\"}], \"contourcarpet\": [{\"colorbar\": {\"outlinewidth\": 0, \"ticks\": \"\"}, \"type\": \"contourcarpet\"}], \"heatmap\": [{\"colorbar\": {\"outlinewidth\": 0, \"ticks\": \"\"}, \"colorscale\": [[0.0, \"#0d0887\"], [0.1111111111111111, \"#46039f\"], [0.2222222222222222, \"#7201a8\"], [0.3333333333333333, \"#9c179e\"], [0.4444444444444444, \"#bd3786\"], [0.5555555555555556, \"#d8576b\"], [0.6666666666666666, \"#ed7953\"], [0.7777777777777778, \"#fb9f3a\"], [0.8888888888888888, \"#fdca26\"], [1.0, \"#f0f921\"]], \"type\": \"heatmap\"}], \"heatmapgl\": [{\"colorbar\": {\"outlinewidth\": 0, \"ticks\": \"\"}, \"colorscale\": [[0.0, \"#0d0887\"], [0.1111111111111111, \"#46039f\"], [0.2222222222222222, \"#7201a8\"], [0.3333333333333333, \"#9c179e\"], [0.4444444444444444, \"#bd3786\"], [0.5555555555555556, \"#d8576b\"], [0.6666666666666666, \"#ed7953\"], [0.7777777777777778, \"#fb9f3a\"], [0.8888888888888888, \"#fdca26\"], [1.0, \"#f0f921\"]], \"type\": \"heatmapgl\"}], \"histogram\": [{\"marker\": {\"colorbar\": {\"outlinewidth\": 0, \"ticks\": \"\"}}, \"type\": \"histogram\"}], \"histogram2d\": [{\"colorbar\": {\"outlinewidth\": 0, \"ticks\": \"\"}, \"colorscale\": [[0.0, \"#0d0887\"], [0.1111111111111111, \"#46039f\"], [0.2222222222222222, \"#7201a8\"], [0.3333333333333333, \"#9c179e\"], [0.4444444444444444, \"#bd3786\"], [0.5555555555555556, \"#d8576b\"], [0.6666666666666666, \"#ed7953\"], [0.7777777777777778, \"#fb9f3a\"], [0.8888888888888888, \"#fdca26\"], [1.0, \"#f0f921\"]], \"type\": \"histogram2d\"}], \"histogram2dcontour\": [{\"colorbar\": {\"outlinewidth\": 0, \"ticks\": \"\"}, \"colorscale\": [[0.0, \"#0d0887\"], [0.1111111111111111, \"#46039f\"], [0.2222222222222222, \"#7201a8\"], [0.3333333333333333, \"#9c179e\"], [0.4444444444444444, \"#bd3786\"], [0.5555555555555556, \"#d8576b\"], [0.6666666666666666, \"#ed7953\"], [0.7777777777777778, \"#fb9f3a\"], [0.8888888888888888, \"#fdca26\"], [1.0, \"#f0f921\"]], \"type\": \"histogram2dcontour\"}], \"mesh3d\": [{\"colorbar\": {\"outlinewidth\": 0, \"ticks\": \"\"}, \"type\": \"mesh3d\"}], \"parcoords\": [{\"line\": {\"colorbar\": {\"outlinewidth\": 0, \"ticks\": \"\"}}, \"type\": \"parcoords\"}], \"pie\": [{\"automargin\": true, \"type\": \"pie\"}], \"scatter\": [{\"marker\": {\"colorbar\": {\"outlinewidth\": 0, \"ticks\": \"\"}}, \"type\": \"scatter\"}], \"scatter3d\": [{\"line\": {\"colorbar\": {\"outlinewidth\": 0, \"ticks\": \"\"}}, \"marker\": {\"colorbar\": {\"outlinewidth\": 0, \"ticks\": \"\"}}, \"type\": \"scatter3d\"}], \"scattercarpet\": [{\"marker\": {\"colorbar\": {\"outlinewidth\": 0, \"ticks\": \"\"}}, \"type\": \"scattercarpet\"}], \"scattergeo\": [{\"marker\": {\"colorbar\": {\"outlinewidth\": 0, \"ticks\": \"\"}}, \"type\": \"scattergeo\"}], \"scattergl\": [{\"marker\": {\"colorbar\": {\"outlinewidth\": 0, \"ticks\": \"\"}}, \"type\": \"scattergl\"}], \"scattermapbox\": [{\"marker\": {\"colorbar\": {\"outlinewidth\": 0, \"ticks\": \"\"}}, \"type\": \"scattermapbox\"}], \"scatterpolar\": [{\"marker\": {\"colorbar\": {\"outlinewidth\": 0, \"ticks\": \"\"}}, \"type\": \"scatterpolar\"}], \"scatterpolargl\": [{\"marker\": {\"colorbar\": {\"outlinewidth\": 0, \"ticks\": \"\"}}, \"type\": \"scatterpolargl\"}], \"scatterternary\": [{\"marker\": {\"colorbar\": {\"outlinewidth\": 0, \"ticks\": \"\"}}, \"type\": \"scatterternary\"}], \"surface\": [{\"colorbar\": {\"outlinewidth\": 0, \"ticks\": \"\"}, \"colorscale\": [[0.0, \"#0d0887\"], [0.1111111111111111, \"#46039f\"], [0.2222222222222222, \"#7201a8\"], [0.3333333333333333, \"#9c179e\"], [0.4444444444444444, \"#bd3786\"], [0.5555555555555556, \"#d8576b\"], [0.6666666666666666, \"#ed7953\"], [0.7777777777777778, \"#fb9f3a\"], [0.8888888888888888, \"#fdca26\"], [1.0, \"#f0f921\"]], \"type\": \"surface\"}], \"table\": [{\"cells\": {\"fill\": {\"color\": \"#EBF0F8\"}, \"line\": {\"color\": \"white\"}}, \"header\": {\"fill\": {\"color\": \"#C8D4E3\"}, \"line\": {\"color\": \"white\"}}, \"type\": \"table\"}]}, \"layout\": {\"annotationdefaults\": {\"arrowcolor\": \"#2a3f5f\", \"arrowhead\": 0, \"arrowwidth\": 1}, \"coloraxis\": {\"colorbar\": {\"outlinewidth\": 0, \"ticks\": \"\"}}, \"colorscale\": {\"diverging\": [[0, \"#8e0152\"], [0.1, \"#c51b7d\"], [0.2, \"#de77ae\"], [0.3, \"#f1b6da\"], [0.4, \"#fde0ef\"], [0.5, \"#f7f7f7\"], [0.6, \"#e6f5d0\"], [0.7, \"#b8e186\"], [0.8, \"#7fbc41\"], [0.9, \"#4d9221\"], [1, \"#276419\"]], \"sequential\": [[0.0, \"#0d0887\"], [0.1111111111111111, \"#46039f\"], [0.2222222222222222, \"#7201a8\"], [0.3333333333333333, \"#9c179e\"], [0.4444444444444444, \"#bd3786\"], [0.5555555555555556, \"#d8576b\"], [0.6666666666666666, \"#ed7953\"], [0.7777777777777778, \"#fb9f3a\"], [0.8888888888888888, \"#fdca26\"], [1.0, \"#f0f921\"]], \"sequentialminus\": [[0.0, \"#0d0887\"], [0.1111111111111111, \"#46039f\"], [0.2222222222222222, \"#7201a8\"], [0.3333333333333333, \"#9c179e\"], [0.4444444444444444, \"#bd3786\"], [0.5555555555555556, \"#d8576b\"], [0.6666666666666666, \"#ed7953\"], [0.7777777777777778, \"#fb9f3a\"], [0.8888888888888888, \"#fdca26\"], [1.0, \"#f0f921\"]]}, \"colorway\": [\"#636efa\", \"#EF553B\", \"#00cc96\", \"#ab63fa\", \"#FFA15A\", \"#19d3f3\", \"#FF6692\", \"#B6E880\", \"#FF97FF\", \"#FECB52\"], \"font\": {\"color\": \"#2a3f5f\"}, \"geo\": {\"bgcolor\": \"white\", \"lakecolor\": \"white\", \"landcolor\": \"#E5ECF6\", \"showlakes\": true, \"showland\": true, \"subunitcolor\": \"white\"}, \"hoverlabel\": {\"align\": \"left\"}, \"hovermode\": \"closest\", \"mapbox\": {\"style\": \"light\"}, \"paper_bgcolor\": \"white\", \"plot_bgcolor\": \"#E5ECF6\", \"polar\": {\"angularaxis\": {\"gridcolor\": \"white\", \"linecolor\": \"white\", \"ticks\": \"\"}, \"bgcolor\": \"#E5ECF6\", \"radialaxis\": {\"gridcolor\": \"white\", \"linecolor\": \"white\", \"ticks\": \"\"}}, \"scene\": {\"xaxis\": {\"backgroundcolor\": \"#E5ECF6\", \"gridcolor\": \"white\", \"gridwidth\": 2, \"linecolor\": \"white\", \"showbackground\": true, \"ticks\": \"\", \"zerolinecolor\": \"white\"}, \"yaxis\": {\"backgroundcolor\": \"#E5ECF6\", \"gridcolor\": \"white\", \"gridwidth\": 2, \"linecolor\": \"white\", \"showbackground\": true, \"ticks\": \"\", \"zerolinecolor\": \"white\"}, \"zaxis\": {\"backgroundcolor\": \"#E5ECF6\", \"gridcolor\": \"white\", \"gridwidth\": 2, \"linecolor\": \"white\", \"showbackground\": true, \"ticks\": \"\", \"zerolinecolor\": \"white\"}}, \"shapedefaults\": {\"line\": {\"color\": \"#2a3f5f\"}}, \"ternary\": {\"aaxis\": {\"gridcolor\": \"white\", \"linecolor\": \"white\", \"ticks\": \"\"}, \"baxis\": {\"gridcolor\": \"white\", \"linecolor\": \"white\", \"ticks\": \"\"}, \"bgcolor\": \"#E5ECF6\", \"caxis\": {\"gridcolor\": \"white\", \"linecolor\": \"white\", \"ticks\": \"\"}}, \"title\": {\"x\": 0.05}, \"xaxis\": {\"automargin\": true, \"gridcolor\": \"white\", \"linecolor\": \"white\", \"ticks\": \"\", \"title\": {\"standoff\": 15}, \"zerolinecolor\": \"white\", \"zerolinewidth\": 2}, \"yaxis\": {\"automargin\": true, \"gridcolor\": \"white\", \"linecolor\": \"white\", \"ticks\": \"\", \"title\": {\"standoff\": 15}, \"zerolinecolor\": \"white\", \"zerolinewidth\": 2}}}, \"title\": {\"text\": \"Average Monthly Maintenance Fees\"}, \"xaxis\": {\"title\": {\"text\": \"No. of Beds\"}}, \"yaxis\": {\"title\": {\"text\": \"Value in $\"}}},\n",
       "                        {\"responsive\": true}\n",
       "                    ).then(function(){\n",
       "                            \n",
       "var gd = document.getElementById('80641d63-6ae7-43cd-b1af-0185961e00a2');\n",
       "var x = new MutationObserver(function (mutations, observer) {{\n",
       "        var display = window.getComputedStyle(gd).display;\n",
       "        if (!display || display === 'none') {{\n",
       "            console.log([gd, 'removed!']);\n",
       "            Plotly.purge(gd);\n",
       "            observer.disconnect();\n",
       "        }}\n",
       "}});\n",
       "\n",
       "// Listen for the removal of the full notebook cells\n",
       "var notebookContainer = gd.closest('#notebook-container');\n",
       "if (notebookContainer) {{\n",
       "    x.observe(notebookContainer, {childList: true});\n",
       "}}\n",
       "\n",
       "// Listen for the clearing of the current output cell\n",
       "var outputEl = gd.closest('.output');\n",
       "if (outputEl) {{\n",
       "    x.observe(outputEl, {childList: true});\n",
       "}}\n",
       "\n",
       "                        })\n",
       "                };\n",
       "                });\n",
       "            </script>\n",
       "        </div>"
      ]
     },
     "metadata": {},
     "output_type": "display_data"
    }
   ],
   "source": [
    "data = go.Bar(\n",
    "    x=maint_by_bed.index,\n",
    "    y=maint_by_bed.values,\n",
    " \n",
    "\n",
    ") \n",
    "\n",
    "layout = go.Layout(title='Average Monthly Maintenance Fees',\n",
    "    xaxis_title=\"No. of Beds\",\n",
    "    yaxis_title=\"Value in $\"\n",
    "                  )\n",
    "\n",
    "\n",
    "fig = go.Figure(data=data, layout=layout)\n",
    "\n",
    "py.iplot(fig)"
   ]
  },
  {
   "cell_type": "code",
   "execution_count": 156,
   "metadata": {},
   "outputs": [
    {
     "data": {
      "text/plain": [
       "Bedrooms\n",
       "1.0     634.956192\n",
       "2.0    1008.304636\n",
       "3.0    1500.674672\n",
       "Name: Condo_Size, dtype: float64"
      ]
     },
     "execution_count": 156,
     "metadata": {},
     "output_type": "execute_result"
    }
   ],
   "source": [
    "size_by_bed = condos_subset.groupby('Bedrooms')['Condo_Size'].mean() \n",
    "size_by_bed"
   ]
  },
  {
   "cell_type": "code",
   "execution_count": 159,
   "metadata": {},
   "outputs": [
    {
     "data": {
      "application/vnd.plotly.v1+json": {
       "config": {
        "linkText": "Export to plot.ly",
        "plotlyServerURL": "https://plot.ly",
        "showLink": false
       },
       "data": [
        {
         "type": "bar",
         "x": [
          1,
          2,
          3
         ],
         "y": [
          634.956191588785,
          1008.3046357615895,
          1500.674672489083
         ]
        }
       ],
       "layout": {
        "template": {
         "data": {
          "bar": [
           {
            "error_x": {
             "color": "#2a3f5f"
            },
            "error_y": {
             "color": "#2a3f5f"
            },
            "marker": {
             "line": {
              "color": "#E5ECF6",
              "width": 0.5
             }
            },
            "type": "bar"
           }
          ],
          "barpolar": [
           {
            "marker": {
             "line": {
              "color": "#E5ECF6",
              "width": 0.5
             }
            },
            "type": "barpolar"
           }
          ],
          "carpet": [
           {
            "aaxis": {
             "endlinecolor": "#2a3f5f",
             "gridcolor": "white",
             "linecolor": "white",
             "minorgridcolor": "white",
             "startlinecolor": "#2a3f5f"
            },
            "baxis": {
             "endlinecolor": "#2a3f5f",
             "gridcolor": "white",
             "linecolor": "white",
             "minorgridcolor": "white",
             "startlinecolor": "#2a3f5f"
            },
            "type": "carpet"
           }
          ],
          "choropleth": [
           {
            "colorbar": {
             "outlinewidth": 0,
             "ticks": ""
            },
            "type": "choropleth"
           }
          ],
          "contour": [
           {
            "colorbar": {
             "outlinewidth": 0,
             "ticks": ""
            },
            "colorscale": [
             [
              0,
              "#0d0887"
             ],
             [
              0.1111111111111111,
              "#46039f"
             ],
             [
              0.2222222222222222,
              "#7201a8"
             ],
             [
              0.3333333333333333,
              "#9c179e"
             ],
             [
              0.4444444444444444,
              "#bd3786"
             ],
             [
              0.5555555555555556,
              "#d8576b"
             ],
             [
              0.6666666666666666,
              "#ed7953"
             ],
             [
              0.7777777777777778,
              "#fb9f3a"
             ],
             [
              0.8888888888888888,
              "#fdca26"
             ],
             [
              1,
              "#f0f921"
             ]
            ],
            "type": "contour"
           }
          ],
          "contourcarpet": [
           {
            "colorbar": {
             "outlinewidth": 0,
             "ticks": ""
            },
            "type": "contourcarpet"
           }
          ],
          "heatmap": [
           {
            "colorbar": {
             "outlinewidth": 0,
             "ticks": ""
            },
            "colorscale": [
             [
              0,
              "#0d0887"
             ],
             [
              0.1111111111111111,
              "#46039f"
             ],
             [
              0.2222222222222222,
              "#7201a8"
             ],
             [
              0.3333333333333333,
              "#9c179e"
             ],
             [
              0.4444444444444444,
              "#bd3786"
             ],
             [
              0.5555555555555556,
              "#d8576b"
             ],
             [
              0.6666666666666666,
              "#ed7953"
             ],
             [
              0.7777777777777778,
              "#fb9f3a"
             ],
             [
              0.8888888888888888,
              "#fdca26"
             ],
             [
              1,
              "#f0f921"
             ]
            ],
            "type": "heatmap"
           }
          ],
          "heatmapgl": [
           {
            "colorbar": {
             "outlinewidth": 0,
             "ticks": ""
            },
            "colorscale": [
             [
              0,
              "#0d0887"
             ],
             [
              0.1111111111111111,
              "#46039f"
             ],
             [
              0.2222222222222222,
              "#7201a8"
             ],
             [
              0.3333333333333333,
              "#9c179e"
             ],
             [
              0.4444444444444444,
              "#bd3786"
             ],
             [
              0.5555555555555556,
              "#d8576b"
             ],
             [
              0.6666666666666666,
              "#ed7953"
             ],
             [
              0.7777777777777778,
              "#fb9f3a"
             ],
             [
              0.8888888888888888,
              "#fdca26"
             ],
             [
              1,
              "#f0f921"
             ]
            ],
            "type": "heatmapgl"
           }
          ],
          "histogram": [
           {
            "marker": {
             "colorbar": {
              "outlinewidth": 0,
              "ticks": ""
             }
            },
            "type": "histogram"
           }
          ],
          "histogram2d": [
           {
            "colorbar": {
             "outlinewidth": 0,
             "ticks": ""
            },
            "colorscale": [
             [
              0,
              "#0d0887"
             ],
             [
              0.1111111111111111,
              "#46039f"
             ],
             [
              0.2222222222222222,
              "#7201a8"
             ],
             [
              0.3333333333333333,
              "#9c179e"
             ],
             [
              0.4444444444444444,
              "#bd3786"
             ],
             [
              0.5555555555555556,
              "#d8576b"
             ],
             [
              0.6666666666666666,
              "#ed7953"
             ],
             [
              0.7777777777777778,
              "#fb9f3a"
             ],
             [
              0.8888888888888888,
              "#fdca26"
             ],
             [
              1,
              "#f0f921"
             ]
            ],
            "type": "histogram2d"
           }
          ],
          "histogram2dcontour": [
           {
            "colorbar": {
             "outlinewidth": 0,
             "ticks": ""
            },
            "colorscale": [
             [
              0,
              "#0d0887"
             ],
             [
              0.1111111111111111,
              "#46039f"
             ],
             [
              0.2222222222222222,
              "#7201a8"
             ],
             [
              0.3333333333333333,
              "#9c179e"
             ],
             [
              0.4444444444444444,
              "#bd3786"
             ],
             [
              0.5555555555555556,
              "#d8576b"
             ],
             [
              0.6666666666666666,
              "#ed7953"
             ],
             [
              0.7777777777777778,
              "#fb9f3a"
             ],
             [
              0.8888888888888888,
              "#fdca26"
             ],
             [
              1,
              "#f0f921"
             ]
            ],
            "type": "histogram2dcontour"
           }
          ],
          "mesh3d": [
           {
            "colorbar": {
             "outlinewidth": 0,
             "ticks": ""
            },
            "type": "mesh3d"
           }
          ],
          "parcoords": [
           {
            "line": {
             "colorbar": {
              "outlinewidth": 0,
              "ticks": ""
             }
            },
            "type": "parcoords"
           }
          ],
          "pie": [
           {
            "automargin": true,
            "type": "pie"
           }
          ],
          "scatter": [
           {
            "marker": {
             "colorbar": {
              "outlinewidth": 0,
              "ticks": ""
             }
            },
            "type": "scatter"
           }
          ],
          "scatter3d": [
           {
            "line": {
             "colorbar": {
              "outlinewidth": 0,
              "ticks": ""
             }
            },
            "marker": {
             "colorbar": {
              "outlinewidth": 0,
              "ticks": ""
             }
            },
            "type": "scatter3d"
           }
          ],
          "scattercarpet": [
           {
            "marker": {
             "colorbar": {
              "outlinewidth": 0,
              "ticks": ""
             }
            },
            "type": "scattercarpet"
           }
          ],
          "scattergeo": [
           {
            "marker": {
             "colorbar": {
              "outlinewidth": 0,
              "ticks": ""
             }
            },
            "type": "scattergeo"
           }
          ],
          "scattergl": [
           {
            "marker": {
             "colorbar": {
              "outlinewidth": 0,
              "ticks": ""
             }
            },
            "type": "scattergl"
           }
          ],
          "scattermapbox": [
           {
            "marker": {
             "colorbar": {
              "outlinewidth": 0,
              "ticks": ""
             }
            },
            "type": "scattermapbox"
           }
          ],
          "scatterpolar": [
           {
            "marker": {
             "colorbar": {
              "outlinewidth": 0,
              "ticks": ""
             }
            },
            "type": "scatterpolar"
           }
          ],
          "scatterpolargl": [
           {
            "marker": {
             "colorbar": {
              "outlinewidth": 0,
              "ticks": ""
             }
            },
            "type": "scatterpolargl"
           }
          ],
          "scatterternary": [
           {
            "marker": {
             "colorbar": {
              "outlinewidth": 0,
              "ticks": ""
             }
            },
            "type": "scatterternary"
           }
          ],
          "surface": [
           {
            "colorbar": {
             "outlinewidth": 0,
             "ticks": ""
            },
            "colorscale": [
             [
              0,
              "#0d0887"
             ],
             [
              0.1111111111111111,
              "#46039f"
             ],
             [
              0.2222222222222222,
              "#7201a8"
             ],
             [
              0.3333333333333333,
              "#9c179e"
             ],
             [
              0.4444444444444444,
              "#bd3786"
             ],
             [
              0.5555555555555556,
              "#d8576b"
             ],
             [
              0.6666666666666666,
              "#ed7953"
             ],
             [
              0.7777777777777778,
              "#fb9f3a"
             ],
             [
              0.8888888888888888,
              "#fdca26"
             ],
             [
              1,
              "#f0f921"
             ]
            ],
            "type": "surface"
           }
          ],
          "table": [
           {
            "cells": {
             "fill": {
              "color": "#EBF0F8"
             },
             "line": {
              "color": "white"
             }
            },
            "header": {
             "fill": {
              "color": "#C8D4E3"
             },
             "line": {
              "color": "white"
             }
            },
            "type": "table"
           }
          ]
         },
         "layout": {
          "annotationdefaults": {
           "arrowcolor": "#2a3f5f",
           "arrowhead": 0,
           "arrowwidth": 1
          },
          "coloraxis": {
           "colorbar": {
            "outlinewidth": 0,
            "ticks": ""
           }
          },
          "colorscale": {
           "diverging": [
            [
             0,
             "#8e0152"
            ],
            [
             0.1,
             "#c51b7d"
            ],
            [
             0.2,
             "#de77ae"
            ],
            [
             0.3,
             "#f1b6da"
            ],
            [
             0.4,
             "#fde0ef"
            ],
            [
             0.5,
             "#f7f7f7"
            ],
            [
             0.6,
             "#e6f5d0"
            ],
            [
             0.7,
             "#b8e186"
            ],
            [
             0.8,
             "#7fbc41"
            ],
            [
             0.9,
             "#4d9221"
            ],
            [
             1,
             "#276419"
            ]
           ],
           "sequential": [
            [
             0,
             "#0d0887"
            ],
            [
             0.1111111111111111,
             "#46039f"
            ],
            [
             0.2222222222222222,
             "#7201a8"
            ],
            [
             0.3333333333333333,
             "#9c179e"
            ],
            [
             0.4444444444444444,
             "#bd3786"
            ],
            [
             0.5555555555555556,
             "#d8576b"
            ],
            [
             0.6666666666666666,
             "#ed7953"
            ],
            [
             0.7777777777777778,
             "#fb9f3a"
            ],
            [
             0.8888888888888888,
             "#fdca26"
            ],
            [
             1,
             "#f0f921"
            ]
           ],
           "sequentialminus": [
            [
             0,
             "#0d0887"
            ],
            [
             0.1111111111111111,
             "#46039f"
            ],
            [
             0.2222222222222222,
             "#7201a8"
            ],
            [
             0.3333333333333333,
             "#9c179e"
            ],
            [
             0.4444444444444444,
             "#bd3786"
            ],
            [
             0.5555555555555556,
             "#d8576b"
            ],
            [
             0.6666666666666666,
             "#ed7953"
            ],
            [
             0.7777777777777778,
             "#fb9f3a"
            ],
            [
             0.8888888888888888,
             "#fdca26"
            ],
            [
             1,
             "#f0f921"
            ]
           ]
          },
          "colorway": [
           "#636efa",
           "#EF553B",
           "#00cc96",
           "#ab63fa",
           "#FFA15A",
           "#19d3f3",
           "#FF6692",
           "#B6E880",
           "#FF97FF",
           "#FECB52"
          ],
          "font": {
           "color": "#2a3f5f"
          },
          "geo": {
           "bgcolor": "white",
           "lakecolor": "white",
           "landcolor": "#E5ECF6",
           "showlakes": true,
           "showland": true,
           "subunitcolor": "white"
          },
          "hoverlabel": {
           "align": "left"
          },
          "hovermode": "closest",
          "mapbox": {
           "style": "light"
          },
          "paper_bgcolor": "white",
          "plot_bgcolor": "#E5ECF6",
          "polar": {
           "angularaxis": {
            "gridcolor": "white",
            "linecolor": "white",
            "ticks": ""
           },
           "bgcolor": "#E5ECF6",
           "radialaxis": {
            "gridcolor": "white",
            "linecolor": "white",
            "ticks": ""
           }
          },
          "scene": {
           "xaxis": {
            "backgroundcolor": "#E5ECF6",
            "gridcolor": "white",
            "gridwidth": 2,
            "linecolor": "white",
            "showbackground": true,
            "ticks": "",
            "zerolinecolor": "white"
           },
           "yaxis": {
            "backgroundcolor": "#E5ECF6",
            "gridcolor": "white",
            "gridwidth": 2,
            "linecolor": "white",
            "showbackground": true,
            "ticks": "",
            "zerolinecolor": "white"
           },
           "zaxis": {
            "backgroundcolor": "#E5ECF6",
            "gridcolor": "white",
            "gridwidth": 2,
            "linecolor": "white",
            "showbackground": true,
            "ticks": "",
            "zerolinecolor": "white"
           }
          },
          "shapedefaults": {
           "line": {
            "color": "#2a3f5f"
           }
          },
          "ternary": {
           "aaxis": {
            "gridcolor": "white",
            "linecolor": "white",
            "ticks": ""
           },
           "baxis": {
            "gridcolor": "white",
            "linecolor": "white",
            "ticks": ""
           },
           "bgcolor": "#E5ECF6",
           "caxis": {
            "gridcolor": "white",
            "linecolor": "white",
            "ticks": ""
           }
          },
          "title": {
           "x": 0.05
          },
          "xaxis": {
           "automargin": true,
           "gridcolor": "white",
           "linecolor": "white",
           "ticks": "",
           "title": {
            "standoff": 15
           },
           "zerolinecolor": "white",
           "zerolinewidth": 2
          },
          "yaxis": {
           "automargin": true,
           "gridcolor": "white",
           "linecolor": "white",
           "ticks": "",
           "title": {
            "standoff": 15
           },
           "zerolinecolor": "white",
           "zerolinewidth": 2
          }
         }
        },
        "title": {
         "text": "Condo Size by number of bedrooms"
        },
        "xaxis": {
         "title": {
          "text": "No. of Beds"
         }
        },
        "yaxis": {
         "title": {
          "text": "Average Size"
         }
        }
       }
      },
      "text/html": [
       "<div>\n",
       "        \n",
       "        \n",
       "            <div id=\"442b2d46-6d99-4b3e-9b91-fae5be150d66\" class=\"plotly-graph-div\" style=\"height:525px; width:100%;\"></div>\n",
       "            <script type=\"text/javascript\">\n",
       "                require([\"plotly\"], function(Plotly) {\n",
       "                    window.PLOTLYENV=window.PLOTLYENV || {};\n",
       "                    \n",
       "                if (document.getElementById(\"442b2d46-6d99-4b3e-9b91-fae5be150d66\")) {\n",
       "                    Plotly.newPlot(\n",
       "                        '442b2d46-6d99-4b3e-9b91-fae5be150d66',\n",
       "                        [{\"type\": \"bar\", \"x\": [1.0, 2.0, 3.0], \"y\": [634.956191588785, 1008.3046357615895, 1500.674672489083]}],\n",
       "                        {\"template\": {\"data\": {\"bar\": [{\"error_x\": {\"color\": \"#2a3f5f\"}, \"error_y\": {\"color\": \"#2a3f5f\"}, \"marker\": {\"line\": {\"color\": \"#E5ECF6\", \"width\": 0.5}}, \"type\": \"bar\"}], \"barpolar\": [{\"marker\": {\"line\": {\"color\": \"#E5ECF6\", \"width\": 0.5}}, \"type\": \"barpolar\"}], \"carpet\": [{\"aaxis\": {\"endlinecolor\": \"#2a3f5f\", \"gridcolor\": \"white\", \"linecolor\": \"white\", \"minorgridcolor\": \"white\", \"startlinecolor\": \"#2a3f5f\"}, \"baxis\": {\"endlinecolor\": \"#2a3f5f\", \"gridcolor\": \"white\", \"linecolor\": \"white\", \"minorgridcolor\": \"white\", \"startlinecolor\": \"#2a3f5f\"}, \"type\": \"carpet\"}], \"choropleth\": [{\"colorbar\": {\"outlinewidth\": 0, \"ticks\": \"\"}, \"type\": \"choropleth\"}], \"contour\": [{\"colorbar\": {\"outlinewidth\": 0, \"ticks\": \"\"}, \"colorscale\": [[0.0, \"#0d0887\"], [0.1111111111111111, \"#46039f\"], [0.2222222222222222, \"#7201a8\"], [0.3333333333333333, \"#9c179e\"], [0.4444444444444444, \"#bd3786\"], [0.5555555555555556, \"#d8576b\"], [0.6666666666666666, \"#ed7953\"], [0.7777777777777778, \"#fb9f3a\"], [0.8888888888888888, \"#fdca26\"], [1.0, \"#f0f921\"]], \"type\": \"contour\"}], \"contourcarpet\": [{\"colorbar\": {\"outlinewidth\": 0, \"ticks\": \"\"}, \"type\": \"contourcarpet\"}], \"heatmap\": [{\"colorbar\": {\"outlinewidth\": 0, \"ticks\": \"\"}, \"colorscale\": [[0.0, \"#0d0887\"], [0.1111111111111111, \"#46039f\"], [0.2222222222222222, \"#7201a8\"], [0.3333333333333333, \"#9c179e\"], [0.4444444444444444, \"#bd3786\"], [0.5555555555555556, \"#d8576b\"], [0.6666666666666666, \"#ed7953\"], [0.7777777777777778, \"#fb9f3a\"], [0.8888888888888888, \"#fdca26\"], [1.0, \"#f0f921\"]], \"type\": \"heatmap\"}], \"heatmapgl\": [{\"colorbar\": {\"outlinewidth\": 0, \"ticks\": \"\"}, \"colorscale\": [[0.0, \"#0d0887\"], [0.1111111111111111, \"#46039f\"], [0.2222222222222222, \"#7201a8\"], [0.3333333333333333, \"#9c179e\"], [0.4444444444444444, \"#bd3786\"], [0.5555555555555556, \"#d8576b\"], [0.6666666666666666, \"#ed7953\"], [0.7777777777777778, \"#fb9f3a\"], [0.8888888888888888, \"#fdca26\"], [1.0, \"#f0f921\"]], \"type\": \"heatmapgl\"}], \"histogram\": [{\"marker\": {\"colorbar\": {\"outlinewidth\": 0, \"ticks\": \"\"}}, \"type\": \"histogram\"}], \"histogram2d\": [{\"colorbar\": {\"outlinewidth\": 0, \"ticks\": \"\"}, \"colorscale\": [[0.0, \"#0d0887\"], [0.1111111111111111, \"#46039f\"], [0.2222222222222222, \"#7201a8\"], [0.3333333333333333, \"#9c179e\"], [0.4444444444444444, \"#bd3786\"], [0.5555555555555556, \"#d8576b\"], [0.6666666666666666, \"#ed7953\"], [0.7777777777777778, \"#fb9f3a\"], [0.8888888888888888, \"#fdca26\"], [1.0, \"#f0f921\"]], \"type\": \"histogram2d\"}], \"histogram2dcontour\": [{\"colorbar\": {\"outlinewidth\": 0, \"ticks\": \"\"}, \"colorscale\": [[0.0, \"#0d0887\"], [0.1111111111111111, \"#46039f\"], [0.2222222222222222, \"#7201a8\"], [0.3333333333333333, \"#9c179e\"], [0.4444444444444444, \"#bd3786\"], [0.5555555555555556, \"#d8576b\"], [0.6666666666666666, \"#ed7953\"], [0.7777777777777778, \"#fb9f3a\"], [0.8888888888888888, \"#fdca26\"], [1.0, \"#f0f921\"]], \"type\": \"histogram2dcontour\"}], \"mesh3d\": [{\"colorbar\": {\"outlinewidth\": 0, \"ticks\": \"\"}, \"type\": \"mesh3d\"}], \"parcoords\": [{\"line\": {\"colorbar\": {\"outlinewidth\": 0, \"ticks\": \"\"}}, \"type\": \"parcoords\"}], \"pie\": [{\"automargin\": true, \"type\": \"pie\"}], \"scatter\": [{\"marker\": {\"colorbar\": {\"outlinewidth\": 0, \"ticks\": \"\"}}, \"type\": \"scatter\"}], \"scatter3d\": [{\"line\": {\"colorbar\": {\"outlinewidth\": 0, \"ticks\": \"\"}}, \"marker\": {\"colorbar\": {\"outlinewidth\": 0, \"ticks\": \"\"}}, \"type\": \"scatter3d\"}], \"scattercarpet\": [{\"marker\": {\"colorbar\": {\"outlinewidth\": 0, \"ticks\": \"\"}}, \"type\": \"scattercarpet\"}], \"scattergeo\": [{\"marker\": {\"colorbar\": {\"outlinewidth\": 0, \"ticks\": \"\"}}, \"type\": \"scattergeo\"}], \"scattergl\": [{\"marker\": {\"colorbar\": {\"outlinewidth\": 0, \"ticks\": \"\"}}, \"type\": \"scattergl\"}], \"scattermapbox\": [{\"marker\": {\"colorbar\": {\"outlinewidth\": 0, \"ticks\": \"\"}}, \"type\": \"scattermapbox\"}], \"scatterpolar\": [{\"marker\": {\"colorbar\": {\"outlinewidth\": 0, \"ticks\": \"\"}}, \"type\": \"scatterpolar\"}], \"scatterpolargl\": [{\"marker\": {\"colorbar\": {\"outlinewidth\": 0, \"ticks\": \"\"}}, \"type\": \"scatterpolargl\"}], \"scatterternary\": [{\"marker\": {\"colorbar\": {\"outlinewidth\": 0, \"ticks\": \"\"}}, \"type\": \"scatterternary\"}], \"surface\": [{\"colorbar\": {\"outlinewidth\": 0, \"ticks\": \"\"}, \"colorscale\": [[0.0, \"#0d0887\"], [0.1111111111111111, \"#46039f\"], [0.2222222222222222, \"#7201a8\"], [0.3333333333333333, \"#9c179e\"], [0.4444444444444444, \"#bd3786\"], [0.5555555555555556, \"#d8576b\"], [0.6666666666666666, \"#ed7953\"], [0.7777777777777778, \"#fb9f3a\"], [0.8888888888888888, \"#fdca26\"], [1.0, \"#f0f921\"]], \"type\": \"surface\"}], \"table\": [{\"cells\": {\"fill\": {\"color\": \"#EBF0F8\"}, \"line\": {\"color\": \"white\"}}, \"header\": {\"fill\": {\"color\": \"#C8D4E3\"}, \"line\": {\"color\": \"white\"}}, \"type\": \"table\"}]}, \"layout\": {\"annotationdefaults\": {\"arrowcolor\": \"#2a3f5f\", \"arrowhead\": 0, \"arrowwidth\": 1}, \"coloraxis\": {\"colorbar\": {\"outlinewidth\": 0, \"ticks\": \"\"}}, \"colorscale\": {\"diverging\": [[0, \"#8e0152\"], [0.1, \"#c51b7d\"], [0.2, \"#de77ae\"], [0.3, \"#f1b6da\"], [0.4, \"#fde0ef\"], [0.5, \"#f7f7f7\"], [0.6, \"#e6f5d0\"], [0.7, \"#b8e186\"], [0.8, \"#7fbc41\"], [0.9, \"#4d9221\"], [1, \"#276419\"]], \"sequential\": [[0.0, \"#0d0887\"], [0.1111111111111111, \"#46039f\"], [0.2222222222222222, \"#7201a8\"], [0.3333333333333333, \"#9c179e\"], [0.4444444444444444, \"#bd3786\"], [0.5555555555555556, \"#d8576b\"], [0.6666666666666666, \"#ed7953\"], [0.7777777777777778, \"#fb9f3a\"], [0.8888888888888888, \"#fdca26\"], [1.0, \"#f0f921\"]], \"sequentialminus\": [[0.0, \"#0d0887\"], [0.1111111111111111, \"#46039f\"], [0.2222222222222222, \"#7201a8\"], [0.3333333333333333, \"#9c179e\"], [0.4444444444444444, \"#bd3786\"], [0.5555555555555556, \"#d8576b\"], [0.6666666666666666, \"#ed7953\"], [0.7777777777777778, \"#fb9f3a\"], [0.8888888888888888, \"#fdca26\"], [1.0, \"#f0f921\"]]}, \"colorway\": [\"#636efa\", \"#EF553B\", \"#00cc96\", \"#ab63fa\", \"#FFA15A\", \"#19d3f3\", \"#FF6692\", \"#B6E880\", \"#FF97FF\", \"#FECB52\"], \"font\": {\"color\": \"#2a3f5f\"}, \"geo\": {\"bgcolor\": \"white\", \"lakecolor\": \"white\", \"landcolor\": \"#E5ECF6\", \"showlakes\": true, \"showland\": true, \"subunitcolor\": \"white\"}, \"hoverlabel\": {\"align\": \"left\"}, \"hovermode\": \"closest\", \"mapbox\": {\"style\": \"light\"}, \"paper_bgcolor\": \"white\", \"plot_bgcolor\": \"#E5ECF6\", \"polar\": {\"angularaxis\": {\"gridcolor\": \"white\", \"linecolor\": \"white\", \"ticks\": \"\"}, \"bgcolor\": \"#E5ECF6\", \"radialaxis\": {\"gridcolor\": \"white\", \"linecolor\": \"white\", \"ticks\": \"\"}}, \"scene\": {\"xaxis\": {\"backgroundcolor\": \"#E5ECF6\", \"gridcolor\": \"white\", \"gridwidth\": 2, \"linecolor\": \"white\", \"showbackground\": true, \"ticks\": \"\", \"zerolinecolor\": \"white\"}, \"yaxis\": {\"backgroundcolor\": \"#E5ECF6\", \"gridcolor\": \"white\", \"gridwidth\": 2, \"linecolor\": \"white\", \"showbackground\": true, \"ticks\": \"\", \"zerolinecolor\": \"white\"}, \"zaxis\": {\"backgroundcolor\": \"#E5ECF6\", \"gridcolor\": \"white\", \"gridwidth\": 2, \"linecolor\": \"white\", \"showbackground\": true, \"ticks\": \"\", \"zerolinecolor\": \"white\"}}, \"shapedefaults\": {\"line\": {\"color\": \"#2a3f5f\"}}, \"ternary\": {\"aaxis\": {\"gridcolor\": \"white\", \"linecolor\": \"white\", \"ticks\": \"\"}, \"baxis\": {\"gridcolor\": \"white\", \"linecolor\": \"white\", \"ticks\": \"\"}, \"bgcolor\": \"#E5ECF6\", \"caxis\": {\"gridcolor\": \"white\", \"linecolor\": \"white\", \"ticks\": \"\"}}, \"title\": {\"x\": 0.05}, \"xaxis\": {\"automargin\": true, \"gridcolor\": \"white\", \"linecolor\": \"white\", \"ticks\": \"\", \"title\": {\"standoff\": 15}, \"zerolinecolor\": \"white\", \"zerolinewidth\": 2}, \"yaxis\": {\"automargin\": true, \"gridcolor\": \"white\", \"linecolor\": \"white\", \"ticks\": \"\", \"title\": {\"standoff\": 15}, \"zerolinecolor\": \"white\", \"zerolinewidth\": 2}}}, \"title\": {\"text\": \"Condo Size by number of bedrooms\"}, \"xaxis\": {\"title\": {\"text\": \"No. of Beds\"}}, \"yaxis\": {\"title\": {\"text\": \"Average Size\"}}},\n",
       "                        {\"responsive\": true}\n",
       "                    ).then(function(){\n",
       "                            \n",
       "var gd = document.getElementById('442b2d46-6d99-4b3e-9b91-fae5be150d66');\n",
       "var x = new MutationObserver(function (mutations, observer) {{\n",
       "        var display = window.getComputedStyle(gd).display;\n",
       "        if (!display || display === 'none') {{\n",
       "            console.log([gd, 'removed!']);\n",
       "            Plotly.purge(gd);\n",
       "            observer.disconnect();\n",
       "        }}\n",
       "}});\n",
       "\n",
       "// Listen for the removal of the full notebook cells\n",
       "var notebookContainer = gd.closest('#notebook-container');\n",
       "if (notebookContainer) {{\n",
       "    x.observe(notebookContainer, {childList: true});\n",
       "}}\n",
       "\n",
       "// Listen for the clearing of the current output cell\n",
       "var outputEl = gd.closest('.output');\n",
       "if (outputEl) {{\n",
       "    x.observe(outputEl, {childList: true});\n",
       "}}\n",
       "\n",
       "                        })\n",
       "                };\n",
       "                });\n",
       "            </script>\n",
       "        </div>"
      ]
     },
     "metadata": {},
     "output_type": "display_data"
    }
   ],
   "source": [
    "data = go.Bar(\n",
    "    x=size_by_bed.index,\n",
    "    y=size_by_bed.values,\n",
    "\n",
    ") \n",
    "\n",
    "layout = go.Layout(title='Condo Size by number of bedrooms',\n",
    "                  xaxis_title=\"No. of Beds\",\n",
    "                   yaxis_title=\"Average Size\",\n",
    "                  )\n",
    "\n",
    "fig = go.Figure(data=data, layout=layout)\n",
    "\n",
    "py.iplot(fig)"
   ]
  },
  {
   "cell_type": "markdown",
   "metadata": {},
   "source": [
    "## Analysis by Size"
   ]
  },
  {
   "cell_type": "code",
   "execution_count": 61,
   "metadata": {},
   "outputs": [],
   "source": [
    "size_range = condos_subset['Size_range'].value_counts().head(10)"
   ]
  },
  {
   "cell_type": "code",
   "execution_count": 62,
   "metadata": {},
   "outputs": [
    {
     "data": {
      "text/plain": [
       "600-699 sqft        373\n",
       "700-799 sqft        275\n",
       "500-599 sqft        266\n",
       "1,000-1,199 sqft    220\n",
       "800-899 sqft        196\n",
       "900-999 sqft        179\n",
       "1,200-1,399 sqft    129\n",
       "0-499 sqft          122\n",
       "1,400-1,599 sqft     86\n",
       "1,600-1,799 sqft     40\n",
       "Name: Size_range, dtype: int64"
      ]
     },
     "execution_count": 62,
     "metadata": {},
     "output_type": "execute_result"
    }
   ],
   "source": [
    "size_range"
   ]
  },
  {
   "cell_type": "code",
   "execution_count": 148,
   "metadata": {},
   "outputs": [
    {
     "data": {
      "application/vnd.plotly.v1+json": {
       "config": {
        "linkText": "Export to plot.ly",
        "plotlyServerURL": "https://plot.ly",
        "showLink": false
       },
       "data": [
        {
         "type": "bar",
         "x": [
          "600-699 sqft",
          "700-799 sqft",
          "500-599 sqft",
          "1,000-1,199 sqft",
          "800-899 sqft",
          "900-999 sqft",
          "1,200-1,399 sqft",
          "0-499 sqft",
          "1,400-1,599 sqft",
          "1,600-1,799 sqft"
         ],
         "y": [
          373,
          275,
          266,
          220,
          196,
          179,
          129,
          122,
          86,
          40
         ]
        }
       ],
       "layout": {
        "template": {
         "data": {
          "bar": [
           {
            "error_x": {
             "color": "#2a3f5f"
            },
            "error_y": {
             "color": "#2a3f5f"
            },
            "marker": {
             "line": {
              "color": "#E5ECF6",
              "width": 0.5
             }
            },
            "type": "bar"
           }
          ],
          "barpolar": [
           {
            "marker": {
             "line": {
              "color": "#E5ECF6",
              "width": 0.5
             }
            },
            "type": "barpolar"
           }
          ],
          "carpet": [
           {
            "aaxis": {
             "endlinecolor": "#2a3f5f",
             "gridcolor": "white",
             "linecolor": "white",
             "minorgridcolor": "white",
             "startlinecolor": "#2a3f5f"
            },
            "baxis": {
             "endlinecolor": "#2a3f5f",
             "gridcolor": "white",
             "linecolor": "white",
             "minorgridcolor": "white",
             "startlinecolor": "#2a3f5f"
            },
            "type": "carpet"
           }
          ],
          "choropleth": [
           {
            "colorbar": {
             "outlinewidth": 0,
             "ticks": ""
            },
            "type": "choropleth"
           }
          ],
          "contour": [
           {
            "colorbar": {
             "outlinewidth": 0,
             "ticks": ""
            },
            "colorscale": [
             [
              0,
              "#0d0887"
             ],
             [
              0.1111111111111111,
              "#46039f"
             ],
             [
              0.2222222222222222,
              "#7201a8"
             ],
             [
              0.3333333333333333,
              "#9c179e"
             ],
             [
              0.4444444444444444,
              "#bd3786"
             ],
             [
              0.5555555555555556,
              "#d8576b"
             ],
             [
              0.6666666666666666,
              "#ed7953"
             ],
             [
              0.7777777777777778,
              "#fb9f3a"
             ],
             [
              0.8888888888888888,
              "#fdca26"
             ],
             [
              1,
              "#f0f921"
             ]
            ],
            "type": "contour"
           }
          ],
          "contourcarpet": [
           {
            "colorbar": {
             "outlinewidth": 0,
             "ticks": ""
            },
            "type": "contourcarpet"
           }
          ],
          "heatmap": [
           {
            "colorbar": {
             "outlinewidth": 0,
             "ticks": ""
            },
            "colorscale": [
             [
              0,
              "#0d0887"
             ],
             [
              0.1111111111111111,
              "#46039f"
             ],
             [
              0.2222222222222222,
              "#7201a8"
             ],
             [
              0.3333333333333333,
              "#9c179e"
             ],
             [
              0.4444444444444444,
              "#bd3786"
             ],
             [
              0.5555555555555556,
              "#d8576b"
             ],
             [
              0.6666666666666666,
              "#ed7953"
             ],
             [
              0.7777777777777778,
              "#fb9f3a"
             ],
             [
              0.8888888888888888,
              "#fdca26"
             ],
             [
              1,
              "#f0f921"
             ]
            ],
            "type": "heatmap"
           }
          ],
          "heatmapgl": [
           {
            "colorbar": {
             "outlinewidth": 0,
             "ticks": ""
            },
            "colorscale": [
             [
              0,
              "#0d0887"
             ],
             [
              0.1111111111111111,
              "#46039f"
             ],
             [
              0.2222222222222222,
              "#7201a8"
             ],
             [
              0.3333333333333333,
              "#9c179e"
             ],
             [
              0.4444444444444444,
              "#bd3786"
             ],
             [
              0.5555555555555556,
              "#d8576b"
             ],
             [
              0.6666666666666666,
              "#ed7953"
             ],
             [
              0.7777777777777778,
              "#fb9f3a"
             ],
             [
              0.8888888888888888,
              "#fdca26"
             ],
             [
              1,
              "#f0f921"
             ]
            ],
            "type": "heatmapgl"
           }
          ],
          "histogram": [
           {
            "marker": {
             "colorbar": {
              "outlinewidth": 0,
              "ticks": ""
             }
            },
            "type": "histogram"
           }
          ],
          "histogram2d": [
           {
            "colorbar": {
             "outlinewidth": 0,
             "ticks": ""
            },
            "colorscale": [
             [
              0,
              "#0d0887"
             ],
             [
              0.1111111111111111,
              "#46039f"
             ],
             [
              0.2222222222222222,
              "#7201a8"
             ],
             [
              0.3333333333333333,
              "#9c179e"
             ],
             [
              0.4444444444444444,
              "#bd3786"
             ],
             [
              0.5555555555555556,
              "#d8576b"
             ],
             [
              0.6666666666666666,
              "#ed7953"
             ],
             [
              0.7777777777777778,
              "#fb9f3a"
             ],
             [
              0.8888888888888888,
              "#fdca26"
             ],
             [
              1,
              "#f0f921"
             ]
            ],
            "type": "histogram2d"
           }
          ],
          "histogram2dcontour": [
           {
            "colorbar": {
             "outlinewidth": 0,
             "ticks": ""
            },
            "colorscale": [
             [
              0,
              "#0d0887"
             ],
             [
              0.1111111111111111,
              "#46039f"
             ],
             [
              0.2222222222222222,
              "#7201a8"
             ],
             [
              0.3333333333333333,
              "#9c179e"
             ],
             [
              0.4444444444444444,
              "#bd3786"
             ],
             [
              0.5555555555555556,
              "#d8576b"
             ],
             [
              0.6666666666666666,
              "#ed7953"
             ],
             [
              0.7777777777777778,
              "#fb9f3a"
             ],
             [
              0.8888888888888888,
              "#fdca26"
             ],
             [
              1,
              "#f0f921"
             ]
            ],
            "type": "histogram2dcontour"
           }
          ],
          "mesh3d": [
           {
            "colorbar": {
             "outlinewidth": 0,
             "ticks": ""
            },
            "type": "mesh3d"
           }
          ],
          "parcoords": [
           {
            "line": {
             "colorbar": {
              "outlinewidth": 0,
              "ticks": ""
             }
            },
            "type": "parcoords"
           }
          ],
          "pie": [
           {
            "automargin": true,
            "type": "pie"
           }
          ],
          "scatter": [
           {
            "marker": {
             "colorbar": {
              "outlinewidth": 0,
              "ticks": ""
             }
            },
            "type": "scatter"
           }
          ],
          "scatter3d": [
           {
            "line": {
             "colorbar": {
              "outlinewidth": 0,
              "ticks": ""
             }
            },
            "marker": {
             "colorbar": {
              "outlinewidth": 0,
              "ticks": ""
             }
            },
            "type": "scatter3d"
           }
          ],
          "scattercarpet": [
           {
            "marker": {
             "colorbar": {
              "outlinewidth": 0,
              "ticks": ""
             }
            },
            "type": "scattercarpet"
           }
          ],
          "scattergeo": [
           {
            "marker": {
             "colorbar": {
              "outlinewidth": 0,
              "ticks": ""
             }
            },
            "type": "scattergeo"
           }
          ],
          "scattergl": [
           {
            "marker": {
             "colorbar": {
              "outlinewidth": 0,
              "ticks": ""
             }
            },
            "type": "scattergl"
           }
          ],
          "scattermapbox": [
           {
            "marker": {
             "colorbar": {
              "outlinewidth": 0,
              "ticks": ""
             }
            },
            "type": "scattermapbox"
           }
          ],
          "scatterpolar": [
           {
            "marker": {
             "colorbar": {
              "outlinewidth": 0,
              "ticks": ""
             }
            },
            "type": "scatterpolar"
           }
          ],
          "scatterpolargl": [
           {
            "marker": {
             "colorbar": {
              "outlinewidth": 0,
              "ticks": ""
             }
            },
            "type": "scatterpolargl"
           }
          ],
          "scatterternary": [
           {
            "marker": {
             "colorbar": {
              "outlinewidth": 0,
              "ticks": ""
             }
            },
            "type": "scatterternary"
           }
          ],
          "surface": [
           {
            "colorbar": {
             "outlinewidth": 0,
             "ticks": ""
            },
            "colorscale": [
             [
              0,
              "#0d0887"
             ],
             [
              0.1111111111111111,
              "#46039f"
             ],
             [
              0.2222222222222222,
              "#7201a8"
             ],
             [
              0.3333333333333333,
              "#9c179e"
             ],
             [
              0.4444444444444444,
              "#bd3786"
             ],
             [
              0.5555555555555556,
              "#d8576b"
             ],
             [
              0.6666666666666666,
              "#ed7953"
             ],
             [
              0.7777777777777778,
              "#fb9f3a"
             ],
             [
              0.8888888888888888,
              "#fdca26"
             ],
             [
              1,
              "#f0f921"
             ]
            ],
            "type": "surface"
           }
          ],
          "table": [
           {
            "cells": {
             "fill": {
              "color": "#EBF0F8"
             },
             "line": {
              "color": "white"
             }
            },
            "header": {
             "fill": {
              "color": "#C8D4E3"
             },
             "line": {
              "color": "white"
             }
            },
            "type": "table"
           }
          ]
         },
         "layout": {
          "annotationdefaults": {
           "arrowcolor": "#2a3f5f",
           "arrowhead": 0,
           "arrowwidth": 1
          },
          "coloraxis": {
           "colorbar": {
            "outlinewidth": 0,
            "ticks": ""
           }
          },
          "colorscale": {
           "diverging": [
            [
             0,
             "#8e0152"
            ],
            [
             0.1,
             "#c51b7d"
            ],
            [
             0.2,
             "#de77ae"
            ],
            [
             0.3,
             "#f1b6da"
            ],
            [
             0.4,
             "#fde0ef"
            ],
            [
             0.5,
             "#f7f7f7"
            ],
            [
             0.6,
             "#e6f5d0"
            ],
            [
             0.7,
             "#b8e186"
            ],
            [
             0.8,
             "#7fbc41"
            ],
            [
             0.9,
             "#4d9221"
            ],
            [
             1,
             "#276419"
            ]
           ],
           "sequential": [
            [
             0,
             "#0d0887"
            ],
            [
             0.1111111111111111,
             "#46039f"
            ],
            [
             0.2222222222222222,
             "#7201a8"
            ],
            [
             0.3333333333333333,
             "#9c179e"
            ],
            [
             0.4444444444444444,
             "#bd3786"
            ],
            [
             0.5555555555555556,
             "#d8576b"
            ],
            [
             0.6666666666666666,
             "#ed7953"
            ],
            [
             0.7777777777777778,
             "#fb9f3a"
            ],
            [
             0.8888888888888888,
             "#fdca26"
            ],
            [
             1,
             "#f0f921"
            ]
           ],
           "sequentialminus": [
            [
             0,
             "#0d0887"
            ],
            [
             0.1111111111111111,
             "#46039f"
            ],
            [
             0.2222222222222222,
             "#7201a8"
            ],
            [
             0.3333333333333333,
             "#9c179e"
            ],
            [
             0.4444444444444444,
             "#bd3786"
            ],
            [
             0.5555555555555556,
             "#d8576b"
            ],
            [
             0.6666666666666666,
             "#ed7953"
            ],
            [
             0.7777777777777778,
             "#fb9f3a"
            ],
            [
             0.8888888888888888,
             "#fdca26"
            ],
            [
             1,
             "#f0f921"
            ]
           ]
          },
          "colorway": [
           "#636efa",
           "#EF553B",
           "#00cc96",
           "#ab63fa",
           "#FFA15A",
           "#19d3f3",
           "#FF6692",
           "#B6E880",
           "#FF97FF",
           "#FECB52"
          ],
          "font": {
           "color": "#2a3f5f"
          },
          "geo": {
           "bgcolor": "white",
           "lakecolor": "white",
           "landcolor": "#E5ECF6",
           "showlakes": true,
           "showland": true,
           "subunitcolor": "white"
          },
          "hoverlabel": {
           "align": "left"
          },
          "hovermode": "closest",
          "mapbox": {
           "style": "light"
          },
          "paper_bgcolor": "white",
          "plot_bgcolor": "#E5ECF6",
          "polar": {
           "angularaxis": {
            "gridcolor": "white",
            "linecolor": "white",
            "ticks": ""
           },
           "bgcolor": "#E5ECF6",
           "radialaxis": {
            "gridcolor": "white",
            "linecolor": "white",
            "ticks": ""
           }
          },
          "scene": {
           "xaxis": {
            "backgroundcolor": "#E5ECF6",
            "gridcolor": "white",
            "gridwidth": 2,
            "linecolor": "white",
            "showbackground": true,
            "ticks": "",
            "zerolinecolor": "white"
           },
           "yaxis": {
            "backgroundcolor": "#E5ECF6",
            "gridcolor": "white",
            "gridwidth": 2,
            "linecolor": "white",
            "showbackground": true,
            "ticks": "",
            "zerolinecolor": "white"
           },
           "zaxis": {
            "backgroundcolor": "#E5ECF6",
            "gridcolor": "white",
            "gridwidth": 2,
            "linecolor": "white",
            "showbackground": true,
            "ticks": "",
            "zerolinecolor": "white"
           }
          },
          "shapedefaults": {
           "line": {
            "color": "#2a3f5f"
           }
          },
          "ternary": {
           "aaxis": {
            "gridcolor": "white",
            "linecolor": "white",
            "ticks": ""
           },
           "baxis": {
            "gridcolor": "white",
            "linecolor": "white",
            "ticks": ""
           },
           "bgcolor": "#E5ECF6",
           "caxis": {
            "gridcolor": "white",
            "linecolor": "white",
            "ticks": ""
           }
          },
          "title": {
           "x": 0.05
          },
          "xaxis": {
           "automargin": true,
           "gridcolor": "white",
           "linecolor": "white",
           "ticks": "",
           "title": {
            "standoff": 15
           },
           "zerolinecolor": "white",
           "zerolinewidth": 2
          },
          "yaxis": {
           "automargin": true,
           "gridcolor": "white",
           "linecolor": "white",
           "ticks": "",
           "title": {
            "standoff": 15
           },
           "zerolinecolor": "white",
           "zerolinewidth": 2
          }
         }
        },
        "title": {
         "text": "Condo Listings by Size"
        },
        "yaxis": {
         "title": {
          "text": "No. of Lsitings"
         }
        }
       }
      },
      "text/html": [
       "<div>\n",
       "        \n",
       "        \n",
       "            <div id=\"f3bc5fea-beff-4301-879d-df72e7060837\" class=\"plotly-graph-div\" style=\"height:525px; width:100%;\"></div>\n",
       "            <script type=\"text/javascript\">\n",
       "                require([\"plotly\"], function(Plotly) {\n",
       "                    window.PLOTLYENV=window.PLOTLYENV || {};\n",
       "                    \n",
       "                if (document.getElementById(\"f3bc5fea-beff-4301-879d-df72e7060837\")) {\n",
       "                    Plotly.newPlot(\n",
       "                        'f3bc5fea-beff-4301-879d-df72e7060837',\n",
       "                        [{\"type\": \"bar\", \"x\": [\"600-699 sqft\", \"700-799 sqft\", \"500-599 sqft\", \"1,000-1,199 sqft\", \"800-899 sqft\", \"900-999 sqft\", \"1,200-1,399 sqft\", \"0-499 sqft\", \"1,400-1,599 sqft\", \"1,600-1,799 sqft\"], \"y\": [373, 275, 266, 220, 196, 179, 129, 122, 86, 40]}],\n",
       "                        {\"template\": {\"data\": {\"bar\": [{\"error_x\": {\"color\": \"#2a3f5f\"}, \"error_y\": {\"color\": \"#2a3f5f\"}, \"marker\": {\"line\": {\"color\": \"#E5ECF6\", \"width\": 0.5}}, \"type\": \"bar\"}], \"barpolar\": [{\"marker\": {\"line\": {\"color\": \"#E5ECF6\", \"width\": 0.5}}, \"type\": \"barpolar\"}], \"carpet\": [{\"aaxis\": {\"endlinecolor\": \"#2a3f5f\", \"gridcolor\": \"white\", \"linecolor\": \"white\", \"minorgridcolor\": \"white\", \"startlinecolor\": \"#2a3f5f\"}, \"baxis\": {\"endlinecolor\": \"#2a3f5f\", \"gridcolor\": \"white\", \"linecolor\": \"white\", \"minorgridcolor\": \"white\", \"startlinecolor\": \"#2a3f5f\"}, \"type\": \"carpet\"}], \"choropleth\": [{\"colorbar\": {\"outlinewidth\": 0, \"ticks\": \"\"}, \"type\": \"choropleth\"}], \"contour\": [{\"colorbar\": {\"outlinewidth\": 0, \"ticks\": \"\"}, \"colorscale\": [[0.0, \"#0d0887\"], [0.1111111111111111, \"#46039f\"], [0.2222222222222222, \"#7201a8\"], [0.3333333333333333, \"#9c179e\"], [0.4444444444444444, \"#bd3786\"], [0.5555555555555556, \"#d8576b\"], [0.6666666666666666, \"#ed7953\"], [0.7777777777777778, \"#fb9f3a\"], [0.8888888888888888, \"#fdca26\"], [1.0, \"#f0f921\"]], \"type\": \"contour\"}], \"contourcarpet\": [{\"colorbar\": {\"outlinewidth\": 0, \"ticks\": \"\"}, \"type\": \"contourcarpet\"}], \"heatmap\": [{\"colorbar\": {\"outlinewidth\": 0, \"ticks\": \"\"}, \"colorscale\": [[0.0, \"#0d0887\"], [0.1111111111111111, \"#46039f\"], [0.2222222222222222, \"#7201a8\"], [0.3333333333333333, \"#9c179e\"], [0.4444444444444444, \"#bd3786\"], [0.5555555555555556, \"#d8576b\"], [0.6666666666666666, \"#ed7953\"], [0.7777777777777778, \"#fb9f3a\"], [0.8888888888888888, \"#fdca26\"], [1.0, \"#f0f921\"]], \"type\": \"heatmap\"}], \"heatmapgl\": [{\"colorbar\": {\"outlinewidth\": 0, \"ticks\": \"\"}, \"colorscale\": [[0.0, \"#0d0887\"], [0.1111111111111111, \"#46039f\"], [0.2222222222222222, \"#7201a8\"], [0.3333333333333333, \"#9c179e\"], [0.4444444444444444, \"#bd3786\"], [0.5555555555555556, \"#d8576b\"], [0.6666666666666666, \"#ed7953\"], [0.7777777777777778, \"#fb9f3a\"], [0.8888888888888888, \"#fdca26\"], [1.0, \"#f0f921\"]], \"type\": \"heatmapgl\"}], \"histogram\": [{\"marker\": {\"colorbar\": {\"outlinewidth\": 0, \"ticks\": \"\"}}, \"type\": \"histogram\"}], \"histogram2d\": [{\"colorbar\": {\"outlinewidth\": 0, \"ticks\": \"\"}, \"colorscale\": [[0.0, \"#0d0887\"], [0.1111111111111111, \"#46039f\"], [0.2222222222222222, \"#7201a8\"], [0.3333333333333333, \"#9c179e\"], [0.4444444444444444, \"#bd3786\"], [0.5555555555555556, \"#d8576b\"], [0.6666666666666666, \"#ed7953\"], [0.7777777777777778, \"#fb9f3a\"], [0.8888888888888888, \"#fdca26\"], [1.0, \"#f0f921\"]], \"type\": \"histogram2d\"}], \"histogram2dcontour\": [{\"colorbar\": {\"outlinewidth\": 0, \"ticks\": \"\"}, \"colorscale\": [[0.0, \"#0d0887\"], [0.1111111111111111, \"#46039f\"], [0.2222222222222222, \"#7201a8\"], [0.3333333333333333, \"#9c179e\"], [0.4444444444444444, \"#bd3786\"], [0.5555555555555556, \"#d8576b\"], [0.6666666666666666, \"#ed7953\"], [0.7777777777777778, \"#fb9f3a\"], [0.8888888888888888, \"#fdca26\"], [1.0, \"#f0f921\"]], \"type\": \"histogram2dcontour\"}], \"mesh3d\": [{\"colorbar\": {\"outlinewidth\": 0, \"ticks\": \"\"}, \"type\": \"mesh3d\"}], \"parcoords\": [{\"line\": {\"colorbar\": {\"outlinewidth\": 0, \"ticks\": \"\"}}, \"type\": \"parcoords\"}], \"pie\": [{\"automargin\": true, \"type\": \"pie\"}], \"scatter\": [{\"marker\": {\"colorbar\": {\"outlinewidth\": 0, \"ticks\": \"\"}}, \"type\": \"scatter\"}], \"scatter3d\": [{\"line\": {\"colorbar\": {\"outlinewidth\": 0, \"ticks\": \"\"}}, \"marker\": {\"colorbar\": {\"outlinewidth\": 0, \"ticks\": \"\"}}, \"type\": \"scatter3d\"}], \"scattercarpet\": [{\"marker\": {\"colorbar\": {\"outlinewidth\": 0, \"ticks\": \"\"}}, \"type\": \"scattercarpet\"}], \"scattergeo\": [{\"marker\": {\"colorbar\": {\"outlinewidth\": 0, \"ticks\": \"\"}}, \"type\": \"scattergeo\"}], \"scattergl\": [{\"marker\": {\"colorbar\": {\"outlinewidth\": 0, \"ticks\": \"\"}}, \"type\": \"scattergl\"}], \"scattermapbox\": [{\"marker\": {\"colorbar\": {\"outlinewidth\": 0, \"ticks\": \"\"}}, \"type\": \"scattermapbox\"}], \"scatterpolar\": [{\"marker\": {\"colorbar\": {\"outlinewidth\": 0, \"ticks\": \"\"}}, \"type\": \"scatterpolar\"}], \"scatterpolargl\": [{\"marker\": {\"colorbar\": {\"outlinewidth\": 0, \"ticks\": \"\"}}, \"type\": \"scatterpolargl\"}], \"scatterternary\": [{\"marker\": {\"colorbar\": {\"outlinewidth\": 0, \"ticks\": \"\"}}, \"type\": \"scatterternary\"}], \"surface\": [{\"colorbar\": {\"outlinewidth\": 0, \"ticks\": \"\"}, \"colorscale\": [[0.0, \"#0d0887\"], [0.1111111111111111, \"#46039f\"], [0.2222222222222222, \"#7201a8\"], [0.3333333333333333, \"#9c179e\"], [0.4444444444444444, \"#bd3786\"], [0.5555555555555556, \"#d8576b\"], [0.6666666666666666, \"#ed7953\"], [0.7777777777777778, \"#fb9f3a\"], [0.8888888888888888, \"#fdca26\"], [1.0, \"#f0f921\"]], \"type\": \"surface\"}], \"table\": [{\"cells\": {\"fill\": {\"color\": \"#EBF0F8\"}, \"line\": {\"color\": \"white\"}}, \"header\": {\"fill\": {\"color\": \"#C8D4E3\"}, \"line\": {\"color\": \"white\"}}, \"type\": \"table\"}]}, \"layout\": {\"annotationdefaults\": {\"arrowcolor\": \"#2a3f5f\", \"arrowhead\": 0, \"arrowwidth\": 1}, \"coloraxis\": {\"colorbar\": {\"outlinewidth\": 0, \"ticks\": \"\"}}, \"colorscale\": {\"diverging\": [[0, \"#8e0152\"], [0.1, \"#c51b7d\"], [0.2, \"#de77ae\"], [0.3, \"#f1b6da\"], [0.4, \"#fde0ef\"], [0.5, \"#f7f7f7\"], [0.6, \"#e6f5d0\"], [0.7, \"#b8e186\"], [0.8, \"#7fbc41\"], [0.9, \"#4d9221\"], [1, \"#276419\"]], \"sequential\": [[0.0, \"#0d0887\"], [0.1111111111111111, \"#46039f\"], [0.2222222222222222, \"#7201a8\"], [0.3333333333333333, \"#9c179e\"], [0.4444444444444444, \"#bd3786\"], [0.5555555555555556, \"#d8576b\"], [0.6666666666666666, \"#ed7953\"], [0.7777777777777778, \"#fb9f3a\"], [0.8888888888888888, \"#fdca26\"], [1.0, \"#f0f921\"]], \"sequentialminus\": [[0.0, \"#0d0887\"], [0.1111111111111111, \"#46039f\"], [0.2222222222222222, \"#7201a8\"], [0.3333333333333333, \"#9c179e\"], [0.4444444444444444, \"#bd3786\"], [0.5555555555555556, \"#d8576b\"], [0.6666666666666666, \"#ed7953\"], [0.7777777777777778, \"#fb9f3a\"], [0.8888888888888888, \"#fdca26\"], [1.0, \"#f0f921\"]]}, \"colorway\": [\"#636efa\", \"#EF553B\", \"#00cc96\", \"#ab63fa\", \"#FFA15A\", \"#19d3f3\", \"#FF6692\", \"#B6E880\", \"#FF97FF\", \"#FECB52\"], \"font\": {\"color\": \"#2a3f5f\"}, \"geo\": {\"bgcolor\": \"white\", \"lakecolor\": \"white\", \"landcolor\": \"#E5ECF6\", \"showlakes\": true, \"showland\": true, \"subunitcolor\": \"white\"}, \"hoverlabel\": {\"align\": \"left\"}, \"hovermode\": \"closest\", \"mapbox\": {\"style\": \"light\"}, \"paper_bgcolor\": \"white\", \"plot_bgcolor\": \"#E5ECF6\", \"polar\": {\"angularaxis\": {\"gridcolor\": \"white\", \"linecolor\": \"white\", \"ticks\": \"\"}, \"bgcolor\": \"#E5ECF6\", \"radialaxis\": {\"gridcolor\": \"white\", \"linecolor\": \"white\", \"ticks\": \"\"}}, \"scene\": {\"xaxis\": {\"backgroundcolor\": \"#E5ECF6\", \"gridcolor\": \"white\", \"gridwidth\": 2, \"linecolor\": \"white\", \"showbackground\": true, \"ticks\": \"\", \"zerolinecolor\": \"white\"}, \"yaxis\": {\"backgroundcolor\": \"#E5ECF6\", \"gridcolor\": \"white\", \"gridwidth\": 2, \"linecolor\": \"white\", \"showbackground\": true, \"ticks\": \"\", \"zerolinecolor\": \"white\"}, \"zaxis\": {\"backgroundcolor\": \"#E5ECF6\", \"gridcolor\": \"white\", \"gridwidth\": 2, \"linecolor\": \"white\", \"showbackground\": true, \"ticks\": \"\", \"zerolinecolor\": \"white\"}}, \"shapedefaults\": {\"line\": {\"color\": \"#2a3f5f\"}}, \"ternary\": {\"aaxis\": {\"gridcolor\": \"white\", \"linecolor\": \"white\", \"ticks\": \"\"}, \"baxis\": {\"gridcolor\": \"white\", \"linecolor\": \"white\", \"ticks\": \"\"}, \"bgcolor\": \"#E5ECF6\", \"caxis\": {\"gridcolor\": \"white\", \"linecolor\": \"white\", \"ticks\": \"\"}}, \"title\": {\"x\": 0.05}, \"xaxis\": {\"automargin\": true, \"gridcolor\": \"white\", \"linecolor\": \"white\", \"ticks\": \"\", \"title\": {\"standoff\": 15}, \"zerolinecolor\": \"white\", \"zerolinewidth\": 2}, \"yaxis\": {\"automargin\": true, \"gridcolor\": \"white\", \"linecolor\": \"white\", \"ticks\": \"\", \"title\": {\"standoff\": 15}, \"zerolinecolor\": \"white\", \"zerolinewidth\": 2}}}, \"title\": {\"text\": \"Condo Listings by Size\"}, \"yaxis\": {\"title\": {\"text\": \"No. of Lsitings\"}}},\n",
       "                        {\"responsive\": true}\n",
       "                    ).then(function(){\n",
       "                            \n",
       "var gd = document.getElementById('f3bc5fea-beff-4301-879d-df72e7060837');\n",
       "var x = new MutationObserver(function (mutations, observer) {{\n",
       "        var display = window.getComputedStyle(gd).display;\n",
       "        if (!display || display === 'none') {{\n",
       "            console.log([gd, 'removed!']);\n",
       "            Plotly.purge(gd);\n",
       "            observer.disconnect();\n",
       "        }}\n",
       "}});\n",
       "\n",
       "// Listen for the removal of the full notebook cells\n",
       "var notebookContainer = gd.closest('#notebook-container');\n",
       "if (notebookContainer) {{\n",
       "    x.observe(notebookContainer, {childList: true});\n",
       "}}\n",
       "\n",
       "// Listen for the clearing of the current output cell\n",
       "var outputEl = gd.closest('.output');\n",
       "if (outputEl) {{\n",
       "    x.observe(outputEl, {childList: true});\n",
       "}}\n",
       "\n",
       "                        })\n",
       "                };\n",
       "                });\n",
       "            </script>\n",
       "        </div>"
      ]
     },
     "metadata": {},
     "output_type": "display_data"
    }
   ],
   "source": [
    "# Number of listings by size range of condo\n",
    "data = go.Bar(\n",
    "    x=size_range.index,\n",
    "    y=size_range.values,\n",
    "\n",
    ") \n",
    "\n",
    "layout = go.Layout(title='Condo Listings by Size',\n",
    "                  yaxis_title=\"No. of Lsitings\")\n",
    "\n",
    "fig = go.Figure(data=data, layout=layout)\n",
    "\n",
    "py.iplot(fig)"
   ]
  },
  {
   "cell_type": "code",
   "execution_count": 132,
   "metadata": {},
   "outputs": [
    {
     "data": {
      "text/html": [
       "<div>\n",
       "<style scoped>\n",
       "    .dataframe tbody tr th:only-of-type {\n",
       "        vertical-align: middle;\n",
       "    }\n",
       "\n",
       "    .dataframe tbody tr th {\n",
       "        vertical-align: top;\n",
       "    }\n",
       "\n",
       "    .dataframe thead th {\n",
       "        text-align: right;\n",
       "    }\n",
       "</style>\n",
       "<table border=\"1\" class=\"dataframe\">\n",
       "  <thead>\n",
       "    <tr style=\"text-align: right;\">\n",
       "      <th></th>\n",
       "      <th>Prices</th>\n",
       "      <th>Location</th>\n",
       "      <th>Date_listed</th>\n",
       "      <th>Bedrooms</th>\n",
       "      <th>Bathrooms</th>\n",
       "      <th>Maint_Fees</th>\n",
       "      <th>Size_range</th>\n",
       "      <th>Parking</th>\n",
       "      <th>Condo_Size</th>\n",
       "      <th>Street Address</th>\n",
       "    </tr>\n",
       "  </thead>\n",
       "  <tbody>\n",
       "    <tr>\n",
       "      <td>1</td>\n",
       "      <td>799900</td>\n",
       "      <td>608 - 284 Bloor St W</td>\n",
       "      <td>3 hours</td>\n",
       "      <td>2.0</td>\n",
       "      <td>2.0</td>\n",
       "      <td>790.00</td>\n",
       "      <td>700-799 sqft</td>\n",
       "      <td>0.0</td>\n",
       "      <td>749.5</td>\n",
       "      <td>284 Bloor St W</td>\n",
       "    </tr>\n",
       "    <tr>\n",
       "      <td>3</td>\n",
       "      <td>549000</td>\n",
       "      <td>435 - 1091 Kingston Rd</td>\n",
       "      <td>4 hours</td>\n",
       "      <td>1.0</td>\n",
       "      <td>1.0</td>\n",
       "      <td>568.00</td>\n",
       "      <td>700-799 sqft</td>\n",
       "      <td>1.0</td>\n",
       "      <td>749.5</td>\n",
       "      <td>1091 Kingston Rd</td>\n",
       "    </tr>\n",
       "    <tr>\n",
       "      <td>4</td>\n",
       "      <td>549000</td>\n",
       "      <td>515 - 105 George St</td>\n",
       "      <td>5 hours</td>\n",
       "      <td>1.0</td>\n",
       "      <td>1.0</td>\n",
       "      <td>402.00</td>\n",
       "      <td>500-599 sqft</td>\n",
       "      <td>0.0</td>\n",
       "      <td>549.5</td>\n",
       "      <td>105 George St</td>\n",
       "    </tr>\n",
       "    <tr>\n",
       "      <td>5</td>\n",
       "      <td>799000</td>\n",
       "      <td>605 Dufferin St</td>\n",
       "      <td>5 hours</td>\n",
       "      <td>3.0</td>\n",
       "      <td>3.0</td>\n",
       "      <td>647.47</td>\n",
       "      <td>600-699 sqft</td>\n",
       "      <td>1.0</td>\n",
       "      <td>649.5</td>\n",
       "      <td>605 Dufferin St</td>\n",
       "    </tr>\n",
       "    <tr>\n",
       "      <td>6</td>\n",
       "      <td>608000</td>\n",
       "      <td>707 - 68 Shuter St N</td>\n",
       "      <td>39 minutes</td>\n",
       "      <td>1.0</td>\n",
       "      <td>1.0</td>\n",
       "      <td>555.00</td>\n",
       "      <td>500-599 sqft</td>\n",
       "      <td>1.0</td>\n",
       "      <td>549.5</td>\n",
       "      <td>68 Shuter St N</td>\n",
       "    </tr>\n",
       "    <tr>\n",
       "      <td>...</td>\n",
       "      <td>...</td>\n",
       "      <td>...</td>\n",
       "      <td>...</td>\n",
       "      <td>...</td>\n",
       "      <td>...</td>\n",
       "      <td>...</td>\n",
       "      <td>...</td>\n",
       "      <td>...</td>\n",
       "      <td>...</td>\n",
       "      <td>...</td>\n",
       "    </tr>\n",
       "    <tr>\n",
       "      <td>2023</td>\n",
       "      <td>470000</td>\n",
       "      <td>404 - 199 Richmond St W</td>\n",
       "      <td>21 days</td>\n",
       "      <td>2.0</td>\n",
       "      <td>2.0</td>\n",
       "      <td>356.00</td>\n",
       "      <td>0-499 sqft</td>\n",
       "      <td>0.0</td>\n",
       "      <td>249.5</td>\n",
       "      <td>199 Richmond St W</td>\n",
       "    </tr>\n",
       "    <tr>\n",
       "      <td>2027</td>\n",
       "      <td>749900</td>\n",
       "      <td>1401 - 88 Blue Jays Way</td>\n",
       "      <td>22 days</td>\n",
       "      <td>1.0</td>\n",
       "      <td>1.0</td>\n",
       "      <td>427.00</td>\n",
       "      <td>600-699 sqft</td>\n",
       "      <td>1.0</td>\n",
       "      <td>649.5</td>\n",
       "      <td>88 Blue Jays Way</td>\n",
       "    </tr>\n",
       "    <tr>\n",
       "      <td>2028</td>\n",
       "      <td>585000</td>\n",
       "      <td>204 - 100 Harrison Garden Blvd</td>\n",
       "      <td>22 days</td>\n",
       "      <td>1.0</td>\n",
       "      <td>1.0</td>\n",
       "      <td>403.00</td>\n",
       "      <td>600-699 sqft</td>\n",
       "      <td>1.0</td>\n",
       "      <td>649.5</td>\n",
       "      <td>100 Harrison Garden Blvd</td>\n",
       "    </tr>\n",
       "    <tr>\n",
       "      <td>2029</td>\n",
       "      <td>619000</td>\n",
       "      <td>S421 - 455 Front St E</td>\n",
       "      <td>22 days</td>\n",
       "      <td>1.0</td>\n",
       "      <td>1.0</td>\n",
       "      <td>452.00</td>\n",
       "      <td>600-699 sqft</td>\n",
       "      <td>0.0</td>\n",
       "      <td>649.5</td>\n",
       "      <td>455 Front St E</td>\n",
       "    </tr>\n",
       "    <tr>\n",
       "      <td>2030</td>\n",
       "      <td>499000</td>\n",
       "      <td>1921 - 233 Beecroft Rd</td>\n",
       "      <td>21 days</td>\n",
       "      <td>1.0</td>\n",
       "      <td>1.0</td>\n",
       "      <td>397.00</td>\n",
       "      <td>500-599 sqft</td>\n",
       "      <td>1.0</td>\n",
       "      <td>549.5</td>\n",
       "      <td>233 Beecroft Rd</td>\n",
       "    </tr>\n",
       "  </tbody>\n",
       "</table>\n",
       "<p>1036 rows × 10 columns</p>\n",
       "</div>"
      ],
      "text/plain": [
       "      Prices                        Location Date_listed  Bedrooms  Bathrooms  \\\n",
       "1     799900            608 - 284 Bloor St W     3 hours       2.0        2.0   \n",
       "3     549000          435 - 1091 Kingston Rd     4 hours       1.0        1.0   \n",
       "4     549000             515 - 105 George St     5 hours       1.0        1.0   \n",
       "5     799000                 605 Dufferin St     5 hours       3.0        3.0   \n",
       "6     608000            707 - 68 Shuter St N  39 minutes       1.0        1.0   \n",
       "...      ...                             ...         ...       ...        ...   \n",
       "2023  470000         404 - 199 Richmond St W     21 days       2.0        2.0   \n",
       "2027  749900         1401 - 88 Blue Jays Way     22 days       1.0        1.0   \n",
       "2028  585000  204 - 100 Harrison Garden Blvd     22 days       1.0        1.0   \n",
       "2029  619000           S421 - 455 Front St E     22 days       1.0        1.0   \n",
       "2030  499000          1921 - 233 Beecroft Rd     21 days       1.0        1.0   \n",
       "\n",
       "      Maint_Fees    Size_range  Parking  Condo_Size             Street Address  \n",
       "1         790.00  700-799 sqft      0.0       749.5             284 Bloor St W  \n",
       "3         568.00  700-799 sqft      1.0       749.5           1091 Kingston Rd  \n",
       "4         402.00  500-599 sqft      0.0       549.5              105 George St  \n",
       "5         647.47  600-699 sqft      1.0       649.5            605 Dufferin St  \n",
       "6         555.00  500-599 sqft      1.0       549.5             68 Shuter St N  \n",
       "...          ...           ...      ...         ...                        ...  \n",
       "2023      356.00    0-499 sqft      0.0       249.5          199 Richmond St W  \n",
       "2027      427.00  600-699 sqft      1.0       649.5           88 Blue Jays Way  \n",
       "2028      403.00  600-699 sqft      1.0       649.5   100 Harrison Garden Blvd  \n",
       "2029      452.00  600-699 sqft      0.0       649.5             455 Front St E  \n",
       "2030      397.00  500-599 sqft      1.0       549.5            233 Beecroft Rd  \n",
       "\n",
       "[1036 rows x 10 columns]"
      ]
     },
     "execution_count": 132,
     "metadata": {},
     "output_type": "execute_result"
    }
   ],
   "source": [
    "#Relationship between Price and Condo_Size\n",
    "condos_by_size = condos_subset[(condos_subset['Size_range'] == '0-499 sqft')| (condos_subset['Size_range'] == '500-599 sqft')|\\\n",
    "             (condos_subset['Size_range'] == '600-699 sqft')| (condos_subset['Size_range'] == '700-799 sqft')]\n",
    "condos_by_size"
   ]
  },
  {
   "cell_type": "code",
   "execution_count": 137,
   "metadata": {},
   "outputs": [
    {
     "data": {
      "application/vnd.plotly.v1+json": {
       "config": {
        "linkText": "Export to plot.ly",
        "plotlyServerURL": "https://plot.ly",
        "showLink": false
       },
       "data": [
        {
         "type": "box",
         "x": [
          "700-799 sqft",
          "700-799 sqft",
          "500-599 sqft",
          "600-699 sqft",
          "500-599 sqft",
          "500-599 sqft",
          "600-699 sqft",
          "700-799 sqft",
          "500-599 sqft",
          "700-799 sqft",
          "700-799 sqft",
          "600-699 sqft",
          "700-799 sqft",
          "0-499 sqft",
          "700-799 sqft",
          "600-699 sqft",
          "700-799 sqft",
          "600-699 sqft",
          "600-699 sqft",
          "600-699 sqft",
          "600-699 sqft",
          "500-599 sqft",
          "700-799 sqft",
          "600-699 sqft",
          "700-799 sqft",
          "700-799 sqft",
          "600-699 sqft",
          "500-599 sqft",
          "600-699 sqft",
          "700-799 sqft",
          "700-799 sqft",
          "500-599 sqft",
          "600-699 sqft",
          "500-599 sqft",
          "500-599 sqft",
          "600-699 sqft",
          "700-799 sqft",
          "500-599 sqft",
          "700-799 sqft",
          "700-799 sqft",
          "600-699 sqft",
          "700-799 sqft",
          "0-499 sqft",
          "700-799 sqft",
          "600-699 sqft",
          "700-799 sqft",
          "600-699 sqft",
          "600-699 sqft",
          "600-699 sqft",
          "600-699 sqft",
          "500-599 sqft",
          "700-799 sqft",
          "600-699 sqft",
          "700-799 sqft",
          "700-799 sqft",
          "600-699 sqft",
          "500-599 sqft",
          "600-699 sqft",
          "600-699 sqft",
          "0-499 sqft",
          "600-699 sqft",
          "600-699 sqft",
          "600-699 sqft",
          "600-699 sqft",
          "600-699 sqft",
          "600-699 sqft",
          "600-699 sqft",
          "500-599 sqft",
          "700-799 sqft",
          "700-799 sqft",
          "600-699 sqft",
          "700-799 sqft",
          "700-799 sqft",
          "0-499 sqft",
          "700-799 sqft",
          "600-699 sqft",
          "700-799 sqft",
          "700-799 sqft",
          "600-699 sqft",
          "500-599 sqft",
          "500-599 sqft",
          "700-799 sqft",
          "0-499 sqft",
          "600-699 sqft",
          "600-699 sqft",
          "500-599 sqft",
          "700-799 sqft",
          "700-799 sqft",
          "600-699 sqft",
          "500-599 sqft",
          "500-599 sqft",
          "0-499 sqft",
          "600-699 sqft",
          "600-699 sqft",
          "700-799 sqft",
          "500-599 sqft",
          "600-699 sqft",
          "500-599 sqft",
          "600-699 sqft",
          "600-699 sqft",
          "500-599 sqft",
          "700-799 sqft",
          "700-799 sqft",
          "600-699 sqft",
          "700-799 sqft",
          "600-699 sqft",
          "500-599 sqft",
          "500-599 sqft",
          "0-499 sqft",
          "500-599 sqft",
          "0-499 sqft",
          "600-699 sqft",
          "700-799 sqft",
          "600-699 sqft",
          "600-699 sqft",
          "500-599 sqft",
          "700-799 sqft",
          "600-699 sqft",
          "700-799 sqft",
          "600-699 sqft",
          "500-599 sqft",
          "700-799 sqft",
          "600-699 sqft",
          "700-799 sqft",
          "600-699 sqft",
          "700-799 sqft",
          "600-699 sqft",
          "0-499 sqft",
          "600-699 sqft",
          "600-699 sqft",
          "700-799 sqft",
          "500-599 sqft",
          "0-499 sqft",
          "600-699 sqft",
          "600-699 sqft",
          "500-599 sqft",
          "700-799 sqft",
          "0-499 sqft",
          "600-699 sqft",
          "500-599 sqft",
          "700-799 sqft",
          "600-699 sqft",
          "600-699 sqft",
          "500-599 sqft",
          "700-799 sqft",
          "600-699 sqft",
          "600-699 sqft",
          "600-699 sqft",
          "0-499 sqft",
          "600-699 sqft",
          "700-799 sqft",
          "600-699 sqft",
          "600-699 sqft",
          "500-599 sqft",
          "700-799 sqft",
          "700-799 sqft",
          "500-599 sqft",
          "600-699 sqft",
          "600-699 sqft",
          "700-799 sqft",
          "0-499 sqft",
          "700-799 sqft",
          "700-799 sqft",
          "0-499 sqft",
          "700-799 sqft",
          "500-599 sqft",
          "500-599 sqft",
          "600-699 sqft",
          "700-799 sqft",
          "600-699 sqft",
          "600-699 sqft",
          "600-699 sqft",
          "500-599 sqft",
          "600-699 sqft",
          "600-699 sqft",
          "700-799 sqft",
          "700-799 sqft",
          "700-799 sqft",
          "0-499 sqft",
          "600-699 sqft",
          "700-799 sqft",
          "0-499 sqft",
          "700-799 sqft",
          "600-699 sqft",
          "500-599 sqft",
          "600-699 sqft",
          "600-699 sqft",
          "700-799 sqft",
          "600-699 sqft",
          "600-699 sqft",
          "600-699 sqft",
          "700-799 sqft",
          "700-799 sqft",
          "500-599 sqft",
          "500-599 sqft",
          "600-699 sqft",
          "700-799 sqft",
          "700-799 sqft",
          "500-599 sqft",
          "500-599 sqft",
          "600-699 sqft",
          "600-699 sqft",
          "700-799 sqft",
          "700-799 sqft",
          "0-499 sqft",
          "600-699 sqft",
          "600-699 sqft",
          "0-499 sqft",
          "700-799 sqft",
          "700-799 sqft",
          "500-599 sqft",
          "600-699 sqft",
          "700-799 sqft",
          "500-599 sqft",
          "0-499 sqft",
          "600-699 sqft",
          "500-599 sqft",
          "700-799 sqft",
          "600-699 sqft",
          "500-599 sqft",
          "0-499 sqft",
          "500-599 sqft",
          "600-699 sqft",
          "700-799 sqft",
          "600-699 sqft",
          "600-699 sqft",
          "700-799 sqft",
          "700-799 sqft",
          "600-699 sqft",
          "500-599 sqft",
          "600-699 sqft",
          "0-499 sqft",
          "700-799 sqft",
          "600-699 sqft",
          "600-699 sqft",
          "0-499 sqft",
          "600-699 sqft",
          "700-799 sqft",
          "700-799 sqft",
          "500-599 sqft",
          "600-699 sqft",
          "0-499 sqft",
          "700-799 sqft",
          "700-799 sqft",
          "600-699 sqft",
          "600-699 sqft",
          "700-799 sqft",
          "0-499 sqft",
          "600-699 sqft",
          "0-499 sqft",
          "700-799 sqft",
          "0-499 sqft",
          "0-499 sqft",
          "500-599 sqft",
          "0-499 sqft",
          "600-699 sqft",
          "500-599 sqft",
          "500-599 sqft",
          "600-699 sqft",
          "700-799 sqft",
          "600-699 sqft",
          "500-599 sqft",
          "600-699 sqft",
          "600-699 sqft",
          "0-499 sqft",
          "0-499 sqft",
          "600-699 sqft",
          "500-599 sqft",
          "600-699 sqft",
          "600-699 sqft",
          "500-599 sqft",
          "0-499 sqft",
          "0-499 sqft",
          "600-699 sqft",
          "0-499 sqft",
          "500-599 sqft",
          "600-699 sqft",
          "500-599 sqft",
          "600-699 sqft",
          "700-799 sqft",
          "700-799 sqft",
          "600-699 sqft",
          "700-799 sqft",
          "600-699 sqft",
          "700-799 sqft",
          "500-599 sqft",
          "500-599 sqft",
          "500-599 sqft",
          "600-699 sqft",
          "700-799 sqft",
          "0-499 sqft",
          "700-799 sqft",
          "0-499 sqft",
          "700-799 sqft",
          "600-699 sqft",
          "600-699 sqft",
          "0-499 sqft",
          "600-699 sqft",
          "600-699 sqft",
          "600-699 sqft",
          "700-799 sqft",
          "600-699 sqft",
          "600-699 sqft",
          "500-599 sqft",
          "500-599 sqft",
          "700-799 sqft",
          "500-599 sqft",
          "700-799 sqft",
          "700-799 sqft",
          "500-599 sqft",
          "700-799 sqft",
          "600-699 sqft",
          "600-699 sqft",
          "500-599 sqft",
          "700-799 sqft",
          "700-799 sqft",
          "0-499 sqft",
          "500-599 sqft",
          "500-599 sqft",
          "600-699 sqft",
          "0-499 sqft",
          "500-599 sqft",
          "600-699 sqft",
          "500-599 sqft",
          "700-799 sqft",
          "600-699 sqft",
          "700-799 sqft",
          "700-799 sqft",
          "600-699 sqft",
          "500-599 sqft",
          "500-599 sqft",
          "500-599 sqft",
          "0-499 sqft",
          "600-699 sqft",
          "700-799 sqft",
          "600-699 sqft",
          "600-699 sqft",
          "700-799 sqft",
          "500-599 sqft",
          "0-499 sqft",
          "600-699 sqft",
          "0-499 sqft",
          "0-499 sqft",
          "600-699 sqft",
          "700-799 sqft",
          "600-699 sqft",
          "600-699 sqft",
          "600-699 sqft",
          "700-799 sqft",
          "0-499 sqft",
          "600-699 sqft",
          "600-699 sqft",
          "0-499 sqft",
          "600-699 sqft",
          "600-699 sqft",
          "500-599 sqft",
          "500-599 sqft",
          "700-799 sqft",
          "500-599 sqft",
          "600-699 sqft",
          "500-599 sqft",
          "600-699 sqft",
          "500-599 sqft",
          "700-799 sqft",
          "700-799 sqft",
          "500-599 sqft",
          "0-499 sqft",
          "600-699 sqft",
          "700-799 sqft",
          "600-699 sqft",
          "600-699 sqft",
          "600-699 sqft",
          "600-699 sqft",
          "500-599 sqft",
          "600-699 sqft",
          "500-599 sqft",
          "600-699 sqft",
          "500-599 sqft",
          "600-699 sqft",
          "700-799 sqft",
          "700-799 sqft",
          "500-599 sqft",
          "600-699 sqft",
          "700-799 sqft",
          "700-799 sqft",
          "500-599 sqft",
          "500-599 sqft",
          "600-699 sqft",
          "0-499 sqft",
          "500-599 sqft",
          "0-499 sqft",
          "600-699 sqft",
          "600-699 sqft",
          "600-699 sqft",
          "600-699 sqft",
          "700-799 sqft",
          "500-599 sqft",
          "700-799 sqft",
          "0-499 sqft",
          "700-799 sqft",
          "500-599 sqft",
          "500-599 sqft",
          "600-699 sqft",
          "600-699 sqft",
          "600-699 sqft",
          "600-699 sqft",
          "500-599 sqft",
          "600-699 sqft",
          "500-599 sqft",
          "600-699 sqft",
          "600-699 sqft",
          "500-599 sqft",
          "500-599 sqft",
          "600-699 sqft",
          "500-599 sqft",
          "500-599 sqft",
          "0-499 sqft",
          "600-699 sqft",
          "500-599 sqft",
          "600-699 sqft",
          "700-799 sqft",
          "500-599 sqft",
          "700-799 sqft",
          "600-699 sqft",
          "0-499 sqft",
          "700-799 sqft",
          "0-499 sqft",
          "0-499 sqft",
          "500-599 sqft",
          "0-499 sqft",
          "600-699 sqft",
          "600-699 sqft",
          "500-599 sqft",
          "500-599 sqft",
          "700-799 sqft",
          "0-499 sqft",
          "600-699 sqft",
          "700-799 sqft",
          "600-699 sqft",
          "700-799 sqft",
          "700-799 sqft",
          "500-599 sqft",
          "600-699 sqft",
          "600-699 sqft",
          "500-599 sqft",
          "600-699 sqft",
          "700-799 sqft",
          "600-699 sqft",
          "600-699 sqft",
          "500-599 sqft",
          "700-799 sqft",
          "600-699 sqft",
          "500-599 sqft",
          "600-699 sqft",
          "500-599 sqft",
          "600-699 sqft",
          "600-699 sqft",
          "600-699 sqft",
          "500-599 sqft",
          "700-799 sqft",
          "700-799 sqft",
          "0-499 sqft",
          "600-699 sqft",
          "600-699 sqft",
          "600-699 sqft",
          "600-699 sqft",
          "500-599 sqft",
          "700-799 sqft",
          "500-599 sqft",
          "0-499 sqft",
          "500-599 sqft",
          "700-799 sqft",
          "500-599 sqft",
          "0-499 sqft",
          "700-799 sqft",
          "500-599 sqft",
          "600-699 sqft",
          "700-799 sqft",
          "700-799 sqft",
          "500-599 sqft",
          "0-499 sqft",
          "700-799 sqft",
          "0-499 sqft",
          "600-699 sqft",
          "700-799 sqft",
          "0-499 sqft",
          "0-499 sqft",
          "600-699 sqft",
          "600-699 sqft",
          "0-499 sqft",
          "600-699 sqft",
          "0-499 sqft",
          "600-699 sqft",
          "700-799 sqft",
          "600-699 sqft",
          "600-699 sqft",
          "600-699 sqft",
          "600-699 sqft",
          "500-599 sqft",
          "500-599 sqft",
          "600-699 sqft",
          "700-799 sqft",
          "700-799 sqft",
          "600-699 sqft",
          "600-699 sqft",
          "0-499 sqft",
          "500-599 sqft",
          "500-599 sqft",
          "600-699 sqft",
          "500-599 sqft",
          "600-699 sqft",
          "500-599 sqft",
          "700-799 sqft",
          "500-599 sqft",
          "700-799 sqft",
          "700-799 sqft",
          "600-699 sqft",
          "500-599 sqft",
          "600-699 sqft",
          "500-599 sqft",
          "700-799 sqft",
          "600-699 sqft",
          "600-699 sqft",
          "500-599 sqft",
          "600-699 sqft",
          "500-599 sqft",
          "600-699 sqft",
          "700-799 sqft",
          "600-699 sqft",
          "600-699 sqft",
          "500-599 sqft",
          "500-599 sqft",
          "700-799 sqft",
          "700-799 sqft",
          "600-699 sqft",
          "500-599 sqft",
          "600-699 sqft",
          "500-599 sqft",
          "0-499 sqft",
          "600-699 sqft",
          "700-799 sqft",
          "700-799 sqft",
          "700-799 sqft",
          "600-699 sqft",
          "700-799 sqft",
          "600-699 sqft",
          "500-599 sqft",
          "700-799 sqft",
          "600-699 sqft",
          "500-599 sqft",
          "500-599 sqft",
          "500-599 sqft",
          "700-799 sqft",
          "600-699 sqft",
          "600-699 sqft",
          "600-699 sqft",
          "500-599 sqft",
          "0-499 sqft",
          "600-699 sqft",
          "500-599 sqft",
          "600-699 sqft",
          "500-599 sqft",
          "700-799 sqft",
          "500-599 sqft",
          "600-699 sqft",
          "500-599 sqft",
          "600-699 sqft",
          "500-599 sqft",
          "600-699 sqft",
          "0-499 sqft",
          "700-799 sqft",
          "500-599 sqft",
          "700-799 sqft",
          "500-599 sqft",
          "500-599 sqft",
          "600-699 sqft",
          "500-599 sqft",
          "500-599 sqft",
          "500-599 sqft",
          "700-799 sqft",
          "500-599 sqft",
          "500-599 sqft",
          "700-799 sqft",
          "700-799 sqft",
          "0-499 sqft",
          "500-599 sqft",
          "600-699 sqft",
          "700-799 sqft",
          "700-799 sqft",
          "600-699 sqft",
          "500-599 sqft",
          "700-799 sqft",
          "500-599 sqft",
          "0-499 sqft",
          "0-499 sqft",
          "500-599 sqft",
          "500-599 sqft",
          "700-799 sqft",
          "500-599 sqft",
          "500-599 sqft",
          "700-799 sqft",
          "700-799 sqft",
          "500-599 sqft",
          "600-699 sqft",
          "500-599 sqft",
          "700-799 sqft",
          "600-699 sqft",
          "700-799 sqft",
          "600-699 sqft",
          "700-799 sqft",
          "700-799 sqft",
          "600-699 sqft",
          "500-599 sqft",
          "500-599 sqft",
          "600-699 sqft",
          "500-599 sqft",
          "700-799 sqft",
          "700-799 sqft",
          "600-699 sqft",
          "600-699 sqft",
          "500-599 sqft",
          "500-599 sqft",
          "700-799 sqft",
          "600-699 sqft",
          "700-799 sqft",
          "600-699 sqft",
          "600-699 sqft",
          "700-799 sqft",
          "700-799 sqft",
          "500-599 sqft",
          "500-599 sqft",
          "600-699 sqft",
          "600-699 sqft",
          "600-699 sqft",
          "500-599 sqft",
          "700-799 sqft",
          "600-699 sqft",
          "700-799 sqft",
          "500-599 sqft",
          "700-799 sqft",
          "500-599 sqft",
          "0-499 sqft",
          "600-699 sqft",
          "700-799 sqft",
          "500-599 sqft",
          "500-599 sqft",
          "600-699 sqft",
          "700-799 sqft",
          "600-699 sqft",
          "500-599 sqft",
          "600-699 sqft",
          "600-699 sqft",
          "600-699 sqft",
          "500-599 sqft",
          "500-599 sqft",
          "600-699 sqft",
          "600-699 sqft",
          "500-599 sqft",
          "500-599 sqft",
          "700-799 sqft",
          "0-499 sqft",
          "700-799 sqft",
          "600-699 sqft",
          "600-699 sqft",
          "500-599 sqft",
          "700-799 sqft",
          "700-799 sqft",
          "600-699 sqft",
          "700-799 sqft",
          "500-599 sqft",
          "0-499 sqft",
          "500-599 sqft",
          "700-799 sqft",
          "500-599 sqft",
          "0-499 sqft",
          "700-799 sqft",
          "500-599 sqft",
          "600-699 sqft",
          "700-799 sqft",
          "0-499 sqft",
          "700-799 sqft",
          "700-799 sqft",
          "0-499 sqft",
          "500-599 sqft",
          "600-699 sqft",
          "500-599 sqft",
          "600-699 sqft",
          "700-799 sqft",
          "500-599 sqft",
          "700-799 sqft",
          "0-499 sqft",
          "600-699 sqft",
          "700-799 sqft",
          "700-799 sqft",
          "600-699 sqft",
          "500-599 sqft",
          "600-699 sqft",
          "700-799 sqft",
          "700-799 sqft",
          "600-699 sqft",
          "700-799 sqft",
          "700-799 sqft",
          "600-699 sqft",
          "600-699 sqft",
          "500-599 sqft",
          "600-699 sqft",
          "600-699 sqft",
          "0-499 sqft",
          "600-699 sqft",
          "500-599 sqft",
          "700-799 sqft",
          "700-799 sqft",
          "500-599 sqft",
          "500-599 sqft",
          "600-699 sqft",
          "500-599 sqft",
          "600-699 sqft",
          "0-499 sqft",
          "700-799 sqft",
          "700-799 sqft",
          "600-699 sqft",
          "0-499 sqft",
          "700-799 sqft",
          "600-699 sqft",
          "0-499 sqft",
          "500-599 sqft",
          "700-799 sqft",
          "600-699 sqft",
          "600-699 sqft",
          "500-599 sqft",
          "600-699 sqft",
          "700-799 sqft",
          "600-699 sqft",
          "600-699 sqft",
          "600-699 sqft",
          "500-599 sqft",
          "600-699 sqft",
          "0-499 sqft",
          "600-699 sqft",
          "700-799 sqft",
          "700-799 sqft",
          "600-699 sqft",
          "700-799 sqft",
          "700-799 sqft",
          "700-799 sqft",
          "600-699 sqft",
          "600-699 sqft",
          "600-699 sqft",
          "600-699 sqft",
          "500-599 sqft",
          "0-499 sqft",
          "700-799 sqft",
          "600-699 sqft",
          "600-699 sqft",
          "600-699 sqft",
          "500-599 sqft",
          "600-699 sqft",
          "500-599 sqft",
          "700-799 sqft",
          "600-699 sqft",
          "600-699 sqft",
          "700-799 sqft",
          "600-699 sqft",
          "500-599 sqft",
          "500-599 sqft",
          "700-799 sqft",
          "600-699 sqft",
          "600-699 sqft",
          "700-799 sqft",
          "0-499 sqft",
          "700-799 sqft",
          "600-699 sqft",
          "500-599 sqft",
          "700-799 sqft",
          "600-699 sqft",
          "0-499 sqft",
          "500-599 sqft",
          "700-799 sqft",
          "600-699 sqft",
          "0-499 sqft",
          "500-599 sqft",
          "500-599 sqft",
          "600-699 sqft",
          "600-699 sqft",
          "600-699 sqft",
          "500-599 sqft",
          "500-599 sqft",
          "600-699 sqft",
          "500-599 sqft",
          "500-599 sqft",
          "600-699 sqft",
          "0-499 sqft",
          "0-499 sqft",
          "500-599 sqft",
          "0-499 sqft",
          "0-499 sqft",
          "700-799 sqft",
          "600-699 sqft",
          "600-699 sqft",
          "700-799 sqft",
          "0-499 sqft",
          "500-599 sqft",
          "600-699 sqft",
          "500-599 sqft",
          "600-699 sqft",
          "500-599 sqft",
          "600-699 sqft",
          "600-699 sqft",
          "600-699 sqft",
          "600-699 sqft",
          "600-699 sqft",
          "500-599 sqft",
          "600-699 sqft",
          "0-499 sqft",
          "500-599 sqft",
          "600-699 sqft",
          "0-499 sqft",
          "600-699 sqft",
          "500-599 sqft",
          "700-799 sqft",
          "600-699 sqft",
          "700-799 sqft",
          "600-699 sqft",
          "700-799 sqft",
          "600-699 sqft",
          "600-699 sqft",
          "600-699 sqft",
          "500-599 sqft",
          "700-799 sqft",
          "600-699 sqft",
          "600-699 sqft",
          "0-499 sqft",
          "700-799 sqft",
          "500-599 sqft",
          "700-799 sqft",
          "600-699 sqft",
          "600-699 sqft",
          "600-699 sqft",
          "600-699 sqft",
          "500-599 sqft",
          "700-799 sqft",
          "600-699 sqft",
          "700-799 sqft",
          "600-699 sqft",
          "500-599 sqft",
          "500-599 sqft",
          "0-499 sqft",
          "500-599 sqft",
          "600-699 sqft",
          "700-799 sqft",
          "0-499 sqft",
          "500-599 sqft",
          "500-599 sqft",
          "700-799 sqft",
          "700-799 sqft",
          "0-499 sqft",
          "700-799 sqft",
          "500-599 sqft",
          "600-699 sqft",
          "700-799 sqft",
          "0-499 sqft",
          "500-599 sqft",
          "500-599 sqft",
          "500-599 sqft",
          "0-499 sqft",
          "500-599 sqft",
          "600-699 sqft",
          "500-599 sqft",
          "600-699 sqft",
          "600-699 sqft",
          "500-599 sqft",
          "0-499 sqft",
          "700-799 sqft",
          "700-799 sqft",
          "600-699 sqft",
          "500-599 sqft",
          "700-799 sqft",
          "600-699 sqft",
          "0-499 sqft",
          "500-599 sqft",
          "500-599 sqft",
          "500-599 sqft",
          "700-799 sqft",
          "700-799 sqft",
          "500-599 sqft",
          "500-599 sqft",
          "600-699 sqft",
          "0-499 sqft",
          "500-599 sqft",
          "700-799 sqft",
          "500-599 sqft",
          "700-799 sqft",
          "500-599 sqft",
          "500-599 sqft",
          "600-699 sqft",
          "700-799 sqft",
          "0-499 sqft",
          "600-699 sqft",
          "0-499 sqft",
          "700-799 sqft",
          "0-499 sqft",
          "500-599 sqft",
          "700-799 sqft",
          "700-799 sqft",
          "700-799 sqft",
          "700-799 sqft",
          "700-799 sqft",
          "600-699 sqft",
          "600-699 sqft",
          "500-599 sqft",
          "600-699 sqft",
          "700-799 sqft",
          "700-799 sqft",
          "600-699 sqft",
          "0-499 sqft",
          "0-499 sqft",
          "500-599 sqft",
          "700-799 sqft",
          "0-499 sqft",
          "500-599 sqft",
          "700-799 sqft",
          "600-699 sqft",
          "0-499 sqft",
          "700-799 sqft",
          "600-699 sqft",
          "700-799 sqft",
          "600-699 sqft",
          "500-599 sqft",
          "600-699 sqft",
          "600-699 sqft",
          "600-699 sqft",
          "600-699 sqft",
          "600-699 sqft",
          "0-499 sqft",
          "500-599 sqft",
          "500-599 sqft",
          "600-699 sqft",
          "600-699 sqft",
          "500-599 sqft",
          "600-699 sqft",
          "700-799 sqft",
          "600-699 sqft",
          "600-699 sqft",
          "700-799 sqft",
          "500-599 sqft",
          "600-699 sqft",
          "700-799 sqft",
          "0-499 sqft",
          "700-799 sqft",
          "0-499 sqft",
          "600-699 sqft",
          "500-599 sqft",
          "700-799 sqft",
          "600-699 sqft",
          "600-699 sqft",
          "500-599 sqft",
          "500-599 sqft",
          "500-599 sqft",
          "500-599 sqft",
          "600-699 sqft",
          "500-599 sqft",
          "500-599 sqft",
          "600-699 sqft",
          "0-499 sqft",
          "500-599 sqft",
          "700-799 sqft",
          "600-699 sqft",
          "600-699 sqft",
          "700-799 sqft",
          "0-499 sqft",
          "500-599 sqft",
          "700-799 sqft",
          "600-699 sqft",
          "500-599 sqft",
          "700-799 sqft",
          "700-799 sqft",
          "600-699 sqft",
          "700-799 sqft",
          "600-699 sqft",
          "600-699 sqft",
          "700-799 sqft",
          "500-599 sqft",
          "700-799 sqft",
          "0-499 sqft",
          "700-799 sqft",
          "700-799 sqft",
          "600-699 sqft",
          "600-699 sqft",
          "600-699 sqft",
          "700-799 sqft",
          "700-799 sqft",
          "700-799 sqft",
          "500-599 sqft",
          "500-599 sqft",
          "500-599 sqft",
          "500-599 sqft",
          "600-699 sqft",
          "700-799 sqft",
          "600-699 sqft",
          "700-799 sqft",
          "700-799 sqft",
          "500-599 sqft",
          "700-799 sqft",
          "700-799 sqft",
          "0-499 sqft",
          "600-699 sqft",
          "600-699 sqft",
          "600-699 sqft",
          "500-599 sqft",
          "500-599 sqft",
          "0-499 sqft",
          "600-699 sqft",
          "600-699 sqft",
          "700-799 sqft",
          "0-499 sqft",
          "500-599 sqft",
          "700-799 sqft",
          "0-499 sqft",
          "0-499 sqft",
          "500-599 sqft",
          "600-699 sqft",
          "700-799 sqft",
          "500-599 sqft",
          "600-699 sqft",
          "500-599 sqft",
          "700-799 sqft",
          "0-499 sqft",
          "500-599 sqft",
          "500-599 sqft",
          "700-799 sqft",
          "500-599 sqft",
          "0-499 sqft",
          "600-699 sqft",
          "600-699 sqft",
          "600-699 sqft",
          "500-599 sqft"
         ],
         "y": [
          799900,
          460000,
          549000,
          549000,
          799000,
          608000,
          539000,
          390000,
          719900,
          629900,
          1825000,
          1048000,
          669900,
          779900,
          780000,
          699000,
          489900,
          399000,
          635000,
          599900,
          399000,
          699000,
          808800,
          849900,
          798000,
          699900,
          839000,
          999000,
          569000,
          379900,
          1025990,
          590000,
          679000,
          499900,
          579990,
          799000,
          1169000,
          539000,
          579900,
          599000,
          868800,
          846000,
          799900,
          460000,
          549000,
          549000,
          799000,
          608000,
          539000,
          390000,
          719900,
          629900,
          1825000,
          1048000,
          669900,
          779900,
          780000,
          699000,
          489900,
          399000,
          635000,
          599900,
          399000,
          699000,
          808800,
          849900,
          798000,
          699900,
          839000,
          999000,
          569000,
          379900,
          1025990,
          590000,
          679000,
          499900,
          579990,
          799000,
          1169000,
          539000,
          579900,
          599000,
          868800,
          846000,
          948800,
          1099000,
          529900,
          799000,
          749000,
          749900,
          797000,
          729900,
          999000,
          889000,
          979900,
          600000,
          499000,
          785000,
          2395000,
          699000,
          749000,
          474900,
          799900,
          548000,
          649000,
          534900,
          3199000,
          1288000,
          748000,
          1099000,
          1045000,
          799000,
          690000,
          790000,
          648800,
          2495000,
          599000,
          675000,
          698000,
          639000,
          549900,
          599000,
          479000,
          1350000,
          799900,
          679000,
          999000,
          519000,
          949000,
          595000,
          999000,
          939900,
          799900,
          599000,
          1319900,
          629900,
          882000,
          570000,
          628000,
          495000,
          749000,
          999000,
          779000,
          968888,
          649000,
          499800,
          615000,
          489000,
          585000,
          679000,
          749900,
          749000,
          529000,
          1179900,
          888000,
          659800,
          605000,
          599000,
          1319000,
          1249000,
          705000,
          780000,
          2795000,
          699999,
          754900,
          574900,
          573900,
          899000,
          2195000,
          535000,
          774900,
          1499900,
          749900,
          899900,
          649900,
          529900,
          819000,
          668000,
          645000,
          649000,
          499000,
          699000,
          469900,
          2595000,
          499000,
          614900,
          397000,
          408000,
          649000,
          619000,
          488888,
          910000,
          1599900,
          749900,
          699900,
          599900,
          1439000,
          649900,
          885000,
          595000,
          1280000,
          599000,
          578000,
          1049000,
          758000,
          2588000,
          499999,
          405000,
          789000,
          688888,
          665888,
          1189000,
          688800,
          1200000,
          669000,
          995000,
          1099000,
          1349900,
          688000,
          929000,
          725000,
          675000,
          599900,
          528000,
          869000,
          549800,
          595000,
          999900,
          1050000,
          529999,
          548000,
          699900,
          2350000,
          999000,
          1895000,
          1699000,
          899000,
          799000,
          599000,
          419900,
          1015000,
          688800,
          899900,
          699900,
          699000,
          395000,
          539000,
          999000,
          639000,
          569000,
          700000,
          729000,
          769000,
          638000,
          565000,
          1949900,
          539000,
          998000,
          769900,
          749900,
          659900,
          529900,
          649900,
          629900,
          498800,
          659000,
          739900,
          779900,
          799000,
          579900,
          499900,
          879000,
          499500,
          699800,
          998700,
          919000,
          599900,
          1349000,
          799000,
          549000,
          718888,
          339900,
          389000,
          499990,
          479900,
          674800,
          723000,
          529900,
          579900,
          749900,
          858000,
          998000,
          679000,
          708800,
          439900,
          819000,
          499900,
          923888,
          765800,
          624900,
          299900,
          499000,
          698000,
          1099000,
          578999,
          608000,
          464900,
          599999,
          699000,
          599000,
          950000,
          599900,
          820000,
          699000,
          499999,
          2190000,
          599900,
          469000,
          599900,
          699000,
          590000,
          438888,
          428000,
          465000,
          589800,
          835000,
          455900,
          549000,
          819800,
          569800,
          466600,
          898000,
          649000,
          648888,
          398000,
          499900,
          269000,
          555000,
          404800,
          1099000,
          519900,
          545000,
          588000,
          553000,
          698000,
          768000,
          399000,
          499000,
          659900,
          599888,
          740000,
          649900,
          528888,
          599988,
          699000,
          649000,
          1730000,
          762000,
          659000,
          519000,
          699900,
          980000,
          699000,
          999990,
          628800,
          610000,
          2180000,
          599000,
          749900,
          625000,
          525000,
          998000,
          749000,
          1899000,
          449000,
          560000,
          579900,
          639900,
          499000,
          545000,
          469900,
          579900,
          619900,
          629900,
          339900,
          849000,
          575000,
          675500,
          2590000,
          499900,
          599000,
          535000,
          849000,
          729000,
          950000,
          749900,
          495100,
          789999,
          679900,
          719990,
          1639900,
          1385000,
          590000,
          629000,
          1159000,
          645000,
          449900,
          779900,
          499000,
          649000,
          1275000,
          725000,
          565000,
          645000,
          688000,
          925000,
          499000,
          578000,
          998888,
          799000,
          647000,
          1850000,
          629000,
          1000000,
          679000,
          1100000,
          599000,
          649000,
          639000,
          1239000,
          1100000,
          499000,
          659800,
          445000,
          1895000,
          874900,
          499000,
          724900,
          839000,
          724999,
          450000,
          639000,
          745000,
          629900,
          839000,
          549900,
          728888,
          465000,
          748800,
          749990,
          699888,
          739000,
          545900,
          518000,
          1059000,
          679900,
          799999,
          798000,
          650000,
          454900,
          479000,
          799999,
          439000,
          878900,
          549999,
          378888,
          629990,
          749900,
          678000,
          524900,
          945000,
          760000,
          1099990,
          647500,
          659900,
          624900,
          384900,
          959900,
          659900,
          595000,
          638000,
          649900,
          1218500,
          525000,
          449900,
          790000,
          769000,
          649000,
          599900,
          448000,
          718000,
          999000,
          899000,
          649777,
          1199000,
          799900,
          610000,
          715000,
          588000,
          699000,
          649900,
          639000,
          699999,
          499000,
          599000,
          419900,
          599000,
          1498000,
          1670000,
          589900,
          599900,
          529000,
          939000,
          1529000,
          699900,
          619000,
          595000,
          649000,
          869000,
          1450000,
          1399000,
          700000,
          729000,
          449000,
          489900,
          749900,
          999999,
          638900,
          839900,
          758000,
          879000,
          820000,
          629000,
          1350000,
          599000,
          499900,
          849900,
          329900,
          629000,
          799000,
          559000,
          729000,
          524900,
          1125000,
          415000,
          429900,
          649900,
          899000,
          499000,
          599999,
          589000,
          599000,
          529000,
          699000,
          475000,
          939900,
          1099800,
          449900,
          719900,
          849000,
          699000,
          625000,
          819000,
          899900,
          609900,
          599900,
          999900,
          599900,
          670000,
          639000,
          749000,
          499000,
          599000,
          254000,
          330000,
          449900,
          655000,
          649900,
          709900,
          1219980,
          699900,
          499000,
          888000,
          798000,
          749900,
          399900,
          469000,
          498000,
          1000000,
          698000,
          598800,
          439900,
          449000,
          449900,
          518000,
          598800,
          479000,
          499900,
          599000,
          510000,
          589000,
          869900,
          748000,
          899000,
          715000,
          549000,
          574999,
          499900,
          898000,
          559000,
          729000,
          429999,
          652800,
          654000,
          748000,
          599000,
          1050000,
          699000,
          749000,
          338888,
          1298000,
          618000,
          779900,
          388888,
          675000,
          499000,
          535000,
          1348000,
          795000,
          479900,
          579000,
          599900,
          679000,
          699999,
          928000,
          899900,
          1000000,
          689900,
          699900,
          862500,
          865000,
          819900,
          620000,
          999900,
          798800,
          499800,
          2249999,
          729999,
          799900,
          479900,
          499000,
          978000,
          499900,
          799900,
          719999,
          595000,
          498000,
          654900,
          699000,
          799900,
          788000,
          399000,
          449000,
          898000,
          650000,
          739000,
          599900,
          799900,
          899000,
          825000,
          589900,
          399999,
          429900,
          449700,
          769888,
          624999,
          729880,
          729000,
          699000,
          699000,
          780000,
          629900,
          425000,
          499000,
          799900,
          488000,
          1280000,
          799000,
          659900,
          546000,
          1100000,
          644900,
          548000,
          599000,
          589900,
          950000,
          598000,
          788000,
          729900,
          1099000,
          578900,
          614000,
          499990,
          499000,
          949000,
          1299900,
          599900,
          799000,
          699900,
          1499000,
          1848800,
          1249900,
          679900,
          699000,
          598900,
          720000,
          585000,
          529000,
          999900,
          1849999,
          1849999,
          669000,
          359900,
          1150000,
          799000,
          479000,
          1235000,
          658800,
          512000,
          678000,
          599000,
          699999,
          520000,
          499900,
          499000,
          698000,
          600000,
          563000,
          2299000,
          549900,
          999999,
          852900,
          649900,
          579900,
          628000,
          609000,
          620990,
          565000,
          599000,
          589000,
          849900,
          1688000,
          449000,
          749900,
          649800,
          1049900,
          588800,
          699000,
          499000,
          415888,
          389000,
          998000,
          649000,
          999000,
          1149900,
          1100000,
          499988,
          999000,
          398000,
          850000,
          599900,
          749900,
          550000,
          599900,
          499000,
          469000,
          599999,
          538888,
          587000,
          499999,
          590000,
          655000,
          509555,
          729000,
          799000,
          499900,
          775000,
          679000,
          899900,
          919000,
          390000,
          1465000,
          1800000,
          779000,
          429999,
          829000,
          950000,
          1179000,
          969900,
          547500,
          769000,
          699000,
          878000,
          1549000,
          4900000,
          779000,
          499000,
          499900,
          519000,
          749900,
          699000,
          588000,
          550000,
          499000,
          488000,
          665000,
          660000,
          545000,
          418000,
          699999,
          1288000,
          489900,
          749000,
          619000,
          920000,
          1669000,
          489800,
          539000,
          1085000,
          480000,
          669000,
          679000,
          829900,
          779990,
          568000,
          685000,
          472500,
          574900,
          1749000,
          499800,
          688000,
          699000,
          629900,
          639900,
          472027,
          699000,
          999000,
          728000,
          579900,
          400000,
          549900,
          949900,
          699000,
          699900,
          657000,
          859000,
          649000,
          549000,
          735000,
          799000,
          769000,
          1179000,
          1780000,
          534900,
          539000,
          1279900,
          549900,
          729000,
          739000,
          1549900,
          640000,
          8980000,
          699000,
          789000,
          608000,
          2190000,
          649000,
          1900000,
          455000,
          749800,
          998000,
          659000,
          779000,
          598000,
          389000,
          788000,
          269000,
          689900,
          429900,
          449900,
          749000,
          508800,
          689900,
          549000,
          658000,
          574900,
          658000,
          648990,
          465000,
          519000,
          549000,
          996600,
          749000,
          524900,
          575000,
          779000,
          600000,
          899900,
          619000,
          669000,
          799000,
          488888,
          618770,
          549000,
          499000,
          888888,
          508800,
          400000,
          549000,
          724900,
          2290000,
          1165000,
          800000,
          759000,
          599900,
          919000,
          249000,
          624900,
          499999,
          545900,
          639900,
          879000,
          698000,
          499000,
          610000,
          698000,
          638888,
          1495000,
          728000,
          1560000,
          1268800,
          575000,
          575000,
          525000,
          649900,
          699000,
          579900,
          499000,
          669000,
          349900,
          650000,
          645000,
          7295000,
          479900,
          729900,
          1399000,
          628888,
          639000,
          980000,
          2499000,
          549900,
          549000,
          589990,
          722999,
          659000,
          559800,
          1480000,
          765000,
          568800,
          579000,
          599900,
          399900,
          1065000,
          499900,
          849900,
          515000,
          1499000,
          1899000,
          549000,
          1295000,
          629000,
          3900000,
          535000,
          638000,
          548000,
          1149900,
          724000,
          599000,
          1729000,
          899000,
          599900,
          439900,
          689000,
          689900,
          1498800,
          599000,
          658000,
          499000,
          750000,
          679000,
          679000,
          939900,
          1549000,
          775880,
          1385000,
          1180000,
          650000,
          689789,
          609000,
          659900,
          2099990,
          699000,
          365000,
          659000,
          599000,
          739900,
          699000,
          699900,
          739000,
          729800,
          799000,
          750000,
          499000,
          919000,
          799000,
          425000,
          599900,
          629000,
          698000,
          1188000,
          879000,
          729888,
          339000,
          738800,
          670000,
          689000,
          929000,
          899900,
          608800,
          599900,
          449000,
          605000,
          379000,
          449888,
          779000,
          619900,
          799900,
          489000,
          899900,
          1169800,
          575000,
          685000,
          800000,
          534900,
          719000,
          745000,
          488000,
          549900,
          829900,
          988000,
          469000,
          768888,
          619000,
          693000,
          519900,
          685000,
          690000,
          475000,
          1099500,
          1109999,
          749000,
          569000,
          619900,
          659000,
          625000,
          699000,
          1299000,
          575000,
          586000,
          599000,
          599900,
          689000,
          415000,
          950000,
          519000,
          699888,
          698000,
          828000,
          625000,
          625000,
          999000,
          818000,
          729900,
          439800,
          475000,
          525000,
          1058000,
          539000,
          765000,
          449000,
          2999500,
          455000,
          855000,
          1300000,
          659000,
          768000,
          738000,
          599000,
          699000,
          939900,
          449000,
          459900,
          499000,
          637999,
          539900,
          599999,
          728000,
          1065000,
          479900,
          2395000,
          738000,
          599000,
          428000,
          768800,
          389000,
          409900,
          599000,
          558000,
          599000,
          574900,
          595000,
          579000,
          848000,
          899000,
          769000,
          859000,
          618000,
          559000,
          899900,
          588000,
          389000,
          1285000,
          549900,
          558000,
          1068000,
          649000,
          645000,
          585900,
          668000,
          658800,
          768000,
          729000,
          479900,
          649000,
          600000,
          649000,
          799999,
          790000,
          988800,
          649000,
          599000,
          1545000,
          599900,
          567500,
          615000,
          600000,
          559000,
          465999,
          799900,
          588800,
          728888,
          669000,
          668000,
          559900,
          649000,
          850000,
          767900,
          579000,
          898000,
          639000,
          745900,
          768000,
          729900,
          529900,
          598000,
          1369000,
          898000,
          1075000,
          598000,
          599000,
          540000,
          795900,
          2388800,
          649000,
          498000,
          549000,
          599900,
          763000,
          484000,
          568000,
          699000,
          499000,
          730000,
          1179000,
          1179900,
          659000,
          799900,
          489000,
          499000,
          999998,
          609000,
          585000,
          599900,
          605000,
          929000,
          1300141,
          534000,
          1555141,
          599900,
          579000,
          539900,
          549900,
          888000,
          815000,
          650000,
          548000,
          724000,
          849900,
          698000,
          699000,
          629900,
          719000,
          479000,
          778000,
          600000,
          539900,
          625000,
          549000,
          745000,
          445000,
          705000,
          829900,
          1088000,
          950000,
          688000,
          999900,
          929990,
          698900,
          849000,
          950000,
          1820000,
          1420000,
          1188000,
          599000,
          549000,
          1849000,
          599000,
          499000,
          739900,
          468000,
          642000,
          788000,
          699900,
          859900,
          649000,
          2525000,
          539900,
          549000,
          988000,
          2149000,
          999000,
          575000,
          1098000,
          669900,
          1099000,
          659900,
          1290000,
          1290000,
          2149900,
          1185000,
          799900,
          415000,
          699000,
          529000,
          850000,
          958000,
          639800,
          619900,
          480000,
          590000,
          747000,
          585000,
          539900,
          919000,
          2499000,
          819900,
          649900,
          559900,
          599900,
          699000,
          738800,
          790000,
          575000,
          449900,
          958000,
          549000,
          415900,
          668900,
          498000,
          794900,
          764900,
          749900,
          675000,
          599000,
          559000,
          594999,
          829000,
          699000,
          399900,
          1590000,
          899000,
          749000,
          499900,
          779000,
          939000,
          1895000,
          565000,
          1300000,
          879900,
          274000,
          389000,
          479000,
          499000,
          599000,
          629000,
          1687141,
          640000,
          919000,
          659000,
          649900,
          498500,
          625000,
          475000,
          494000,
          499888,
          899900,
          883900,
          560000,
          775000,
          439000,
          449000,
          1099000,
          749000,
          1200000,
          1258000,
          799888,
          544900,
          599000,
          679000,
          699999,
          659000,
          649900,
          2250000,
          449800,
          789000,
          1439900,
          739900,
          648500,
          638800,
          520000,
          1348000,
          689000,
          778500,
          1349000,
          475000,
          998900,
          629000,
          5199000,
          1049000,
          559000,
          799900,
          849900,
          759900,
          868000,
          824900,
          588000,
          1200000,
          479000,
          718000,
          750000,
          2250000,
          2250000,
          769900,
          709000,
          1889000,
          1249000,
          599900,
          775000,
          549900,
          1099000,
          599900,
          2699000,
          428000,
          399900,
          499900,
          1399000,
          883800,
          755000,
          570000,
          488000,
          2999000,
          748000,
          559900,
          1188800,
          699000,
          338000,
          459900,
          499000,
          779999,
          549900,
          549900,
          629000,
          599000,
          649000,
          679900,
          709500,
          584900,
          639000,
          780000,
          545000,
          685900,
          729000,
          778800,
          679999,
          1649000,
          719000,
          529800,
          960000,
          719500,
          789000,
          678880,
          689900,
          649000,
          799000,
          499800,
          369000,
          669999,
          465888,
          669000,
          394900,
          459900,
          995000,
          655000,
          349000,
          950000,
          418000,
          499000,
          589900,
          625000,
          1288000,
          359900,
          575000,
          524900,
          488000,
          569000,
          438000,
          2699900,
          578000,
          631900,
          675000,
          569000,
          599900,
          643000,
          519900,
          749999,
          1078000,
          835000,
          1450000,
          699000,
          680000,
          2000000,
          799000,
          475000,
          1020000,
          459900,
          688000,
          639900,
          639000,
          2089000,
          699000,
          618000,
          779000,
          588000,
          1399000,
          520000,
          588000,
          1850000,
          729000,
          584500,
          749000,
          3095000,
          2149900,
          479000,
          1200000,
          449000,
          948000,
          1225000,
          597500,
          1299000,
          499900,
          649990,
          779000,
          768000,
          449900,
          599000,
          621000,
          1168000,
          515000,
          669900,
          1279990,
          539900,
          818000,
          939000,
          679900,
          489999,
          849000,
          759900,
          679900,
          599000,
          499000,
          599900,
          679000,
          479000,
          479000,
          499000,
          559000,
          1998000,
          1045000,
          1099000,
          419800,
          649000,
          445000,
          549000,
          679000,
          499900,
          519000,
          728800,
          899000,
          449900,
          499900,
          1089800,
          600000,
          649000,
          799900,
          649000,
          649900,
          689000,
          969000,
          699999,
          809000,
          676000,
          724800,
          639900,
          688800,
          828000,
          685000,
          778000,
          798000,
          2098000,
          2698000,
          3298000,
          585000,
          1598000,
          1338000,
          649900,
          718000,
          1148000,
          639900,
          549900,
          779700,
          859000,
          618800,
          975000,
          1499000,
          6380000,
          417800,
          818000,
          739000,
          625000,
          759000,
          739990,
          657900,
          808000,
          719900,
          669000,
          3250000,
          1230888,
          758000,
          589900,
          1329900,
          665000,
          919900,
          599900,
          475000,
          499000,
          479000,
          718800,
          2350000,
          972000,
          770000,
          1380000,
          1249888,
          1565000,
          550788,
          598000,
          675000,
          799000,
          739000,
          508000,
          2795000,
          629000,
          899000,
          999000,
          539000,
          1099900,
          825000,
          799000,
          699900,
          538888,
          1350000,
          2299000,
          1620000,
          475000,
          729000,
          1255900,
          459900,
          889000,
          798800,
          499990,
          549990,
          399900,
          675000,
          998000,
          529000,
          675000,
          629800,
          309000,
          559000,
          494900,
          799000,
          670000,
          809900,
          749800,
          619800,
          500000,
          739999,
          729000,
          649900,
          749999,
          1399000,
          434900,
          1298000,
          649900,
          2790000,
          729000,
          595000,
          750000,
          899900,
          729990,
          529888,
          899000,
          799900,
          739900,
          689000,
          669900,
          708000,
          550888,
          1799999,
          469900,
          1000000,
          5500000,
          539900,
          549000,
          1850000,
          699990,
          1199000,
          898000,
          1049800,
          729900,
          949888,
          1198000,
          639900,
          595000,
          449813,
          619900,
          1248000,
          1150000,
          693000,
          599000,
          939500,
          569000,
          719000,
          549000,
          709800,
          1899000,
          599000,
          585000,
          699900,
          485000,
          525000,
          1360000,
          730000,
          454900,
          2649990,
          599900,
          688800,
          1298000,
          575000,
          708000,
          869000,
          879000,
          549900,
          659000,
          929000,
          745000,
          719000,
          689500,
          639900,
          1088000,
          369000,
          535000,
          699900,
          469900,
          945900,
          650000,
          978000,
          1499000,
          449999,
          249000,
          889900,
          799900,
          699999,
          649888,
          549900,
          919000,
          1688000,
          559000,
          699900,
          899000,
          649900,
          14998000,
          418000,
          550000,
          819900,
          1049900,
          2199000,
          668000,
          629900,
          719000,
          599900,
          824900,
          428888,
          699000,
          569900,
          649900,
          3200000,
          768000,
          880000,
          469900,
          1588000,
          679900,
          519000,
          539800,
          429900,
          1795000,
          955000,
          1488800,
          949000,
          659000,
          449000,
          1185900,
          668000,
          675000,
          679990,
          879000,
          730000,
          497000,
          835000,
          939000,
          479000,
          479900,
          1373112,
          899000,
          948000,
          793000,
          518000,
          588000,
          620000,
          750000,
          526900,
          599000,
          519900,
          764888,
          529999,
          649900,
          698000,
          439800,
          620000,
          1250000,
          853000,
          450000,
          639900,
          569900,
          524500,
          645000,
          5800000,
          848000,
          838000,
          1295000,
          1099000,
          1988000,
          559000,
          519900,
          629000,
          494900,
          798000,
          599800,
          545000,
          525000,
          579000,
          684800,
          1350000,
          825000,
          715000,
          569000,
          399900,
          589900,
          619000,
          779800,
          808000,
          1449000,
          1498800,
          599000,
          1450000,
          719000,
          1250000,
          589900,
          1300000,
          939900,
          614700,
          789900,
          11500000,
          425000,
          1199900,
          1198000,
          729900,
          1269900,
          745000,
          565000,
          999000,
          880000,
          695000,
          599900,
          549900,
          579800,
          689900,
          749900,
          795000,
          659000,
          870000,
          619000,
          829999,
          799900,
          1895000,
          595000,
          899888,
          549000,
          839900,
          674900,
          839900,
          299990,
          899900,
          400000,
          448000,
          524900,
          365000,
          498888,
          329000,
          649900,
          1098000,
          999999,
          429900,
          549000,
          600000,
          615000,
          509000,
          598000,
          499000,
          688000,
          2290000,
          539888,
          839000,
          796000,
          1095000,
          1895000,
          695000,
          499000,
          899000,
          1300000,
          660999,
          759900,
          779000,
          449999,
          695500,
          849000,
          779000,
          999000,
          510000,
          698000,
          1650000,
          649900,
          699900,
          865000,
          410000,
          1168000,
          529900,
          530000,
          699500,
          989000,
          638888,
          749900,
          669900,
          999000,
          725000,
          1249900,
          949900,
          1054990,
          939990,
          2840000,
          854990,
          784900,
          765000,
          950000,
          509000,
          829880,
          3275000,
          1238000,
          440000,
          599000,
          275000,
          419999,
          690000,
          460000,
          834900,
          2299000,
          699900,
          499900,
          559900,
          2080000,
          699900,
          1979000,
          899000,
          1188000,
          799000,
          765000,
          779000,
          589950,
          769900,
          1531000,
          898786,
          679900,
          720000,
          549900,
          2250000,
          2149800,
          499900,
          1428000,
          599000,
          609900,
          719990,
          499000,
          384900,
          849000,
          470000,
          1154000,
          868000,
          1099000,
          749900,
          585000,
          619000,
          499000
         ]
        }
       ],
       "layout": {
        "template": {
         "data": {
          "bar": [
           {
            "error_x": {
             "color": "#2a3f5f"
            },
            "error_y": {
             "color": "#2a3f5f"
            },
            "marker": {
             "line": {
              "color": "#E5ECF6",
              "width": 0.5
             }
            },
            "type": "bar"
           }
          ],
          "barpolar": [
           {
            "marker": {
             "line": {
              "color": "#E5ECF6",
              "width": 0.5
             }
            },
            "type": "barpolar"
           }
          ],
          "carpet": [
           {
            "aaxis": {
             "endlinecolor": "#2a3f5f",
             "gridcolor": "white",
             "linecolor": "white",
             "minorgridcolor": "white",
             "startlinecolor": "#2a3f5f"
            },
            "baxis": {
             "endlinecolor": "#2a3f5f",
             "gridcolor": "white",
             "linecolor": "white",
             "minorgridcolor": "white",
             "startlinecolor": "#2a3f5f"
            },
            "type": "carpet"
           }
          ],
          "choropleth": [
           {
            "colorbar": {
             "outlinewidth": 0,
             "ticks": ""
            },
            "type": "choropleth"
           }
          ],
          "contour": [
           {
            "colorbar": {
             "outlinewidth": 0,
             "ticks": ""
            },
            "colorscale": [
             [
              0,
              "#0d0887"
             ],
             [
              0.1111111111111111,
              "#46039f"
             ],
             [
              0.2222222222222222,
              "#7201a8"
             ],
             [
              0.3333333333333333,
              "#9c179e"
             ],
             [
              0.4444444444444444,
              "#bd3786"
             ],
             [
              0.5555555555555556,
              "#d8576b"
             ],
             [
              0.6666666666666666,
              "#ed7953"
             ],
             [
              0.7777777777777778,
              "#fb9f3a"
             ],
             [
              0.8888888888888888,
              "#fdca26"
             ],
             [
              1,
              "#f0f921"
             ]
            ],
            "type": "contour"
           }
          ],
          "contourcarpet": [
           {
            "colorbar": {
             "outlinewidth": 0,
             "ticks": ""
            },
            "type": "contourcarpet"
           }
          ],
          "heatmap": [
           {
            "colorbar": {
             "outlinewidth": 0,
             "ticks": ""
            },
            "colorscale": [
             [
              0,
              "#0d0887"
             ],
             [
              0.1111111111111111,
              "#46039f"
             ],
             [
              0.2222222222222222,
              "#7201a8"
             ],
             [
              0.3333333333333333,
              "#9c179e"
             ],
             [
              0.4444444444444444,
              "#bd3786"
             ],
             [
              0.5555555555555556,
              "#d8576b"
             ],
             [
              0.6666666666666666,
              "#ed7953"
             ],
             [
              0.7777777777777778,
              "#fb9f3a"
             ],
             [
              0.8888888888888888,
              "#fdca26"
             ],
             [
              1,
              "#f0f921"
             ]
            ],
            "type": "heatmap"
           }
          ],
          "heatmapgl": [
           {
            "colorbar": {
             "outlinewidth": 0,
             "ticks": ""
            },
            "colorscale": [
             [
              0,
              "#0d0887"
             ],
             [
              0.1111111111111111,
              "#46039f"
             ],
             [
              0.2222222222222222,
              "#7201a8"
             ],
             [
              0.3333333333333333,
              "#9c179e"
             ],
             [
              0.4444444444444444,
              "#bd3786"
             ],
             [
              0.5555555555555556,
              "#d8576b"
             ],
             [
              0.6666666666666666,
              "#ed7953"
             ],
             [
              0.7777777777777778,
              "#fb9f3a"
             ],
             [
              0.8888888888888888,
              "#fdca26"
             ],
             [
              1,
              "#f0f921"
             ]
            ],
            "type": "heatmapgl"
           }
          ],
          "histogram": [
           {
            "marker": {
             "colorbar": {
              "outlinewidth": 0,
              "ticks": ""
             }
            },
            "type": "histogram"
           }
          ],
          "histogram2d": [
           {
            "colorbar": {
             "outlinewidth": 0,
             "ticks": ""
            },
            "colorscale": [
             [
              0,
              "#0d0887"
             ],
             [
              0.1111111111111111,
              "#46039f"
             ],
             [
              0.2222222222222222,
              "#7201a8"
             ],
             [
              0.3333333333333333,
              "#9c179e"
             ],
             [
              0.4444444444444444,
              "#bd3786"
             ],
             [
              0.5555555555555556,
              "#d8576b"
             ],
             [
              0.6666666666666666,
              "#ed7953"
             ],
             [
              0.7777777777777778,
              "#fb9f3a"
             ],
             [
              0.8888888888888888,
              "#fdca26"
             ],
             [
              1,
              "#f0f921"
             ]
            ],
            "type": "histogram2d"
           }
          ],
          "histogram2dcontour": [
           {
            "colorbar": {
             "outlinewidth": 0,
             "ticks": ""
            },
            "colorscale": [
             [
              0,
              "#0d0887"
             ],
             [
              0.1111111111111111,
              "#46039f"
             ],
             [
              0.2222222222222222,
              "#7201a8"
             ],
             [
              0.3333333333333333,
              "#9c179e"
             ],
             [
              0.4444444444444444,
              "#bd3786"
             ],
             [
              0.5555555555555556,
              "#d8576b"
             ],
             [
              0.6666666666666666,
              "#ed7953"
             ],
             [
              0.7777777777777778,
              "#fb9f3a"
             ],
             [
              0.8888888888888888,
              "#fdca26"
             ],
             [
              1,
              "#f0f921"
             ]
            ],
            "type": "histogram2dcontour"
           }
          ],
          "mesh3d": [
           {
            "colorbar": {
             "outlinewidth": 0,
             "ticks": ""
            },
            "type": "mesh3d"
           }
          ],
          "parcoords": [
           {
            "line": {
             "colorbar": {
              "outlinewidth": 0,
              "ticks": ""
             }
            },
            "type": "parcoords"
           }
          ],
          "pie": [
           {
            "automargin": true,
            "type": "pie"
           }
          ],
          "scatter": [
           {
            "marker": {
             "colorbar": {
              "outlinewidth": 0,
              "ticks": ""
             }
            },
            "type": "scatter"
           }
          ],
          "scatter3d": [
           {
            "line": {
             "colorbar": {
              "outlinewidth": 0,
              "ticks": ""
             }
            },
            "marker": {
             "colorbar": {
              "outlinewidth": 0,
              "ticks": ""
             }
            },
            "type": "scatter3d"
           }
          ],
          "scattercarpet": [
           {
            "marker": {
             "colorbar": {
              "outlinewidth": 0,
              "ticks": ""
             }
            },
            "type": "scattercarpet"
           }
          ],
          "scattergeo": [
           {
            "marker": {
             "colorbar": {
              "outlinewidth": 0,
              "ticks": ""
             }
            },
            "type": "scattergeo"
           }
          ],
          "scattergl": [
           {
            "marker": {
             "colorbar": {
              "outlinewidth": 0,
              "ticks": ""
             }
            },
            "type": "scattergl"
           }
          ],
          "scattermapbox": [
           {
            "marker": {
             "colorbar": {
              "outlinewidth": 0,
              "ticks": ""
             }
            },
            "type": "scattermapbox"
           }
          ],
          "scatterpolar": [
           {
            "marker": {
             "colorbar": {
              "outlinewidth": 0,
              "ticks": ""
             }
            },
            "type": "scatterpolar"
           }
          ],
          "scatterpolargl": [
           {
            "marker": {
             "colorbar": {
              "outlinewidth": 0,
              "ticks": ""
             }
            },
            "type": "scatterpolargl"
           }
          ],
          "scatterternary": [
           {
            "marker": {
             "colorbar": {
              "outlinewidth": 0,
              "ticks": ""
             }
            },
            "type": "scatterternary"
           }
          ],
          "surface": [
           {
            "colorbar": {
             "outlinewidth": 0,
             "ticks": ""
            },
            "colorscale": [
             [
              0,
              "#0d0887"
             ],
             [
              0.1111111111111111,
              "#46039f"
             ],
             [
              0.2222222222222222,
              "#7201a8"
             ],
             [
              0.3333333333333333,
              "#9c179e"
             ],
             [
              0.4444444444444444,
              "#bd3786"
             ],
             [
              0.5555555555555556,
              "#d8576b"
             ],
             [
              0.6666666666666666,
              "#ed7953"
             ],
             [
              0.7777777777777778,
              "#fb9f3a"
             ],
             [
              0.8888888888888888,
              "#fdca26"
             ],
             [
              1,
              "#f0f921"
             ]
            ],
            "type": "surface"
           }
          ],
          "table": [
           {
            "cells": {
             "fill": {
              "color": "#EBF0F8"
             },
             "line": {
              "color": "white"
             }
            },
            "header": {
             "fill": {
              "color": "#C8D4E3"
             },
             "line": {
              "color": "white"
             }
            },
            "type": "table"
           }
          ]
         },
         "layout": {
          "annotationdefaults": {
           "arrowcolor": "#2a3f5f",
           "arrowhead": 0,
           "arrowwidth": 1
          },
          "coloraxis": {
           "colorbar": {
            "outlinewidth": 0,
            "ticks": ""
           }
          },
          "colorscale": {
           "diverging": [
            [
             0,
             "#8e0152"
            ],
            [
             0.1,
             "#c51b7d"
            ],
            [
             0.2,
             "#de77ae"
            ],
            [
             0.3,
             "#f1b6da"
            ],
            [
             0.4,
             "#fde0ef"
            ],
            [
             0.5,
             "#f7f7f7"
            ],
            [
             0.6,
             "#e6f5d0"
            ],
            [
             0.7,
             "#b8e186"
            ],
            [
             0.8,
             "#7fbc41"
            ],
            [
             0.9,
             "#4d9221"
            ],
            [
             1,
             "#276419"
            ]
           ],
           "sequential": [
            [
             0,
             "#0d0887"
            ],
            [
             0.1111111111111111,
             "#46039f"
            ],
            [
             0.2222222222222222,
             "#7201a8"
            ],
            [
             0.3333333333333333,
             "#9c179e"
            ],
            [
             0.4444444444444444,
             "#bd3786"
            ],
            [
             0.5555555555555556,
             "#d8576b"
            ],
            [
             0.6666666666666666,
             "#ed7953"
            ],
            [
             0.7777777777777778,
             "#fb9f3a"
            ],
            [
             0.8888888888888888,
             "#fdca26"
            ],
            [
             1,
             "#f0f921"
            ]
           ],
           "sequentialminus": [
            [
             0,
             "#0d0887"
            ],
            [
             0.1111111111111111,
             "#46039f"
            ],
            [
             0.2222222222222222,
             "#7201a8"
            ],
            [
             0.3333333333333333,
             "#9c179e"
            ],
            [
             0.4444444444444444,
             "#bd3786"
            ],
            [
             0.5555555555555556,
             "#d8576b"
            ],
            [
             0.6666666666666666,
             "#ed7953"
            ],
            [
             0.7777777777777778,
             "#fb9f3a"
            ],
            [
             0.8888888888888888,
             "#fdca26"
            ],
            [
             1,
             "#f0f921"
            ]
           ]
          },
          "colorway": [
           "#636efa",
           "#EF553B",
           "#00cc96",
           "#ab63fa",
           "#FFA15A",
           "#19d3f3",
           "#FF6692",
           "#B6E880",
           "#FF97FF",
           "#FECB52"
          ],
          "font": {
           "color": "#2a3f5f"
          },
          "geo": {
           "bgcolor": "white",
           "lakecolor": "white",
           "landcolor": "#E5ECF6",
           "showlakes": true,
           "showland": true,
           "subunitcolor": "white"
          },
          "hoverlabel": {
           "align": "left"
          },
          "hovermode": "closest",
          "mapbox": {
           "style": "light"
          },
          "paper_bgcolor": "white",
          "plot_bgcolor": "#E5ECF6",
          "polar": {
           "angularaxis": {
            "gridcolor": "white",
            "linecolor": "white",
            "ticks": ""
           },
           "bgcolor": "#E5ECF6",
           "radialaxis": {
            "gridcolor": "white",
            "linecolor": "white",
            "ticks": ""
           }
          },
          "scene": {
           "xaxis": {
            "backgroundcolor": "#E5ECF6",
            "gridcolor": "white",
            "gridwidth": 2,
            "linecolor": "white",
            "showbackground": true,
            "ticks": "",
            "zerolinecolor": "white"
           },
           "yaxis": {
            "backgroundcolor": "#E5ECF6",
            "gridcolor": "white",
            "gridwidth": 2,
            "linecolor": "white",
            "showbackground": true,
            "ticks": "",
            "zerolinecolor": "white"
           },
           "zaxis": {
            "backgroundcolor": "#E5ECF6",
            "gridcolor": "white",
            "gridwidth": 2,
            "linecolor": "white",
            "showbackground": true,
            "ticks": "",
            "zerolinecolor": "white"
           }
          },
          "shapedefaults": {
           "line": {
            "color": "#2a3f5f"
           }
          },
          "ternary": {
           "aaxis": {
            "gridcolor": "white",
            "linecolor": "white",
            "ticks": ""
           },
           "baxis": {
            "gridcolor": "white",
            "linecolor": "white",
            "ticks": ""
           },
           "bgcolor": "#E5ECF6",
           "caxis": {
            "gridcolor": "white",
            "linecolor": "white",
            "ticks": ""
           }
          },
          "title": {
           "x": 0.05
          },
          "xaxis": {
           "automargin": true,
           "gridcolor": "white",
           "linecolor": "white",
           "ticks": "",
           "title": {
            "standoff": 15
           },
           "zerolinecolor": "white",
           "zerolinewidth": 2
          },
          "yaxis": {
           "automargin": true,
           "gridcolor": "white",
           "linecolor": "white",
           "ticks": "",
           "title": {
            "standoff": 15
           },
           "zerolinecolor": "white",
           "zerolinewidth": 2
          }
         }
        },
        "title": {
         "text": "Price Distribution across Size"
        },
        "xaxis": {
         "title": {
          "text": "Size Range"
         }
        },
        "yaxis": {
         "title": {
          "text": "Price in $M"
         }
        }
       }
      },
      "text/html": [
       "<div>\n",
       "        \n",
       "        \n",
       "            <div id=\"fe3fcdcd-1fc9-461b-81f3-ddb57b376e49\" class=\"plotly-graph-div\" style=\"height:525px; width:100%;\"></div>\n",
       "            <script type=\"text/javascript\">\n",
       "                require([\"plotly\"], function(Plotly) {\n",
       "                    window.PLOTLYENV=window.PLOTLYENV || {};\n",
       "                    \n",
       "                if (document.getElementById(\"fe3fcdcd-1fc9-461b-81f3-ddb57b376e49\")) {\n",
       "                    Plotly.newPlot(\n",
       "                        'fe3fcdcd-1fc9-461b-81f3-ddb57b376e49',\n",
       "                        [{\"type\": \"box\", \"x\": [\"700-799 sqft\", \"700-799 sqft\", \"500-599 sqft\", \"600-699 sqft\", \"500-599 sqft\", \"500-599 sqft\", \"600-699 sqft\", \"700-799 sqft\", \"500-599 sqft\", \"700-799 sqft\", \"700-799 sqft\", \"600-699 sqft\", \"700-799 sqft\", \"0-499 sqft\", \"700-799 sqft\", \"600-699 sqft\", \"700-799 sqft\", \"600-699 sqft\", \"600-699 sqft\", \"600-699 sqft\", \"600-699 sqft\", \"500-599 sqft\", \"700-799 sqft\", \"600-699 sqft\", \"700-799 sqft\", \"700-799 sqft\", \"600-699 sqft\", \"500-599 sqft\", \"600-699 sqft\", \"700-799 sqft\", \"700-799 sqft\", \"500-599 sqft\", \"600-699 sqft\", \"500-599 sqft\", \"500-599 sqft\", \"600-699 sqft\", \"700-799 sqft\", \"500-599 sqft\", \"700-799 sqft\", \"700-799 sqft\", \"600-699 sqft\", \"700-799 sqft\", \"0-499 sqft\", \"700-799 sqft\", \"600-699 sqft\", \"700-799 sqft\", \"600-699 sqft\", \"600-699 sqft\", \"600-699 sqft\", \"600-699 sqft\", \"500-599 sqft\", \"700-799 sqft\", \"600-699 sqft\", \"700-799 sqft\", \"700-799 sqft\", \"600-699 sqft\", \"500-599 sqft\", \"600-699 sqft\", \"600-699 sqft\", \"0-499 sqft\", \"600-699 sqft\", \"600-699 sqft\", \"600-699 sqft\", \"600-699 sqft\", \"600-699 sqft\", \"600-699 sqft\", \"600-699 sqft\", \"500-599 sqft\", \"700-799 sqft\", \"700-799 sqft\", \"600-699 sqft\", \"700-799 sqft\", \"700-799 sqft\", \"0-499 sqft\", \"700-799 sqft\", \"600-699 sqft\", \"700-799 sqft\", \"700-799 sqft\", \"600-699 sqft\", \"500-599 sqft\", \"500-599 sqft\", \"700-799 sqft\", \"0-499 sqft\", \"600-699 sqft\", \"600-699 sqft\", \"500-599 sqft\", \"700-799 sqft\", \"700-799 sqft\", \"600-699 sqft\", \"500-599 sqft\", \"500-599 sqft\", \"0-499 sqft\", \"600-699 sqft\", \"600-699 sqft\", \"700-799 sqft\", \"500-599 sqft\", \"600-699 sqft\", \"500-599 sqft\", \"600-699 sqft\", \"600-699 sqft\", \"500-599 sqft\", \"700-799 sqft\", \"700-799 sqft\", \"600-699 sqft\", \"700-799 sqft\", \"600-699 sqft\", \"500-599 sqft\", \"500-599 sqft\", \"0-499 sqft\", \"500-599 sqft\", \"0-499 sqft\", \"600-699 sqft\", \"700-799 sqft\", \"600-699 sqft\", \"600-699 sqft\", \"500-599 sqft\", \"700-799 sqft\", \"600-699 sqft\", \"700-799 sqft\", \"600-699 sqft\", \"500-599 sqft\", \"700-799 sqft\", \"600-699 sqft\", \"700-799 sqft\", \"600-699 sqft\", \"700-799 sqft\", \"600-699 sqft\", \"0-499 sqft\", \"600-699 sqft\", \"600-699 sqft\", \"700-799 sqft\", \"500-599 sqft\", \"0-499 sqft\", \"600-699 sqft\", \"600-699 sqft\", \"500-599 sqft\", \"700-799 sqft\", \"0-499 sqft\", \"600-699 sqft\", \"500-599 sqft\", \"700-799 sqft\", \"600-699 sqft\", \"600-699 sqft\", \"500-599 sqft\", \"700-799 sqft\", \"600-699 sqft\", \"600-699 sqft\", \"600-699 sqft\", \"0-499 sqft\", \"600-699 sqft\", \"700-799 sqft\", \"600-699 sqft\", \"600-699 sqft\", \"500-599 sqft\", \"700-799 sqft\", \"700-799 sqft\", \"500-599 sqft\", \"600-699 sqft\", \"600-699 sqft\", \"700-799 sqft\", \"0-499 sqft\", \"700-799 sqft\", \"700-799 sqft\", \"0-499 sqft\", \"700-799 sqft\", \"500-599 sqft\", \"500-599 sqft\", \"600-699 sqft\", \"700-799 sqft\", \"600-699 sqft\", \"600-699 sqft\", \"600-699 sqft\", \"500-599 sqft\", \"600-699 sqft\", \"600-699 sqft\", \"700-799 sqft\", \"700-799 sqft\", \"700-799 sqft\", \"0-499 sqft\", \"600-699 sqft\", \"700-799 sqft\", \"0-499 sqft\", \"700-799 sqft\", \"600-699 sqft\", \"500-599 sqft\", \"600-699 sqft\", \"600-699 sqft\", \"700-799 sqft\", \"600-699 sqft\", \"600-699 sqft\", \"600-699 sqft\", \"700-799 sqft\", \"700-799 sqft\", \"500-599 sqft\", \"500-599 sqft\", \"600-699 sqft\", \"700-799 sqft\", \"700-799 sqft\", \"500-599 sqft\", \"500-599 sqft\", \"600-699 sqft\", \"600-699 sqft\", \"700-799 sqft\", \"700-799 sqft\", \"0-499 sqft\", \"600-699 sqft\", \"600-699 sqft\", \"0-499 sqft\", \"700-799 sqft\", \"700-799 sqft\", \"500-599 sqft\", \"600-699 sqft\", \"700-799 sqft\", \"500-599 sqft\", \"0-499 sqft\", \"600-699 sqft\", \"500-599 sqft\", \"700-799 sqft\", \"600-699 sqft\", \"500-599 sqft\", \"0-499 sqft\", \"500-599 sqft\", \"600-699 sqft\", \"700-799 sqft\", \"600-699 sqft\", \"600-699 sqft\", \"700-799 sqft\", \"700-799 sqft\", \"600-699 sqft\", \"500-599 sqft\", \"600-699 sqft\", \"0-499 sqft\", \"700-799 sqft\", \"600-699 sqft\", \"600-699 sqft\", \"0-499 sqft\", \"600-699 sqft\", \"700-799 sqft\", \"700-799 sqft\", \"500-599 sqft\", \"600-699 sqft\", \"0-499 sqft\", \"700-799 sqft\", \"700-799 sqft\", \"600-699 sqft\", \"600-699 sqft\", \"700-799 sqft\", \"0-499 sqft\", \"600-699 sqft\", \"0-499 sqft\", \"700-799 sqft\", \"0-499 sqft\", \"0-499 sqft\", \"500-599 sqft\", \"0-499 sqft\", \"600-699 sqft\", \"500-599 sqft\", \"500-599 sqft\", \"600-699 sqft\", \"700-799 sqft\", \"600-699 sqft\", \"500-599 sqft\", \"600-699 sqft\", \"600-699 sqft\", \"0-499 sqft\", \"0-499 sqft\", \"600-699 sqft\", \"500-599 sqft\", \"600-699 sqft\", \"600-699 sqft\", \"500-599 sqft\", \"0-499 sqft\", \"0-499 sqft\", \"600-699 sqft\", \"0-499 sqft\", \"500-599 sqft\", \"600-699 sqft\", \"500-599 sqft\", \"600-699 sqft\", \"700-799 sqft\", \"700-799 sqft\", \"600-699 sqft\", \"700-799 sqft\", \"600-699 sqft\", \"700-799 sqft\", \"500-599 sqft\", \"500-599 sqft\", \"500-599 sqft\", \"600-699 sqft\", \"700-799 sqft\", \"0-499 sqft\", \"700-799 sqft\", \"0-499 sqft\", \"700-799 sqft\", \"600-699 sqft\", \"600-699 sqft\", \"0-499 sqft\", \"600-699 sqft\", \"600-699 sqft\", \"600-699 sqft\", \"700-799 sqft\", \"600-699 sqft\", \"600-699 sqft\", \"500-599 sqft\", \"500-599 sqft\", \"700-799 sqft\", \"500-599 sqft\", \"700-799 sqft\", \"700-799 sqft\", \"500-599 sqft\", \"700-799 sqft\", \"600-699 sqft\", \"600-699 sqft\", \"500-599 sqft\", \"700-799 sqft\", \"700-799 sqft\", \"0-499 sqft\", \"500-599 sqft\", \"500-599 sqft\", \"600-699 sqft\", \"0-499 sqft\", \"500-599 sqft\", \"600-699 sqft\", \"500-599 sqft\", \"700-799 sqft\", \"600-699 sqft\", \"700-799 sqft\", \"700-799 sqft\", \"600-699 sqft\", \"500-599 sqft\", \"500-599 sqft\", \"500-599 sqft\", \"0-499 sqft\", \"600-699 sqft\", \"700-799 sqft\", \"600-699 sqft\", \"600-699 sqft\", \"700-799 sqft\", \"500-599 sqft\", \"0-499 sqft\", \"600-699 sqft\", \"0-499 sqft\", \"0-499 sqft\", \"600-699 sqft\", \"700-799 sqft\", \"600-699 sqft\", \"600-699 sqft\", \"600-699 sqft\", \"700-799 sqft\", \"0-499 sqft\", \"600-699 sqft\", \"600-699 sqft\", \"0-499 sqft\", \"600-699 sqft\", \"600-699 sqft\", \"500-599 sqft\", \"500-599 sqft\", \"700-799 sqft\", \"500-599 sqft\", \"600-699 sqft\", \"500-599 sqft\", \"600-699 sqft\", \"500-599 sqft\", \"700-799 sqft\", \"700-799 sqft\", \"500-599 sqft\", \"0-499 sqft\", \"600-699 sqft\", \"700-799 sqft\", \"600-699 sqft\", \"600-699 sqft\", \"600-699 sqft\", \"600-699 sqft\", \"500-599 sqft\", \"600-699 sqft\", \"500-599 sqft\", \"600-699 sqft\", \"500-599 sqft\", \"600-699 sqft\", \"700-799 sqft\", \"700-799 sqft\", \"500-599 sqft\", \"600-699 sqft\", \"700-799 sqft\", \"700-799 sqft\", \"500-599 sqft\", \"500-599 sqft\", \"600-699 sqft\", \"0-499 sqft\", \"500-599 sqft\", \"0-499 sqft\", \"600-699 sqft\", \"600-699 sqft\", \"600-699 sqft\", \"600-699 sqft\", \"700-799 sqft\", \"500-599 sqft\", \"700-799 sqft\", \"0-499 sqft\", \"700-799 sqft\", \"500-599 sqft\", \"500-599 sqft\", \"600-699 sqft\", \"600-699 sqft\", \"600-699 sqft\", \"600-699 sqft\", \"500-599 sqft\", \"600-699 sqft\", \"500-599 sqft\", \"600-699 sqft\", \"600-699 sqft\", \"500-599 sqft\", \"500-599 sqft\", \"600-699 sqft\", \"500-599 sqft\", \"500-599 sqft\", \"0-499 sqft\", \"600-699 sqft\", \"500-599 sqft\", \"600-699 sqft\", \"700-799 sqft\", \"500-599 sqft\", \"700-799 sqft\", \"600-699 sqft\", \"0-499 sqft\", \"700-799 sqft\", \"0-499 sqft\", \"0-499 sqft\", \"500-599 sqft\", \"0-499 sqft\", \"600-699 sqft\", \"600-699 sqft\", \"500-599 sqft\", \"500-599 sqft\", \"700-799 sqft\", \"0-499 sqft\", \"600-699 sqft\", \"700-799 sqft\", \"600-699 sqft\", \"700-799 sqft\", \"700-799 sqft\", \"500-599 sqft\", \"600-699 sqft\", \"600-699 sqft\", \"500-599 sqft\", \"600-699 sqft\", \"700-799 sqft\", \"600-699 sqft\", \"600-699 sqft\", \"500-599 sqft\", \"700-799 sqft\", \"600-699 sqft\", \"500-599 sqft\", \"600-699 sqft\", \"500-599 sqft\", \"600-699 sqft\", \"600-699 sqft\", \"600-699 sqft\", \"500-599 sqft\", \"700-799 sqft\", \"700-799 sqft\", \"0-499 sqft\", \"600-699 sqft\", \"600-699 sqft\", \"600-699 sqft\", \"600-699 sqft\", \"500-599 sqft\", \"700-799 sqft\", \"500-599 sqft\", \"0-499 sqft\", \"500-599 sqft\", \"700-799 sqft\", \"500-599 sqft\", \"0-499 sqft\", \"700-799 sqft\", \"500-599 sqft\", \"600-699 sqft\", \"700-799 sqft\", \"700-799 sqft\", \"500-599 sqft\", \"0-499 sqft\", \"700-799 sqft\", \"0-499 sqft\", \"600-699 sqft\", \"700-799 sqft\", \"0-499 sqft\", \"0-499 sqft\", \"600-699 sqft\", \"600-699 sqft\", \"0-499 sqft\", \"600-699 sqft\", \"0-499 sqft\", \"600-699 sqft\", \"700-799 sqft\", \"600-699 sqft\", \"600-699 sqft\", \"600-699 sqft\", \"600-699 sqft\", \"500-599 sqft\", \"500-599 sqft\", \"600-699 sqft\", \"700-799 sqft\", \"700-799 sqft\", \"600-699 sqft\", \"600-699 sqft\", \"0-499 sqft\", \"500-599 sqft\", \"500-599 sqft\", \"600-699 sqft\", \"500-599 sqft\", \"600-699 sqft\", \"500-599 sqft\", \"700-799 sqft\", \"500-599 sqft\", \"700-799 sqft\", \"700-799 sqft\", \"600-699 sqft\", \"500-599 sqft\", \"600-699 sqft\", \"500-599 sqft\", \"700-799 sqft\", \"600-699 sqft\", \"600-699 sqft\", \"500-599 sqft\", \"600-699 sqft\", \"500-599 sqft\", \"600-699 sqft\", \"700-799 sqft\", \"600-699 sqft\", \"600-699 sqft\", \"500-599 sqft\", \"500-599 sqft\", \"700-799 sqft\", \"700-799 sqft\", \"600-699 sqft\", \"500-599 sqft\", \"600-699 sqft\", \"500-599 sqft\", \"0-499 sqft\", \"600-699 sqft\", \"700-799 sqft\", \"700-799 sqft\", \"700-799 sqft\", \"600-699 sqft\", \"700-799 sqft\", \"600-699 sqft\", \"500-599 sqft\", \"700-799 sqft\", \"600-699 sqft\", \"500-599 sqft\", \"500-599 sqft\", \"500-599 sqft\", \"700-799 sqft\", \"600-699 sqft\", \"600-699 sqft\", \"600-699 sqft\", \"500-599 sqft\", \"0-499 sqft\", \"600-699 sqft\", \"500-599 sqft\", \"600-699 sqft\", \"500-599 sqft\", \"700-799 sqft\", \"500-599 sqft\", \"600-699 sqft\", \"500-599 sqft\", \"600-699 sqft\", \"500-599 sqft\", \"600-699 sqft\", \"0-499 sqft\", \"700-799 sqft\", \"500-599 sqft\", \"700-799 sqft\", \"500-599 sqft\", \"500-599 sqft\", \"600-699 sqft\", \"500-599 sqft\", \"500-599 sqft\", \"500-599 sqft\", \"700-799 sqft\", \"500-599 sqft\", \"500-599 sqft\", \"700-799 sqft\", \"700-799 sqft\", \"0-499 sqft\", \"500-599 sqft\", \"600-699 sqft\", \"700-799 sqft\", \"700-799 sqft\", \"600-699 sqft\", \"500-599 sqft\", \"700-799 sqft\", \"500-599 sqft\", \"0-499 sqft\", \"0-499 sqft\", \"500-599 sqft\", \"500-599 sqft\", \"700-799 sqft\", \"500-599 sqft\", \"500-599 sqft\", \"700-799 sqft\", \"700-799 sqft\", \"500-599 sqft\", \"600-699 sqft\", \"500-599 sqft\", \"700-799 sqft\", \"600-699 sqft\", \"700-799 sqft\", \"600-699 sqft\", \"700-799 sqft\", \"700-799 sqft\", \"600-699 sqft\", \"500-599 sqft\", \"500-599 sqft\", \"600-699 sqft\", \"500-599 sqft\", \"700-799 sqft\", \"700-799 sqft\", \"600-699 sqft\", \"600-699 sqft\", \"500-599 sqft\", \"500-599 sqft\", \"700-799 sqft\", \"600-699 sqft\", \"700-799 sqft\", \"600-699 sqft\", \"600-699 sqft\", \"700-799 sqft\", \"700-799 sqft\", \"500-599 sqft\", \"500-599 sqft\", \"600-699 sqft\", \"600-699 sqft\", \"600-699 sqft\", \"500-599 sqft\", \"700-799 sqft\", \"600-699 sqft\", \"700-799 sqft\", \"500-599 sqft\", \"700-799 sqft\", \"500-599 sqft\", \"0-499 sqft\", \"600-699 sqft\", \"700-799 sqft\", \"500-599 sqft\", \"500-599 sqft\", \"600-699 sqft\", \"700-799 sqft\", \"600-699 sqft\", \"500-599 sqft\", \"600-699 sqft\", \"600-699 sqft\", \"600-699 sqft\", \"500-599 sqft\", \"500-599 sqft\", \"600-699 sqft\", \"600-699 sqft\", \"500-599 sqft\", \"500-599 sqft\", \"700-799 sqft\", \"0-499 sqft\", \"700-799 sqft\", \"600-699 sqft\", \"600-699 sqft\", \"500-599 sqft\", \"700-799 sqft\", \"700-799 sqft\", \"600-699 sqft\", \"700-799 sqft\", \"500-599 sqft\", \"0-499 sqft\", \"500-599 sqft\", \"700-799 sqft\", \"500-599 sqft\", \"0-499 sqft\", \"700-799 sqft\", \"500-599 sqft\", \"600-699 sqft\", \"700-799 sqft\", \"0-499 sqft\", \"700-799 sqft\", \"700-799 sqft\", \"0-499 sqft\", \"500-599 sqft\", \"600-699 sqft\", \"500-599 sqft\", \"600-699 sqft\", \"700-799 sqft\", \"500-599 sqft\", \"700-799 sqft\", \"0-499 sqft\", \"600-699 sqft\", \"700-799 sqft\", \"700-799 sqft\", \"600-699 sqft\", \"500-599 sqft\", \"600-699 sqft\", \"700-799 sqft\", \"700-799 sqft\", \"600-699 sqft\", \"700-799 sqft\", \"700-799 sqft\", \"600-699 sqft\", \"600-699 sqft\", \"500-599 sqft\", \"600-699 sqft\", \"600-699 sqft\", \"0-499 sqft\", \"600-699 sqft\", \"500-599 sqft\", \"700-799 sqft\", \"700-799 sqft\", \"500-599 sqft\", \"500-599 sqft\", \"600-699 sqft\", \"500-599 sqft\", \"600-699 sqft\", \"0-499 sqft\", \"700-799 sqft\", \"700-799 sqft\", \"600-699 sqft\", \"0-499 sqft\", \"700-799 sqft\", \"600-699 sqft\", \"0-499 sqft\", \"500-599 sqft\", \"700-799 sqft\", \"600-699 sqft\", \"600-699 sqft\", \"500-599 sqft\", \"600-699 sqft\", \"700-799 sqft\", \"600-699 sqft\", \"600-699 sqft\", \"600-699 sqft\", \"500-599 sqft\", \"600-699 sqft\", \"0-499 sqft\", \"600-699 sqft\", \"700-799 sqft\", \"700-799 sqft\", \"600-699 sqft\", \"700-799 sqft\", \"700-799 sqft\", \"700-799 sqft\", \"600-699 sqft\", \"600-699 sqft\", \"600-699 sqft\", \"600-699 sqft\", \"500-599 sqft\", \"0-499 sqft\", \"700-799 sqft\", \"600-699 sqft\", \"600-699 sqft\", \"600-699 sqft\", \"500-599 sqft\", \"600-699 sqft\", \"500-599 sqft\", \"700-799 sqft\", \"600-699 sqft\", \"600-699 sqft\", \"700-799 sqft\", \"600-699 sqft\", \"500-599 sqft\", \"500-599 sqft\", \"700-799 sqft\", \"600-699 sqft\", \"600-699 sqft\", \"700-799 sqft\", \"0-499 sqft\", \"700-799 sqft\", \"600-699 sqft\", \"500-599 sqft\", \"700-799 sqft\", \"600-699 sqft\", \"0-499 sqft\", \"500-599 sqft\", \"700-799 sqft\", \"600-699 sqft\", \"0-499 sqft\", \"500-599 sqft\", \"500-599 sqft\", \"600-699 sqft\", \"600-699 sqft\", \"600-699 sqft\", \"500-599 sqft\", \"500-599 sqft\", \"600-699 sqft\", \"500-599 sqft\", \"500-599 sqft\", \"600-699 sqft\", \"0-499 sqft\", \"0-499 sqft\", \"500-599 sqft\", \"0-499 sqft\", \"0-499 sqft\", \"700-799 sqft\", \"600-699 sqft\", \"600-699 sqft\", \"700-799 sqft\", \"0-499 sqft\", \"500-599 sqft\", \"600-699 sqft\", \"500-599 sqft\", \"600-699 sqft\", \"500-599 sqft\", \"600-699 sqft\", \"600-699 sqft\", \"600-699 sqft\", \"600-699 sqft\", \"600-699 sqft\", \"500-599 sqft\", \"600-699 sqft\", \"0-499 sqft\", \"500-599 sqft\", \"600-699 sqft\", \"0-499 sqft\", \"600-699 sqft\", \"500-599 sqft\", \"700-799 sqft\", \"600-699 sqft\", \"700-799 sqft\", \"600-699 sqft\", \"700-799 sqft\", \"600-699 sqft\", \"600-699 sqft\", \"600-699 sqft\", \"500-599 sqft\", \"700-799 sqft\", \"600-699 sqft\", \"600-699 sqft\", \"0-499 sqft\", \"700-799 sqft\", \"500-599 sqft\", \"700-799 sqft\", \"600-699 sqft\", \"600-699 sqft\", \"600-699 sqft\", \"600-699 sqft\", \"500-599 sqft\", \"700-799 sqft\", \"600-699 sqft\", \"700-799 sqft\", \"600-699 sqft\", \"500-599 sqft\", \"500-599 sqft\", \"0-499 sqft\", \"500-599 sqft\", \"600-699 sqft\", \"700-799 sqft\", \"0-499 sqft\", \"500-599 sqft\", \"500-599 sqft\", \"700-799 sqft\", \"700-799 sqft\", \"0-499 sqft\", \"700-799 sqft\", \"500-599 sqft\", \"600-699 sqft\", \"700-799 sqft\", \"0-499 sqft\", \"500-599 sqft\", \"500-599 sqft\", \"500-599 sqft\", \"0-499 sqft\", \"500-599 sqft\", \"600-699 sqft\", \"500-599 sqft\", \"600-699 sqft\", \"600-699 sqft\", \"500-599 sqft\", \"0-499 sqft\", \"700-799 sqft\", \"700-799 sqft\", \"600-699 sqft\", \"500-599 sqft\", \"700-799 sqft\", \"600-699 sqft\", \"0-499 sqft\", \"500-599 sqft\", \"500-599 sqft\", \"500-599 sqft\", \"700-799 sqft\", \"700-799 sqft\", \"500-599 sqft\", \"500-599 sqft\", \"600-699 sqft\", \"0-499 sqft\", \"500-599 sqft\", \"700-799 sqft\", \"500-599 sqft\", \"700-799 sqft\", \"500-599 sqft\", \"500-599 sqft\", \"600-699 sqft\", \"700-799 sqft\", \"0-499 sqft\", \"600-699 sqft\", \"0-499 sqft\", \"700-799 sqft\", \"0-499 sqft\", \"500-599 sqft\", \"700-799 sqft\", \"700-799 sqft\", \"700-799 sqft\", \"700-799 sqft\", \"700-799 sqft\", \"600-699 sqft\", \"600-699 sqft\", \"500-599 sqft\", \"600-699 sqft\", \"700-799 sqft\", \"700-799 sqft\", \"600-699 sqft\", \"0-499 sqft\", \"0-499 sqft\", \"500-599 sqft\", \"700-799 sqft\", \"0-499 sqft\", \"500-599 sqft\", \"700-799 sqft\", \"600-699 sqft\", \"0-499 sqft\", \"700-799 sqft\", \"600-699 sqft\", \"700-799 sqft\", \"600-699 sqft\", \"500-599 sqft\", \"600-699 sqft\", \"600-699 sqft\", \"600-699 sqft\", \"600-699 sqft\", \"600-699 sqft\", \"0-499 sqft\", \"500-599 sqft\", \"500-599 sqft\", \"600-699 sqft\", \"600-699 sqft\", \"500-599 sqft\", \"600-699 sqft\", \"700-799 sqft\", \"600-699 sqft\", \"600-699 sqft\", \"700-799 sqft\", \"500-599 sqft\", \"600-699 sqft\", \"700-799 sqft\", \"0-499 sqft\", \"700-799 sqft\", \"0-499 sqft\", \"600-699 sqft\", \"500-599 sqft\", \"700-799 sqft\", \"600-699 sqft\", \"600-699 sqft\", \"500-599 sqft\", \"500-599 sqft\", \"500-599 sqft\", \"500-599 sqft\", \"600-699 sqft\", \"500-599 sqft\", \"500-599 sqft\", \"600-699 sqft\", \"0-499 sqft\", \"500-599 sqft\", \"700-799 sqft\", \"600-699 sqft\", \"600-699 sqft\", \"700-799 sqft\", \"0-499 sqft\", \"500-599 sqft\", \"700-799 sqft\", \"600-699 sqft\", \"500-599 sqft\", \"700-799 sqft\", \"700-799 sqft\", \"600-699 sqft\", \"700-799 sqft\", \"600-699 sqft\", \"600-699 sqft\", \"700-799 sqft\", \"500-599 sqft\", \"700-799 sqft\", \"0-499 sqft\", \"700-799 sqft\", \"700-799 sqft\", \"600-699 sqft\", \"600-699 sqft\", \"600-699 sqft\", \"700-799 sqft\", \"700-799 sqft\", \"700-799 sqft\", \"500-599 sqft\", \"500-599 sqft\", \"500-599 sqft\", \"500-599 sqft\", \"600-699 sqft\", \"700-799 sqft\", \"600-699 sqft\", \"700-799 sqft\", \"700-799 sqft\", \"500-599 sqft\", \"700-799 sqft\", \"700-799 sqft\", \"0-499 sqft\", \"600-699 sqft\", \"600-699 sqft\", \"600-699 sqft\", \"500-599 sqft\", \"500-599 sqft\", \"0-499 sqft\", \"600-699 sqft\", \"600-699 sqft\", \"700-799 sqft\", \"0-499 sqft\", \"500-599 sqft\", \"700-799 sqft\", \"0-499 sqft\", \"0-499 sqft\", \"500-599 sqft\", \"600-699 sqft\", \"700-799 sqft\", \"500-599 sqft\", \"600-699 sqft\", \"500-599 sqft\", \"700-799 sqft\", \"0-499 sqft\", \"500-599 sqft\", \"500-599 sqft\", \"700-799 sqft\", \"500-599 sqft\", \"0-499 sqft\", \"600-699 sqft\", \"600-699 sqft\", \"600-699 sqft\", \"500-599 sqft\"], \"y\": [799900, 460000, 549000, 549000, 799000, 608000, 539000, 390000, 719900, 629900, 1825000, 1048000, 669900, 779900, 780000, 699000, 489900, 399000, 635000, 599900, 399000, 699000, 808800, 849900, 798000, 699900, 839000, 999000, 569000, 379900, 1025990, 590000, 679000, 499900, 579990, 799000, 1169000, 539000, 579900, 599000, 868800, 846000, 799900, 460000, 549000, 549000, 799000, 608000, 539000, 390000, 719900, 629900, 1825000, 1048000, 669900, 779900, 780000, 699000, 489900, 399000, 635000, 599900, 399000, 699000, 808800, 849900, 798000, 699900, 839000, 999000, 569000, 379900, 1025990, 590000, 679000, 499900, 579990, 799000, 1169000, 539000, 579900, 599000, 868800, 846000, 948800, 1099000, 529900, 799000, 749000, 749900, 797000, 729900, 999000, 889000, 979900, 600000, 499000, 785000, 2395000, 699000, 749000, 474900, 799900, 548000, 649000, 534900, 3199000, 1288000, 748000, 1099000, 1045000, 799000, 690000, 790000, 648800, 2495000, 599000, 675000, 698000, 639000, 549900, 599000, 479000, 1350000, 799900, 679000, 999000, 519000, 949000, 595000, 999000, 939900, 799900, 599000, 1319900, 629900, 882000, 570000, 628000, 495000, 749000, 999000, 779000, 968888, 649000, 499800, 615000, 489000, 585000, 679000, 749900, 749000, 529000, 1179900, 888000, 659800, 605000, 599000, 1319000, 1249000, 705000, 780000, 2795000, 699999, 754900, 574900, 573900, 899000, 2195000, 535000, 774900, 1499900, 749900, 899900, 649900, 529900, 819000, 668000, 645000, 649000, 499000, 699000, 469900, 2595000, 499000, 614900, 397000, 408000, 649000, 619000, 488888, 910000, 1599900, 749900, 699900, 599900, 1439000, 649900, 885000, 595000, 1280000, 599000, 578000, 1049000, 758000, 2588000, 499999, 405000, 789000, 688888, 665888, 1189000, 688800, 1200000, 669000, 995000, 1099000, 1349900, 688000, 929000, 725000, 675000, 599900, 528000, 869000, 549800, 595000, 999900, 1050000, 529999, 548000, 699900, 2350000, 999000, 1895000, 1699000, 899000, 799000, 599000, 419900, 1015000, 688800, 899900, 699900, 699000, 395000, 539000, 999000, 639000, 569000, 700000, 729000, 769000, 638000, 565000, 1949900, 539000, 998000, 769900, 749900, 659900, 529900, 649900, 629900, 498800, 659000, 739900, 779900, 799000, 579900, 499900, 879000, 499500, 699800, 998700, 919000, 599900, 1349000, 799000, 549000, 718888, 339900, 389000, 499990, 479900, 674800, 723000, 529900, 579900, 749900, 858000, 998000, 679000, 708800, 439900, 819000, 499900, 923888, 765800, 624900, 299900, 499000, 698000, 1099000, 578999, 608000, 464900, 599999, 699000, 599000, 950000, 599900, 820000, 699000, 499999, 2190000, 599900, 469000, 599900, 699000, 590000, 438888, 428000, 465000, 589800, 835000, 455900, 549000, 819800, 569800, 466600, 898000, 649000, 648888, 398000, 499900, 269000, 555000, 404800, 1099000, 519900, 545000, 588000, 553000, 698000, 768000, 399000, 499000, 659900, 599888, 740000, 649900, 528888, 599988, 699000, 649000, 1730000, 762000, 659000, 519000, 699900, 980000, 699000, 999990, 628800, 610000, 2180000, 599000, 749900, 625000, 525000, 998000, 749000, 1899000, 449000, 560000, 579900, 639900, 499000, 545000, 469900, 579900, 619900, 629900, 339900, 849000, 575000, 675500, 2590000, 499900, 599000, 535000, 849000, 729000, 950000, 749900, 495100, 789999, 679900, 719990, 1639900, 1385000, 590000, 629000, 1159000, 645000, 449900, 779900, 499000, 649000, 1275000, 725000, 565000, 645000, 688000, 925000, 499000, 578000, 998888, 799000, 647000, 1850000, 629000, 1000000, 679000, 1100000, 599000, 649000, 639000, 1239000, 1100000, 499000, 659800, 445000, 1895000, 874900, 499000, 724900, 839000, 724999, 450000, 639000, 745000, 629900, 839000, 549900, 728888, 465000, 748800, 749990, 699888, 739000, 545900, 518000, 1059000, 679900, 799999, 798000, 650000, 454900, 479000, 799999, 439000, 878900, 549999, 378888, 629990, 749900, 678000, 524900, 945000, 760000, 1099990, 647500, 659900, 624900, 384900, 959900, 659900, 595000, 638000, 649900, 1218500, 525000, 449900, 790000, 769000, 649000, 599900, 448000, 718000, 999000, 899000, 649777, 1199000, 799900, 610000, 715000, 588000, 699000, 649900, 639000, 699999, 499000, 599000, 419900, 599000, 1498000, 1670000, 589900, 599900, 529000, 939000, 1529000, 699900, 619000, 595000, 649000, 869000, 1450000, 1399000, 700000, 729000, 449000, 489900, 749900, 999999, 638900, 839900, 758000, 879000, 820000, 629000, 1350000, 599000, 499900, 849900, 329900, 629000, 799000, 559000, 729000, 524900, 1125000, 415000, 429900, 649900, 899000, 499000, 599999, 589000, 599000, 529000, 699000, 475000, 939900, 1099800, 449900, 719900, 849000, 699000, 625000, 819000, 899900, 609900, 599900, 999900, 599900, 670000, 639000, 749000, 499000, 599000, 254000, 330000, 449900, 655000, 649900, 709900, 1219980, 699900, 499000, 888000, 798000, 749900, 399900, 469000, 498000, 1000000, 698000, 598800, 439900, 449000, 449900, 518000, 598800, 479000, 499900, 599000, 510000, 589000, 869900, 748000, 899000, 715000, 549000, 574999, 499900, 898000, 559000, 729000, 429999, 652800, 654000, 748000, 599000, 1050000, 699000, 749000, 338888, 1298000, 618000, 779900, 388888, 675000, 499000, 535000, 1348000, 795000, 479900, 579000, 599900, 679000, 699999, 928000, 899900, 1000000, 689900, 699900, 862500, 865000, 819900, 620000, 999900, 798800, 499800, 2249999, 729999, 799900, 479900, 499000, 978000, 499900, 799900, 719999, 595000, 498000, 654900, 699000, 799900, 788000, 399000, 449000, 898000, 650000, 739000, 599900, 799900, 899000, 825000, 589900, 399999, 429900, 449700, 769888, 624999, 729880, 729000, 699000, 699000, 780000, 629900, 425000, 499000, 799900, 488000, 1280000, 799000, 659900, 546000, 1100000, 644900, 548000, 599000, 589900, 950000, 598000, 788000, 729900, 1099000, 578900, 614000, 499990, 499000, 949000, 1299900, 599900, 799000, 699900, 1499000, 1848800, 1249900, 679900, 699000, 598900, 720000, 585000, 529000, 999900, 1849999, 1849999, 669000, 359900, 1150000, 799000, 479000, 1235000, 658800, 512000, 678000, 599000, 699999, 520000, 499900, 499000, 698000, 600000, 563000, 2299000, 549900, 999999, 852900, 649900, 579900, 628000, 609000, 620990, 565000, 599000, 589000, 849900, 1688000, 449000, 749900, 649800, 1049900, 588800, 699000, 499000, 415888, 389000, 998000, 649000, 999000, 1149900, 1100000, 499988, 999000, 398000, 850000, 599900, 749900, 550000, 599900, 499000, 469000, 599999, 538888, 587000, 499999, 590000, 655000, 509555, 729000, 799000, 499900, 775000, 679000, 899900, 919000, 390000, 1465000, 1800000, 779000, 429999, 829000, 950000, 1179000, 969900, 547500, 769000, 699000, 878000, 1549000, 4900000, 779000, 499000, 499900, 519000, 749900, 699000, 588000, 550000, 499000, 488000, 665000, 660000, 545000, 418000, 699999, 1288000, 489900, 749000, 619000, 920000, 1669000, 489800, 539000, 1085000, 480000, 669000, 679000, 829900, 779990, 568000, 685000, 472500, 574900, 1749000, 499800, 688000, 699000, 629900, 639900, 472027, 699000, 999000, 728000, 579900, 400000, 549900, 949900, 699000, 699900, 657000, 859000, 649000, 549000, 735000, 799000, 769000, 1179000, 1780000, 534900, 539000, 1279900, 549900, 729000, 739000, 1549900, 640000, 8980000, 699000, 789000, 608000, 2190000, 649000, 1900000, 455000, 749800, 998000, 659000, 779000, 598000, 389000, 788000, 269000, 689900, 429900, 449900, 749000, 508800, 689900, 549000, 658000, 574900, 658000, 648990, 465000, 519000, 549000, 996600, 749000, 524900, 575000, 779000, 600000, 899900, 619000, 669000, 799000, 488888, 618770, 549000, 499000, 888888, 508800, 400000, 549000, 724900, 2290000, 1165000, 800000, 759000, 599900, 919000, 249000, 624900, 499999, 545900, 639900, 879000, 698000, 499000, 610000, 698000, 638888, 1495000, 728000, 1560000, 1268800, 575000, 575000, 525000, 649900, 699000, 579900, 499000, 669000, 349900, 650000, 645000, 7295000, 479900, 729900, 1399000, 628888, 639000, 980000, 2499000, 549900, 549000, 589990, 722999, 659000, 559800, 1480000, 765000, 568800, 579000, 599900, 399900, 1065000, 499900, 849900, 515000, 1499000, 1899000, 549000, 1295000, 629000, 3900000, 535000, 638000, 548000, 1149900, 724000, 599000, 1729000, 899000, 599900, 439900, 689000, 689900, 1498800, 599000, 658000, 499000, 750000, 679000, 679000, 939900, 1549000, 775880, 1385000, 1180000, 650000, 689789, 609000, 659900, 2099990, 699000, 365000, 659000, 599000, 739900, 699000, 699900, 739000, 729800, 799000, 750000, 499000, 919000, 799000, 425000, 599900, 629000, 698000, 1188000, 879000, 729888, 339000, 738800, 670000, 689000, 929000, 899900, 608800, 599900, 449000, 605000, 379000, 449888, 779000, 619900, 799900, 489000, 899900, 1169800, 575000, 685000, 800000, 534900, 719000, 745000, 488000, 549900, 829900, 988000, 469000, 768888, 619000, 693000, 519900, 685000, 690000, 475000, 1099500, 1109999, 749000, 569000, 619900, 659000, 625000, 699000, 1299000, 575000, 586000, 599000, 599900, 689000, 415000, 950000, 519000, 699888, 698000, 828000, 625000, 625000, 999000, 818000, 729900, 439800, 475000, 525000, 1058000, 539000, 765000, 449000, 2999500, 455000, 855000, 1300000, 659000, 768000, 738000, 599000, 699000, 939900, 449000, 459900, 499000, 637999, 539900, 599999, 728000, 1065000, 479900, 2395000, 738000, 599000, 428000, 768800, 389000, 409900, 599000, 558000, 599000, 574900, 595000, 579000, 848000, 899000, 769000, 859000, 618000, 559000, 899900, 588000, 389000, 1285000, 549900, 558000, 1068000, 649000, 645000, 585900, 668000, 658800, 768000, 729000, 479900, 649000, 600000, 649000, 799999, 790000, 988800, 649000, 599000, 1545000, 599900, 567500, 615000, 600000, 559000, 465999, 799900, 588800, 728888, 669000, 668000, 559900, 649000, 850000, 767900, 579000, 898000, 639000, 745900, 768000, 729900, 529900, 598000, 1369000, 898000, 1075000, 598000, 599000, 540000, 795900, 2388800, 649000, 498000, 549000, 599900, 763000, 484000, 568000, 699000, 499000, 730000, 1179000, 1179900, 659000, 799900, 489000, 499000, 999998, 609000, 585000, 599900, 605000, 929000, 1300141, 534000, 1555141, 599900, 579000, 539900, 549900, 888000, 815000, 650000, 548000, 724000, 849900, 698000, 699000, 629900, 719000, 479000, 778000, 600000, 539900, 625000, 549000, 745000, 445000, 705000, 829900, 1088000, 950000, 688000, 999900, 929990, 698900, 849000, 950000, 1820000, 1420000, 1188000, 599000, 549000, 1849000, 599000, 499000, 739900, 468000, 642000, 788000, 699900, 859900, 649000, 2525000, 539900, 549000, 988000, 2149000, 999000, 575000, 1098000, 669900, 1099000, 659900, 1290000, 1290000, 2149900, 1185000, 799900, 415000, 699000, 529000, 850000, 958000, 639800, 619900, 480000, 590000, 747000, 585000, 539900, 919000, 2499000, 819900, 649900, 559900, 599900, 699000, 738800, 790000, 575000, 449900, 958000, 549000, 415900, 668900, 498000, 794900, 764900, 749900, 675000, 599000, 559000, 594999, 829000, 699000, 399900, 1590000, 899000, 749000, 499900, 779000, 939000, 1895000, 565000, 1300000, 879900, 274000, 389000, 479000, 499000, 599000, 629000, 1687141, 640000, 919000, 659000, 649900, 498500, 625000, 475000, 494000, 499888, 899900, 883900, 560000, 775000, 439000, 449000, 1099000, 749000, 1200000, 1258000, 799888, 544900, 599000, 679000, 699999, 659000, 649900, 2250000, 449800, 789000, 1439900, 739900, 648500, 638800, 520000, 1348000, 689000, 778500, 1349000, 475000, 998900, 629000, 5199000, 1049000, 559000, 799900, 849900, 759900, 868000, 824900, 588000, 1200000, 479000, 718000, 750000, 2250000, 2250000, 769900, 709000, 1889000, 1249000, 599900, 775000, 549900, 1099000, 599900, 2699000, 428000, 399900, 499900, 1399000, 883800, 755000, 570000, 488000, 2999000, 748000, 559900, 1188800, 699000, 338000, 459900, 499000, 779999, 549900, 549900, 629000, 599000, 649000, 679900, 709500, 584900, 639000, 780000, 545000, 685900, 729000, 778800, 679999, 1649000, 719000, 529800, 960000, 719500, 789000, 678880, 689900, 649000, 799000, 499800, 369000, 669999, 465888, 669000, 394900, 459900, 995000, 655000, 349000, 950000, 418000, 499000, 589900, 625000, 1288000, 359900, 575000, 524900, 488000, 569000, 438000, 2699900, 578000, 631900, 675000, 569000, 599900, 643000, 519900, 749999, 1078000, 835000, 1450000, 699000, 680000, 2000000, 799000, 475000, 1020000, 459900, 688000, 639900, 639000, 2089000, 699000, 618000, 779000, 588000, 1399000, 520000, 588000, 1850000, 729000, 584500, 749000, 3095000, 2149900, 479000, 1200000, 449000, 948000, 1225000, 597500, 1299000, 499900, 649990, 779000, 768000, 449900, 599000, 621000, 1168000, 515000, 669900, 1279990, 539900, 818000, 939000, 679900, 489999, 849000, 759900, 679900, 599000, 499000, 599900, 679000, 479000, 479000, 499000, 559000, 1998000, 1045000, 1099000, 419800, 649000, 445000, 549000, 679000, 499900, 519000, 728800, 899000, 449900, 499900, 1089800, 600000, 649000, 799900, 649000, 649900, 689000, 969000, 699999, 809000, 676000, 724800, 639900, 688800, 828000, 685000, 778000, 798000, 2098000, 2698000, 3298000, 585000, 1598000, 1338000, 649900, 718000, 1148000, 639900, 549900, 779700, 859000, 618800, 975000, 1499000, 6380000, 417800, 818000, 739000, 625000, 759000, 739990, 657900, 808000, 719900, 669000, 3250000, 1230888, 758000, 589900, 1329900, 665000, 919900, 599900, 475000, 499000, 479000, 718800, 2350000, 972000, 770000, 1380000, 1249888, 1565000, 550788, 598000, 675000, 799000, 739000, 508000, 2795000, 629000, 899000, 999000, 539000, 1099900, 825000, 799000, 699900, 538888, 1350000, 2299000, 1620000, 475000, 729000, 1255900, 459900, 889000, 798800, 499990, 549990, 399900, 675000, 998000, 529000, 675000, 629800, 309000, 559000, 494900, 799000, 670000, 809900, 749800, 619800, 500000, 739999, 729000, 649900, 749999, 1399000, 434900, 1298000, 649900, 2790000, 729000, 595000, 750000, 899900, 729990, 529888, 899000, 799900, 739900, 689000, 669900, 708000, 550888, 1799999, 469900, 1000000, 5500000, 539900, 549000, 1850000, 699990, 1199000, 898000, 1049800, 729900, 949888, 1198000, 639900, 595000, 449813, 619900, 1248000, 1150000, 693000, 599000, 939500, 569000, 719000, 549000, 709800, 1899000, 599000, 585000, 699900, 485000, 525000, 1360000, 730000, 454900, 2649990, 599900, 688800, 1298000, 575000, 708000, 869000, 879000, 549900, 659000, 929000, 745000, 719000, 689500, 639900, 1088000, 369000, 535000, 699900, 469900, 945900, 650000, 978000, 1499000, 449999, 249000, 889900, 799900, 699999, 649888, 549900, 919000, 1688000, 559000, 699900, 899000, 649900, 14998000, 418000, 550000, 819900, 1049900, 2199000, 668000, 629900, 719000, 599900, 824900, 428888, 699000, 569900, 649900, 3200000, 768000, 880000, 469900, 1588000, 679900, 519000, 539800, 429900, 1795000, 955000, 1488800, 949000, 659000, 449000, 1185900, 668000, 675000, 679990, 879000, 730000, 497000, 835000, 939000, 479000, 479900, 1373112, 899000, 948000, 793000, 518000, 588000, 620000, 750000, 526900, 599000, 519900, 764888, 529999, 649900, 698000, 439800, 620000, 1250000, 853000, 450000, 639900, 569900, 524500, 645000, 5800000, 848000, 838000, 1295000, 1099000, 1988000, 559000, 519900, 629000, 494900, 798000, 599800, 545000, 525000, 579000, 684800, 1350000, 825000, 715000, 569000, 399900, 589900, 619000, 779800, 808000, 1449000, 1498800, 599000, 1450000, 719000, 1250000, 589900, 1300000, 939900, 614700, 789900, 11500000, 425000, 1199900, 1198000, 729900, 1269900, 745000, 565000, 999000, 880000, 695000, 599900, 549900, 579800, 689900, 749900, 795000, 659000, 870000, 619000, 829999, 799900, 1895000, 595000, 899888, 549000, 839900, 674900, 839900, 299990, 899900, 400000, 448000, 524900, 365000, 498888, 329000, 649900, 1098000, 999999, 429900, 549000, 600000, 615000, 509000, 598000, 499000, 688000, 2290000, 539888, 839000, 796000, 1095000, 1895000, 695000, 499000, 899000, 1300000, 660999, 759900, 779000, 449999, 695500, 849000, 779000, 999000, 510000, 698000, 1650000, 649900, 699900, 865000, 410000, 1168000, 529900, 530000, 699500, 989000, 638888, 749900, 669900, 999000, 725000, 1249900, 949900, 1054990, 939990, 2840000, 854990, 784900, 765000, 950000, 509000, 829880, 3275000, 1238000, 440000, 599000, 275000, 419999, 690000, 460000, 834900, 2299000, 699900, 499900, 559900, 2080000, 699900, 1979000, 899000, 1188000, 799000, 765000, 779000, 589950, 769900, 1531000, 898786, 679900, 720000, 549900, 2250000, 2149800, 499900, 1428000, 599000, 609900, 719990, 499000, 384900, 849000, 470000, 1154000, 868000, 1099000, 749900, 585000, 619000, 499000]}],\n",
       "                        {\"template\": {\"data\": {\"bar\": [{\"error_x\": {\"color\": \"#2a3f5f\"}, \"error_y\": {\"color\": \"#2a3f5f\"}, \"marker\": {\"line\": {\"color\": \"#E5ECF6\", \"width\": 0.5}}, \"type\": \"bar\"}], \"barpolar\": [{\"marker\": {\"line\": {\"color\": \"#E5ECF6\", \"width\": 0.5}}, \"type\": \"barpolar\"}], \"carpet\": [{\"aaxis\": {\"endlinecolor\": \"#2a3f5f\", \"gridcolor\": \"white\", \"linecolor\": \"white\", \"minorgridcolor\": \"white\", \"startlinecolor\": \"#2a3f5f\"}, \"baxis\": {\"endlinecolor\": \"#2a3f5f\", \"gridcolor\": \"white\", \"linecolor\": \"white\", \"minorgridcolor\": \"white\", \"startlinecolor\": \"#2a3f5f\"}, \"type\": \"carpet\"}], \"choropleth\": [{\"colorbar\": {\"outlinewidth\": 0, \"ticks\": \"\"}, \"type\": \"choropleth\"}], \"contour\": [{\"colorbar\": {\"outlinewidth\": 0, \"ticks\": \"\"}, \"colorscale\": [[0.0, \"#0d0887\"], [0.1111111111111111, \"#46039f\"], [0.2222222222222222, \"#7201a8\"], [0.3333333333333333, \"#9c179e\"], [0.4444444444444444, \"#bd3786\"], [0.5555555555555556, \"#d8576b\"], [0.6666666666666666, \"#ed7953\"], [0.7777777777777778, \"#fb9f3a\"], [0.8888888888888888, \"#fdca26\"], [1.0, \"#f0f921\"]], \"type\": \"contour\"}], \"contourcarpet\": [{\"colorbar\": {\"outlinewidth\": 0, \"ticks\": \"\"}, \"type\": \"contourcarpet\"}], \"heatmap\": [{\"colorbar\": {\"outlinewidth\": 0, \"ticks\": \"\"}, \"colorscale\": [[0.0, \"#0d0887\"], [0.1111111111111111, \"#46039f\"], [0.2222222222222222, \"#7201a8\"], [0.3333333333333333, \"#9c179e\"], [0.4444444444444444, \"#bd3786\"], [0.5555555555555556, \"#d8576b\"], [0.6666666666666666, \"#ed7953\"], [0.7777777777777778, \"#fb9f3a\"], [0.8888888888888888, \"#fdca26\"], [1.0, \"#f0f921\"]], \"type\": \"heatmap\"}], \"heatmapgl\": [{\"colorbar\": {\"outlinewidth\": 0, \"ticks\": \"\"}, \"colorscale\": [[0.0, \"#0d0887\"], [0.1111111111111111, \"#46039f\"], [0.2222222222222222, \"#7201a8\"], [0.3333333333333333, \"#9c179e\"], [0.4444444444444444, \"#bd3786\"], [0.5555555555555556, \"#d8576b\"], [0.6666666666666666, \"#ed7953\"], [0.7777777777777778, \"#fb9f3a\"], [0.8888888888888888, \"#fdca26\"], [1.0, \"#f0f921\"]], \"type\": \"heatmapgl\"}], \"histogram\": [{\"marker\": {\"colorbar\": {\"outlinewidth\": 0, \"ticks\": \"\"}}, \"type\": \"histogram\"}], \"histogram2d\": [{\"colorbar\": {\"outlinewidth\": 0, \"ticks\": \"\"}, \"colorscale\": [[0.0, \"#0d0887\"], [0.1111111111111111, \"#46039f\"], [0.2222222222222222, \"#7201a8\"], [0.3333333333333333, \"#9c179e\"], [0.4444444444444444, \"#bd3786\"], [0.5555555555555556, \"#d8576b\"], [0.6666666666666666, \"#ed7953\"], [0.7777777777777778, \"#fb9f3a\"], [0.8888888888888888, \"#fdca26\"], [1.0, \"#f0f921\"]], \"type\": \"histogram2d\"}], \"histogram2dcontour\": [{\"colorbar\": {\"outlinewidth\": 0, \"ticks\": \"\"}, \"colorscale\": [[0.0, \"#0d0887\"], [0.1111111111111111, \"#46039f\"], [0.2222222222222222, \"#7201a8\"], [0.3333333333333333, \"#9c179e\"], [0.4444444444444444, \"#bd3786\"], [0.5555555555555556, \"#d8576b\"], [0.6666666666666666, \"#ed7953\"], [0.7777777777777778, \"#fb9f3a\"], [0.8888888888888888, \"#fdca26\"], [1.0, \"#f0f921\"]], \"type\": \"histogram2dcontour\"}], \"mesh3d\": [{\"colorbar\": {\"outlinewidth\": 0, \"ticks\": \"\"}, \"type\": \"mesh3d\"}], \"parcoords\": [{\"line\": {\"colorbar\": {\"outlinewidth\": 0, \"ticks\": \"\"}}, \"type\": \"parcoords\"}], \"pie\": [{\"automargin\": true, \"type\": \"pie\"}], \"scatter\": [{\"marker\": {\"colorbar\": {\"outlinewidth\": 0, \"ticks\": \"\"}}, \"type\": \"scatter\"}], \"scatter3d\": [{\"line\": {\"colorbar\": {\"outlinewidth\": 0, \"ticks\": \"\"}}, \"marker\": {\"colorbar\": {\"outlinewidth\": 0, \"ticks\": \"\"}}, \"type\": \"scatter3d\"}], \"scattercarpet\": [{\"marker\": {\"colorbar\": {\"outlinewidth\": 0, \"ticks\": \"\"}}, \"type\": \"scattercarpet\"}], \"scattergeo\": [{\"marker\": {\"colorbar\": {\"outlinewidth\": 0, \"ticks\": \"\"}}, \"type\": \"scattergeo\"}], \"scattergl\": [{\"marker\": {\"colorbar\": {\"outlinewidth\": 0, \"ticks\": \"\"}}, \"type\": \"scattergl\"}], \"scattermapbox\": [{\"marker\": {\"colorbar\": {\"outlinewidth\": 0, \"ticks\": \"\"}}, \"type\": \"scattermapbox\"}], \"scatterpolar\": [{\"marker\": {\"colorbar\": {\"outlinewidth\": 0, \"ticks\": \"\"}}, \"type\": \"scatterpolar\"}], \"scatterpolargl\": [{\"marker\": {\"colorbar\": {\"outlinewidth\": 0, \"ticks\": \"\"}}, \"type\": \"scatterpolargl\"}], \"scatterternary\": [{\"marker\": {\"colorbar\": {\"outlinewidth\": 0, \"ticks\": \"\"}}, \"type\": \"scatterternary\"}], \"surface\": [{\"colorbar\": {\"outlinewidth\": 0, \"ticks\": \"\"}, \"colorscale\": [[0.0, \"#0d0887\"], [0.1111111111111111, \"#46039f\"], [0.2222222222222222, \"#7201a8\"], [0.3333333333333333, \"#9c179e\"], [0.4444444444444444, \"#bd3786\"], [0.5555555555555556, \"#d8576b\"], [0.6666666666666666, \"#ed7953\"], [0.7777777777777778, \"#fb9f3a\"], [0.8888888888888888, \"#fdca26\"], [1.0, \"#f0f921\"]], \"type\": \"surface\"}], \"table\": [{\"cells\": {\"fill\": {\"color\": \"#EBF0F8\"}, \"line\": {\"color\": \"white\"}}, \"header\": {\"fill\": {\"color\": \"#C8D4E3\"}, \"line\": {\"color\": \"white\"}}, \"type\": \"table\"}]}, \"layout\": {\"annotationdefaults\": {\"arrowcolor\": \"#2a3f5f\", \"arrowhead\": 0, \"arrowwidth\": 1}, \"coloraxis\": {\"colorbar\": {\"outlinewidth\": 0, \"ticks\": \"\"}}, \"colorscale\": {\"diverging\": [[0, \"#8e0152\"], [0.1, \"#c51b7d\"], [0.2, \"#de77ae\"], [0.3, \"#f1b6da\"], [0.4, \"#fde0ef\"], [0.5, \"#f7f7f7\"], [0.6, \"#e6f5d0\"], [0.7, \"#b8e186\"], [0.8, \"#7fbc41\"], [0.9, \"#4d9221\"], [1, \"#276419\"]], \"sequential\": [[0.0, \"#0d0887\"], [0.1111111111111111, \"#46039f\"], [0.2222222222222222, \"#7201a8\"], [0.3333333333333333, \"#9c179e\"], [0.4444444444444444, \"#bd3786\"], [0.5555555555555556, \"#d8576b\"], [0.6666666666666666, \"#ed7953\"], [0.7777777777777778, \"#fb9f3a\"], [0.8888888888888888, \"#fdca26\"], [1.0, \"#f0f921\"]], \"sequentialminus\": [[0.0, \"#0d0887\"], [0.1111111111111111, \"#46039f\"], [0.2222222222222222, \"#7201a8\"], [0.3333333333333333, \"#9c179e\"], [0.4444444444444444, \"#bd3786\"], [0.5555555555555556, \"#d8576b\"], [0.6666666666666666, \"#ed7953\"], [0.7777777777777778, \"#fb9f3a\"], [0.8888888888888888, \"#fdca26\"], [1.0, \"#f0f921\"]]}, \"colorway\": [\"#636efa\", \"#EF553B\", \"#00cc96\", \"#ab63fa\", \"#FFA15A\", \"#19d3f3\", \"#FF6692\", \"#B6E880\", \"#FF97FF\", \"#FECB52\"], \"font\": {\"color\": \"#2a3f5f\"}, \"geo\": {\"bgcolor\": \"white\", \"lakecolor\": \"white\", \"landcolor\": \"#E5ECF6\", \"showlakes\": true, \"showland\": true, \"subunitcolor\": \"white\"}, \"hoverlabel\": {\"align\": \"left\"}, \"hovermode\": \"closest\", \"mapbox\": {\"style\": \"light\"}, \"paper_bgcolor\": \"white\", \"plot_bgcolor\": \"#E5ECF6\", \"polar\": {\"angularaxis\": {\"gridcolor\": \"white\", \"linecolor\": \"white\", \"ticks\": \"\"}, \"bgcolor\": \"#E5ECF6\", \"radialaxis\": {\"gridcolor\": \"white\", \"linecolor\": \"white\", \"ticks\": \"\"}}, \"scene\": {\"xaxis\": {\"backgroundcolor\": \"#E5ECF6\", \"gridcolor\": \"white\", \"gridwidth\": 2, \"linecolor\": \"white\", \"showbackground\": true, \"ticks\": \"\", \"zerolinecolor\": \"white\"}, \"yaxis\": {\"backgroundcolor\": \"#E5ECF6\", \"gridcolor\": \"white\", \"gridwidth\": 2, \"linecolor\": \"white\", \"showbackground\": true, \"ticks\": \"\", \"zerolinecolor\": \"white\"}, \"zaxis\": {\"backgroundcolor\": \"#E5ECF6\", \"gridcolor\": \"white\", \"gridwidth\": 2, \"linecolor\": \"white\", \"showbackground\": true, \"ticks\": \"\", \"zerolinecolor\": \"white\"}}, \"shapedefaults\": {\"line\": {\"color\": \"#2a3f5f\"}}, \"ternary\": {\"aaxis\": {\"gridcolor\": \"white\", \"linecolor\": \"white\", \"ticks\": \"\"}, \"baxis\": {\"gridcolor\": \"white\", \"linecolor\": \"white\", \"ticks\": \"\"}, \"bgcolor\": \"#E5ECF6\", \"caxis\": {\"gridcolor\": \"white\", \"linecolor\": \"white\", \"ticks\": \"\"}}, \"title\": {\"x\": 0.05}, \"xaxis\": {\"automargin\": true, \"gridcolor\": \"white\", \"linecolor\": \"white\", \"ticks\": \"\", \"title\": {\"standoff\": 15}, \"zerolinecolor\": \"white\", \"zerolinewidth\": 2}, \"yaxis\": {\"automargin\": true, \"gridcolor\": \"white\", \"linecolor\": \"white\", \"ticks\": \"\", \"title\": {\"standoff\": 15}, \"zerolinecolor\": \"white\", \"zerolinewidth\": 2}}}, \"title\": {\"text\": \"Price Distribution across Size\"}, \"xaxis\": {\"title\": {\"text\": \"Size Range\"}}, \"yaxis\": {\"title\": {\"text\": \"Price in $M\"}}},\n",
       "                        {\"responsive\": true}\n",
       "                    ).then(function(){\n",
       "                            \n",
       "var gd = document.getElementById('fe3fcdcd-1fc9-461b-81f3-ddb57b376e49');\n",
       "var x = new MutationObserver(function (mutations, observer) {{\n",
       "        var display = window.getComputedStyle(gd).display;\n",
       "        if (!display || display === 'none') {{\n",
       "            console.log([gd, 'removed!']);\n",
       "            Plotly.purge(gd);\n",
       "            observer.disconnect();\n",
       "        }}\n",
       "}});\n",
       "\n",
       "// Listen for the removal of the full notebook cells\n",
       "var notebookContainer = gd.closest('#notebook-container');\n",
       "if (notebookContainer) {{\n",
       "    x.observe(notebookContainer, {childList: true});\n",
       "}}\n",
       "\n",
       "// Listen for the clearing of the current output cell\n",
       "var outputEl = gd.closest('.output');\n",
       "if (outputEl) {{\n",
       "    x.observe(outputEl, {childList: true});\n",
       "}}\n",
       "\n",
       "                        })\n",
       "                };\n",
       "                });\n",
       "            </script>\n",
       "        </div>"
      ]
     },
     "metadata": {},
     "output_type": "display_data"
    }
   ],
   "source": [
    "data = go.Box(\n",
    "    x=condos_by_size['Size_range'],\n",
    "    y=condos_subset['Prices'],\n",
    "   \n",
    ") \n",
    "\n",
    "layout = go.Layout(title='Price Distribution across Size',\n",
    "                  yaxis_title=\"Price in $M\",\n",
    "                  xaxis_title = 'Size Range')\n",
    "\n",
    "fig = go.Figure(data=data, layout=layout)\n",
    "\n",
    "py.iplot(fig)"
   ]
  },
  {
   "cell_type": "code",
   "execution_count": 140,
   "metadata": {},
   "outputs": [
    {
     "data": {
      "text/plain": [
       "Size_range\n",
       "0-499 sqft      322.499508\n",
       "500-599 sqft    401.426579\n",
       "600-699 sqft    490.650617\n",
       "700-799 sqft    568.328545\n",
       "Name: Maint_Fees, dtype: float64"
      ]
     },
     "execution_count": 140,
     "metadata": {},
     "output_type": "execute_result"
    }
   ],
   "source": [
    "maint_by_size = condos_by_size.groupby('Size_range')['Maint_Fees'].mean()\n",
    "maint_by_size"
   ]
  },
  {
   "cell_type": "code",
   "execution_count": 152,
   "metadata": {},
   "outputs": [
    {
     "data": {
      "application/vnd.plotly.v1+json": {
       "config": {
        "linkText": "Export to plot.ly",
        "plotlyServerURL": "https://plot.ly",
        "showLink": false
       },
       "data": [
        {
         "type": "bar",
         "x": [
          "0-499 sqft",
          "500-599 sqft",
          "600-699 sqft",
          "700-799 sqft"
         ],
         "y": [
          322.4995081967213,
          401.4265789473684,
          490.650616621984,
          568.3285454545455
         ]
        }
       ],
       "layout": {
        "template": {
         "data": {
          "bar": [
           {
            "error_x": {
             "color": "#2a3f5f"
            },
            "error_y": {
             "color": "#2a3f5f"
            },
            "marker": {
             "line": {
              "color": "#E5ECF6",
              "width": 0.5
             }
            },
            "type": "bar"
           }
          ],
          "barpolar": [
           {
            "marker": {
             "line": {
              "color": "#E5ECF6",
              "width": 0.5
             }
            },
            "type": "barpolar"
           }
          ],
          "carpet": [
           {
            "aaxis": {
             "endlinecolor": "#2a3f5f",
             "gridcolor": "white",
             "linecolor": "white",
             "minorgridcolor": "white",
             "startlinecolor": "#2a3f5f"
            },
            "baxis": {
             "endlinecolor": "#2a3f5f",
             "gridcolor": "white",
             "linecolor": "white",
             "minorgridcolor": "white",
             "startlinecolor": "#2a3f5f"
            },
            "type": "carpet"
           }
          ],
          "choropleth": [
           {
            "colorbar": {
             "outlinewidth": 0,
             "ticks": ""
            },
            "type": "choropleth"
           }
          ],
          "contour": [
           {
            "colorbar": {
             "outlinewidth": 0,
             "ticks": ""
            },
            "colorscale": [
             [
              0,
              "#0d0887"
             ],
             [
              0.1111111111111111,
              "#46039f"
             ],
             [
              0.2222222222222222,
              "#7201a8"
             ],
             [
              0.3333333333333333,
              "#9c179e"
             ],
             [
              0.4444444444444444,
              "#bd3786"
             ],
             [
              0.5555555555555556,
              "#d8576b"
             ],
             [
              0.6666666666666666,
              "#ed7953"
             ],
             [
              0.7777777777777778,
              "#fb9f3a"
             ],
             [
              0.8888888888888888,
              "#fdca26"
             ],
             [
              1,
              "#f0f921"
             ]
            ],
            "type": "contour"
           }
          ],
          "contourcarpet": [
           {
            "colorbar": {
             "outlinewidth": 0,
             "ticks": ""
            },
            "type": "contourcarpet"
           }
          ],
          "heatmap": [
           {
            "colorbar": {
             "outlinewidth": 0,
             "ticks": ""
            },
            "colorscale": [
             [
              0,
              "#0d0887"
             ],
             [
              0.1111111111111111,
              "#46039f"
             ],
             [
              0.2222222222222222,
              "#7201a8"
             ],
             [
              0.3333333333333333,
              "#9c179e"
             ],
             [
              0.4444444444444444,
              "#bd3786"
             ],
             [
              0.5555555555555556,
              "#d8576b"
             ],
             [
              0.6666666666666666,
              "#ed7953"
             ],
             [
              0.7777777777777778,
              "#fb9f3a"
             ],
             [
              0.8888888888888888,
              "#fdca26"
             ],
             [
              1,
              "#f0f921"
             ]
            ],
            "type": "heatmap"
           }
          ],
          "heatmapgl": [
           {
            "colorbar": {
             "outlinewidth": 0,
             "ticks": ""
            },
            "colorscale": [
             [
              0,
              "#0d0887"
             ],
             [
              0.1111111111111111,
              "#46039f"
             ],
             [
              0.2222222222222222,
              "#7201a8"
             ],
             [
              0.3333333333333333,
              "#9c179e"
             ],
             [
              0.4444444444444444,
              "#bd3786"
             ],
             [
              0.5555555555555556,
              "#d8576b"
             ],
             [
              0.6666666666666666,
              "#ed7953"
             ],
             [
              0.7777777777777778,
              "#fb9f3a"
             ],
             [
              0.8888888888888888,
              "#fdca26"
             ],
             [
              1,
              "#f0f921"
             ]
            ],
            "type": "heatmapgl"
           }
          ],
          "histogram": [
           {
            "marker": {
             "colorbar": {
              "outlinewidth": 0,
              "ticks": ""
             }
            },
            "type": "histogram"
           }
          ],
          "histogram2d": [
           {
            "colorbar": {
             "outlinewidth": 0,
             "ticks": ""
            },
            "colorscale": [
             [
              0,
              "#0d0887"
             ],
             [
              0.1111111111111111,
              "#46039f"
             ],
             [
              0.2222222222222222,
              "#7201a8"
             ],
             [
              0.3333333333333333,
              "#9c179e"
             ],
             [
              0.4444444444444444,
              "#bd3786"
             ],
             [
              0.5555555555555556,
              "#d8576b"
             ],
             [
              0.6666666666666666,
              "#ed7953"
             ],
             [
              0.7777777777777778,
              "#fb9f3a"
             ],
             [
              0.8888888888888888,
              "#fdca26"
             ],
             [
              1,
              "#f0f921"
             ]
            ],
            "type": "histogram2d"
           }
          ],
          "histogram2dcontour": [
           {
            "colorbar": {
             "outlinewidth": 0,
             "ticks": ""
            },
            "colorscale": [
             [
              0,
              "#0d0887"
             ],
             [
              0.1111111111111111,
              "#46039f"
             ],
             [
              0.2222222222222222,
              "#7201a8"
             ],
             [
              0.3333333333333333,
              "#9c179e"
             ],
             [
              0.4444444444444444,
              "#bd3786"
             ],
             [
              0.5555555555555556,
              "#d8576b"
             ],
             [
              0.6666666666666666,
              "#ed7953"
             ],
             [
              0.7777777777777778,
              "#fb9f3a"
             ],
             [
              0.8888888888888888,
              "#fdca26"
             ],
             [
              1,
              "#f0f921"
             ]
            ],
            "type": "histogram2dcontour"
           }
          ],
          "mesh3d": [
           {
            "colorbar": {
             "outlinewidth": 0,
             "ticks": ""
            },
            "type": "mesh3d"
           }
          ],
          "parcoords": [
           {
            "line": {
             "colorbar": {
              "outlinewidth": 0,
              "ticks": ""
             }
            },
            "type": "parcoords"
           }
          ],
          "pie": [
           {
            "automargin": true,
            "type": "pie"
           }
          ],
          "scatter": [
           {
            "marker": {
             "colorbar": {
              "outlinewidth": 0,
              "ticks": ""
             }
            },
            "type": "scatter"
           }
          ],
          "scatter3d": [
           {
            "line": {
             "colorbar": {
              "outlinewidth": 0,
              "ticks": ""
             }
            },
            "marker": {
             "colorbar": {
              "outlinewidth": 0,
              "ticks": ""
             }
            },
            "type": "scatter3d"
           }
          ],
          "scattercarpet": [
           {
            "marker": {
             "colorbar": {
              "outlinewidth": 0,
              "ticks": ""
             }
            },
            "type": "scattercarpet"
           }
          ],
          "scattergeo": [
           {
            "marker": {
             "colorbar": {
              "outlinewidth": 0,
              "ticks": ""
             }
            },
            "type": "scattergeo"
           }
          ],
          "scattergl": [
           {
            "marker": {
             "colorbar": {
              "outlinewidth": 0,
              "ticks": ""
             }
            },
            "type": "scattergl"
           }
          ],
          "scattermapbox": [
           {
            "marker": {
             "colorbar": {
              "outlinewidth": 0,
              "ticks": ""
             }
            },
            "type": "scattermapbox"
           }
          ],
          "scatterpolar": [
           {
            "marker": {
             "colorbar": {
              "outlinewidth": 0,
              "ticks": ""
             }
            },
            "type": "scatterpolar"
           }
          ],
          "scatterpolargl": [
           {
            "marker": {
             "colorbar": {
              "outlinewidth": 0,
              "ticks": ""
             }
            },
            "type": "scatterpolargl"
           }
          ],
          "scatterternary": [
           {
            "marker": {
             "colorbar": {
              "outlinewidth": 0,
              "ticks": ""
             }
            },
            "type": "scatterternary"
           }
          ],
          "surface": [
           {
            "colorbar": {
             "outlinewidth": 0,
             "ticks": ""
            },
            "colorscale": [
             [
              0,
              "#0d0887"
             ],
             [
              0.1111111111111111,
              "#46039f"
             ],
             [
              0.2222222222222222,
              "#7201a8"
             ],
             [
              0.3333333333333333,
              "#9c179e"
             ],
             [
              0.4444444444444444,
              "#bd3786"
             ],
             [
              0.5555555555555556,
              "#d8576b"
             ],
             [
              0.6666666666666666,
              "#ed7953"
             ],
             [
              0.7777777777777778,
              "#fb9f3a"
             ],
             [
              0.8888888888888888,
              "#fdca26"
             ],
             [
              1,
              "#f0f921"
             ]
            ],
            "type": "surface"
           }
          ],
          "table": [
           {
            "cells": {
             "fill": {
              "color": "#EBF0F8"
             },
             "line": {
              "color": "white"
             }
            },
            "header": {
             "fill": {
              "color": "#C8D4E3"
             },
             "line": {
              "color": "white"
             }
            },
            "type": "table"
           }
          ]
         },
         "layout": {
          "annotationdefaults": {
           "arrowcolor": "#2a3f5f",
           "arrowhead": 0,
           "arrowwidth": 1
          },
          "coloraxis": {
           "colorbar": {
            "outlinewidth": 0,
            "ticks": ""
           }
          },
          "colorscale": {
           "diverging": [
            [
             0,
             "#8e0152"
            ],
            [
             0.1,
             "#c51b7d"
            ],
            [
             0.2,
             "#de77ae"
            ],
            [
             0.3,
             "#f1b6da"
            ],
            [
             0.4,
             "#fde0ef"
            ],
            [
             0.5,
             "#f7f7f7"
            ],
            [
             0.6,
             "#e6f5d0"
            ],
            [
             0.7,
             "#b8e186"
            ],
            [
             0.8,
             "#7fbc41"
            ],
            [
             0.9,
             "#4d9221"
            ],
            [
             1,
             "#276419"
            ]
           ],
           "sequential": [
            [
             0,
             "#0d0887"
            ],
            [
             0.1111111111111111,
             "#46039f"
            ],
            [
             0.2222222222222222,
             "#7201a8"
            ],
            [
             0.3333333333333333,
             "#9c179e"
            ],
            [
             0.4444444444444444,
             "#bd3786"
            ],
            [
             0.5555555555555556,
             "#d8576b"
            ],
            [
             0.6666666666666666,
             "#ed7953"
            ],
            [
             0.7777777777777778,
             "#fb9f3a"
            ],
            [
             0.8888888888888888,
             "#fdca26"
            ],
            [
             1,
             "#f0f921"
            ]
           ],
           "sequentialminus": [
            [
             0,
             "#0d0887"
            ],
            [
             0.1111111111111111,
             "#46039f"
            ],
            [
             0.2222222222222222,
             "#7201a8"
            ],
            [
             0.3333333333333333,
             "#9c179e"
            ],
            [
             0.4444444444444444,
             "#bd3786"
            ],
            [
             0.5555555555555556,
             "#d8576b"
            ],
            [
             0.6666666666666666,
             "#ed7953"
            ],
            [
             0.7777777777777778,
             "#fb9f3a"
            ],
            [
             0.8888888888888888,
             "#fdca26"
            ],
            [
             1,
             "#f0f921"
            ]
           ]
          },
          "colorway": [
           "#636efa",
           "#EF553B",
           "#00cc96",
           "#ab63fa",
           "#FFA15A",
           "#19d3f3",
           "#FF6692",
           "#B6E880",
           "#FF97FF",
           "#FECB52"
          ],
          "font": {
           "color": "#2a3f5f"
          },
          "geo": {
           "bgcolor": "white",
           "lakecolor": "white",
           "landcolor": "#E5ECF6",
           "showlakes": true,
           "showland": true,
           "subunitcolor": "white"
          },
          "hoverlabel": {
           "align": "left"
          },
          "hovermode": "closest",
          "mapbox": {
           "style": "light"
          },
          "paper_bgcolor": "white",
          "plot_bgcolor": "#E5ECF6",
          "polar": {
           "angularaxis": {
            "gridcolor": "white",
            "linecolor": "white",
            "ticks": ""
           },
           "bgcolor": "#E5ECF6",
           "radialaxis": {
            "gridcolor": "white",
            "linecolor": "white",
            "ticks": ""
           }
          },
          "scene": {
           "xaxis": {
            "backgroundcolor": "#E5ECF6",
            "gridcolor": "white",
            "gridwidth": 2,
            "linecolor": "white",
            "showbackground": true,
            "ticks": "",
            "zerolinecolor": "white"
           },
           "yaxis": {
            "backgroundcolor": "#E5ECF6",
            "gridcolor": "white",
            "gridwidth": 2,
            "linecolor": "white",
            "showbackground": true,
            "ticks": "",
            "zerolinecolor": "white"
           },
           "zaxis": {
            "backgroundcolor": "#E5ECF6",
            "gridcolor": "white",
            "gridwidth": 2,
            "linecolor": "white",
            "showbackground": true,
            "ticks": "",
            "zerolinecolor": "white"
           }
          },
          "shapedefaults": {
           "line": {
            "color": "#2a3f5f"
           }
          },
          "ternary": {
           "aaxis": {
            "gridcolor": "white",
            "linecolor": "white",
            "ticks": ""
           },
           "baxis": {
            "gridcolor": "white",
            "linecolor": "white",
            "ticks": ""
           },
           "bgcolor": "#E5ECF6",
           "caxis": {
            "gridcolor": "white",
            "linecolor": "white",
            "ticks": ""
           }
          },
          "title": {
           "x": 0.05
          },
          "xaxis": {
           "automargin": true,
           "gridcolor": "white",
           "linecolor": "white",
           "ticks": "",
           "title": {
            "standoff": 15
           },
           "zerolinecolor": "white",
           "zerolinewidth": 2
          },
          "yaxis": {
           "automargin": true,
           "gridcolor": "white",
           "linecolor": "white",
           "ticks": "",
           "title": {
            "standoff": 15
           },
           "zerolinecolor": "white",
           "zerolinewidth": 2
          }
         }
        },
        "title": {
         "text": "Monthly Maintenance Fee by Size"
        },
        "xaxis": {
         "title": {
          "text": "Size Range"
         }
        },
        "yaxis": {
         "title": {
          "text": "Price in CAD"
         }
        }
       }
      },
      "text/html": [
       "<div>\n",
       "        \n",
       "        \n",
       "            <div id=\"28a8c208-dd05-4009-b300-3721fd2a9dfc\" class=\"plotly-graph-div\" style=\"height:525px; width:100%;\"></div>\n",
       "            <script type=\"text/javascript\">\n",
       "                require([\"plotly\"], function(Plotly) {\n",
       "                    window.PLOTLYENV=window.PLOTLYENV || {};\n",
       "                    \n",
       "                if (document.getElementById(\"28a8c208-dd05-4009-b300-3721fd2a9dfc\")) {\n",
       "                    Plotly.newPlot(\n",
       "                        '28a8c208-dd05-4009-b300-3721fd2a9dfc',\n",
       "                        [{\"type\": \"bar\", \"x\": [\"0-499 sqft\", \"500-599 sqft\", \"600-699 sqft\", \"700-799 sqft\"], \"y\": [322.4995081967213, 401.4265789473684, 490.650616621984, 568.3285454545455]}],\n",
       "                        {\"template\": {\"data\": {\"bar\": [{\"error_x\": {\"color\": \"#2a3f5f\"}, \"error_y\": {\"color\": \"#2a3f5f\"}, \"marker\": {\"line\": {\"color\": \"#E5ECF6\", \"width\": 0.5}}, \"type\": \"bar\"}], \"barpolar\": [{\"marker\": {\"line\": {\"color\": \"#E5ECF6\", \"width\": 0.5}}, \"type\": \"barpolar\"}], \"carpet\": [{\"aaxis\": {\"endlinecolor\": \"#2a3f5f\", \"gridcolor\": \"white\", \"linecolor\": \"white\", \"minorgridcolor\": \"white\", \"startlinecolor\": \"#2a3f5f\"}, \"baxis\": {\"endlinecolor\": \"#2a3f5f\", \"gridcolor\": \"white\", \"linecolor\": \"white\", \"minorgridcolor\": \"white\", \"startlinecolor\": \"#2a3f5f\"}, \"type\": \"carpet\"}], \"choropleth\": [{\"colorbar\": {\"outlinewidth\": 0, \"ticks\": \"\"}, \"type\": \"choropleth\"}], \"contour\": [{\"colorbar\": {\"outlinewidth\": 0, \"ticks\": \"\"}, \"colorscale\": [[0.0, \"#0d0887\"], [0.1111111111111111, \"#46039f\"], [0.2222222222222222, \"#7201a8\"], [0.3333333333333333, \"#9c179e\"], [0.4444444444444444, \"#bd3786\"], [0.5555555555555556, \"#d8576b\"], [0.6666666666666666, \"#ed7953\"], [0.7777777777777778, \"#fb9f3a\"], [0.8888888888888888, \"#fdca26\"], [1.0, \"#f0f921\"]], \"type\": \"contour\"}], \"contourcarpet\": [{\"colorbar\": {\"outlinewidth\": 0, \"ticks\": \"\"}, \"type\": \"contourcarpet\"}], \"heatmap\": [{\"colorbar\": {\"outlinewidth\": 0, \"ticks\": \"\"}, \"colorscale\": [[0.0, \"#0d0887\"], [0.1111111111111111, \"#46039f\"], [0.2222222222222222, \"#7201a8\"], [0.3333333333333333, \"#9c179e\"], [0.4444444444444444, \"#bd3786\"], [0.5555555555555556, \"#d8576b\"], [0.6666666666666666, \"#ed7953\"], [0.7777777777777778, \"#fb9f3a\"], [0.8888888888888888, \"#fdca26\"], [1.0, \"#f0f921\"]], \"type\": \"heatmap\"}], \"heatmapgl\": [{\"colorbar\": {\"outlinewidth\": 0, \"ticks\": \"\"}, \"colorscale\": [[0.0, \"#0d0887\"], [0.1111111111111111, \"#46039f\"], [0.2222222222222222, \"#7201a8\"], [0.3333333333333333, \"#9c179e\"], [0.4444444444444444, \"#bd3786\"], [0.5555555555555556, \"#d8576b\"], [0.6666666666666666, \"#ed7953\"], [0.7777777777777778, \"#fb9f3a\"], [0.8888888888888888, \"#fdca26\"], [1.0, \"#f0f921\"]], \"type\": \"heatmapgl\"}], \"histogram\": [{\"marker\": {\"colorbar\": {\"outlinewidth\": 0, \"ticks\": \"\"}}, \"type\": \"histogram\"}], \"histogram2d\": [{\"colorbar\": {\"outlinewidth\": 0, \"ticks\": \"\"}, \"colorscale\": [[0.0, \"#0d0887\"], [0.1111111111111111, \"#46039f\"], [0.2222222222222222, \"#7201a8\"], [0.3333333333333333, \"#9c179e\"], [0.4444444444444444, \"#bd3786\"], [0.5555555555555556, \"#d8576b\"], [0.6666666666666666, \"#ed7953\"], [0.7777777777777778, \"#fb9f3a\"], [0.8888888888888888, \"#fdca26\"], [1.0, \"#f0f921\"]], \"type\": \"histogram2d\"}], \"histogram2dcontour\": [{\"colorbar\": {\"outlinewidth\": 0, \"ticks\": \"\"}, \"colorscale\": [[0.0, \"#0d0887\"], [0.1111111111111111, \"#46039f\"], [0.2222222222222222, \"#7201a8\"], [0.3333333333333333, \"#9c179e\"], [0.4444444444444444, \"#bd3786\"], [0.5555555555555556, \"#d8576b\"], [0.6666666666666666, \"#ed7953\"], [0.7777777777777778, \"#fb9f3a\"], [0.8888888888888888, \"#fdca26\"], [1.0, \"#f0f921\"]], \"type\": \"histogram2dcontour\"}], \"mesh3d\": [{\"colorbar\": {\"outlinewidth\": 0, \"ticks\": \"\"}, \"type\": \"mesh3d\"}], \"parcoords\": [{\"line\": {\"colorbar\": {\"outlinewidth\": 0, \"ticks\": \"\"}}, \"type\": \"parcoords\"}], \"pie\": [{\"automargin\": true, \"type\": \"pie\"}], \"scatter\": [{\"marker\": {\"colorbar\": {\"outlinewidth\": 0, \"ticks\": \"\"}}, \"type\": \"scatter\"}], \"scatter3d\": [{\"line\": {\"colorbar\": {\"outlinewidth\": 0, \"ticks\": \"\"}}, \"marker\": {\"colorbar\": {\"outlinewidth\": 0, \"ticks\": \"\"}}, \"type\": \"scatter3d\"}], \"scattercarpet\": [{\"marker\": {\"colorbar\": {\"outlinewidth\": 0, \"ticks\": \"\"}}, \"type\": \"scattercarpet\"}], \"scattergeo\": [{\"marker\": {\"colorbar\": {\"outlinewidth\": 0, \"ticks\": \"\"}}, \"type\": \"scattergeo\"}], \"scattergl\": [{\"marker\": {\"colorbar\": {\"outlinewidth\": 0, \"ticks\": \"\"}}, \"type\": \"scattergl\"}], \"scattermapbox\": [{\"marker\": {\"colorbar\": {\"outlinewidth\": 0, \"ticks\": \"\"}}, \"type\": \"scattermapbox\"}], \"scatterpolar\": [{\"marker\": {\"colorbar\": {\"outlinewidth\": 0, \"ticks\": \"\"}}, \"type\": \"scatterpolar\"}], \"scatterpolargl\": [{\"marker\": {\"colorbar\": {\"outlinewidth\": 0, \"ticks\": \"\"}}, \"type\": \"scatterpolargl\"}], \"scatterternary\": [{\"marker\": {\"colorbar\": {\"outlinewidth\": 0, \"ticks\": \"\"}}, \"type\": \"scatterternary\"}], \"surface\": [{\"colorbar\": {\"outlinewidth\": 0, \"ticks\": \"\"}, \"colorscale\": [[0.0, \"#0d0887\"], [0.1111111111111111, \"#46039f\"], [0.2222222222222222, \"#7201a8\"], [0.3333333333333333, \"#9c179e\"], [0.4444444444444444, \"#bd3786\"], [0.5555555555555556, \"#d8576b\"], [0.6666666666666666, \"#ed7953\"], [0.7777777777777778, \"#fb9f3a\"], [0.8888888888888888, \"#fdca26\"], [1.0, \"#f0f921\"]], \"type\": \"surface\"}], \"table\": [{\"cells\": {\"fill\": {\"color\": \"#EBF0F8\"}, \"line\": {\"color\": \"white\"}}, \"header\": {\"fill\": {\"color\": \"#C8D4E3\"}, \"line\": {\"color\": \"white\"}}, \"type\": \"table\"}]}, \"layout\": {\"annotationdefaults\": {\"arrowcolor\": \"#2a3f5f\", \"arrowhead\": 0, \"arrowwidth\": 1}, \"coloraxis\": {\"colorbar\": {\"outlinewidth\": 0, \"ticks\": \"\"}}, \"colorscale\": {\"diverging\": [[0, \"#8e0152\"], [0.1, \"#c51b7d\"], [0.2, \"#de77ae\"], [0.3, \"#f1b6da\"], [0.4, \"#fde0ef\"], [0.5, \"#f7f7f7\"], [0.6, \"#e6f5d0\"], [0.7, \"#b8e186\"], [0.8, \"#7fbc41\"], [0.9, \"#4d9221\"], [1, \"#276419\"]], \"sequential\": [[0.0, \"#0d0887\"], [0.1111111111111111, \"#46039f\"], [0.2222222222222222, \"#7201a8\"], [0.3333333333333333, \"#9c179e\"], [0.4444444444444444, \"#bd3786\"], [0.5555555555555556, \"#d8576b\"], [0.6666666666666666, \"#ed7953\"], [0.7777777777777778, \"#fb9f3a\"], [0.8888888888888888, \"#fdca26\"], [1.0, \"#f0f921\"]], \"sequentialminus\": [[0.0, \"#0d0887\"], [0.1111111111111111, \"#46039f\"], [0.2222222222222222, \"#7201a8\"], [0.3333333333333333, \"#9c179e\"], [0.4444444444444444, \"#bd3786\"], [0.5555555555555556, \"#d8576b\"], [0.6666666666666666, \"#ed7953\"], [0.7777777777777778, \"#fb9f3a\"], [0.8888888888888888, \"#fdca26\"], [1.0, \"#f0f921\"]]}, \"colorway\": [\"#636efa\", \"#EF553B\", \"#00cc96\", \"#ab63fa\", \"#FFA15A\", \"#19d3f3\", \"#FF6692\", \"#B6E880\", \"#FF97FF\", \"#FECB52\"], \"font\": {\"color\": \"#2a3f5f\"}, \"geo\": {\"bgcolor\": \"white\", \"lakecolor\": \"white\", \"landcolor\": \"#E5ECF6\", \"showlakes\": true, \"showland\": true, \"subunitcolor\": \"white\"}, \"hoverlabel\": {\"align\": \"left\"}, \"hovermode\": \"closest\", \"mapbox\": {\"style\": \"light\"}, \"paper_bgcolor\": \"white\", \"plot_bgcolor\": \"#E5ECF6\", \"polar\": {\"angularaxis\": {\"gridcolor\": \"white\", \"linecolor\": \"white\", \"ticks\": \"\"}, \"bgcolor\": \"#E5ECF6\", \"radialaxis\": {\"gridcolor\": \"white\", \"linecolor\": \"white\", \"ticks\": \"\"}}, \"scene\": {\"xaxis\": {\"backgroundcolor\": \"#E5ECF6\", \"gridcolor\": \"white\", \"gridwidth\": 2, \"linecolor\": \"white\", \"showbackground\": true, \"ticks\": \"\", \"zerolinecolor\": \"white\"}, \"yaxis\": {\"backgroundcolor\": \"#E5ECF6\", \"gridcolor\": \"white\", \"gridwidth\": 2, \"linecolor\": \"white\", \"showbackground\": true, \"ticks\": \"\", \"zerolinecolor\": \"white\"}, \"zaxis\": {\"backgroundcolor\": \"#E5ECF6\", \"gridcolor\": \"white\", \"gridwidth\": 2, \"linecolor\": \"white\", \"showbackground\": true, \"ticks\": \"\", \"zerolinecolor\": \"white\"}}, \"shapedefaults\": {\"line\": {\"color\": \"#2a3f5f\"}}, \"ternary\": {\"aaxis\": {\"gridcolor\": \"white\", \"linecolor\": \"white\", \"ticks\": \"\"}, \"baxis\": {\"gridcolor\": \"white\", \"linecolor\": \"white\", \"ticks\": \"\"}, \"bgcolor\": \"#E5ECF6\", \"caxis\": {\"gridcolor\": \"white\", \"linecolor\": \"white\", \"ticks\": \"\"}}, \"title\": {\"x\": 0.05}, \"xaxis\": {\"automargin\": true, \"gridcolor\": \"white\", \"linecolor\": \"white\", \"ticks\": \"\", \"title\": {\"standoff\": 15}, \"zerolinecolor\": \"white\", \"zerolinewidth\": 2}, \"yaxis\": {\"automargin\": true, \"gridcolor\": \"white\", \"linecolor\": \"white\", \"ticks\": \"\", \"title\": {\"standoff\": 15}, \"zerolinecolor\": \"white\", \"zerolinewidth\": 2}}}, \"title\": {\"text\": \"Monthly Maintenance Fee by Size\"}, \"xaxis\": {\"title\": {\"text\": \"Size Range\"}}, \"yaxis\": {\"title\": {\"text\": \"Price in CAD\"}}},\n",
       "                        {\"responsive\": true}\n",
       "                    ).then(function(){\n",
       "                            \n",
       "var gd = document.getElementById('28a8c208-dd05-4009-b300-3721fd2a9dfc');\n",
       "var x = new MutationObserver(function (mutations, observer) {{\n",
       "        var display = window.getComputedStyle(gd).display;\n",
       "        if (!display || display === 'none') {{\n",
       "            console.log([gd, 'removed!']);\n",
       "            Plotly.purge(gd);\n",
       "            observer.disconnect();\n",
       "        }}\n",
       "}});\n",
       "\n",
       "// Listen for the removal of the full notebook cells\n",
       "var notebookContainer = gd.closest('#notebook-container');\n",
       "if (notebookContainer) {{\n",
       "    x.observe(notebookContainer, {childList: true});\n",
       "}}\n",
       "\n",
       "// Listen for the clearing of the current output cell\n",
       "var outputEl = gd.closest('.output');\n",
       "if (outputEl) {{\n",
       "    x.observe(outputEl, {childList: true});\n",
       "}}\n",
       "\n",
       "                        })\n",
       "                };\n",
       "                });\n",
       "            </script>\n",
       "        </div>"
      ]
     },
     "metadata": {},
     "output_type": "display_data"
    }
   ],
   "source": [
    "data = go.Bar(\n",
    "    x=maint_by_size.index,\n",
    "    y=maint_by_size.values,\n",
    "    \n",
    "   \n",
    ") \n",
    "\n",
    "layout = go.Layout(title='Monthly Maintenance Fee by Size',\n",
    "                  yaxis_title=\"Price in CAD\",\n",
    "                  xaxis_title = 'Size Range')\n",
    "\n",
    "fig = go.Figure(data=data, layout=layout)\n",
    "\n",
    "py.iplot(fig)"
   ]
  },
  {
   "cell_type": "code",
   "execution_count": 69,
   "metadata": {},
   "outputs": [
    {
     "data": {
      "text/plain": [
       "<matplotlib.axes._subplots.AxesSubplot at 0x1a28152410>"
      ]
     },
     "execution_count": 69,
     "metadata": {},
     "output_type": "execute_result"
    },
    {
     "data": {
      "image/png": "[encoded data removed]",
      "text/plain": [
       "<Figure size 432x288 with 1 Axes>"
      ]
     },
     "metadata": {
      "needs_background": "light"
     },
     "output_type": "display_data"
    }
   ],
   "source": [
    "#Maintenance versus parking : Maybe plotly would be better\n",
    "maint_parking.plot(kind='bar')"
   ]
  },
  {
   "cell_type": "code",
   "execution_count": null,
   "metadata": {},
   "outputs": [],
   "source": []
  }
 ],
 "metadata": {
  "kernelspec": {
   "display_name": "Python 3",
   "language": "python",
   "name": "python3"
  },
  "language_info": {
   "codemirror_mode": {
    "name": "ipython",
    "version": 3
   },
   "file_extension": ".py",
   "mimetype": "text/x-python",
   "name": "python",
   "nbconvert_exporter": "python",
   "pygments_lexer": "ipython3",
   "version": "3.7.4"
  }
 },
 "nbformat": 4,
 "nbformat_minor": 2
}
